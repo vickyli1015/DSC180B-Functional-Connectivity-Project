{
 "cells": [
  {
   "cell_type": "code",
   "execution_count": 113,
   "id": "1e0af9c9-b9ef-4ee4-ab13-ee360075aea2",
   "metadata": {},
   "outputs": [],
   "source": [
    "#preprocessing\n",
    "import numpy as np\n",
    "import random\n",
    "\n",
    "#regressor\n",
    "\n",
    "from sklearn.linear_model import Ridge\n",
    "from sklearn.model_selection import train_test_split\n",
    "from sklearn.metrics import mean_squared_error\n",
    "from sklearn.metrics import confusion_matrix\n",
    "\n",
    "#plotting\n",
    "import matplotlib.pyplot as plt\n",
    "\n",
    "#stats\n",
    "import scipy.stats as stats"
   ]
  },
  {
   "cell_type": "markdown",
   "id": "6da361b4-fe34-4392-b414-70e95121cf74",
   "metadata": {},
   "source": [
    "## Load Data"
   ]
  },
  {
   "cell_type": "code",
   "execution_count": 2,
   "id": "7f1e1d32-bca2-40d4-8b27-24566778e6a2",
   "metadata": {},
   "outputs": [],
   "source": [
    "%run loading_data.ipynb"
   ]
  },
  {
   "cell_type": "code",
   "execution_count": 3,
   "id": "f539c336-2bbb-44a6-abc6-5f5ef9798eb6",
   "metadata": {},
   "outputs": [
    {
     "name": "stdout",
     "output_type": "stream",
     "text": [
      "Subject Data Loaded\n"
     ]
    }
   ],
   "source": [
    "sub_data = load_txt()"
   ]
  },
  {
   "cell_type": "code",
   "execution_count": 4,
   "id": "b054aa26-fecf-4ad4-9cf8-4ad6ee806f90",
   "metadata": {},
   "outputs": [
    {
     "name": "stderr",
     "output_type": "stream",
     "text": [
      "/tmp/ipykernel_422/1030149754.py:16: FutureWarning: From release 0.13.0 onwards, this function will, by default, copy the header of the input image to the output. Currently, the header is reset to the default Nifti1Header. To suppress this warning and use the new behavior, set `copy_header=True`.\n",
      "  atlas = image.threshold_img(atlas, \"99.5%\")\n"
     ]
    },
    {
     "name": "stdout",
     "output_type": "stream",
     "text": [
      "atlas has shape ['x', 'y', 'z', 'region'] = (91, 109, 91, 100)\n"
     ]
    }
   ],
   "source": [
    "atlas = load_atlas()"
   ]
  },
  {
   "cell_type": "code",
   "execution_count": 5,
   "id": "9efd12a8-865b-41a3-91a0-888a54b83846",
   "metadata": {},
   "outputs": [
    {
     "name": "stdout",
     "output_type": "stream",
     "text": [
      "unrestricted_data loaded\n"
     ]
    }
   ],
   "source": [
    "unrestricted_data = load_unrestricted()"
   ]
  },
  {
   "cell_type": "code",
   "execution_count": 6,
   "id": "6ee987b5-0662-41f3-8302-0cb3a3bbaf1f",
   "metadata": {},
   "outputs": [
    {
     "name": "stdout",
     "output_type": "stream",
     "text": [
      "restricted_data loaded\n"
     ]
    }
   ],
   "source": [
    "restricted_data = load_restricted()"
   ]
  },
  {
   "cell_type": "code",
   "execution_count": 7,
   "id": "da0a233f-6802-484a-ba14-8037349fc2d1",
   "metadata": {},
   "outputs": [
    {
     "name": "stdout",
     "output_type": "stream",
     "text": [
      "restricted_data loaded\n"
     ]
    }
   ],
   "source": [
    "handedness = get_handedness()"
   ]
  },
  {
   "cell_type": "markdown",
   "id": "1aa5ab5f-c77f-44a9-be2d-3d2844372d8a",
   "metadata": {},
   "source": [
    "## Extract Features"
   ]
  },
  {
   "cell_type": "markdown",
   "id": "9a21655b-6147-4c13-a820-41b93fa5a828",
   "metadata": {},
   "source": [
    "### Correlation Matrices"
   ]
  },
  {
   "cell_type": "code",
   "execution_count": 56,
   "id": "52fc27d8-7a26-4c01-bf59-38079b08e42c",
   "metadata": {
    "scrolled": true
   },
   "outputs": [],
   "source": [
    "#create all correlation matrices\n",
    "matrices = []\n",
    "for i in range(len(sub_data)):\n",
    "    matrices.append(np.corrcoef(sub_data[i].T))\n",
    "matrices = np.array(matrices)"
   ]
  },
  {
   "cell_type": "markdown",
   "id": "b8dca7ac-b0a3-4f1e-bec3-80461b7bb490",
   "metadata": {},
   "source": [
    "## Regressor on all data (balanced, new predictor for all chunks)"
   ]
  },
  {
   "cell_type": "markdown",
   "id": "ddb4f3a3-a470-48f8-9c18-c037015b928a",
   "metadata": {},
   "source": [
    "### Balancing the dataset"
   ]
  },
  {
   "cell_type": "code",
   "execution_count": 82,
   "id": "610bd653-29d7-42c6-8427-5cc419278450",
   "metadata": {},
   "outputs": [],
   "source": [
    "threshold = 0\n",
    "handedness = handedness.reset_index()\n",
    "left_df = handedness[handedness['Handedness'] < threshold]\n",
    "right_df = handedness[handedness['Handedness'] > threshold]"
   ]
  },
  {
   "cell_type": "code",
   "execution_count": 83,
   "id": "3e407749-0b59-43ad-96a7-d49cbe1d76ab",
   "metadata": {},
   "outputs": [
    {
     "data": {
      "text/html": [
       "<div>\n",
       "<style scoped>\n",
       "    .dataframe tbody tr th:only-of-type {\n",
       "        vertical-align: middle;\n",
       "    }\n",
       "\n",
       "    .dataframe tbody tr th {\n",
       "        vertical-align: top;\n",
       "    }\n",
       "\n",
       "    .dataframe thead th {\n",
       "        text-align: right;\n",
       "    }\n",
       "</style>\n",
       "<table border=\"1\" class=\"dataframe\">\n",
       "  <thead>\n",
       "    <tr style=\"text-align: right;\">\n",
       "      <th></th>\n",
       "      <th>index</th>\n",
       "      <th>Subject</th>\n",
       "      <th>Handedness</th>\n",
       "    </tr>\n",
       "  </thead>\n",
       "  <tbody>\n",
       "    <tr>\n",
       "      <th>0</th>\n",
       "      <td>0</td>\n",
       "      <td>645551</td>\n",
       "      <td>90</td>\n",
       "    </tr>\n",
       "    <tr>\n",
       "      <th>1</th>\n",
       "      <td>1</td>\n",
       "      <td>135629</td>\n",
       "      <td>90</td>\n",
       "    </tr>\n",
       "    <tr>\n",
       "      <th>2</th>\n",
       "      <td>2</td>\n",
       "      <td>647858</td>\n",
       "      <td>70</td>\n",
       "    </tr>\n",
       "    <tr>\n",
       "      <th>3</th>\n",
       "      <td>3</td>\n",
       "      <td>686969</td>\n",
       "      <td>60</td>\n",
       "    </tr>\n",
       "    <tr>\n",
       "      <th>4</th>\n",
       "      <td>4</td>\n",
       "      <td>115724</td>\n",
       "      <td>100</td>\n",
       "    </tr>\n",
       "    <tr>\n",
       "      <th>...</th>\n",
       "      <td>...</td>\n",
       "      <td>...</td>\n",
       "      <td>...</td>\n",
       "    </tr>\n",
       "    <tr>\n",
       "      <th>998</th>\n",
       "      <td>998</td>\n",
       "      <td>969476</td>\n",
       "      <td>70</td>\n",
       "    </tr>\n",
       "    <tr>\n",
       "      <th>999</th>\n",
       "      <td>999</td>\n",
       "      <td>965367</td>\n",
       "      <td>100</td>\n",
       "    </tr>\n",
       "    <tr>\n",
       "      <th>1000</th>\n",
       "      <td>1000</td>\n",
       "      <td>120414</td>\n",
       "      <td>35</td>\n",
       "    </tr>\n",
       "    <tr>\n",
       "      <th>1001</th>\n",
       "      <td>1001</td>\n",
       "      <td>769064</td>\n",
       "      <td>80</td>\n",
       "    </tr>\n",
       "    <tr>\n",
       "      <th>1002</th>\n",
       "      <td>1002</td>\n",
       "      <td>705341</td>\n",
       "      <td>65</td>\n",
       "    </tr>\n",
       "  </tbody>\n",
       "</table>\n",
       "<p>1003 rows × 3 columns</p>\n",
       "</div>"
      ],
      "text/plain": [
       "      index  Subject  Handedness\n",
       "0         0   645551          90\n",
       "1         1   135629          90\n",
       "2         2   647858          70\n",
       "3         3   686969          60\n",
       "4         4   115724         100\n",
       "...     ...      ...         ...\n",
       "998     998   969476          70\n",
       "999     999   965367         100\n",
       "1000   1000   120414          35\n",
       "1001   1001   769064          80\n",
       "1002   1002   705341          65\n",
       "\n",
       "[1003 rows x 3 columns]"
      ]
     },
     "execution_count": 83,
     "metadata": {},
     "output_type": "execute_result"
    }
   ],
   "source": [
    "handedness"
   ]
  },
  {
   "cell_type": "code",
   "execution_count": 84,
   "id": "82c980f8-fef3-40f2-b348-345e511069c5",
   "metadata": {},
   "outputs": [],
   "source": [
    "#Random Sampling\n",
    "sample_size = len(left_df)\n",
    "num_samples = len(right_df) // sample_size\n",
    "\n",
    "\n",
    "# Shuffle the indices randomly\n",
    "random.seed(0)\n",
    "shuffled_indices = np.random.permutation(len(right_df))\n"
   ]
  },
  {
   "cell_type": "code",
   "execution_count": 117,
   "id": "55b38194-bcd8-45ec-92b5-6c9a058ce163",
   "metadata": {},
   "outputs": [],
   "source": [
    "all_coef = []\n",
    "all_pred = []\n",
    "all_test = []\n",
    "\n",
    "chunks = [right_df.iloc[shuffled_indices[i * sample_size: (i + 1) * sample_size]] for i in range(num_samples)]\n",
    "for i in range(len(chunks)):\n",
    "    idx = np.append(np.array(left_df.index), np.array(chunks[i].index))\n",
    "    matrix_chunk = matrices[idx]\n",
    "\n",
    "    #getting top triangle of all matrices\n",
    "    dataX = []\n",
    "    for m in matrix_chunk:\n",
    "        top_corner = np.triu(m, 1)\n",
    "        just_data = top_corner[top_corner != 0]\n",
    "        arr_data = just_data.flatten()\n",
    "        dataX.append(arr_data)\n",
    "\n",
    "    dataY = np.array(handedness.loc[idx]['Handedness'])\n",
    "\n",
    "    X_train, X_test, y_train, y_test = train_test_split(dataX, dataY, test_size=0.2, random_state=42)\n",
    "\n",
    "    # Create a Ridge regression model with alpha = 1.0 (default)\n",
    "    ridge = Ridge(alpha=0.01) \n",
    "    ridge.fit(X_train, y_train)\n",
    "    y_pred = ridge.predict(X_test)\n",
    "\n",
    "    all_pred.append(y_pred)\n",
    "    all_test.append(y_test)\n",
    "    all_coef.append(ridge.coef_)\n",
    "    "
   ]
  },
  {
   "cell_type": "markdown",
   "id": "2cdf084a-258a-4f07-978d-60e84d17b203",
   "metadata": {},
   "source": [
    "### Analysis"
   ]
  },
  {
   "cell_type": "code",
   "execution_count": 120,
   "id": "4f94b21d-f0b3-4e55-8d1d-ae16a43d88fe",
   "metadata": {},
   "outputs": [
    {
     "name": "stderr",
     "output_type": "stream",
     "text": [
      "/tmp/ipykernel_422/3605924118.py:2: MatplotlibDeprecationWarning: The 'labels' parameter of boxplot() has been renamed 'tick_labels' since Matplotlib 3.9; support for the old name will be dropped in 3.11.\n",
      "  plt.boxplot(all_pred, labels=[f'Chunk {i}' for i in range(len(all_pred))])\n"
     ]
    },
    {
     "data": {
      "image/png": "[encoded data removed]",
      "text/plain": [
       "<Figure size 640x480 with 1 Axes>"
      ]
     },
     "metadata": {},
     "output_type": "display_data"
    }
   ],
   "source": [
    "# Create boxplot\n",
    "plt.boxplot(all_pred, labels=[f'Chunk {i}' for i in range(len(all_pred))])\n",
    "\n",
    "# Add title\n",
    "plt.title(\"Boxplot for all Predicted Chunks\")\n",
    "plt.ylabel(\"Values\")\n",
    "\n",
    "plt.show()"
   ]
  },
  {
   "cell_type": "code",
   "execution_count": 121,
   "id": "762f1d80-72d5-4034-b87f-9fa555653d9b",
   "metadata": {},
   "outputs": [
    {
     "name": "stderr",
     "output_type": "stream",
     "text": [
      "/tmp/ipykernel_422/817764619.py:2: MatplotlibDeprecationWarning: The 'labels' parameter of boxplot() has been renamed 'tick_labels' since Matplotlib 3.9; support for the old name will be dropped in 3.11.\n",
      "  plt.boxplot(all_coef, labels=[f'Chunk {i}' for i in range(len(all_pred))])\n"
     ]
    },
    {
     "data": {
      "image/png": "[encoded data removed]",
      "text/plain": [
       "<Figure size 640x480 with 1 Axes>"
      ]
     },
     "metadata": {},
     "output_type": "display_data"
    }
   ],
   "source": [
    "# Create boxplot\n",
    "plt.boxplot(all_coef, labels=[f'Chunk {i}' for i in range(len(all_pred))])\n",
    "\n",
    "# Add title\n",
    "plt.title(\"Boxplot for all Coef\")\n",
    "plt.ylabel(\"Values\")\n",
    "\n",
    "plt.show()"
   ]
  },
  {
   "cell_type": "markdown",
   "id": "2d52dd17-1aa6-41df-abab-94f231a7d435",
   "metadata": {},
   "source": [
    "<h1 style='color:red'>**Idea** use the outliers to find areas best for prediction</h1>"
   ]
  },
  {
   "cell_type": "code",
   "execution_count": 130,
   "id": "091dee2b-716a-479e-81f8-f37e5f282c6f",
   "metadata": {},
   "outputs": [
    {
     "name": "stdout",
     "output_type": "stream",
     "text": [
      "Confusion Matrix:\n",
      "[[ 76 114]\n",
      " [ 57 113]]\n"
     ]
    }
   ],
   "source": [
    "all_pred_flat = np.array(all_pred).flatten()\n",
    "all_test_flat = np.array(all_test).flatten()\n",
    "\n",
    "y_test_binary = (all_test_flat > threshold).astype(int)\n",
    "y_pred_binary = (all_pred_flat > threshold).astype(int)\n",
    "\n",
    "# Create the confusion matrix\n",
    "conf_matrix = confusion_matrix(y_test_binary, y_pred_binary)\n",
    "\n",
    "print(\"Confusion Matrix:\")\n",
    "print(conf_matrix)"
   ]
  },
  {
   "cell_type": "code",
   "execution_count": 131,
   "id": "e0376026-5854-4ee6-bb2a-97b3f28a9673",
   "metadata": {},
   "outputs": [
    {
     "name": "stdout",
     "output_type": "stream",
     "text": [
      "Precision 0.4977973568281938\n",
      "Recall 0.6647058823529411\n"
     ]
    }
   ],
   "source": [
    "tn, fp, fn, tp = confusion_matrix(y_test_binary, y_pred_binary).ravel()\n",
    "precision = tp / (tp + fp)\n",
    "recall = tp / (tp + fn)\n",
    "print('Precision', precision)\n",
    "print('Recall', recall)"
   ]
  }
 ],
 "metadata": {
  "kernelspec": {
   "display_name": "capstone",
   "language": "python",
   "name": "capstone"
  },
  "language_info": {
   "codemirror_mode": {
    "name": "ipython",
    "version": 3
   },
   "file_extension": ".py",
   "mimetype": "text/x-python",
   "name": "python",
   "nbconvert_exporter": "python",
   "pygments_lexer": "ipython3",
   "version": "3.13.1"
  }
 },
 "nbformat": 4,
 "nbformat_minor": 5
}
