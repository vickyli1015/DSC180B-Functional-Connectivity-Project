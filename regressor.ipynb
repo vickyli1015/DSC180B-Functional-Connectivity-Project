{
 "cells": [
  {
   "cell_type": "code",
   "execution_count": 1,
   "id": "1e0af9c9-b9ef-4ee4-ab13-ee360075aea2",
   "metadata": {},
   "outputs": [],
   "source": [
    "#preprocessing\n",
    "import numpy as np\n",
    "import random\n",
    "\n",
    "#regressor\n",
    "\n",
    "from sklearn.linear_model import Ridge, SGDRegressor\n",
    "from sklearn.model_selection import train_test_split\n",
    "from sklearn.metrics import mean_squared_error\n",
    "from sklearn.metrics import confusion_matrix\n",
    "\n",
    "#plotting\n",
    "import matplotlib.pyplot as plt\n",
    "\n",
    "#stats\n",
    "import scipy.stats as stats\n",
    "\n",
    "#feature selection\n",
    "from sklearn.feature_selection import SequentialFeatureSelector"
   ]
  },
  {
   "cell_type": "markdown",
   "id": "6da361b4-fe34-4392-b414-70e95121cf74",
   "metadata": {},
   "source": [
    "## Load Data"
   ]
  },
  {
   "cell_type": "code",
   "execution_count": 3,
   "id": "7f1e1d32-bca2-40d4-8b27-24566778e6a2",
   "metadata": {},
   "outputs": [],
   "source": [
    "%run loading_data.ipynb"
   ]
  },
  {
   "cell_type": "code",
   "execution_count": 3,
   "id": "f539c336-2bbb-44a6-abc6-5f5ef9798eb6",
   "metadata": {},
   "outputs": [
    {
     "name": "stdout",
     "output_type": "stream",
     "text": [
      "Subject Data Loaded\n"
     ]
    }
   ],
   "source": [
    "sub_data = load_txt()"
   ]
  },
  {
   "cell_type": "code",
   "execution_count": 4,
   "id": "b054aa26-fecf-4ad4-9cf8-4ad6ee806f90",
   "metadata": {},
   "outputs": [
    {
     "name": "stderr",
     "output_type": "stream",
     "text": [
      "/tmp/ipykernel_361/1030149754.py:16: FutureWarning: From release 0.13.0 onwards, this function will, by default, copy the header of the input image to the output. Currently, the header is reset to the default Nifti1Header. To suppress this warning and use the new behavior, set `copy_header=True`.\n",
      "  atlas = image.threshold_img(atlas, \"99.5%\")\n"
     ]
    },
    {
     "name": "stdout",
     "output_type": "stream",
     "text": [
      "atlas has shape ['x', 'y', 'z', 'region'] = (91, 109, 91, 100)\n"
     ]
    }
   ],
   "source": [
    "atlas = load_atlas()"
   ]
  },
  {
   "cell_type": "code",
   "execution_count": 5,
   "id": "9efd12a8-865b-41a3-91a0-888a54b83846",
   "metadata": {},
   "outputs": [
    {
     "name": "stdout",
     "output_type": "stream",
     "text": [
      "unrestricted_data loaded\n"
     ]
    }
   ],
   "source": [
    "unrestricted_data = load_unrestricted()"
   ]
  },
  {
   "cell_type": "code",
   "execution_count": 6,
   "id": "6ee987b5-0662-41f3-8302-0cb3a3bbaf1f",
   "metadata": {},
   "outputs": [
    {
     "name": "stdout",
     "output_type": "stream",
     "text": [
      "restricted_data loaded\n"
     ]
    }
   ],
   "source": [
    "restricted_data = load_restricted()"
   ]
  },
  {
   "cell_type": "code",
   "execution_count": 7,
   "id": "da0a233f-6802-484a-ba14-8037349fc2d1",
   "metadata": {},
   "outputs": [
    {
     "name": "stdout",
     "output_type": "stream",
     "text": [
      "restricted_data loaded\n"
     ]
    }
   ],
   "source": [
    "handedness = get_handedness()"
   ]
  },
  {
   "cell_type": "markdown",
   "id": "1aa5ab5f-c77f-44a9-be2d-3d2844372d8a",
   "metadata": {},
   "source": [
    "## Extract Features"
   ]
  },
  {
   "cell_type": "markdown",
   "id": "9a21655b-6147-4c13-a820-41b93fa5a828",
   "metadata": {},
   "source": [
    "### Correlation Matrices"
   ]
  },
  {
   "cell_type": "code",
   "execution_count": 10,
   "id": "52fc27d8-7a26-4c01-bf59-38079b08e42c",
   "metadata": {
    "scrolled": true
   },
   "outputs": [],
   "source": [
    "#create all correlation matrices\n",
    "matrices = []\n",
    "for i in range(len(sub_data)):\n",
    "    matrices.append(np.corrcoef(sub_data[i].T))\n",
    "matrices = np.array(matrices)"
   ]
  },
  {
   "cell_type": "markdown",
   "id": "b8dca7ac-b0a3-4f1e-bec3-80461b7bb490",
   "metadata": {},
   "source": [
    "## Regressor on all data (balanced, new predictor for all chunks)"
   ]
  },
  {
   "cell_type": "markdown",
   "id": "ddb4f3a3-a470-48f8-9c18-c037015b928a",
   "metadata": {},
   "source": [
    "### Balancing the dataset"
   ]
  },
  {
   "cell_type": "code",
   "execution_count": 173,
   "id": "610bd653-29d7-42c6-8427-5cc419278450",
   "metadata": {},
   "outputs": [],
   "source": [
    "threshold = 25\n",
    "handedness = handedness.reset_index()\n",
    "left_df = handedness[handedness['Handedness'] < -threshold]\n",
    "right_df = handedness[handedness['Handedness'] > threshold]"
   ]
  },
  {
   "cell_type": "code",
   "execution_count": 174,
   "id": "82c980f8-fef3-40f2-b348-345e511069c5",
   "metadata": {},
   "outputs": [],
   "source": [
    "#Random Sampling\n",
    "sample_size = len(left_df)\n",
    "num_samples = len(right_df) // sample_size\n",
    "\n",
    "\n",
    "# Shuffle the indices randomly\n",
    "random.seed(1)\n",
    "shuffled_indices = np.random.permutation(len(right_df))\n"
   ]
  },
  {
   "cell_type": "code",
   "execution_count": 175,
   "id": "55b38194-bcd8-45ec-92b5-6c9a058ce163",
   "metadata": {},
   "outputs": [],
   "source": [
    "all_coef = []\n",
    "all_pred = []\n",
    "all_test = []\n",
    "\n",
    "chunks = [right_df.iloc[shuffled_indices[i * sample_size: (i + 1) * sample_size]] for i in range(num_samples)]\n",
    "for i in range(len(chunks)):\n",
    "    idx = np.append(np.array(left_df.index), np.array(chunks[i].index))\n",
    "    matrix_chunk = matrices[idx]\n",
    "\n",
    "    #getting top triangle of all matrices\n",
    "    dataX = []\n",
    "    for m in matrix_chunk:\n",
    "        top_corner = np.triu(m, 1)\n",
    "        just_data = top_corner[top_corner != 0]\n",
    "        arr_data = just_data.flatten()\n",
    "        dataX.append(arr_data)\n",
    "\n",
    "    dataY = np.array(handedness.loc[idx]['Handedness'])\n",
    "\n",
    "    X_train, X_test, y_train, y_test = train_test_split(dataX, dataY, test_size=0.2, random_state=42)\n",
    "\n",
    "    # Create a Ridge regression model with alpha = 1.0 (default)\n",
    "    ridge = Ridge(alpha=0.01) \n",
    "    ridge.fit(X_train, y_train)\n",
    "    y_pred = ridge.predict(X_test)\n",
    "\n",
    "    all_pred.append(y_pred)\n",
    "    all_test.append(y_test)\n",
    "    all_coef.append(ridge.coef_)\n",
    "    "
   ]
  },
  {
   "cell_type": "markdown",
   "id": "2cdf084a-258a-4f07-978d-60e84d17b203",
   "metadata": {},
   "source": [
    "### Analysis"
   ]
  },
  {
   "cell_type": "code",
   "execution_count": 176,
   "id": "4f94b21d-f0b3-4e55-8d1d-ae16a43d88fe",
   "metadata": {},
   "outputs": [
    {
     "name": "stderr",
     "output_type": "stream",
     "text": [
      "/tmp/ipykernel_360/3605924118.py:2: MatplotlibDeprecationWarning: The 'labels' parameter of boxplot() has been renamed 'tick_labels' since Matplotlib 3.9; support for the old name will be dropped in 3.11.\n",
      "  plt.boxplot(all_pred, labels=[f'Chunk {i}' for i in range(len(all_pred))])\n"
     ]
    },
    {
     "data": {
      "image/png": "[encoded data removed]",
      "text/plain": [
       "<Figure size 640x480 with 1 Axes>"
      ]
     },
     "metadata": {},
     "output_type": "display_data"
    }
   ],
   "source": [
    "# Create boxplot\n",
    "plt.boxplot(all_pred, labels=[f'Chunk {i}' for i in range(len(all_pred))])\n",
    "\n",
    "# Add title\n",
    "plt.title(\"Boxplot for all Predicted Chunks\")\n",
    "plt.ylabel(\"Values\")\n",
    "\n",
    "plt.show()"
   ]
  },
  {
   "cell_type": "code",
   "execution_count": 177,
   "id": "762f1d80-72d5-4034-b87f-9fa555653d9b",
   "metadata": {},
   "outputs": [
    {
     "name": "stderr",
     "output_type": "stream",
     "text": [
      "/tmp/ipykernel_360/817764619.py:2: MatplotlibDeprecationWarning: The 'labels' parameter of boxplot() has been renamed 'tick_labels' since Matplotlib 3.9; support for the old name will be dropped in 3.11.\n",
      "  plt.boxplot(all_coef, labels=[f'Chunk {i}' for i in range(len(all_pred))])\n"
     ]
    },
    {
     "data": {
      "image/png": "[encoded data removed]",
      "text/plain": [
       "<Figure size 640x480 with 1 Axes>"
      ]
     },
     "metadata": {},
     "output_type": "display_data"
    }
   ],
   "source": [
    "# Create boxplot\n",
    "plt.boxplot(all_coef, labels=[f'Chunk {i}' for i in range(len(all_pred))])\n",
    "\n",
    "# Add title\n",
    "plt.title(\"Boxplot for all Coef\")\n",
    "plt.ylabel(\"Values\")\n",
    "\n",
    "plt.show()"
   ]
  },
  {
   "cell_type": "markdown",
   "id": "2d52dd17-1aa6-41df-abab-94f231a7d435",
   "metadata": {},
   "source": [
    "<h1 style='color:red'>**Idea** use the outliers to find areas best for prediction</h1>\n",
    "\n",
    "Model coefficients look too similar, I doubt anything would change if we average them."
   ]
  },
  {
   "cell_type": "code",
   "execution_count": 182,
   "id": "091dee2b-716a-479e-81f8-f37e5f282c6f",
   "metadata": {},
   "outputs": [
    {
     "name": "stdout",
     "output_type": "stream",
     "text": [
      "Confusion Matrix:\n",
      "[[142  62]\n",
      " [ 79  77]]\n"
     ]
    }
   ],
   "source": [
    "all_pred_flat = np.array(all_pred).flatten()\n",
    "all_test_flat = np.array(all_test).flatten()\n",
    "\n",
    "y_test_binary = (all_test_flat > threshold).astype(int)\n",
    "y_pred_binary = (all_pred_flat > threshold).astype(int)\n",
    "\n",
    "# Create the confusion matrix\n",
    "conf_matrix = confusion_matrix(y_test_binary, y_pred_binary)\n",
    "\n",
    "print(\"Confusion Matrix:\")\n",
    "print(conf_matrix)"
   ]
  },
  {
   "cell_type": "code",
   "execution_count": 183,
   "id": "e0376026-5854-4ee6-bb2a-97b3f28a9673",
   "metadata": {},
   "outputs": [
    {
     "name": "stdout",
     "output_type": "stream",
     "text": [
      "Precision 0.5539568345323741\n",
      "Recall 0.4935897435897436\n"
     ]
    }
   ],
   "source": [
    "tn, fp, fn, tp = confusion_matrix(y_test_binary, y_pred_binary).ravel()\n",
    "precision = tp / (tp + fp)\n",
    "recall = tp / (tp + fn)\n",
    "print('Precision', precision)\n",
    "print('Recall', recall)"
   ]
  },
  {
   "cell_type": "markdown",
   "id": "60593890-c3b3-4bd5-9675-2d07a01e27be",
   "metadata": {},
   "source": [
    "# SGD Regressor\n",
    "\n",
    "Trying another regression model that can be updated iteratively"
   ]
  },
  {
   "cell_type": "code",
   "execution_count": 184,
   "id": "f81ace74-1361-4656-a9c7-9092df70bff9",
   "metadata": {},
   "outputs": [],
   "source": [
    "chunks = [right_df.iloc[shuffled_indices[i * sample_size: (i + 1) * sample_size]] for i in range(num_samples)]\n",
    "allX = []\n",
    "allY = []\n",
    "\n",
    "for i in range(len(chunks)):\n",
    "    idx = np.append(np.array(left_df.index), np.array(chunks[i].index))\n",
    "    matrix_chunk = matrices[idx]\n",
    "    \n",
    "    #getting top triangle of all matrices\n",
    "    dataX = []\n",
    "    for m in matrix_chunk:\n",
    "        top_corner = np.triu(m, 1)\n",
    "        just_data = top_corner[top_corner != 0]\n",
    "        arr_data = just_data.flatten()\n",
    "        dataX.append(arr_data)\n",
    "    \n",
    "    dataY = np.array(handedness.loc[idx]['Handedness'])\n",
    "\n",
    "    allX.append(dataX)\n",
    "    allY.append(dataY)"
   ]
  },
  {
   "cell_type": "code",
   "execution_count": 185,
   "id": "66491043-1c19-4946-9048-2e5299c8473c",
   "metadata": {},
   "outputs": [],
   "source": [
    "model = SGDRegressor(alpha=0.1, warm_start=True)\n",
    "all_xtest = []\n",
    "all_ytest = []\n",
    "for i in range(len(allX)):\n",
    "    dataX = allX[i]\n",
    "    dataY = allY[i]\n",
    "    X_train, X_test, y_train, y_test = train_test_split(dataX, dataY, test_size=0.2, random_state=40)\n",
    "    model.fit(X_train, y_train)\n",
    "\n",
    "    all_xtest.append(X_test)\n",
    "    all_ytest.append(y_test)"
   ]
  },
  {
   "cell_type": "code",
   "execution_count": 186,
   "id": "d1a73fe1-4b9e-4653-98d8-5ced8080665f",
   "metadata": {},
   "outputs": [],
   "source": [
    "all_xtest = [mat for lst in all_xtest for mat in lst]\n",
    "all_ytest = np.array(all_ytest).flatten()\n",
    "\n",
    "y_pred = model.predict(all_xtest)"
   ]
  },
  {
   "cell_type": "markdown",
   "id": "039c850a-a149-4073-8798-9f533c282f7d",
   "metadata": {},
   "source": [
    "### Analysis"
   ]
  },
  {
   "cell_type": "code",
   "execution_count": 187,
   "id": "986bac32-13f2-4fe2-a97c-360d662db691",
   "metadata": {},
   "outputs": [
    {
     "data": {
      "image/png": "[encoded data removed]",
      "text/plain": [
       "<Figure size 640x480 with 1 Axes>"
      ]
     },
     "metadata": {},
     "output_type": "display_data"
    }
   ],
   "source": [
    " # Create boxplot\n",
    "plt.boxplot(y_pred)\n",
    "plt.axhline(y=-100, color='r', linestyle='--', linewidth=2)\n",
    "plt.axhline(y=100, color='r', linestyle='--', linewidth=2)\n",
    "\n",
    "\n",
    "# Add title\n",
    "plt.title(\"Boxplot for all Predicted Chunks\")\n",
    "plt.ylabel(\"Values\")\n",
    "\n",
    "plt.show()"
   ]
  },
  {
   "cell_type": "code",
   "execution_count": 188,
   "id": "7de407f7-4db5-4f22-ad09-8584f8eb45d9",
   "metadata": {},
   "outputs": [],
   "source": [
    "def analysis(y_pred, all_ytest, threshold=0):\n",
    "    y_test_binary = (y_pred > threshold).astype(int)\n",
    "    y_pred_binary = (all_ytest > threshold).astype(int)\n",
    "    \n",
    "    # Create the confusion matrix\n",
    "    conf_matrix = confusion_matrix(y_test_binary, y_pred_binary)\n",
    "    \n",
    "    print(\"Confusion Matrix:\")\n",
    "    print(conf_matrix)\n",
    "\n",
    "    tn, fp, fn, tp = confusion_matrix(y_test_binary, y_pred_binary).ravel()\n",
    "    precision = tp / (tp + fp)\n",
    "    recall = tp / (tp + fn)\n",
    "    print('Precision', precision)\n",
    "    print('Recall', recall)"
   ]
  },
  {
   "cell_type": "code",
   "execution_count": 189,
   "id": "2e78ea00-fb6d-4b28-8c6b-b25607454d11",
   "metadata": {},
   "outputs": [
    {
     "name": "stdout",
     "output_type": "stream",
     "text": [
      "Confusion Matrix:\n",
      "[[ 12  10]\n",
      " [168 170]]\n",
      "Precision 0.9444444444444444\n",
      "Recall 0.5029585798816568\n"
     ]
    }
   ],
   "source": [
    "analysis(y_pred, all_ytest)"
   ]
  },
  {
   "cell_type": "code",
   "execution_count": 190,
   "id": "c2139508-7db3-4fe3-8501-23a4e4e36c97",
   "metadata": {},
   "outputs": [],
   "source": [
    "data = model.coef_"
   ]
  },
  {
   "cell_type": "code",
   "execution_count": 191,
   "id": "d48c8a85-943d-4aae-a4b7-5cb22ef2b6d8",
   "metadata": {},
   "outputs": [
    {
     "data": {
      "text/plain": [
       "<matplotlib.collections.PathCollection at 0x7f2d4fa7ed50>"
      ]
     },
     "execution_count": 191,
     "metadata": {},
     "output_type": "execute_result"
    },
    {
     "data": {
      "image/png": "[encoded data removed]",
      "text/plain": [
       "<Figure size 640x480 with 1 Axes>"
      ]
     },
     "metadata": {},
     "output_type": "display_data"
    }
   ],
   "source": [
    "plt.scatter(x=range(len(model.coef_)), y=model.coef_)"
   ]
  },
  {
   "cell_type": "code",
   "execution_count": 192,
   "id": "58ecf0cb-a3c3-4ade-ab9a-212d88b0b6e1",
   "metadata": {},
   "outputs": [
    {
     "data": {
      "text/plain": [
       "(array([   9.,   33.,  215.,  823., 1764., 1508.,  476.,   99.,   20.,\n",
       "           3.]),\n",
       " array([-6.23949386, -4.93330008, -3.62710629, -2.32091251, -1.01471872,\n",
       "         0.29147506,  1.59766885,  2.90386263,  4.21005642,  5.51625021,\n",
       "         6.82244399]),\n",
       " <BarContainer object of 10 artists>)"
      ]
     },
     "execution_count": 192,
     "metadata": {},
     "output_type": "execute_result"
    },
    {
     "data": {
      "image/png": "[encoded data removed]",
      "text/plain": [
       "<Figure size 640x480 with 1 Axes>"
      ]
     },
     "metadata": {},
     "output_type": "display_data"
    }
   ],
   "source": [
    "plt.hist(model.coef_)"
   ]
  },
  {
   "cell_type": "code",
   "execution_count": 193,
   "id": "7a4a16aa-2314-477a-b750-56727ebd16c1",
   "metadata": {},
   "outputs": [
    {
     "data": {
      "image/png": "[encoded data removed]",
      "text/plain": [
       "<Figure size 640x480 with 1 Axes>"
      ]
     },
     "metadata": {},
     "output_type": "display_data"
    }
   ],
   "source": [
    "plt.boxplot(model.coef_)\n",
    "plt.show()"
   ]
  },
  {
   "cell_type": "code",
   "execution_count": 194,
   "id": "f4f19bde-4b5a-43d8-bca5-d8992bda9ce3",
   "metadata": {},
   "outputs": [
    {
     "name": "stdout",
     "output_type": "stream",
     "text": [
      "Min: -6.239493861647287\n",
      "Q1: -0.875539822495158\n",
      "Median: 0.022566713353721207\n",
      "Q3: 0.9369470037600153\n",
      "Max: 6.822443990627798\n",
      "IQR: 1.8124868262551734\n"
     ]
    }
   ],
   "source": [
    "# Calculate statistics\n",
    "data = model.coef_\n",
    "min_val = np.min(data)  # Minimum value\n",
    "q1 = np.percentile(data, 25)  # First quartile (25th percentile)\n",
    "median = np.median(data)  # Median (50th percentile)\n",
    "q3 = np.percentile(data, 75)  # Third quartile (75th percentile)\n",
    "max_val = np.max(data)  # Maximum value\n",
    "iqr = q3 - q1  # Interquartile range (IQR)\n",
    "\n",
    "# Print the statistics\n",
    "print(f\"Min: {min_val}\")\n",
    "print(f\"Q1: {q1}\")\n",
    "print(f\"Median: {median}\")\n",
    "print(f\"Q3: {q3}\")\n",
    "print(f\"Max: {max_val}\")\n",
    "print(f\"IQR: {iqr}\")"
   ]
  },
  {
   "cell_type": "code",
   "execution_count": 195,
   "id": "a0b38cd7-8397-4bc3-8012-f5e568fb5032",
   "metadata": {},
   "outputs": [
    {
     "data": {
      "text/plain": [
       "93"
      ]
     },
     "execution_count": 195,
     "metadata": {},
     "output_type": "execute_result"
    }
   ],
   "source": [
    "coef_SGD = model.coef_\n",
    "# Find values above the max\n",
    "above_max = coef_SGD[coef_SGD > q3+(1.5) *iqr]\n",
    "\n",
    "# Find values below the min\n",
    "below_min = coef_SGD[coef_SGD < q1-(1.5)*iqr]\n",
    "\n",
    "#number of regions above max and below min\n",
    "len(np.hstack((above_max, below_min)))"
   ]
  },
  {
   "cell_type": "markdown",
   "id": "cc17828f-1441-48bc-8080-6028fec86c0e",
   "metadata": {},
   "source": [
    "## Iteratively removing coefficients of low values"
   ]
  },
  {
   "cell_type": "code",
   "execution_count": 196,
   "id": "12a0c219-1798-4e02-b8c2-4cb889e30b81",
   "metadata": {},
   "outputs": [],
   "source": [
    "#finding coefficient indices\n",
    "\n",
    "above_max_filter = coef_SGD > q3 + 1.5 * iqr\n",
    "below_min_filter = coef_SGD < q1 - 1.5 * iqr\n",
    "\n",
    "model = SGDRegressor(alpha=0.1, warm_start=True)\n",
    "for i in range(len(allX)):\n",
    "    dataX = allX[i]\n",
    "    dataY = allY[i]\n",
    "    X_train, X_test, y_train, y_test = train_test_split(dataX, dataY, test_size=0.2, random_state=40)\n",
    "    X_train = [lst[above_max_filter | below_min_filter] for lst in X_train]\n",
    "    X_test = [lst[above_max_filter | below_min_filter] for lst in X_test]\n",
    "\n",
    "    model.fit(X_train, y_train)"
   ]
  },
  {
   "cell_type": "code",
   "execution_count": 197,
   "id": "436fd276-cf71-4b7b-88ac-8cfd0c5bc86a",
   "metadata": {},
   "outputs": [],
   "source": [
    "y_pred = model.predict(X_test)"
   ]
  },
  {
   "cell_type": "code",
   "execution_count": 198,
   "id": "507ff039-7840-44ca-a193-d95f0c4666a1",
   "metadata": {},
   "outputs": [
    {
     "name": "stdout",
     "output_type": "stream",
     "text": [
      "Confusion Matrix:\n",
      "[[ 4  2]\n",
      " [11 13]]\n",
      "Precision 0.8666666666666667\n",
      "Recall 0.5416666666666666\n"
     ]
    }
   ],
   "source": [
    "analysis(y_pred, y_test)"
   ]
  },
  {
   "cell_type": "code",
   "execution_count": 199,
   "id": "4a3d4ab2-8715-4264-9d52-87323c22008b",
   "metadata": {},
   "outputs": [
    {
     "name": "stdout",
     "output_type": "stream",
     "text": [
      "[[0. 0. 0. ... 0. 0. 0.]\n",
      " [0. 0. 0. ... 0. 0. 0.]\n",
      " [0. 0. 0. ... 0. 0. 0.]\n",
      " ...\n",
      " [0. 0. 0. ... 0. 0. 0.]\n",
      " [0. 0. 0. ... 0. 0. 0.]\n",
      " [0. 0. 0. ... 0. 0. 0.]]\n"
     ]
    }
   ],
   "source": [
    "n = 100\n",
    "l = (coef_SGD > q3 + 1.5 * iqr) | (coef_SGD < q1 - 1.5 * iqr)\n",
    "\n",
    "a = np.zeros((n,n)) # Initialize nxn matrix\n",
    "triu = np.triu_indices(n, 1) # Find upper right indices of a triangular nxn matrix\n",
    "tril = np.tril_indices(n) # Find lower left indices of a triangular nxn matrix\n",
    "a[triu] = l # Assign list values to upper right matrix\n",
    "a[tril] = a.T[tril] # Make the matrix symmetric\n",
    "\n",
    "print(a)"
   ]
  },
  {
   "cell_type": "code",
   "execution_count": 200,
   "id": "d06e1efc-9aed-4362-b8a9-900c40763f8b",
   "metadata": {},
   "outputs": [
    {
     "data": {
      "image/png": "[encoded data removed]",
      "text/plain": [
       "<Figure size 640x480 with 2 Axes>"
      ]
     },
     "metadata": {},
     "output_type": "display_data"
    }
   ],
   "source": [
    "plt.figure()\n",
    "plt.imshow(a, cmap=\"RdBu_r\", interpolation=\"none\", vmin = -1, vmax = 1)\n",
    "plt.colorbar()\n",
    "plt.show()"
   ]
  },
  {
   "cell_type": "code",
   "execution_count": 201,
   "id": "21e597d7-2cbc-4d67-869c-d6ae52cda918",
   "metadata": {},
   "outputs": [],
   "source": [
    "# You can find best regions by looking at the indices of the matrix. \n",
    "# They tend to vary quite a lot when i change the random state though.\n",
    "# Maybe the strategy is to look at the rows with the most correlations of usefulness to us?"
   ]
  },
  {
   "cell_type": "code",
   "execution_count": 240,
   "id": "9ef75518-c24e-40e9-9a20-bc09ba9f7d0a",
   "metadata": {},
   "outputs": [],
   "source": [
    "tup = np.where(a == 1)\n",
    "regions = list(zip(tup[0], tup[1]))"
   ]
  },
  {
   "cell_type": "code",
   "execution_count": 239,
   "id": "e02cb409-6859-4824-a412-e171de3d5870",
   "metadata": {},
   "outputs": [
    {
     "data": {
      "text/html": [
       "<div>\n",
       "<style scoped>\n",
       "    .dataframe tbody tr th:only-of-type {\n",
       "        vertical-align: middle;\n",
       "    }\n",
       "\n",
       "    .dataframe tbody tr th {\n",
       "        vertical-align: top;\n",
       "    }\n",
       "\n",
       "    .dataframe thead th {\n",
       "        text-align: right;\n",
       "    }\n",
       "</style>\n",
       "<table border=\"1\" class=\"dataframe\">\n",
       "  <thead>\n",
       "    <tr style=\"text-align: right;\">\n",
       "      <th></th>\n",
       "      <th>1</th>\n",
       "    </tr>\n",
       "    <tr>\n",
       "      <th>0</th>\n",
       "      <th></th>\n",
       "    </tr>\n",
       "  </thead>\n",
       "  <tbody>\n",
       "    <tr>\n",
       "      <th>30</th>\n",
       "      <td>14</td>\n",
       "    </tr>\n",
       "    <tr>\n",
       "      <th>43</th>\n",
       "      <td>8</td>\n",
       "    </tr>\n",
       "    <tr>\n",
       "      <th>25</th>\n",
       "      <td>7</td>\n",
       "    </tr>\n",
       "    <tr>\n",
       "      <th>4</th>\n",
       "      <td>7</td>\n",
       "    </tr>\n",
       "    <tr>\n",
       "      <th>32</th>\n",
       "      <td>7</td>\n",
       "    </tr>\n",
       "    <tr>\n",
       "      <th>63</th>\n",
       "      <td>7</td>\n",
       "    </tr>\n",
       "  </tbody>\n",
       "</table>\n",
       "</div>"
      ],
      "text/plain": [
       "     1\n",
       "0     \n",
       "30  14\n",
       "43   8\n",
       "25   7\n",
       "4    7\n",
       "32   7\n",
       "63   7"
      ]
     },
     "execution_count": 239,
     "metadata": {},
     "output_type": "execute_result"
    }
   ],
   "source": [
    "#row 30 seems to have the most correlation points, other top rows are 43, 25, 4, 32, 63\n",
    "df = pd.DataFrame(regions).groupby(0).count().sort_values(1, ascending=False)\n",
    "df[df[1] >= 7]"
   ]
  },
  {
   "cell_type": "code",
   "execution_count": 5,
   "id": "3eb195be-f80b-4a52-80ee-988f4aeada9d",
   "metadata": {},
   "outputs": [
    {
     "name": "stdout",
     "output_type": "stream",
     "text": [
      "The Python package you are importing, AtlasReader, is licensed under the\n",
      "BSD-3 license; however, the atlases it uses are separately licensed under more\n",
      "restrictive frameworks.\n",
      "By using AtlasReader, you agree to abide by the license terms of the\n",
      "individual atlases. Information on these terms can be found online at:\n",
      "https://github.com/miykael/atlasreader/tree/master/atlasreader/data\n",
      "\n",
      "[[np.float64(62.0), 'Right_Occipital_Pole']]\n",
      "[[np.float64(50.0), 'Right_Lateral_Occipital_Cortex_superior_division'], [np.float64(30.0), 'Right_Angular_Gyrus']]\n",
      "[[np.float64(56.0), 'Right_Lateral_Occipital_Cortex_inferior_division'], [np.float64(14.0), 'Right_Occipital_Pole']]\n",
      "[[np.float64(54.0), 'Left_Cuneal_Cortex'], [np.float64(9.0), 'Right_Cuneal_Cortex']]\n",
      "[[np.float64(81.0), 'Left_Supramarginal_Gyrus_anterior_division'], [np.float64(6.0), 'Left_Supramarginal_Gyrus_posterior_division']]\n",
      "[[np.float64(85.0), 'Right_Lateral_Occipital_Cortex_superior_division']]\n",
      "[[np.float64(66.0), 'Right_Supramarginal_Gyrus_posterior_division'], [np.float64(14.0), 'Right_Angular_Gyrus']]\n",
      "[[np.float64(68.0), 'Right_Lateral_Occipital_Cortex_superior_division']]\n",
      "[[np.float64(72.0), 'Left_Lateral_Occipital_Cortex_superior_division']]\n",
      "[[np.float64(49.0), 'Right_Precuneous_Cortex'], [np.float64(30.0), 'Left_Precuneous_Cortex']]\n",
      "[[np.float64(47.0), 'Right_Occipital_Fusiform_Gyrus'], [np.float64(26.0), 'Right_Lingual_Gyrus']]\n",
      "[[np.float64(46.0), 'Left_Angular_Gyrus'], [np.float64(22.0), 'Left_Supramarginal_Gyrus_posterior_division'], [np.float64(7.0), 'Left_Lateral_Occipital_Cortex_superior_division']]\n",
      "[[np.float64(45.0), 'Left_Lateral_Occipital_Cortex_superior_division'], [np.float64(17.0), 'Left_Occipital_Pole']]\n",
      "[[np.float64(61.0), 'Left_Lateral_Occipital_Cortex_superior_division'], [np.float64(9.0), 'Left_Superior_Parietal_Lobule']]\n",
      "[[np.float64(39.0), 'Left_Precuneous_Cortex'], [np.float64(29.0), 'Right_Precuneous_Cortex'], [np.float64(5.0), 'Left_Cuneal_Cortex']]\n",
      "[[np.float64(47.0), 'Right_Occipital_Pole'], [np.float64(6.0), 'Right_Lateral_Occipital_Cortex_superior_division']]\n",
      "[[np.float64(64.0), 'Right_Intracalcarine_Cortex']]\n",
      "[[np.float64(43.0), 'Right_Lateral_Occipital_Cortex_superior_division'], [np.float64(5.0), 'Right_Precuneous_Cortex']]\n",
      "[[np.float64(17.0), 'Left_Occipital_Pole'], [np.float64(13.0), 'Right_Occipital_Pole'], [np.float64(13.0), 'Left_Intracalcarine_Cortex'], [np.float64(9.0), 'Left_Lingual_Gyrus'], [np.float64(9.0), 'Right_Intracalcarine_Cortex'], [np.float64(7.0), 'Left_Supracalcarine_Cortex'], [np.float64(6.0), 'Right_Lingual_Gyrus'], [np.float64(5.0), 'Right_Supracalcarine_Cortex']]\n",
      "[[np.float64(75.0), 'Left_Lateral_Occipital_Cortex_superior_division']]\n",
      "[[np.float64(37.0), 'Left_Postcentral_Gyrus'], [np.float64(33.0), 'Left_Precentral_Gyrus']]\n",
      "[[np.float64(11.0), 'Left_Superior_Frontal_Gyrus'], [np.float64(8.0), 'Right_Superior_Frontal_Gyrus'], [np.float64(7.0), 'Left_Frontal_Pole'], [np.float64(5.0), 'Right_Frontal_Pole']]\n",
      "[[np.float64(63.0), 'Right_Supramarginal_Gyrus_anterior_division'], [np.float64(9.0), 'Right_Postcentral_Gyrus']]\n",
      "[[np.float64(68.0), 'Right_Lateral_Occipital_Cortex_superior_division']]\n",
      "[[np.float64(71.0), 'Left_Occipital_Pole']]\n",
      "[[np.float64(82.0), 'Left_Frontal_Pole']]\n",
      "[[np.float64(56.0), 'Right_Superior_Parietal_Lobule'], [np.float64(17.0), 'Right_Postcentral_Gyrus']]\n",
      "[[np.float64(56.0), 'Left_Occipital_Pole']]\n",
      "[[np.float64(25.0), 'Left_Middle_Temporal_Gyrus_posterior_division'], [np.float64(18.0), 'Left_Superior_Temporal_Gyrus_posterior_division'], [np.float64(14.0), 'Left_Middle_Temporal_Gyrus_anterior_division'], [np.float64(9.0), 'Left_Superior_Temporal_Gyrus_anterior_division']]\n",
      "[[np.float64(63.0), 'Right_Lateral_Occipital_Cortex_inferior_division'], [np.float64(6.0), 'Right_Lateral_Occipital_Cortex_superior_division']]\n",
      "[[np.float64(35.0), 'Right_Supramarginal_Gyrus_posterior_division'], [np.float64(29.0), 'Right_Angular_Gyrus']]\n",
      "[[np.float64(45.0), 'Right_Occipital_Pole']]\n",
      "[[np.float64(77.0), 'Left_Frontal_Pole']]\n",
      "[[np.float64(44.0), 'Left_Lateral_Occipital_Cortex_superior_division'], [np.float64(17.0), 'Left_Superior_Parietal_Lobule']]\n",
      "[[np.float64(47.0), 'Left_Postcentral_Gyrus'], [np.float64(28.0), 'Left_Supramarginal_Gyrus_anterior_division']]\n",
      "[[np.float64(39.0), 'Left_Paracingulate_Gyrus'], [np.float64(33.0), 'Left_Frontal_Pole']]\n",
      "[[np.float64(33.0), 'Left_Inferior_Frontal_Gyrus_pars_opercularis'], [np.float64(29.0), 'Left_Inferior_Frontal_Gyrus_pars_triangularis']]\n",
      "[[np.float64(46.0), 'Right_Juxtapositional_Lobule_Cortex_(formerly_Supplementary_Motor_Cortex)'], [np.float64(19.0), 'Left_Juxtapositional_Lobule_Cortex_(formerly_Supplementary_Motor_Cortex)']]\n",
      "[[np.float64(26.0), 'Right_Occipital_Fusiform_Gyrus'], [np.float64(25.0), 'Right_Occipital_Pole'], [np.float64(13.0), 'Right_Lingual_Gyrus']]\n",
      "[[np.float64(43.0), 'Right_Middle_Frontal_Gyrus'], [np.float64(21.0), 'Right_Inferior_Frontal_Gyrus_pars_opercularis'], [np.float64(8.0), 'Right_Inferior_Frontal_Gyrus_pars_triangularis']]\n",
      "[[np.float64(53.0), 'Left_Postcentral_Gyrus'], [np.float64(13.0), 'Left_Precentral_Gyrus']]\n",
      "[[0, 'no_label']]\n",
      "[[np.float64(48.0), 'Right_Postcentral_Gyrus'], [np.float64(8.0), 'Right_Precentral_Gyrus']]\n",
      "[[np.float64(48.0), 'Left_Inferior_Frontal_Gyrus_pars_triangularis'], [np.float64(27.0), 'Left_Frontal_Pole'], [np.float64(7.0), 'Left_Middle_Frontal_Gyrus']]\n",
      "[[np.float64(29.0), 'Right_Planum_Temporale'], [np.float64(13.0), 'Right_Superior_Temporal_Gyrus_posterior_division']]\n",
      "[[0, 'no_label']]\n",
      "[[np.float64(43.0), 'Right_Precentral_Gyrus'], [np.float64(11.0), 'Left_Precentral_Gyrus'], [np.float64(7.0), 'Right_Postcentral_Gyrus']]\n",
      "[[np.float64(76.0), 'Right_Frontal_Pole']]\n",
      "[[np.float64(5.0), 'Right_Occipital_Fusiform_Gyrus']]\n",
      "[[0, 'no_label']]\n",
      "[[0, 'no_label']]\n",
      "[[0, 'no_label']]\n",
      "[[0, 'no_label']]\n",
      "[[0, 'no_label']]\n",
      "[[0, 'no_label']]\n",
      "[[0, 'no_label']]\n",
      "[[0, 'no_label']]\n",
      "[[0, 'no_label']]\n",
      "[[0, 'no_label']]\n",
      "[[np.float64(48.0), 'Right_Hippocampus'], [np.float64(35.0), 'Right_Amygdala']]\n",
      "[[0, 'no_label']]\n",
      "[[0, 'no_label']]\n",
      "[[np.float64(83.0), 'Right_Caudate'], [np.float64(16.0), 'Right_Lateral_Ventricle']]\n",
      "[[0, 'no_label']]\n",
      "[[np.float64(99.0), 'Left_Putamen']]\n",
      "[[0, 'no_label']]\n",
      "[[np.float64(100.0), 'Left_Thalamus']]\n",
      "[[0, 'no_label']]\n",
      "[[np.float64(100.0), 'Left_Putamen']]\n",
      "[[0, 'no_label']]\n",
      "[[np.float64(41.0), 'Brain-Stem']]\n",
      "[[0, 'no_label']]\n",
      "[[0, 'no_label']]\n",
      "[[0, 'no_label']]\n",
      "[[0, 'no_label']]\n",
      "[[np.float64(100.0), 'Right_Putamen']]\n",
      "[[0, 'no_label']]\n",
      "[[0, 'no_label']]\n",
      "[[np.float64(94.0), 'Left_Caudate'], [np.float64(5.0), 'Left_Lateral_Ventrical']]\n",
      "[[np.float64(100.0), 'Brain-Stem']]\n",
      "[[np.float64(100.0), 'Brain-Stem']]\n",
      "[[0, 'no_label']]\n",
      "[[0, 'no_label']]\n",
      "[[0, 'no_label']]\n",
      "[[0, 'no_label']]\n",
      "[[np.float64(100.0), 'Brain-Stem']]\n",
      "[[np.float64(100.0), 'Right_Thalamus']]\n",
      "[[0, 'no_label']]\n",
      "[[0, 'no_label']]\n",
      "[[0, 'no_label']]\n",
      "[[np.float64(100.0), 'Brain-Stem']]\n",
      "[[0, 'no_label']]\n",
      "[[0, 'no_label']]\n",
      "[[np.float64(100.0), 'Brain-Stem']]\n",
      "[[np.float64(97.0), 'Brain-Stem']]\n",
      "[[np.float64(99.0), 'Left_Thalamus']]\n",
      "[[np.float64(96.0), 'Right_Thalamus']]\n",
      "[[np.float64(92.0), 'Brain-Stem']]\n",
      "[[0, 'no_label']]\n",
      "[[0, 'no_label']]\n"
     ]
    },
    {
     "data": {
      "text/plain": [
       "array(['Right_Supramarginal_Gyrus_posterior_division',\n",
       "       'Left_Inferior_Frontal_Gyrus_pars_triangularis',\n",
       "       'Left_Frontal_Pole', 'Left_Supramarginal_Gyrus_anterior_division',\n",
       "       'Left_Frontal_Pole', 'no_label'], dtype='<U73')"
      ]
     },
     "execution_count": 5,
     "metadata": {},
     "output_type": "execute_result"
    }
   ],
   "source": [
    "from atlasreader.atlasreader import read_atlas_peak\n",
    "atlas_coords = plotting.find_probabilistic_atlas_cut_coords(atlas)\n",
    "atlas_coords = np.array(atlas_coords)\n",
    "\n",
    "brain_region = []\n",
    "#print(\"BRAIN REGIONS:\\n--------------\")\n",
    "for atlas_coord in atlas_coords:\n",
    "    region = read_atlas_peak(\"harvard_oxford\", atlas_coord)\n",
    "    print(region)\n",
    "    brain_region += [region]\n",
    "brain_region = [\n",
    "    max(inner_list, key=lambda x: x[0])[-1] if inner_list else None for inner_list in brain_region\n",
    "]\n",
    "np.array(brain_region)[[30, 43, 25, 4, 32, 63]]"
   ]
  },
  {
   "cell_type": "code",
   "execution_count": null,
   "id": "c6283ed7-4745-43d1-9f20-8e015c5b9832",
   "metadata": {},
   "outputs": [],
   "source": []
  }
 ],
 "metadata": {
  "kernelspec": {
   "display_name": "capstone",
   "language": "python",
   "name": "capstone"
  },
  "language_info": {
   "codemirror_mode": {
    "name": "ipython",
    "version": 3
   },
   "file_extension": ".py",
   "mimetype": "text/x-python",
   "name": "python",
   "nbconvert_exporter": "python",
   "pygments_lexer": "ipython3",
   "version": "3.13.1"
  }
 },
 "nbformat": 4,
 "nbformat_minor": 5
}
