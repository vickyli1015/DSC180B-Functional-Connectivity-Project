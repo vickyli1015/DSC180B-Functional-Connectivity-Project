{
 "cells": [
  {
   "cell_type": "code",
   "execution_count": 1,
   "metadata": {},
   "outputs": [],
   "source": [
    "import pandas as pd \n",
    "import numpy as np\n",
    "import matplotlib.pyplot as plt\n",
    "import seaborn as sns\n",
    "import os\n",
    "\n",
    "from sklearn.model_selection import train_test_split\n",
    "from sklearn.preprocessing import StandardScaler\n",
    "# from sklearn.svm import SVC, SVR\n",
    "from sklearn.linear_model import LassoCV\n",
    "from sklearn.linear_model import LogisticRegressionCV\n",
    "from sklearn.metrics import accuracy_score, classification_report, confusion_matrix, accuracy_score, mean_squared_error, r2_score, roc_curve, auc\n",
    "# from sklearn.pipeline import Pipeline\n",
    "from imblearn.over_sampling import SMOTE\n",
    "\n",
    "import pandas as pd\n",
    "pd.options.mode.chained_assignment = None  # Hide long warnings\n",
    "\n",
    "import tensorflow as tf\n",
    "from tensorflow.keras.models import Sequential\n",
    "from tensorflow.keras.layers import Conv2D, MaxPooling2D, Flatten, Dense, Dropout\n",
    "from tensorflow.keras.optimizers import Adam\n",
    "from sklearn.model_selection import train_test_split\n",
    "\n",
    "import random\n",
    "from sklearn.model_selection import StratifiedKFold, train_test_split\n",
    "from sklearn.utils.class_weight import compute_class_weight\n",
    "from tensorflow.keras.callbacks import ReduceLROnPlateau"
   ]
  },
  {
   "attachments": {},
   "cell_type": "markdown",
   "metadata": {},
   "source": [
    "### d100"
   ]
  },
  {
   "cell_type": "code",
   "execution_count": 2,
   "metadata": {},
   "outputs": [
    {
     "name": "stdout",
     "output_type": "stream",
     "text": [
      "The Python package you are importing, AtlasReader, is licensed under the\n",
      "BSD-3 license; however, the atlases it uses are separately licensed under more\n",
      "restrictive frameworks.\n",
      "By using AtlasReader, you agree to abide by the license terms of the\n",
      "individual atlases. Information on these terms can be found online at:\n",
      "https://github.com/miykael/atlasreader/tree/master/atlasreader/data\n",
      "\n",
      "BRAIN REGIONS:\n",
      "--------------\n",
      "[[np.float64(62.0), 'Right_Occipital_Pole']]\n",
      "[[np.float64(50.0), 'Right_Lateral_Occipital_Cortex_superior_division'], [np.float64(30.0), 'Right_Angular_Gyrus']]\n",
      "[[np.float64(56.0), 'Right_Lateral_Occipital_Cortex_inferior_division'], [np.float64(14.0), 'Right_Occipital_Pole']]\n",
      "[[np.float64(54.0), 'Left_Cuneal_Cortex'], [np.float64(9.0), 'Right_Cuneal_Cortex']]\n",
      "[[np.float64(81.0), 'Left_Supramarginal_Gyrus_anterior_division'], [np.float64(6.0), 'Left_Supramarginal_Gyrus_posterior_division']]\n",
      "[[np.float64(85.0), 'Right_Lateral_Occipital_Cortex_superior_division']]\n",
      "[[np.float64(66.0), 'Right_Supramarginal_Gyrus_posterior_division'], [np.float64(14.0), 'Right_Angular_Gyrus']]\n",
      "[[np.float64(68.0), 'Right_Lateral_Occipital_Cortex_superior_division']]\n",
      "[[np.float64(72.0), 'Left_Lateral_Occipital_Cortex_superior_division']]\n",
      "[[np.float64(49.0), 'Right_Precuneous_Cortex'], [np.float64(30.0), 'Left_Precuneous_Cortex']]\n",
      "[[np.float64(47.0), 'Right_Occipital_Fusiform_Gyrus'], [np.float64(26.0), 'Right_Lingual_Gyrus']]\n",
      "[[np.float64(46.0), 'Left_Angular_Gyrus'], [np.float64(22.0), 'Left_Supramarginal_Gyrus_posterior_division'], [np.float64(7.0), 'Left_Lateral_Occipital_Cortex_superior_division']]\n",
      "[[np.float64(45.0), 'Left_Lateral_Occipital_Cortex_superior_division'], [np.float64(17.0), 'Left_Occipital_Pole']]\n",
      "[[np.float64(61.0), 'Left_Lateral_Occipital_Cortex_superior_division'], [np.float64(9.0), 'Left_Superior_Parietal_Lobule']]\n",
      "[[np.float64(39.0), 'Left_Precuneous_Cortex'], [np.float64(29.0), 'Right_Precuneous_Cortex'], [np.float64(5.0), 'Left_Cuneal_Cortex']]\n",
      "[[np.float64(47.0), 'Right_Occipital_Pole'], [np.float64(6.0), 'Right_Lateral_Occipital_Cortex_superior_division']]\n",
      "[[np.float64(64.0), 'Right_Intracalcarine_Cortex']]\n",
      "[[np.float64(43.0), 'Right_Lateral_Occipital_Cortex_superior_division'], [np.float64(5.0), 'Right_Precuneous_Cortex']]\n",
      "[[np.float64(17.0), 'Left_Occipital_Pole'], [np.float64(13.0), 'Right_Occipital_Pole'], [np.float64(13.0), 'Left_Intracalcarine_Cortex'], [np.float64(9.0), 'Left_Lingual_Gyrus'], [np.float64(9.0), 'Right_Intracalcarine_Cortex'], [np.float64(7.0), 'Left_Supracalcarine_Cortex'], [np.float64(6.0), 'Right_Lingual_Gyrus'], [np.float64(5.0), 'Right_Supracalcarine_Cortex']]\n",
      "[[np.float64(75.0), 'Left_Lateral_Occipital_Cortex_superior_division']]\n",
      "[[np.float64(37.0), 'Left_Postcentral_Gyrus'], [np.float64(33.0), 'Left_Precentral_Gyrus']]\n",
      "[[np.float64(11.0), 'Left_Superior_Frontal_Gyrus'], [np.float64(8.0), 'Right_Superior_Frontal_Gyrus'], [np.float64(7.0), 'Left_Frontal_Pole'], [np.float64(5.0), 'Right_Frontal_Pole']]\n",
      "[[np.float64(63.0), 'Right_Supramarginal_Gyrus_anterior_division'], [np.float64(9.0), 'Right_Postcentral_Gyrus']]\n",
      "[[np.float64(68.0), 'Right_Lateral_Occipital_Cortex_superior_division']]\n",
      "[[np.float64(71.0), 'Left_Occipital_Pole']]\n",
      "[[np.float64(82.0), 'Left_Frontal_Pole']]\n",
      "[[np.float64(56.0), 'Right_Superior_Parietal_Lobule'], [np.float64(17.0), 'Right_Postcentral_Gyrus']]\n",
      "[[np.float64(56.0), 'Left_Occipital_Pole']]\n",
      "[[np.float64(25.0), 'Left_Middle_Temporal_Gyrus_posterior_division'], [np.float64(18.0), 'Left_Superior_Temporal_Gyrus_posterior_division'], [np.float64(14.0), 'Left_Middle_Temporal_Gyrus_anterior_division'], [np.float64(9.0), 'Left_Superior_Temporal_Gyrus_anterior_division']]\n",
      "[[np.float64(63.0), 'Right_Lateral_Occipital_Cortex_inferior_division'], [np.float64(6.0), 'Right_Lateral_Occipital_Cortex_superior_division']]\n",
      "[[np.float64(35.0), 'Right_Supramarginal_Gyrus_posterior_division'], [np.float64(29.0), 'Right_Angular_Gyrus']]\n",
      "[[np.float64(45.0), 'Right_Occipital_Pole']]\n",
      "[[np.float64(77.0), 'Left_Frontal_Pole']]\n",
      "[[np.float64(44.0), 'Left_Lateral_Occipital_Cortex_superior_division'], [np.float64(17.0), 'Left_Superior_Parietal_Lobule']]\n",
      "[[np.float64(47.0), 'Left_Postcentral_Gyrus'], [np.float64(28.0), 'Left_Supramarginal_Gyrus_anterior_division']]\n",
      "[[np.float64(39.0), 'Left_Paracingulate_Gyrus'], [np.float64(33.0), 'Left_Frontal_Pole']]\n",
      "[[np.float64(33.0), 'Left_Inferior_Frontal_Gyrus_pars_opercularis'], [np.float64(29.0), 'Left_Inferior_Frontal_Gyrus_pars_triangularis']]\n",
      "[[np.float64(46.0), 'Right_Juxtapositional_Lobule_Cortex_(formerly_Supplementary_Motor_Cortex)'], [np.float64(19.0), 'Left_Juxtapositional_Lobule_Cortex_(formerly_Supplementary_Motor_Cortex)']]\n",
      "[[np.float64(26.0), 'Right_Occipital_Fusiform_Gyrus'], [np.float64(25.0), 'Right_Occipital_Pole'], [np.float64(13.0), 'Right_Lingual_Gyrus']]\n",
      "[[np.float64(43.0), 'Right_Middle_Frontal_Gyrus'], [np.float64(21.0), 'Right_Inferior_Frontal_Gyrus_pars_opercularis'], [np.float64(8.0), 'Right_Inferior_Frontal_Gyrus_pars_triangularis']]\n",
      "[[np.float64(53.0), 'Left_Postcentral_Gyrus'], [np.float64(13.0), 'Left_Precentral_Gyrus']]\n",
      "[[0, 'no_label']]\n",
      "[[np.float64(48.0), 'Right_Postcentral_Gyrus'], [np.float64(8.0), 'Right_Precentral_Gyrus']]\n",
      "[[np.float64(48.0), 'Left_Inferior_Frontal_Gyrus_pars_triangularis'], [np.float64(27.0), 'Left_Frontal_Pole'], [np.float64(7.0), 'Left_Middle_Frontal_Gyrus']]\n",
      "[[np.float64(29.0), 'Right_Planum_Temporale'], [np.float64(13.0), 'Right_Superior_Temporal_Gyrus_posterior_division']]\n",
      "[[0, 'no_label']]\n",
      "[[np.float64(43.0), 'Right_Precentral_Gyrus'], [np.float64(11.0), 'Left_Precentral_Gyrus'], [np.float64(7.0), 'Right_Postcentral_Gyrus']]\n",
      "[[np.float64(76.0), 'Right_Frontal_Pole']]\n",
      "[[np.float64(5.0), 'Right_Occipital_Fusiform_Gyrus']]\n",
      "[[0, 'no_label']]\n",
      "[[0, 'no_label']]\n",
      "[[0, 'no_label']]\n",
      "[[0, 'no_label']]\n",
      "[[0, 'no_label']]\n",
      "[[0, 'no_label']]\n",
      "[[0, 'no_label']]\n",
      "[[0, 'no_label']]\n",
      "[[0, 'no_label']]\n",
      "[[0, 'no_label']]\n",
      "[[np.float64(48.0), 'Right_Hippocampus'], [np.float64(35.0), 'Right_Amygdala']]\n",
      "[[0, 'no_label']]\n",
      "[[0, 'no_label']]\n",
      "[[np.float64(83.0), 'Right_Caudate'], [np.float64(16.0), 'Right_Lateral_Ventricle']]\n",
      "[[0, 'no_label']]\n",
      "[[np.float64(99.0), 'Left_Putamen']]\n",
      "[[0, 'no_label']]\n",
      "[[np.float64(100.0), 'Left_Thalamus']]\n",
      "[[0, 'no_label']]\n",
      "[[np.float64(100.0), 'Left_Putamen']]\n",
      "[[0, 'no_label']]\n",
      "[[np.float64(41.0), 'Brain-Stem']]\n",
      "[[0, 'no_label']]\n",
      "[[0, 'no_label']]\n",
      "[[0, 'no_label']]\n",
      "[[0, 'no_label']]\n",
      "[[np.float64(100.0), 'Right_Putamen']]\n",
      "[[0, 'no_label']]\n",
      "[[0, 'no_label']]\n",
      "[[np.float64(94.0), 'Left_Caudate'], [np.float64(5.0), 'Left_Lateral_Ventrical']]\n",
      "[[np.float64(100.0), 'Brain-Stem']]\n",
      "[[np.float64(100.0), 'Brain-Stem']]\n",
      "[[0, 'no_label']]\n",
      "[[0, 'no_label']]\n",
      "[[0, 'no_label']]\n",
      "[[0, 'no_label']]\n",
      "[[np.float64(100.0), 'Brain-Stem']]\n",
      "[[np.float64(100.0), 'Right_Thalamus']]\n",
      "[[0, 'no_label']]\n",
      "[[0, 'no_label']]\n",
      "[[0, 'no_label']]\n",
      "[[np.float64(100.0), 'Brain-Stem']]\n",
      "[[0, 'no_label']]\n",
      "[[0, 'no_label']]\n",
      "[[np.float64(100.0), 'Brain-Stem']]\n",
      "[[np.float64(97.0), 'Brain-Stem']]\n",
      "[[np.float64(99.0), 'Left_Thalamus']]\n",
      "[[np.float64(96.0), 'Right_Thalamus']]\n",
      "[[np.float64(92.0), 'Brain-Stem']]\n",
      "[[0, 'no_label']]\n",
      "[[0, 'no_label']]\n"
     ]
    }
   ],
   "source": [
    "from nilearn import image, plotting\n",
    "from atlasreader.atlasreader import read_atlas_peak\n",
    "\n",
    "\"\"\"\n",
    "available reference atlases\n",
    "---------------------------\n",
    "    \"aal\",\n",
    "    \"aicha\",\n",
    "    \"desikan_killiany\",\n",
    "    \"destrieux\",\n",
    "    \"harvard_oxford\",\n",
    "    \"juelich\",\n",
    "    \"marsatlas\",\n",
    "    \"neuromorphometrics\",\n",
    "    \"talairach_ba\",\n",
    "    \"talairach_gyrus\",\n",
    " \"\"\"\n",
    "\n",
    "atlas = image.threshold_img(\"HCP_PTN1200/groupICA/groupICA_3T_HCP1200_MSMAll_d100.ica/melodic_IC_sum.nii.gz\", \"99.5%\") \n",
    "atlas_coords = plotting.find_probabilistic_atlas_cut_coords(atlas)\n",
    "brain_region = []\n",
    "print(\"BRAIN REGIONS:\\n--------------\")\n",
    "for atlas_coord in atlas_coords:\n",
    "    region = read_atlas_peak(\"harvard_oxford\", atlas_coord)\n",
    "    print(region)\n",
    "    brain_region += [region]"
   ]
  },
  {
   "cell_type": "code",
   "execution_count": 3,
   "metadata": {},
   "outputs": [
    {
     "data": {
      "text/plain": [
       "['Right_Occipital_Pole',\n",
       " 'Right_Lateral_Occipital_Cortex_superior_division',\n",
       " 'Right_Lateral_Occipital_Cortex_inferior_division',\n",
       " 'Left_Cuneal_Cortex',\n",
       " 'Left_Supramarginal_Gyrus_anterior_division',\n",
       " 'Right_Lateral_Occipital_Cortex_superior_division',\n",
       " 'Right_Supramarginal_Gyrus_posterior_division',\n",
       " 'Right_Lateral_Occipital_Cortex_superior_division',\n",
       " 'Left_Lateral_Occipital_Cortex_superior_division',\n",
       " 'Right_Precuneous_Cortex',\n",
       " 'Right_Occipital_Fusiform_Gyrus',\n",
       " 'Left_Angular_Gyrus',\n",
       " 'Left_Lateral_Occipital_Cortex_superior_division',\n",
       " 'Left_Lateral_Occipital_Cortex_superior_division',\n",
       " 'Left_Precuneous_Cortex',\n",
       " 'Right_Occipital_Pole',\n",
       " 'Right_Intracalcarine_Cortex',\n",
       " 'Right_Lateral_Occipital_Cortex_superior_division',\n",
       " 'Left_Occipital_Pole',\n",
       " 'Left_Lateral_Occipital_Cortex_superior_division',\n",
       " 'Left_Postcentral_Gyrus',\n",
       " 'Left_Superior_Frontal_Gyrus',\n",
       " 'Right_Supramarginal_Gyrus_anterior_division',\n",
       " 'Right_Lateral_Occipital_Cortex_superior_division',\n",
       " 'Left_Occipital_Pole',\n",
       " 'Left_Frontal_Pole',\n",
       " 'Right_Superior_Parietal_Lobule',\n",
       " 'Left_Occipital_Pole',\n",
       " 'Left_Middle_Temporal_Gyrus_posterior_division',\n",
       " 'Right_Lateral_Occipital_Cortex_inferior_division',\n",
       " 'Right_Supramarginal_Gyrus_posterior_division',\n",
       " 'Right_Occipital_Pole',\n",
       " 'Left_Frontal_Pole',\n",
       " 'Left_Lateral_Occipital_Cortex_superior_division',\n",
       " 'Left_Postcentral_Gyrus',\n",
       " 'Left_Paracingulate_Gyrus',\n",
       " 'Left_Inferior_Frontal_Gyrus_pars_opercularis',\n",
       " 'Right_Juxtapositional_Lobule_Cortex_(formerly_Supplementary_Motor_Cortex)',\n",
       " 'Right_Occipital_Fusiform_Gyrus',\n",
       " 'Right_Middle_Frontal_Gyrus',\n",
       " 'Left_Postcentral_Gyrus',\n",
       " 'no_label',\n",
       " 'Right_Postcentral_Gyrus',\n",
       " 'Left_Inferior_Frontal_Gyrus_pars_triangularis',\n",
       " 'Right_Planum_Temporale',\n",
       " 'no_label',\n",
       " 'Right_Precentral_Gyrus',\n",
       " 'Right_Frontal_Pole',\n",
       " 'Right_Occipital_Fusiform_Gyrus',\n",
       " 'no_label',\n",
       " 'no_label',\n",
       " 'no_label',\n",
       " 'no_label',\n",
       " 'no_label',\n",
       " 'no_label',\n",
       " 'no_label',\n",
       " 'no_label',\n",
       " 'no_label',\n",
       " 'no_label',\n",
       " 'Right_Hippocampus',\n",
       " 'no_label',\n",
       " 'no_label',\n",
       " 'Right_Caudate',\n",
       " 'no_label',\n",
       " 'Left_Putamen',\n",
       " 'no_label',\n",
       " 'Left_Thalamus',\n",
       " 'no_label',\n",
       " 'Left_Putamen',\n",
       " 'no_label',\n",
       " 'Brain-Stem',\n",
       " 'no_label',\n",
       " 'no_label',\n",
       " 'no_label',\n",
       " 'no_label',\n",
       " 'Right_Putamen',\n",
       " 'no_label',\n",
       " 'no_label',\n",
       " 'Left_Caudate',\n",
       " 'Brain-Stem',\n",
       " 'Brain-Stem',\n",
       " 'no_label',\n",
       " 'no_label',\n",
       " 'no_label',\n",
       " 'no_label',\n",
       " 'Brain-Stem',\n",
       " 'Right_Thalamus',\n",
       " 'no_label',\n",
       " 'no_label',\n",
       " 'no_label',\n",
       " 'Brain-Stem',\n",
       " 'no_label',\n",
       " 'no_label',\n",
       " 'Brain-Stem',\n",
       " 'Brain-Stem',\n",
       " 'Left_Thalamus',\n",
       " 'Right_Thalamus',\n",
       " 'Brain-Stem',\n",
       " 'no_label',\n",
       " 'no_label']"
      ]
     },
     "execution_count": 3,
     "metadata": {},
     "output_type": "execute_result"
    }
   ],
   "source": [
    "#select the correct region with largest probability given from the library\n",
    "brain_region = [\n",
    "    max(inner_list, key=lambda x: x[0])[-1] if inner_list else None for inner_list in brain_region\n",
    "]\n",
    "brain_region"
   ]
  },
  {
   "cell_type": "code",
   "execution_count": 4,
   "metadata": {},
   "outputs": [],
   "source": [
    "open_access_data = pd.read_csv(\"Behavioral Data/Behavioral_Data.csv\")\n",
    "restricted_data = pd.read_csv(\"Behavioral Data/RESTRICTED_BEHAVIORAL_DATA.csv\")\n",
    "subject_data = open_access_data.merge(restricted_data, how = 'inner', on = 'Subject')\n",
    "\n",
    "folder = 'HCP_PTN1200/node_timeseries/3T_HCP1200_MSMAll_d100_ts2'\n",
    "brain_files = [f for f in os.listdir(folder) if f.endswith('.txt')]\n",
    "brain_data = {}\n",
    "\n",
    "for filename in brain_files:\n",
    "    subject_id = int(filename[:6])\n",
    "    file_path = os.path.join(folder, filename)\n",
    "    subject_brain_data = np.loadtxt(file_path)\n",
    "    brain_data[subject_id] = subject_brain_data\n",
    "\n",
    "brain_data_df = pd.DataFrame({\n",
    "    'Subject': list(brain_data.keys()),\n",
    "    'Brain_Data': list(brain_data.values())  # (4800, 100) arrays\n",
    "})\n",
    "brain_data_df\n",
    "\n",
    "data = subject_data.merge(brain_data_df, on='Subject', how='inner')"
   ]
  },
  {
   "cell_type": "code",
   "execution_count": 5,
   "metadata": {},
   "outputs": [
    {
     "data": {
      "text/plain": [
       "(1003, 783)"
      ]
     },
     "execution_count": 5,
     "metadata": {},
     "output_type": "execute_result"
    }
   ],
   "source": [
    "data.shape"
   ]
  },
  {
   "cell_type": "code",
   "execution_count": 6,
   "metadata": {},
   "outputs": [
    {
     "data": {
      "text/html": [
       "<div>\n",
       "<style scoped>\n",
       "    .dataframe tbody tr th:only-of-type {\n",
       "        vertical-align: middle;\n",
       "    }\n",
       "\n",
       "    .dataframe tbody tr th {\n",
       "        vertical-align: top;\n",
       "    }\n",
       "\n",
       "    .dataframe thead th {\n",
       "        text-align: right;\n",
       "    }\n",
       "</style>\n",
       "<table border=\"1\" class=\"dataframe\">\n",
       "  <thead>\n",
       "    <tr style=\"text-align: right;\">\n",
       "      <th></th>\n",
       "      <th>Subject</th>\n",
       "      <th>Gender</th>\n",
       "      <th>Race</th>\n",
       "      <th>Handedness</th>\n",
       "      <th>Handedness_Cat</th>\n",
       "    </tr>\n",
       "  </thead>\n",
       "  <tbody>\n",
       "    <tr>\n",
       "      <th>0</th>\n",
       "      <td>100206</td>\n",
       "      <td>M</td>\n",
       "      <td>White</td>\n",
       "      <td>65</td>\n",
       "      <td>1</td>\n",
       "    </tr>\n",
       "    <tr>\n",
       "      <th>1</th>\n",
       "      <td>100307</td>\n",
       "      <td>F</td>\n",
       "      <td>White</td>\n",
       "      <td>95</td>\n",
       "      <td>1</td>\n",
       "    </tr>\n",
       "    <tr>\n",
       "      <th>2</th>\n",
       "      <td>100408</td>\n",
       "      <td>M</td>\n",
       "      <td>White</td>\n",
       "      <td>55</td>\n",
       "      <td>1</td>\n",
       "    </tr>\n",
       "    <tr>\n",
       "      <th>3</th>\n",
       "      <td>100610</td>\n",
       "      <td>M</td>\n",
       "      <td>White</td>\n",
       "      <td>85</td>\n",
       "      <td>1</td>\n",
       "    </tr>\n",
       "    <tr>\n",
       "      <th>4</th>\n",
       "      <td>101006</td>\n",
       "      <td>F</td>\n",
       "      <td>Black or African Am.</td>\n",
       "      <td>90</td>\n",
       "      <td>1</td>\n",
       "    </tr>\n",
       "    <tr>\n",
       "      <th>...</th>\n",
       "      <td>...</td>\n",
       "      <td>...</td>\n",
       "      <td>...</td>\n",
       "      <td>...</td>\n",
       "      <td>...</td>\n",
       "    </tr>\n",
       "    <tr>\n",
       "      <th>998</th>\n",
       "      <td>992673</td>\n",
       "      <td>F</td>\n",
       "      <td>White</td>\n",
       "      <td>70</td>\n",
       "      <td>1</td>\n",
       "    </tr>\n",
       "    <tr>\n",
       "      <th>999</th>\n",
       "      <td>992774</td>\n",
       "      <td>M</td>\n",
       "      <td>White</td>\n",
       "      <td>100</td>\n",
       "      <td>1</td>\n",
       "    </tr>\n",
       "    <tr>\n",
       "      <th>1000</th>\n",
       "      <td>993675</td>\n",
       "      <td>F</td>\n",
       "      <td>White</td>\n",
       "      <td>85</td>\n",
       "      <td>1</td>\n",
       "    </tr>\n",
       "    <tr>\n",
       "      <th>1001</th>\n",
       "      <td>994273</td>\n",
       "      <td>M</td>\n",
       "      <td>White</td>\n",
       "      <td>60</td>\n",
       "      <td>1</td>\n",
       "    </tr>\n",
       "    <tr>\n",
       "      <th>1002</th>\n",
       "      <td>996782</td>\n",
       "      <td>F</td>\n",
       "      <td>White</td>\n",
       "      <td>100</td>\n",
       "      <td>1</td>\n",
       "    </tr>\n",
       "  </tbody>\n",
       "</table>\n",
       "<p>1003 rows × 5 columns</p>\n",
       "</div>"
      ],
      "text/plain": [
       "      Subject Gender                  Race  Handedness  Handedness_Cat\n",
       "0      100206      M                 White          65               1\n",
       "1      100307      F                 White          95               1\n",
       "2      100408      M                 White          55               1\n",
       "3      100610      M                 White          85               1\n",
       "4      101006      F  Black or African Am.          90               1\n",
       "...       ...    ...                   ...         ...             ...\n",
       "998    992673      F                 White          70               1\n",
       "999    992774      M                 White         100               1\n",
       "1000   993675      F                 White          85               1\n",
       "1001   994273      M                 White          60               1\n",
       "1002   996782      F                 White         100               1\n",
       "\n",
       "[1003 rows x 5 columns]"
      ]
     },
     "execution_count": 6,
     "metadata": {},
     "output_type": "execute_result"
    }
   ],
   "source": [
    "data[\"Handedness_Cat\"] = data[\"Handedness\"].apply(lambda x: 0 if x < 0 else 1) # 0: left handed, 1: right handed\n",
    "hand_data = data[[\"Subject\", \"Gender\", \"Race\", \"Handedness\", \"Handedness_Cat\"]]\n",
    "hand_data"
   ]
  },
  {
   "attachments": {},
   "cell_type": "markdown",
   "metadata": {},
   "source": [
    "Correlation Matrices"
   ]
  },
  {
   "cell_type": "code",
   "execution_count": 7,
   "metadata": {},
   "outputs": [],
   "source": [
    "correlation_matrix_list = []\n",
    "for i in range(data.shape[0]):\n",
    "    person = data[\"Brain_Data\"][i]\n",
    "    #get matrix\n",
    "    person_matrix = np.corrcoef(person.T)\n",
    "    #append to list\n",
    "    correlation_matrix_list.append(person_matrix)\n",
    "#append to column\n",
    "data[\"correlation_matrix\"] = correlation_matrix_list"
   ]
  },
  {
   "cell_type": "code",
   "execution_count": 8,
   "metadata": {},
   "outputs": [
    {
     "data": {
      "text/plain": [
       "0       [[1.0, -0.0338191132436591, 0.6320023466487581...\n",
       "1       [[1.0, -0.05357125566667345, 0.416846676528844...\n",
       "2       [[1.0, -0.06527209331431859, 0.343919331534949...\n",
       "3       [[1.0, 0.03483607578914373, 0.2461541961309962...\n",
       "4       [[1.0, 0.22646218683828628, 0.3200554052820826...\n",
       "                              ...                        \n",
       "998     [[1.0, -0.05700951869724855, 0.056421358264344...\n",
       "999     [[0.9999999999999999, 0.14797456065133022, 0.4...\n",
       "1000    [[0.9999999999999999, -0.12563798932117914, 0....\n",
       "1001    [[0.9999999999999999, 0.04063140015289049, 0.5...\n",
       "1002    [[0.9999999999999999, 0.06446200081694943, 0.3...\n",
       "Name: correlation_matrix, Length: 1003, dtype: object"
      ]
     },
     "execution_count": 8,
     "metadata": {},
     "output_type": "execute_result"
    }
   ],
   "source": [
    "data[\"correlation_matrix\"]"
   ]
  },
  {
   "cell_type": "code",
   "execution_count": 9,
   "metadata": {},
   "outputs": [
    {
     "name": "stdout",
     "output_type": "stream",
     "text": [
      "(74, 785) (891, 785)\n"
     ]
    }
   ],
   "source": [
    "threshold = 25\n",
    "filtered_df = data[(data['Handedness'] > threshold) | (data['Handedness'] < -threshold)]\n",
    "\n",
    "# Separate into left and right handed\n",
    "left_handed = filtered_df[filtered_df['Handedness'] < 0]\n",
    "right_handed = filtered_df[filtered_df['Handedness'] > 0]\n",
    "print(left_handed.shape, right_handed.shape)\n",
    "\n",
    "# Determine the number of samples to select from the right-handed data\n",
    "num_samples = min(len(left_handed), len(right_handed))\n",
    "\n",
    "# Randomly sample from the right-handed data\n",
    "right_handed_sample = right_handed.sample(n=num_samples, random_state=42)\n",
    "\n",
    "# Combine the left and right handed data\n",
    "combined_df = pd.concat([left_handed, right_handed_sample])\n",
    "\n",
    "# Optionally shuffle the final dataframe to mix left and right handed samples\n",
    "combined_df = combined_df.sample(frac=1).reset_index(drop=True)\n",
    "\n",
    "data = combined_df"
   ]
  },
  {
   "cell_type": "code",
   "execution_count": 10,
   "metadata": {},
   "outputs": [
    {
     "data": {
      "text/plain": [
       "(148, 785)"
      ]
     },
     "execution_count": 10,
     "metadata": {},
     "output_type": "execute_result"
    }
   ],
   "source": [
    "data.shape"
   ]
  },
  {
   "cell_type": "code",
   "execution_count": 11,
   "metadata": {},
   "outputs": [],
   "source": [
    "# the function extracts the part of correlation matrix that corresponds to a certain feature (i.e. brain region)\n",
    "def correlation_matrix_of_feature(target):\n",
    "    target_index = brain_region.index(target)\n",
    "    target_row = data['correlation_matrix'].apply(lambda x: x[target_index])\n",
    "    return target_row"
   ]
  },
  {
   "cell_type": "code",
   "execution_count": 12,
   "metadata": {},
   "outputs": [
    {
     "data": {
      "text/plain": [
       "0      [-0.05852838839859744, -0.2771755195684755, 0....\n",
       "1      [0.023841477216844317, -0.10169640976533971, -...\n",
       "2      [-0.10574005218311691, -0.21963189729352228, 0...\n",
       "3      [-0.12052199260282918, -0.1512767251662827, 0....\n",
       "4      [-0.16334919884356872, -0.04940728303878206, 0...\n",
       "                             ...                        \n",
       "143    [-0.09564880969747118, -0.39387036127835223, 0...\n",
       "144    [-0.35225872259128477, -0.08985257051112598, 0...\n",
       "145    [0.2169866971853295, -0.0683979172709244, 0.14...\n",
       "146    [-0.15043784287746512, -0.16807410469455106, 0...\n",
       "147    [0.19588925687656528, -0.2121344576936298, 0.0...\n",
       "Name: correlation_matrix, Length: 148, dtype: object"
      ]
     },
     "execution_count": 12,
     "metadata": {},
     "output_type": "execute_result"
    }
   ],
   "source": [
    "# e.g. partial correlation matrix that only corresponds how \"Right_Planum_Temporale\" relates to other brain regions\n",
    "correlation_matrix_of_feature(\"Right_Planum_Temporale\")"
   ]
  },
  {
   "cell_type": "code",
   "execution_count": 13,
   "metadata": {},
   "outputs": [
    {
     "data": {
      "text/html": [
       "<div>\n",
       "<style scoped>\n",
       "    .dataframe tbody tr th:only-of-type {\n",
       "        vertical-align: middle;\n",
       "    }\n",
       "\n",
       "    .dataframe tbody tr th {\n",
       "        vertical-align: top;\n",
       "    }\n",
       "\n",
       "    .dataframe thead th {\n",
       "        text-align: right;\n",
       "    }\n",
       "</style>\n",
       "<table border=\"1\" class=\"dataframe\">\n",
       "  <thead>\n",
       "    <tr style=\"text-align: right;\">\n",
       "      <th></th>\n",
       "      <th>Handedness</th>\n",
       "      <th>Handedness_Cat</th>\n",
       "      <th>correlation_matrix</th>\n",
       "      <th>matrix_mean</th>\n",
       "    </tr>\n",
       "  </thead>\n",
       "  <tbody>\n",
       "    <tr>\n",
       "      <th>0</th>\n",
       "      <td>-60</td>\n",
       "      <td>0</td>\n",
       "      <td>[[0.9999999999999999, -0.124584169771918, 0.38...</td>\n",
       "      <td>0.014255</td>\n",
       "    </tr>\n",
       "    <tr>\n",
       "      <th>1</th>\n",
       "      <td>80</td>\n",
       "      <td>1</td>\n",
       "      <td>[[1.0, 0.04107824424644302, 0.501427929913601,...</td>\n",
       "      <td>0.016203</td>\n",
       "    </tr>\n",
       "    <tr>\n",
       "      <th>2</th>\n",
       "      <td>-85</td>\n",
       "      <td>0</td>\n",
       "      <td>[[0.9999999999999999, 0.18159601108972254, 0.2...</td>\n",
       "      <td>0.014203</td>\n",
       "    </tr>\n",
       "    <tr>\n",
       "      <th>3</th>\n",
       "      <td>60</td>\n",
       "      <td>1</td>\n",
       "      <td>[[1.0, 0.3134034080310095, 0.23354044749194597...</td>\n",
       "      <td>0.010544</td>\n",
       "    </tr>\n",
       "    <tr>\n",
       "      <th>4</th>\n",
       "      <td>-30</td>\n",
       "      <td>0</td>\n",
       "      <td>[[1.0, -0.02790937334135627, 0.521578924678506...</td>\n",
       "      <td>0.015326</td>\n",
       "    </tr>\n",
       "    <tr>\n",
       "      <th>...</th>\n",
       "      <td>...</td>\n",
       "      <td>...</td>\n",
       "      <td>...</td>\n",
       "      <td>...</td>\n",
       "    </tr>\n",
       "    <tr>\n",
       "      <th>143</th>\n",
       "      <td>50</td>\n",
       "      <td>1</td>\n",
       "      <td>[[1.0, 0.12232065321564123, 0.4588435647567206...</td>\n",
       "      <td>0.010556</td>\n",
       "    </tr>\n",
       "    <tr>\n",
       "      <th>144</th>\n",
       "      <td>95</td>\n",
       "      <td>1</td>\n",
       "      <td>[[1.0, 0.0070123636012328575, 0.34287581348135...</td>\n",
       "      <td>0.020480</td>\n",
       "    </tr>\n",
       "    <tr>\n",
       "      <th>145</th>\n",
       "      <td>75</td>\n",
       "      <td>1</td>\n",
       "      <td>[[1.0, 0.10834132970644143, 0.3292648567701953...</td>\n",
       "      <td>0.012010</td>\n",
       "    </tr>\n",
       "    <tr>\n",
       "      <th>146</th>\n",
       "      <td>-60</td>\n",
       "      <td>0</td>\n",
       "      <td>[[1.0, 0.09515577242905168, 0.3357731121560449...</td>\n",
       "      <td>0.012535</td>\n",
       "    </tr>\n",
       "    <tr>\n",
       "      <th>147</th>\n",
       "      <td>-90</td>\n",
       "      <td>0</td>\n",
       "      <td>[[1.0, -0.12549323536326895, 0.460862601422359...</td>\n",
       "      <td>0.016825</td>\n",
       "    </tr>\n",
       "  </tbody>\n",
       "</table>\n",
       "<p>148 rows × 4 columns</p>\n",
       "</div>"
      ],
      "text/plain": [
       "     Handedness  Handedness_Cat  \\\n",
       "0           -60               0   \n",
       "1            80               1   \n",
       "2           -85               0   \n",
       "3            60               1   \n",
       "4           -30               0   \n",
       "..          ...             ...   \n",
       "143          50               1   \n",
       "144          95               1   \n",
       "145          75               1   \n",
       "146         -60               0   \n",
       "147         -90               0   \n",
       "\n",
       "                                    correlation_matrix  matrix_mean  \n",
       "0    [[0.9999999999999999, -0.124584169771918, 0.38...     0.014255  \n",
       "1    [[1.0, 0.04107824424644302, 0.501427929913601,...     0.016203  \n",
       "2    [[0.9999999999999999, 0.18159601108972254, 0.2...     0.014203  \n",
       "3    [[1.0, 0.3134034080310095, 0.23354044749194597...     0.010544  \n",
       "4    [[1.0, -0.02790937334135627, 0.521578924678506...     0.015326  \n",
       "..                                                 ...          ...  \n",
       "143  [[1.0, 0.12232065321564123, 0.4588435647567206...     0.010556  \n",
       "144  [[1.0, 0.0070123636012328575, 0.34287581348135...     0.020480  \n",
       "145  [[1.0, 0.10834132970644143, 0.3292648567701953...     0.012010  \n",
       "146  [[1.0, 0.09515577242905168, 0.3357731121560449...     0.012535  \n",
       "147  [[1.0, -0.12549323536326895, 0.460862601422359...     0.016825  \n",
       "\n",
       "[148 rows x 4 columns]"
      ]
     },
     "execution_count": 13,
     "metadata": {},
     "output_type": "execute_result"
    }
   ],
   "source": [
    "feature_data = data[[\"Handedness\", \"Handedness_Cat\", \"correlation_matrix\"]]\n",
    "feature_data['matrix_mean'] = data['correlation_matrix'].apply(lambda x: np.mean(x))\n",
    "feature_data"
   ]
  },
  {
   "cell_type": "code",
   "execution_count": 14,
   "metadata": {},
   "outputs": [
    {
     "data": {
      "image/png": "[encoded data removed]",
      "text/plain": [
       "<Figure size 800x600 with 1 Axes>"
      ]
     },
     "metadata": {},
     "output_type": "display_data"
    }
   ],
   "source": [
    "left_handed = data[data['Handedness'] < 0]\n",
    "right_handed = data[data['Handedness'] > 0]\n",
    "plt.figure(figsize=(8, 6))\n",
    "sns.histplot(left_handed['Handedness'], color='blue', label='Left-Handed (Absolute)', kde=False, bins=20, alpha=0.5)\n",
    "sns.histplot(right_handed['Handedness'], color='orange', label='Right-Handed (Absolute)', kde=False, bins=20, alpha=0.5)\n",
    "\n",
    "\n",
    "# mark medians\n",
    "plt.axvline(left_handed['Handedness'].median(), color='blue', linestyle='--', label='Left-Handed Median')\n",
    "plt.axvline(right_handed['Handedness'].median(), color='orange', linestyle='--', label='Right-Handed Median')\n",
    "\n",
    "# Labels and title\n",
    "plt.xlabel('Handedness Score', fontsize=12)\n",
    "plt.ylabel('count', fontsize=12)\n",
    "plt.title('Distribution of Handedness Scores', fontsize=16)\n",
    "plt.legend()\n",
    "\n",
    "plt.grid(alpha=0.3)\n",
    "plt.show()"
   ]
  },
  {
   "cell_type": "code",
   "execution_count": 15,
   "metadata": {},
   "outputs": [
    {
     "name": "stdout",
     "output_type": "stream",
     "text": [
      "{'Left_Middle_Temporal_Gyrus_posterior_division': 0      [-0.15123695821503105, 0.04145961200093252, -0...\n",
      "1      [-0.09560076996178071, -0.02863435165077892, 0...\n",
      "2      [-0.010744432195928001, 0.24538351081186116, -...\n",
      "3      [0.1581416305607244, 0.00912858987580476, 0.09...\n",
      "4      [-0.20590888203229293, 0.325099187188049, 0.06...\n",
      "                             ...                        \n",
      "143    [-0.16915964406807166, -0.06836108768700393, 0...\n",
      "144    [-0.26472661827100596, 0.337666126945545, -0.0...\n",
      "145    [0.09881472298091216, 0.3086729352858327, 0.02...\n",
      "146    [0.008288656896757722, 0.061972122877950175, -...\n",
      "147    [-0.05618961907713122, -0.018228173170060067, ...\n",
      "Name: correlation_matrix, Length: 148, dtype: object, 'Left_Paracingulate_Gyrus': 0      [-0.06997615357906925, 0.34588740430202836, -0...\n",
      "1      [0.22403512413560325, 0.20198682053567546, -0....\n",
      "2      [0.29017260719262716, 0.3929447215166309, -0.1...\n",
      "3      [0.38974373776793014, 0.31512970287578024, -0....\n",
      "4      [0.011981301115033751, 0.20874219353908166, -0...\n",
      "                             ...                        \n",
      "143    [-0.058747280666459754, 0.29166669573951653, -...\n",
      "144    [-0.003229211168082598, 0.4994617256932451, -0...\n",
      "145    [0.20836826269002193, 0.3891917994403154, -0.0...\n",
      "146    [0.13217099322003426, 0.47035885504354175, -0....\n",
      "147    [0.18061908203605362, 0.03635622830703584, 0.0...\n",
      "Name: correlation_matrix, Length: 148, dtype: object, 'Right_Superior_Parietal_Lobule': 0      [-0.06784484627949428, -0.5052682164223243, -0...\n",
      "1      [-0.023682183755022682, -0.27442665719523374, ...\n",
      "2      [-0.2979497193399868, -0.4587901553157756, -0....\n",
      "3      [-0.23132035514733543, -0.37151302227932653, -...\n",
      "4      [0.03984200001797004, -0.30746973046538, 0.037...\n",
      "                             ...                        \n",
      "143    [0.23612756060473641, -0.2862738591668248, 0.2...\n",
      "144    [-0.28867083921986114, -0.21602706698643157, -...\n",
      "145    [0.003531570836565539, -0.2353428836416381, -0...\n",
      "146    [-0.10492924218674123, -0.3564374448973575, -0...\n",
      "147    [0.04732313384812881, -0.2777520098416188, -0....\n",
      "Name: correlation_matrix, Length: 148, dtype: object, 'Right_Supramarginal_Gyrus_posterior_division': 0      [0.06341293738296981, 0.1565446123430345, -0.0...\n",
      "1      [-0.012259717222928774, 0.32457753583642857, -...\n",
      "2      [-0.07232763834818753, -0.05082924398882326, 0...\n",
      "3      [-0.03443278395612837, 0.2814477077119828, -0....\n",
      "4      [-0.018474489829724917, 0.1288692405899035, -0...\n",
      "                             ...                        \n",
      "143    [0.19604988839493417, 0.43787141297438253, -0....\n",
      "144    [0.025746181905671697, -0.14919640939405598, -...\n",
      "145    [0.0065384442373431695, 0.08693594727862498, -...\n",
      "146    [-0.03195268906732661, 0.04640561970040385, -0...\n",
      "147    [-0.05213881768653033, 0.2237524152461746, -0....\n",
      "Name: correlation_matrix, Length: 148, dtype: object, 'Right_Supramarginal_Gyrus_anterior_division': 0      [-0.14244140288528181, -0.21939000380224283, -...\n",
      "1      [-0.11413436929010096, -0.17503895739024283, 0...\n",
      "2      [0.03859161214141945, -0.08474284941793547, 0....\n",
      "3      [0.02843986265026072, -0.22249129732700293, 0....\n",
      "4      [-0.18351689621663486, -0.25821177784388627, 0...\n",
      "                             ...                        \n",
      "143    [-0.03809572228800959, -0.3859630449755372, 0....\n",
      "144    [-0.22170378006476993, -0.3937103989732371, 0....\n",
      "145    [-0.22762406334789312, -0.3275448249341788, 0....\n",
      "146    [-0.24120873418133326, -0.38402138643388656, 0...\n",
      "147    [-0.23493586488854584, -0.04183999758918947, 0...\n",
      "Name: correlation_matrix, Length: 148, dtype: object, 'Right_Thalamus': 0      [0.03257823307974994, 0.027533304912997006, -0...\n",
      "1      [0.027689188467367384, 0.02760515658525476, -0...\n",
      "2      [0.07688096842369743, -0.01185360004615714, -0...\n",
      "3      [0.0669642746731604, 0.013971706028488379, -0....\n",
      "4      [0.23572802213843472, -0.12097347498540731, -0...\n",
      "                             ...                        \n",
      "143    [-0.027373441056156023, -0.027233140711881997,...\n",
      "144    [0.242034481035203, -0.02558198516620324, -0.0...\n",
      "145    [0.022538088804814303, 0.02603097982395008, -0...\n",
      "146    [0.07301677786615592, 0.03921767156547514, -0....\n",
      "147    [0.05355532507832273, -0.004149276189647946, -...\n",
      "Name: correlation_matrix, Length: 148, dtype: object, 'Right_Putamen': 0      [0.04675817320503379, -0.04940847495542134, 0....\n",
      "1      [-0.13803530308729564, 0.028697853556652223, -...\n",
      "2      [0.009648810459809533, -0.014733029766368526, ...\n",
      "3      [-0.08712120889616909, 0.02910241948009446, -0...\n",
      "4      [0.030738743067353365, 0.16846149950710823, -0...\n",
      "                             ...                        \n",
      "143    [0.013741241650928628, 0.13958238336099618, -0...\n",
      "144    [0.08241558784169475, -0.004004523140488412, -...\n",
      "145    [-0.03277228702933479, 0.02383117836456396, -0...\n",
      "146    [-0.107279104918101, 0.06027195906042273, -0.1...\n",
      "147    [-0.1229488266614212, 0.028489774876984796, -0...\n",
      "Name: correlation_matrix, Length: 148, dtype: object, 'Right_Caudate': 0      [0.05510554383214703, 0.02354520060841492, -0....\n",
      "1      [0.007759754977694163, 0.03726561506192034, -0...\n",
      "2      [0.07881825083607404, 0.07328708840854431, -0....\n",
      "3      [0.1294034033954404, 0.08827837160897367, -0.0...\n",
      "4      [0.014529460398517218, 0.007331315806347738, -...\n",
      "                             ...                        \n",
      "143    [0.1031748134988746, 0.15672941562374437, -0.1...\n",
      "144    [0.24167335225178277, -0.10612767161112377, -0...\n",
      "145    [0.10339176171299908, -0.05704326147464446, 0....\n",
      "146    [-0.05946429863292981, -0.009693949550306754, ...\n",
      "147    [0.009612081403679449, 0.007666382362232351, -...\n",
      "Name: correlation_matrix, Length: 148, dtype: object, 'Right_Hippocampus': 0      [-0.08949728633305509, 0.1415849198153526, -0....\n",
      "1      [0.12397347896259986, -0.06925727397459187, 0....\n",
      "2      [0.12000138483165886, 0.13363782581254585, -0....\n",
      "3      [0.04033048435836499, 0.021090022509203513, -0...\n",
      "4      [-0.05284261031429214, 0.10551330538193422, 0....\n",
      "                             ...                        \n",
      "143    [-0.12838704429942527, -0.08934228878827842, -...\n",
      "144    [-0.21216880690929935, 0.203523962551447, 0.01...\n",
      "145    [0.041513104072472155, 0.1276280592375266, 0.0...\n",
      "146    [-0.016908309165321638, 0.011218594471212009, ...\n",
      "147    [0.04179415003502008, -0.16489028129133665, 0....\n",
      "Name: correlation_matrix, Length: 148, dtype: object, 'Left_Inferior_Frontal_Gyrus_pars_triangularis': 0      [-0.007379747279413236, 0.14866979164516922, -...\n",
      "1      [-0.005036832407724301, 0.15895937794362075, 0...\n",
      "2      [0.1696527955837157, 0.32442302709191156, -0.1...\n",
      "3      [0.1309829428164626, 0.05529983099556949, 0.03...\n",
      "4      [-0.19000828485289153, 0.2674282505440285, -0....\n",
      "                             ...                        \n",
      "143    [0.08900422555045365, 0.16102386592492635, -0....\n",
      "144    [0.0808881129477171, 0.11883340556244062, -0.1...\n",
      "145    [0.003388018722621589, 0.15823081589445, -0.17...\n",
      "146    [0.018463245054854933, 0.19909486950815103, -0...\n",
      "147    [0.06631662792627409, 0.07021486667997144, 0.2...\n",
      "Name: correlation_matrix, Length: 148, dtype: object, 'Left_Frontal_Pole': 0      [0.1365994503878924, -0.47276960664405004, 0.0...\n",
      "1      [0.061126960477818806, 0.05642665631127395, 0....\n",
      "2      [-0.16377099990096355, -0.3567435467991844, 0....\n",
      "3      [-0.27783215775067555, -0.26614637865027146, -...\n",
      "4      [-0.04797239150986635, -0.3085191315942738, -0...\n",
      "                             ...                        \n",
      "143    [0.11239721661153168, 0.12820883777042488, -0....\n",
      "144    [0.014262844890528478, -0.29505294815480454, 0...\n",
      "145    [0.013098806709303811, -0.29864719301567766, 0...\n",
      "146    [-0.06977931797845437, -0.23781970161755647, 0...\n",
      "147    [-0.0001267994779559541, -0.10152483841948799,...\n",
      "Name: correlation_matrix, Length: 148, dtype: object, 'Left_Supramarginal_Gyrus_anterior_division': 0      [0.1213026809820765, -0.615182165686784, -0.08...\n",
      "1      [0.027777937631127254, -0.1760088373387531, 0....\n",
      "2      [-0.13797297216943039, -0.5381294476043564, -0...\n",
      "3      [-0.27220736085916375, -0.542999979007472, -0....\n",
      "4      [-0.02567889144273843, -0.4661093824341078, -0...\n",
      "                             ...                        \n",
      "143    [0.06478482709324888, -0.31286453092944294, -0...\n",
      "144    [0.08084321138447981, -0.6060030269208136, -0....\n",
      "145    [-0.0892168404194025, -0.4758789432864059, -0....\n",
      "146    [-0.06355676890867712, -0.455598750613169, -0....\n",
      "147    [-0.058282853176136275, -0.2148282064417104, -...\n",
      "Name: correlation_matrix, Length: 148, dtype: object}\n"
     ]
    }
   ],
   "source": [
    "def correlation_matrix_of_feature(region_name):\n",
    "    \"\"\"\n",
    "    Extracts the correlation matrix of a given brain region from feature_data.\n",
    "    \"\"\"\n",
    "    target_index = brain_region.index(region_name)\n",
    "    target_row = data['correlation_matrix'].apply(lambda x: x[target_index])\n",
    "    return target_row\n",
    "\n",
    "# List of brain regions\n",
    "features = [\n",
    "    \"Left_Middle_Temporal_Gyrus_posterior_division\",\n",
    "    \"Left_Paracingulate_Gyrus\",\n",
    "    \"Right_Superior_Parietal_Lobule\",\n",
    "    \"Right_Supramarginal_Gyrus_posterior_division\",\n",
    "    \"Right_Supramarginal_Gyrus_anterior_division\",\n",
    "    \"Right_Thalamus\",\n",
    "    \"Right_Putamen\",\n",
    "    \"Right_Caudate\",\n",
    "    \"Right_Hippocampus\",\n",
    "    \"Left_Inferior_Frontal_Gyrus_pars_triangularis\",\n",
    "    \"Left_Frontal_Pole\",\n",
    "    \"Left_Supramarginal_Gyrus_anterior_division\"\n",
    "]\n",
    "\n",
    "# Compute correlation matrices for each region\n",
    "region_correlation_matrices = {region: correlation_matrix_of_feature(region) for region in features}\n",
    "region_correlation_matrices\n",
    "print(region_correlation_matrices)\n",
    "\n",
    "\n",
    "for region, values in region_correlation_matrices.items():\n",
    "    feature_data[region] = values\n"
   ]
  },
  {
   "cell_type": "code",
   "execution_count": 16,
   "metadata": {},
   "outputs": [],
   "source": [
    "def flatten_features(row):\n",
    "    \"\"\"\n",
    "    Given a single row of the DataFrame, return a 1D numpy array of all features to be used by the model.\n",
    "    \"\"\"\n",
    "    # Flatten the correlation matrix\n",
    "    corr_mat = np.array(row[\"correlation_matrix\"]).flatten()\n",
    "\n",
    "    # Extract each brain region's specific correlation values\n",
    "    region_values = [np.array(row[region]).flatten() for region in features if region in row]\n",
    "\n",
    "    # Concatenate all features into a single array\n",
    "    all_features = np.concatenate([corr_mat] + region_values)\n",
    "\n",
    "    return all_features"
   ]
  },
  {
   "attachments": {},
   "cell_type": "markdown",
   "metadata": {},
   "source": [
    "### Lasso Regression"
   ]
  },
  {
   "cell_type": "code",
   "execution_count": 17,
   "metadata": {},
   "outputs": [
    {
     "name": "stdout",
     "output_type": "stream",
     "text": [
      "Optimal alpha: 10.0\n",
      "Mean Squared Error: 5584.6655\n",
      "R^2: -0.0649\n",
      "Number of selected features: 73\n"
     ]
    }
   ],
   "source": [
    "X = feature_data.apply(flatten_features, axis = 1)\n",
    "X = np.vstack(X.values)\n",
    "y = feature_data['Handedness'].to_numpy()\n",
    "\n",
    "# # Transform y using Z-score normalization\n",
    "# scaler_y = StandardScaler()\n",
    "# y = scaler_y.fit_transform(y.reshape(-1, 1)).flatten()\n",
    "\n",
    "# Split dataset\n",
    "X_train, X_test, y_train, y_test = train_test_split(X, y, test_size=0.2, random_state=42)\n",
    "\n",
    "scaler = StandardScaler()\n",
    "X_train_scaled = scaler.fit_transform(X_train)\n",
    "X_test_scaled = scaler.transform(X_test)\n",
    "\n",
    "# Train LASSO regression with cross-validation\n",
    "lasso = LassoCV(cv=5, alphas=np.logspace(-4, 1, 50)).fit(X_train_scaled, y_train)\n",
    "\n",
    "# Predict on test set\n",
    "y_pred = lasso.predict(X_test_scaled)\n",
    "\n",
    "# Evaluate model\n",
    "mse = mean_squared_error(y_test, y_pred)\n",
    "r2 = r2_score(y_test, y_pred)\n",
    "\n",
    "print(f\"Optimal alpha: {lasso.alpha_}\")\n",
    "print(f\"Mean Squared Error: {mse:.4f}\")\n",
    "print(f\"R^2: {r2:.4f}\")\n",
    "\n",
    "# View selected features\n",
    "selected_features = np.sum(lasso.coef_ != 0)\n",
    "print(f\"Number of selected features: {selected_features}\")"
   ]
  },
  {
   "attachments": {},
   "cell_type": "markdown",
   "metadata": {},
   "source": [
    "Since handedness values range from -100 to 100, this error suggests that the model struggles to make precise predictions. Also given the weak R^2, these 80-ish features might not be strongly predictive of handedness."
   ]
  },
  {
   "cell_type": "code",
   "execution_count": 18,
   "metadata": {},
   "outputs": [
    {
     "name": "stdout",
     "output_type": "stream",
     "text": [
      "Actual: 80, Predicted: 1.72\n",
      "Actual: -30, Predicted: -7.95\n",
      "Actual: 70, Predicted: 17.17\n",
      "Actual: 100, Predicted: 1.63\n",
      "Actual: -80, Predicted: 0.36\n",
      "Actual: 100, Predicted: 33.95\n",
      "Actual: -90, Predicted: 5.79\n",
      "Actual: 100, Predicted: 34.66\n",
      "Actual: -75, Predicted: 19.25\n",
      "Actual: 60, Predicted: 30.71\n"
     ]
    }
   ],
   "source": [
    "for actual, predicted in zip(y_test[:10], y_pred[:10]):\n",
    "    print(f\"Actual: {actual}, Predicted: {predicted:.2f}\")"
   ]
  },
  {
   "cell_type": "code",
   "execution_count": 19,
   "metadata": {},
   "outputs": [
    {
     "data": {
      "image/png": "[encoded data removed]",
      "text/plain": [
       "<Figure size 640x480 with 1 Axes>"
      ]
     },
     "metadata": {},
     "output_type": "display_data"
    }
   ],
   "source": [
    "plt.scatter(y_test, y_pred, alpha=0.6)\n",
    "plt.xlabel(\"Actual Handedness\")\n",
    "plt.ylabel(\"Predicted Handedness\")\n",
    "plt.title(\"Actual vs. Predicted Handedness\")\n",
    "plt.axline((0, 0), slope=1, color=\"red\", linestyle=\"--\")  # Perfect predictions line\n",
    "plt.show()\n"
   ]
  },
  {
   "attachments": {},
   "cell_type": "markdown",
   "metadata": {},
   "source": [
    "---"
   ]
  },
  {
   "attachments": {},
   "cell_type": "markdown",
   "metadata": {},
   "source": [
    "### Lasso Regression w/ Imbalanced Learn (SMOTE)"
   ]
  },
  {
   "attachments": {},
   "cell_type": "markdown",
   "metadata": {},
   "source": [
    "1. Randomly select a data point from the minority class\n",
    "2. Find the K-nearest neighbors of the selected data point\n",
    "3. Generate new data points on the line segment connecting the selected data point and one of its K-nearest neighbors\n",
    "\n",
    "SMOTE generates synthetic samples for the minority class instead of simply duplicating existing samples, helping to overcome the overfitting problem that can occur with random oversampling.\n",
    "\n",
    "**better than random sampling**"
   ]
  },
  {
   "cell_type": "code",
   "execution_count": 20,
   "metadata": {},
   "outputs": [
    {
     "name": "stdout",
     "output_type": "stream",
     "text": [
      "dataset size after sampling with SMOTE: X: (364, 11200), y: (364,)\n",
      "Chunk 1:\n",
      "  Optimal alpha: 10.0\n",
      "  Mean Squared Error: 8019.3273\n",
      "  R^2: -0.2659\n",
      "  Number of selected features: 57\n",
      "Chunk 2:\n",
      "  Optimal alpha: 10.0\n",
      "  Mean Squared Error: 4209.5502\n",
      "  R^2: 0.2549\n",
      "  Number of selected features: 39\n"
     ]
    },
    {
     "name": "stderr",
     "output_type": "stream",
     "text": [
      "/opt/homebrew/lib/python3.11/site-packages/sklearn/linear_model/_coordinate_descent.py:697: ConvergenceWarning: Objective did not converge. You might want to increase the number of iterations, check the scale of the features or consider increasing regularisation. Duality gap: 6.172e+00, tolerance: 3.122e+00\n",
      "  model = cd_fast.enet_coordinate_descent(\n"
     ]
    },
    {
     "name": "stdout",
     "output_type": "stream",
     "text": [
      "Chunk 3:\n",
      "  Optimal alpha: 0.04498432668969444\n",
      "  Mean Squared Error: 1665.5337\n",
      "  R^2: 0.2386\n",
      "  Number of selected features: 49\n",
      "Chunk 4:\n",
      "  Optimal alpha: 0.2329951810515372\n",
      "  Mean Squared Error: 129.2016\n",
      "  R^2: -0.0345\n",
      "  Number of selected features: 34\n",
      "Chunk 5:\n",
      "  Optimal alpha: 0.29470517025518095\n",
      "  Mean Squared Error: 57.3661\n",
      "  R^2: 0.7485\n",
      "  Number of selected features: 46\n"
     ]
    },
    {
     "data": {
      "image/png": "[encoded data removed]",
      "text/plain": [
       "<Figure size 1500x500 with 5 Axes>"
      ]
     },
     "metadata": {},
     "output_type": "display_data"
    },
    {
     "name": "stdout",
     "output_type": "stream",
     "text": [
      "Average MSE across chunks: 2816.1958\n",
      "Average R^2 across chunks: 0.1883\n"
     ]
    }
   ],
   "source": [
    "X = feature_data.apply(flatten_features, axis = 1)\n",
    "X = np.vstack(X.values)\n",
    "y = feature_data['Handedness']\n",
    "\n",
    "smote = SMOTE(k_neighbors=1, random_state=42)\n",
    "X_resampled, y_resampled = smote.fit_resample(X, y)\n",
    "\n",
    "print(f\"dataset size after sampling with SMOTE: X: {X_resampled.shape}, y: {y_resampled.shape}\")\n",
    "\n",
    "# Step 3: Chunking the Dataset into Smaller Batches for Training\n",
    "num_chunks = 5  # Define number of chunks\n",
    "chunk_size = len(X_resampled) // num_chunks  # Define chunk size\n",
    "\n",
    "all_mse = []\n",
    "all_r2 = []\n",
    "selected_features_per_chunk = {}\n",
    "\n",
    "# Create subplots for aggregated plots\n",
    "fig, axes = plt.subplots(1, num_chunks, figsize=(15, 5), sharex=True, sharey=True)\n",
    "\n",
    "for i in range(num_chunks):\n",
    "    # Select a chunk of data\n",
    "    start_idx = i * chunk_size\n",
    "    end_idx = (i + 1) * chunk_size if i != num_chunks - 1 else len(X_resampled)\n",
    "    \n",
    "    X_chunk = X_resampled[start_idx:end_idx]\n",
    "    y_chunk = y_resampled[start_idx:end_idx]\n",
    "    \n",
    "    # Split dataset into training and testing sets\n",
    "    X_train, X_test, y_train, y_test = train_test_split(X_chunk, y_chunk, test_size=0.2, random_state=42)\n",
    "\n",
    "    # Standardize the features\n",
    "    scaler = StandardScaler()\n",
    "    X_train_scaled = scaler.fit_transform(X_train)\n",
    "    X_test_scaled = scaler.transform(X_test)\n",
    "\n",
    "    # Step 4: Train LASSO Regression with Cross-Validation\n",
    "    lasso = LassoCV(cv=5, alphas=np.logspace(-4, 1, 50)).fit(X_train_scaled, y_train)\n",
    "\n",
    "    y_pred = lasso.predict(X_test_scaled)\n",
    "\n",
    "    mse = mean_squared_error(y_test, y_pred)\n",
    "    r2 = r2_score(y_test, y_pred)\n",
    "    selected_features = np.sum(lasso.coef_ != 0)\n",
    "\n",
    "    all_mse.append(mse)\n",
    "    all_r2.append(r2)\n",
    "    selected_features = np.where(lasso.coef_ != 0)[0]\n",
    "    selected_features_per_chunk[f\"Chunk {i+1}\"] = selected_features\n",
    "\n",
    "    # Plot predictions in subplots\n",
    "    ax = axes[i]\n",
    "    ax.scatter(y_test, y_pred, alpha=0.6)\n",
    "    ax.set_title(f\"Chunk {i+1}\")\n",
    "    ax.set_xlabel(\"Actual Handedness\")\n",
    "    ax.set_ylabel(\"Predicted Handedness\")\n",
    "    ax.axline((0, 0), slope=1, color=\"red\", linestyle=\"--\")  # Perfect predictions line\n",
    "\n",
    "    print(f\"Chunk {i+1}:\")\n",
    "    print(f\"  Optimal alpha: {lasso.alpha_}\")\n",
    "    print(f\"  Mean Squared Error: {mse:.4f}\")\n",
    "    print(f\"  R^2: {r2:.4f}\")\n",
    "    print(f\"  Number of selected features: {len(selected_features_per_chunk[f'Chunk {i+1}'])}\")\n",
    "\n",
    "plt.title(\"Actual vs. Predicted Handedness\")\n",
    "plt.tight_layout()\n",
    "plt.show()\n",
    "\n",
    "# Final Summary Across All Chunks\n",
    "print(f\"Average MSE across chunks: {np.mean(all_mse):.4f}\")\n",
    "print(f\"Average R^2 across chunks: {np.mean(all_r2):.4f}\")"
   ]
  },
  {
   "attachments": {},
   "cell_type": "markdown",
   "metadata": {},
   "source": [
    "LASSO initially over-regularized the model (Chunks 1-2), meaning underfitting.\n",
    "\n",
    "Chunks 3+ allowed more features, improving predictive performance.\n",
    "\n",
    "Final chunks balance feature selection & model complexity, achieving best R^2 and lowest MSE.\n",
    "\n",
    "Balanced α (Chunks 4-5) gives the best performance.\n",
    "\n"
   ]
  },
  {
   "cell_type": "code",
   "execution_count": 21,
   "metadata": {},
   "outputs": [
    {
     "name": "stdout",
     "output_type": "stream",
     "text": [
      "Overlap between Chunks 3 & 4: 0 features\n",
      "Overlap between Chunks 4 & 5: 1 features\n",
      "Overlap between Chunks 3 & 5: 1 features\n",
      "set()\n",
      "{np.int64(6993)}\n",
      "{np.int64(6983)}\n"
     ]
    }
   ],
   "source": [
    "overlap_3_4 = set(selected_features_per_chunk[\"Chunk 3\"]).intersection(selected_features_per_chunk[\"Chunk 4\"])\n",
    "overlap_4_5 = set(selected_features_per_chunk[\"Chunk 4\"]).intersection(selected_features_per_chunk[\"Chunk 5\"])\n",
    "overlap_3_5 = set(selected_features_per_chunk[\"Chunk 3\"]).intersection(selected_features_per_chunk[\"Chunk 5\"])\n",
    "\n",
    "print(f\"Overlap between Chunks 3 & 4: {len(overlap_3_4)} features\")\n",
    "print(f\"Overlap between Chunks 4 & 5: {len(overlap_4_5)} features\")\n",
    "print(f\"Overlap between Chunks 3 & 5: {len(overlap_3_5)} features\")\n",
    "\n",
    "print(overlap_3_4)\n",
    "print(overlap_4_5)\n",
    "print(overlap_3_5)\n"
   ]
  },
  {
   "cell_type": "markdown",
   "metadata": {},
   "source": [
    "---"
   ]
  },
  {
   "attachments": {},
   "cell_type": "markdown",
   "metadata": {},
   "source": [
    "### Logistic Regression"
   ]
  },
  {
   "cell_type": "code",
   "execution_count": 22,
   "metadata": {},
   "outputs": [
    {
     "name": "stdout",
     "output_type": "stream",
     "text": [
      "Logistic Regression Accuracy: 0.6333\n",
      "\n",
      "Classification Report:\n",
      "               precision    recall  f1-score   support\n",
      "\n",
      " Left-Handed       0.62      0.67      0.65        15\n",
      "Right-Handed       0.64      0.60      0.62        15\n",
      "\n",
      "    accuracy                           0.63        30\n",
      "   macro avg       0.63      0.63      0.63        30\n",
      "weighted avg       0.63      0.63      0.63        30\n",
      "\n",
      "Confusion Matrix:\n",
      " [[10  5]\n",
      " [ 6  9]]\n"
     ]
    }
   ],
   "source": [
    "# Prepare feature matrix X and target variable y for classification\n",
    "X = feature_data.apply(flatten_features, axis=1)\n",
    "X = np.vstack(X.values)  # Convert to a 2D NumPy array\n",
    "y = feature_data[\"Handedness_Cat\"].values  # Classification target\n",
    "\n",
    "# Split dataset into training and testing sets (without SMOTE)\n",
    "X_train, X_test, y_train, y_test = train_test_split(X, y, test_size=0.2, random_state=42, stratify=y)\n",
    "\n",
    "# Standardize the features\n",
    "scaler = StandardScaler()\n",
    "X_train_scaled = scaler.fit_transform(X_train)\n",
    "X_test_scaled = scaler.transform(X_test)\n",
    "\n",
    "# Train Logistic Regression with Cross-Validation\n",
    "log_reg = LogisticRegressionCV(cv=5, max_iter=1000, solver='liblinear').fit(X_train_scaled, y_train)\n",
    "\n",
    "# Predict on test set\n",
    "y_pred = log_reg.predict(X_test_scaled)\n",
    "\n",
    "# Evaluate model performance\n",
    "accuracy = accuracy_score(y_test, y_pred)\n",
    "classification_rep = classification_report(y_test, y_pred, target_names=[\"Left-Handed\", \"Right-Handed\"])\n",
    "conf_matrix = confusion_matrix(y_test, y_pred)\n",
    "\n",
    "print(f\"Logistic Regression Accuracy: {accuracy:.4f}\")\n",
    "print(\"\\nClassification Report:\\n\", classification_rep)\n",
    "print(\"Confusion Matrix:\\n\", conf_matrix)"
   ]
  },
  {
   "attachments": {},
   "cell_type": "markdown",
   "metadata": {},
   "source": [
    "~12 correctly classified as Left-Handed, ~3 misclassified as Right-Handed\n",
    "\n",
    "~11 correctly classified as Right-Handed, ~4 misclassified as Left-Handed\n",
    "\n",
    "Slight bias towards Left-Handed (higher recall means it captures more Left-Handed instances correctly).\n",
    "\n",
    "Right-Handed recall is slightly lower, meaning that it misclassifies more Right-Handed cases.\n"
   ]
  },
  {
   "attachments": {},
   "cell_type": "markdown",
   "metadata": {},
   "source": [
    "### Logistic Regression w/ imbalanced learn (SMOTE)"
   ]
  },
  {
   "cell_type": "code",
   "execution_count": 23,
   "metadata": {},
   "outputs": [
    {
     "name": "stdout",
     "output_type": "stream",
     "text": [
      "Logistic Regression Accuracy: 0.7333\n",
      "\n",
      "Classification Report:\n",
      "               precision    recall  f1-score   support\n",
      "\n",
      " Left-Handed       0.69      0.69      0.69        13\n",
      "Right-Handed       0.76      0.76      0.76        17\n",
      "\n",
      "    accuracy                           0.73        30\n",
      "   macro avg       0.73      0.73      0.73        30\n",
      "weighted avg       0.73      0.73      0.73        30\n",
      "\n",
      "Confusion Matrix:\n",
      " [[ 9  4]\n",
      " [ 4 13]]\n"
     ]
    }
   ],
   "source": [
    "# Prepare feature matrix X and target variable y for classification\n",
    "X = feature_data.apply(flatten_features, axis=1)\n",
    "X = np.vstack(X.values)\n",
    "y = feature_data[\"Handedness_Cat\"].values\n",
    "\n",
    "# Apply SMOTE to balance classes\n",
    "smote = SMOTE(k_neighbors=3, random_state=42)\n",
    "X_resampled, y_resampled = smote.fit_resample(X, y)\n",
    "\n",
    "# Split dataset into training and testing sets\n",
    "X_train, X_test, y_train, y_test = train_test_split(X_resampled, y_resampled, test_size=0.2, random_state=42)\n",
    "\n",
    "# Standardize the features\n",
    "scaler = StandardScaler()\n",
    "X_train_scaled = scaler.fit_transform(X_train)\n",
    "X_test_scaled = scaler.transform(X_test)\n",
    "\n",
    "# Train Logistic Regression with Cross-Validation\n",
    "log_reg = LogisticRegressionCV(cv=5, max_iter=1000, solver='liblinear').fit(X_train_scaled, y_train)\n",
    "\n",
    "# Predict on test set\n",
    "y_pred = log_reg.predict(X_test_scaled)\n",
    "\n",
    "# Evaluate model performance\n",
    "accuracy = accuracy_score(y_test, y_pred)\n",
    "classification_rep = classification_report(y_test, y_pred, target_names=[\"Left-Handed\", \"Right-Handed\"])\n",
    "conf_matrix = confusion_matrix(y_test, y_pred)\n",
    "\n",
    "print(f\"Logistic Regression Accuracy: {accuracy:.4f}\")\n",
    "print(\"\\nClassification Report:\\n\", classification_rep)\n",
    "print(\"Confusion Matrix:\\n\", conf_matrix)\n"
   ]
  },
  {
   "attachments": {},
   "cell_type": "markdown",
   "metadata": {},
   "source": [
    "Accuracy drops significantly (from ~75%-80% to 60%-66.67%) after applying SMOTE.\n",
    "\n",
    "Recall for Left-Handed drops significantly (~0.80 to ~0.5).\n",
    "\n",
    "Recall for Right-Handed changes slightly (0.73 to 0.71).\n",
    "\n",
    "Precision for both classes decreases, indicating more false positives. \n",
    "* More Left-Handed cases are misclassified as Right-Handed after SMOTE. \n",
    "* Right-Handed recall remains almost unchanged (0.73 → 0.71), meaning that **SMOTE doesn't help much in capturing Right-Handed individuals.**"
   ]
  },
  {
   "cell_type": "markdown",
   "metadata": {},
   "source": [
    "---"
   ]
  },
  {
   "attachments": {},
   "cell_type": "markdown",
   "metadata": {},
   "source": [
    "### CNN"
   ]
  },
  {
   "cell_type": "code",
   "execution_count": 24,
   "metadata": {},
   "outputs": [],
   "source": [
    "seed = 42\n",
    "tf.random.set_seed(seed)\n",
    "np.random.seed(seed)\n",
    "random.seed(seed)"
   ]
  },
  {
   "cell_type": "code",
   "execution_count": 25,
   "metadata": {},
   "outputs": [
    {
     "name": "stderr",
     "output_type": "stream",
     "text": [
      "/opt/homebrew/lib/python3.11/site-packages/keras/src/layers/convolutional/base_conv.py:107: UserWarning: Do not pass an `input_shape`/`input_dim` argument to a layer. When using Sequential models, prefer using an `Input(shape)` object as the first layer in the model instead.\n",
      "  super().__init__(activity_regularizer=activity_regularizer, **kwargs)\n"
     ]
    },
    {
     "name": "stdout",
     "output_type": "stream",
     "text": [
      "Epoch 1/20\n",
      "\u001b[1m8/8\u001b[0m \u001b[32m━━━━━━━━━━━━━━━━━━━━\u001b[0m\u001b[37m\u001b[0m \u001b[1m1s\u001b[0m 62ms/step - accuracy: 0.4184 - loss: 0.7409 - val_accuracy: 0.5000 - val_loss: 0.6930\n",
      "Epoch 2/20\n",
      "\u001b[1m8/8\u001b[0m \u001b[32m━━━━━━━━━━━━━━━━━━━━\u001b[0m\u001b[37m\u001b[0m \u001b[1m0s\u001b[0m 47ms/step - accuracy: 0.5763 - loss: 0.6915 - val_accuracy: 0.5000 - val_loss: 0.6940\n",
      "Epoch 3/20\n",
      "\u001b[1m8/8\u001b[0m \u001b[32m━━━━━━━━━━━━━━━━━━━━\u001b[0m\u001b[37m\u001b[0m \u001b[1m0s\u001b[0m 44ms/step - accuracy: 0.5022 - loss: 0.6918 - val_accuracy: 0.5000 - val_loss: 0.6957\n",
      "Epoch 4/20\n",
      "\u001b[1m8/8\u001b[0m \u001b[32m━━━━━━━━━━━━━━━━━━━━\u001b[0m\u001b[37m\u001b[0m \u001b[1m0s\u001b[0m 45ms/step - accuracy: 0.5778 - loss: 0.6856 - val_accuracy: 0.5333 - val_loss: 0.6965\n",
      "Epoch 5/20\n",
      "\u001b[1m8/8\u001b[0m \u001b[32m━━━━━━━━━━━━━━━━━━━━\u001b[0m\u001b[37m\u001b[0m \u001b[1m0s\u001b[0m 44ms/step - accuracy: 0.6001 - loss: 0.6818 - val_accuracy: 0.5000 - val_loss: 0.6999\n",
      "Epoch 6/20\n",
      "\u001b[1m8/8\u001b[0m \u001b[32m━━━━━━━━━━━━━━━━━━━━\u001b[0m\u001b[37m\u001b[0m \u001b[1m0s\u001b[0m 46ms/step - accuracy: 0.6359 - loss: 0.6638 - val_accuracy: 0.4667 - val_loss: 0.7052\n",
      "Epoch 7/20\n",
      "\u001b[1m8/8\u001b[0m \u001b[32m━━━━━━━━━━━━━━━━━━━━\u001b[0m\u001b[37m\u001b[0m \u001b[1m0s\u001b[0m 44ms/step - accuracy: 0.6424 - loss: 0.6437 - val_accuracy: 0.5000 - val_loss: 0.7062\n",
      "Epoch 8/20\n",
      "\u001b[1m8/8\u001b[0m \u001b[32m━━━━━━━━━━━━━━━━━━━━\u001b[0m\u001b[37m\u001b[0m \u001b[1m0s\u001b[0m 45ms/step - accuracy: 0.6501 - loss: 0.6149 - val_accuracy: 0.5333 - val_loss: 0.7028\n",
      "Epoch 9/20\n",
      "\u001b[1m8/8\u001b[0m \u001b[32m━━━━━━━━━━━━━━━━━━━━\u001b[0m\u001b[37m\u001b[0m \u001b[1m0s\u001b[0m 44ms/step - accuracy: 0.6727 - loss: 0.6133 - val_accuracy: 0.6000 - val_loss: 0.6960\n",
      "Epoch 10/20\n",
      "\u001b[1m8/8\u001b[0m \u001b[32m━━━━━━━━━━━━━━━━━━━━\u001b[0m\u001b[37m\u001b[0m \u001b[1m0s\u001b[0m 46ms/step - accuracy: 0.7168 - loss: 0.6041 - val_accuracy: 0.4667 - val_loss: 0.6874\n",
      "Epoch 11/20\n",
      "\u001b[1m8/8\u001b[0m \u001b[32m━━━━━━━━━━━━━━━━━━━━\u001b[0m\u001b[37m\u001b[0m \u001b[1m0s\u001b[0m 45ms/step - accuracy: 0.8005 - loss: 0.5521 - val_accuracy: 0.6000 - val_loss: 0.6688\n",
      "Epoch 12/20\n",
      "\u001b[1m8/8\u001b[0m \u001b[32m━━━━━━━━━━━━━━━━━━━━\u001b[0m\u001b[37m\u001b[0m \u001b[1m0s\u001b[0m 47ms/step - accuracy: 0.7136 - loss: 0.5612 - val_accuracy: 0.6000 - val_loss: 0.6660\n",
      "Epoch 13/20\n",
      "\u001b[1m8/8\u001b[0m \u001b[32m━━━━━━━━━━━━━━━━━━━━\u001b[0m\u001b[37m\u001b[0m \u001b[1m0s\u001b[0m 44ms/step - accuracy: 0.7495 - loss: 0.5226 - val_accuracy: 0.5333 - val_loss: 0.6649\n",
      "Epoch 14/20\n",
      "\u001b[1m8/8\u001b[0m \u001b[32m━━━━━━━━━━━━━━━━━━━━\u001b[0m\u001b[37m\u001b[0m \u001b[1m0s\u001b[0m 44ms/step - accuracy: 0.7165 - loss: 0.5586 - val_accuracy: 0.7000 - val_loss: 0.6452\n",
      "Epoch 15/20\n",
      "\u001b[1m8/8\u001b[0m \u001b[32m━━━━━━━━━━━━━━━━━━━━\u001b[0m\u001b[37m\u001b[0m \u001b[1m0s\u001b[0m 44ms/step - accuracy: 0.9322 - loss: 0.4083 - val_accuracy: 0.6333 - val_loss: 0.6329\n",
      "Epoch 16/20\n",
      "\u001b[1m8/8\u001b[0m \u001b[32m━━━━━━━━━━━━━━━━━━━━\u001b[0m\u001b[37m\u001b[0m \u001b[1m0s\u001b[0m 45ms/step - accuracy: 0.7595 - loss: 0.4688 - val_accuracy: 0.5333 - val_loss: 0.6343\n",
      "Epoch 17/20\n",
      "\u001b[1m8/8\u001b[0m \u001b[32m━━━━━━━━━━━━━━━━━━━━\u001b[0m\u001b[37m\u001b[0m \u001b[1m0s\u001b[0m 45ms/step - accuracy: 0.8314 - loss: 0.3945 - val_accuracy: 0.6667 - val_loss: 0.6286\n",
      "Epoch 18/20\n",
      "\u001b[1m8/8\u001b[0m \u001b[32m━━━━━━━━━━━━━━━━━━━━\u001b[0m\u001b[37m\u001b[0m \u001b[1m0s\u001b[0m 45ms/step - accuracy: 0.8473 - loss: 0.3918 - val_accuracy: 0.7000 - val_loss: 0.6389\n",
      "Epoch 19/20\n",
      "\u001b[1m8/8\u001b[0m \u001b[32m━━━━━━━━━━━━━━━━━━━━\u001b[0m\u001b[37m\u001b[0m \u001b[1m0s\u001b[0m 45ms/step - accuracy: 0.9065 - loss: 0.3077 - val_accuracy: 0.7000 - val_loss: 0.6243\n",
      "Epoch 20/20\n",
      "\u001b[1m8/8\u001b[0m \u001b[32m━━━━━━━━━━━━━━━━━━━━\u001b[0m\u001b[37m\u001b[0m \u001b[1m0s\u001b[0m 44ms/step - accuracy: 0.9498 - loss: 0.2605 - val_accuracy: 0.7333 - val_loss: 0.6225\n",
      "\u001b[1m1/1\u001b[0m \u001b[32m━━━━━━━━━━━━━━━━━━━━\u001b[0m\u001b[37m\u001b[0m \u001b[1m0s\u001b[0m 35ms/step - accuracy: 0.7333 - loss: 0.6225\n",
      "Test Accuracy: 0.7333\n"
     ]
    }
   ],
   "source": [
    "# Reshape data for CNN input (assuming X is correlation matrices)\n",
    "X = np.array(feature_data[\"correlation_matrix\"].tolist())  # Convert list of matrices to array\n",
    "X_cnn = X.reshape(X.shape[0], X.shape[1], X.shape[2], 1)  # Add channel dimension\n",
    "y_cnn = feature_data[\"Handedness_Cat\"].values  # Classification target\n",
    "\n",
    "# Split dataset\n",
    "X_train, X_test, y_train, y_test = train_test_split(X_cnn, y_cnn, test_size=0.2, random_state=42, stratify=y_cnn)\n",
    "\n",
    "# Define CNN model\n",
    "model = Sequential([\n",
    "    Conv2D(32, kernel_size=(3,3), activation='relu', input_shape=(X_train.shape[1], X_train.shape[2], 1)),\n",
    "    MaxPooling2D(pool_size=(2,2)),\n",
    "    \n",
    "    Conv2D(64, kernel_size=(3,3), activation='relu'),\n",
    "    MaxPooling2D(pool_size=(2,2)),\n",
    "\n",
    "    Flatten(),\n",
    "    Dense(128, activation='relu'),\n",
    "    Dropout(0.5),\n",
    "    Dense(1, activation='sigmoid')  # Binary classification (0 = Left, 1 = Right)\n",
    "])\n",
    "\n",
    "# Compile Model\n",
    "model.compile(optimizer=Adam(learning_rate=0.001), loss='binary_crossentropy', metrics=['accuracy'])\n",
    "\n",
    "# Train Model\n",
    "model.fit(X_train, y_train, validation_data=(X_test, y_test), epochs=20, batch_size=16)\n",
    "\n",
    "# Evaluate Model\n",
    "test_loss, test_acc = model.evaluate(X_test, y_test)\n",
    "print(f\"Test Accuracy: {test_acc:.4f}\")\n"
   ]
  },
  {
   "cell_type": "code",
   "execution_count": 26,
   "metadata": {},
   "outputs": [
    {
     "name": "stdout",
     "output_type": "stream",
     "text": [
      "\u001b[1m1/1\u001b[0m \u001b[32m━━━━━━━━━━━━━━━━━━━━\u001b[0m\u001b[37m\u001b[0m \u001b[1m0s\u001b[0m 54ms/step\n",
      "Confusion Matrix:\n",
      " [[11  4]\n",
      " [ 4 11]]\n",
      "\n",
      "Classification Report:\n",
      "               precision    recall  f1-score   support\n",
      "\n",
      " Left-Handed       0.73      0.73      0.73        15\n",
      "Right-Handed       0.73      0.73      0.73        15\n",
      "\n",
      "    accuracy                           0.73        30\n",
      "   macro avg       0.73      0.73      0.73        30\n",
      "weighted avg       0.73      0.73      0.73        30\n",
      "\n"
     ]
    }
   ],
   "source": [
    "y_pred = (model.predict(X_test) > 0.5).astype(\"int32\")\n",
    "\n",
    "print(\"Confusion Matrix:\\n\", confusion_matrix(y_test, y_pred))\n",
    "print(\"\\nClassification Report:\\n\", classification_report(y_test, y_pred, target_names=[\"Left-Handed\", \"Right-Handed\"]))"
   ]
  },
  {
   "attachments": {},
   "cell_type": "markdown",
   "metadata": {},
   "source": [
    "(May change if re-run)\n",
    "Many left-handed cases are misclassified (recall is only ~65%), but ~83% of left-handed predictions made is correct. \n",
    "\n",
    "The model correctly detects ~85% of right-handed cases, but only 60% of left-handed predictions made is correct. F1-score is better than for left-handed, but precision is relatively lower. \n",
    "\n",
    "**Macro & Weighted F1-score = 0.60 → model may be learning patterns from the right-handed class more effectively than the other.**"
   ]
  },
  {
   "cell_type": "code",
   "execution_count": 27,
   "metadata": {},
   "outputs": [
    {
     "name": "stdout",
     "output_type": "stream",
     "text": [
      "\u001b[1m1/1\u001b[0m \u001b[32m━━━━━━━━━━━━━━━━━━━━\u001b[0m\u001b[37m\u001b[0m \u001b[1m0s\u001b[0m 35ms/step\n"
     ]
    },
    {
     "data": {
      "image/png": "[encoded data removed]",
      "text/plain": [
       "<Figure size 600x600 with 1 Axes>"
      ]
     },
     "metadata": {},
     "output_type": "display_data"
    }
   ],
   "source": [
    "y_prob = model.predict(X_test)  # Get probability scores\n",
    "\n",
    "fpr, tpr, _ = roc_curve(y_test, y_prob)\n",
    "roc_auc = auc(fpr, tpr)\n",
    "\n",
    "plt.figure(figsize=(6,6))\n",
    "plt.plot(fpr, tpr, color='blue', label=f'ROC curve (AUC = {roc_auc:.4f})')\n",
    "plt.plot([0, 1], [0, 1], color='gray', linestyle='--')  # Random classifier baseline\n",
    "plt.xlabel('False Positive Rate')\n",
    "plt.ylabel('True Positive Rate')\n",
    "plt.title('ROC Curve')\n",
    "plt.legend()\n",
    "plt.show()\n"
   ]
  },
  {
   "attachments": {},
   "cell_type": "markdown",
   "metadata": {},
   "source": [
    "AUC of ~0.7 means the model is better than random, but still not highly reliable."
   ]
  },
  {
   "attachments": {},
   "cell_type": "markdown",
   "metadata": {},
   "source": [
    "### CNN w/ More Weights toward Left-Handed Class"
   ]
  },
  {
   "cell_type": "code",
   "execution_count": 28,
   "metadata": {},
   "outputs": [
    {
     "name": "stdout",
     "output_type": "stream",
     "text": [
      "Epoch 1/20\n"
     ]
    },
    {
     "name": "stderr",
     "output_type": "stream",
     "text": [
      "/opt/homebrew/lib/python3.11/site-packages/keras/src/layers/convolutional/base_conv.py:107: UserWarning: Do not pass an `input_shape`/`input_dim` argument to a layer. When using Sequential models, prefer using an `Input(shape)` object as the first layer in the model instead.\n",
      "  super().__init__(activity_regularizer=activity_regularizer, **kwargs)\n"
     ]
    },
    {
     "name": "stdout",
     "output_type": "stream",
     "text": [
      "\u001b[1m8/8\u001b[0m \u001b[32m━━━━━━━━━━━━━━━━━━━━\u001b[0m\u001b[37m\u001b[0m \u001b[1m1s\u001b[0m 64ms/step - accuracy: 0.4284 - loss: 1.3226 - val_accuracy: 0.5000 - val_loss: 0.9126\n",
      "Epoch 2/20\n",
      "\u001b[1m8/8\u001b[0m \u001b[32m━━━━━━━━━━━━━━━━━━━━\u001b[0m\u001b[37m\u001b[0m \u001b[1m0s\u001b[0m 49ms/step - accuracy: 0.4789 - loss: 1.1997 - val_accuracy: 0.5000 - val_loss: 0.7941\n",
      "Epoch 3/20\n",
      "\u001b[1m8/8\u001b[0m \u001b[32m━━━━━━━━━━━━━━━━━━━━\u001b[0m\u001b[37m\u001b[0m \u001b[1m0s\u001b[0m 46ms/step - accuracy: 0.4789 - loss: 1.1220 - val_accuracy: 0.5000 - val_loss: 0.8865\n",
      "Epoch 4/20\n",
      "\u001b[1m8/8\u001b[0m \u001b[32m━━━━━━━━━━━━━━━━━━━━\u001b[0m\u001b[37m\u001b[0m \u001b[1m0s\u001b[0m 50ms/step - accuracy: 0.4789 - loss: 1.1086 - val_accuracy: 0.5000 - val_loss: 0.8478\n",
      "Epoch 5/20\n",
      "\u001b[1m8/8\u001b[0m \u001b[32m━━━━━━━━━━━━━━━━━━━━\u001b[0m\u001b[37m\u001b[0m \u001b[1m0s\u001b[0m 46ms/step - accuracy: 0.4883 - loss: 1.0757 - val_accuracy: 0.5000 - val_loss: 0.9199\n",
      "Epoch 6/20\n",
      "\u001b[1m8/8\u001b[0m \u001b[32m━━━━━━━━━━━━━━━━━━━━\u001b[0m\u001b[37m\u001b[0m \u001b[1m0s\u001b[0m 44ms/step - accuracy: 0.4789 - loss: 1.1414 - val_accuracy: 0.5000 - val_loss: 0.8137\n",
      "Epoch 7/20\n",
      "\u001b[1m8/8\u001b[0m \u001b[32m━━━━━━━━━━━━━━━━━━━━\u001b[0m\u001b[37m\u001b[0m \u001b[1m0s\u001b[0m 44ms/step - accuracy: 0.4789 - loss: 1.0564 - val_accuracy: 0.5000 - val_loss: 0.8040\n",
      "Epoch 8/20\n",
      "\u001b[1m8/8\u001b[0m \u001b[32m━━━━━━━━━━━━━━━━━━━━\u001b[0m\u001b[37m\u001b[0m \u001b[1m0s\u001b[0m 44ms/step - accuracy: 0.4869 - loss: 0.9944 - val_accuracy: 0.5000 - val_loss: 0.8540\n",
      "Epoch 9/20\n",
      "\u001b[1m8/8\u001b[0m \u001b[32m━━━━━━━━━━━━━━━━━━━━\u001b[0m\u001b[37m\u001b[0m \u001b[1m0s\u001b[0m 45ms/step - accuracy: 0.5028 - loss: 0.9196 - val_accuracy: 0.5000 - val_loss: 0.8064\n",
      "Epoch 10/20\n",
      "\u001b[1m8/8\u001b[0m \u001b[32m━━━━━━━━━━━━━━━━━━━━\u001b[0m\u001b[37m\u001b[0m \u001b[1m0s\u001b[0m 45ms/step - accuracy: 0.5410 - loss: 0.8496 - val_accuracy: 0.5000 - val_loss: 0.9363\n",
      "Epoch 11/20\n",
      "\u001b[1m8/8\u001b[0m \u001b[32m━━━━━━━━━━━━━━━━━━━━\u001b[0m\u001b[37m\u001b[0m \u001b[1m0s\u001b[0m 46ms/step - accuracy: 0.5167 - loss: 0.8238 - val_accuracy: 0.5000 - val_loss: 0.7780\n",
      "Epoch 12/20\n",
      "\u001b[1m8/8\u001b[0m \u001b[32m━━━━━━━━━━━━━━━━━━━━\u001b[0m\u001b[37m\u001b[0m \u001b[1m0s\u001b[0m 46ms/step - accuracy: 0.6014 - loss: 0.8147 - val_accuracy: 0.5667 - val_loss: 0.7075\n",
      "Epoch 13/20\n",
      "\u001b[1m8/8\u001b[0m \u001b[32m━━━━━━━━━━━━━━━━━━━━\u001b[0m\u001b[37m\u001b[0m \u001b[1m0s\u001b[0m 45ms/step - accuracy: 0.6878 - loss: 0.7209 - val_accuracy: 0.6333 - val_loss: 0.6552\n",
      "Epoch 14/20\n",
      "\u001b[1m8/8\u001b[0m \u001b[32m━━━━━━━━━━━━━━━━━━━━\u001b[0m\u001b[37m\u001b[0m \u001b[1m0s\u001b[0m 45ms/step - accuracy: 0.8673 - loss: 0.5201 - val_accuracy: 0.5000 - val_loss: 0.8519\n",
      "Epoch 15/20\n",
      "\u001b[1m8/8\u001b[0m \u001b[32m━━━━━━━━━━━━━━━━━━━━\u001b[0m\u001b[37m\u001b[0m \u001b[1m0s\u001b[0m 45ms/step - accuracy: 0.7361 - loss: 0.5027 - val_accuracy: 0.6000 - val_loss: 0.6640\n",
      "Epoch 16/20\n",
      "\u001b[1m8/8\u001b[0m \u001b[32m━━━━━━━━━━━━━━━━━━━━\u001b[0m\u001b[37m\u001b[0m \u001b[1m0s\u001b[0m 47ms/step - accuracy: 0.9233 - loss: 0.4045 - val_accuracy: 0.6333 - val_loss: 0.5987\n",
      "Epoch 17/20\n",
      "\u001b[1m8/8\u001b[0m \u001b[32m━━━━━━━━━━━━━━━━━━━━\u001b[0m\u001b[37m\u001b[0m \u001b[1m0s\u001b[0m 44ms/step - accuracy: 0.8396 - loss: 0.5372 - val_accuracy: 0.6667 - val_loss: 0.6154\n",
      "Epoch 18/20\n",
      "\u001b[1m8/8\u001b[0m \u001b[32m━━━━━━━━━━━━━━━━━━━━\u001b[0m\u001b[37m\u001b[0m \u001b[1m0s\u001b[0m 44ms/step - accuracy: 0.9072 - loss: 0.4492 - val_accuracy: 0.6333 - val_loss: 0.6185\n",
      "Epoch 19/20\n",
      "\u001b[1m8/8\u001b[0m \u001b[32m━━━━━━━━━━━━━━━━━━━━\u001b[0m\u001b[37m\u001b[0m \u001b[1m0s\u001b[0m 45ms/step - accuracy: 0.9000 - loss: 0.4719 - val_accuracy: 0.6333 - val_loss: 0.6035\n",
      "Epoch 20/20\n",
      "\u001b[1m8/8\u001b[0m \u001b[32m━━━━━━━━━━━━━━━━━━━━\u001b[0m\u001b[37m\u001b[0m \u001b[1m0s\u001b[0m 45ms/step - accuracy: 0.9780 - loss: 0.3510 - val_accuracy: 0.6333 - val_loss: 0.7407\n",
      "\u001b[1m1/1\u001b[0m \u001b[32m━━━━━━━━━━━━━━━━━━━━\u001b[0m\u001b[37m\u001b[0m \u001b[1m0s\u001b[0m 35ms/step - accuracy: 0.6333 - loss: 0.7407\n",
      "Test Accuracy: 0.6333\n"
     ]
    }
   ],
   "source": [
    "# # Reshape data for CNN input (assuming X is correlation matrices)\n",
    "# X = np.array(feature_data[\"correlation_matrix\"].tolist())  # Convert list of matrices to array\n",
    "# X_cnn = X.reshape(X.shape[0], X.shape[1], X.shape[2], 1)  # Add channel dimension\n",
    "# y_cnn = feature_data[\"Handedness_Cat\"].values  # Classification target\n",
    "\n",
    "# Split dataset\n",
    "X_train, X_test, y_train, y_test = train_test_split(X_cnn, y_cnn, test_size=0.2, random_state=42, stratify=y_cnn)\n",
    "\n",
    "# Define CNN model\n",
    "model = Sequential([\n",
    "    Conv2D(32, kernel_size=(3,3), activation='relu', input_shape=(X_train.shape[1], X_train.shape[2], 1)),\n",
    "    MaxPooling2D(pool_size=(2,2)),\n",
    "    \n",
    "    Conv2D(64, kernel_size=(3,3), activation='relu'),\n",
    "    MaxPooling2D(pool_size=(2,2)),\n",
    "\n",
    "    Flatten(),\n",
    "    Dense(128, activation='relu'),\n",
    "    Dropout(0.5),\n",
    "    Dense(1, activation='sigmoid')  # Binary classification (0 = Left, 1 = Right)\n",
    "])\n",
    "\n",
    "# Compile Model\n",
    "model.compile(optimizer=Adam(learning_rate=0.001), loss='binary_crossentropy', metrics=['accuracy'])\n",
    "\n",
    "# Compute class weights automatically\n",
    "# class_weights = dict(zip(np.unique(y_train), compute_class_weight(\"balanced\", classes=np.unique(y_train), y=y_train)))\n",
    "class_weights = {0: 3, 1: 1.0}\n",
    "\n",
    "# Train Model with dynamically computed class weights\n",
    "model.fit(X_train, y_train, validation_data=(X_test, y_test), epochs=20, batch_size=16, class_weight=class_weights)\n",
    "\n",
    "# Evaluate Model\n",
    "test_loss, test_acc = model.evaluate(X_test, y_test)\n",
    "print(f\"Test Accuracy: {test_acc:.4f}\")"
   ]
  },
  {
   "cell_type": "code",
   "execution_count": 29,
   "metadata": {},
   "outputs": [
    {
     "name": "stdout",
     "output_type": "stream",
     "text": [
      "\u001b[1m1/1\u001b[0m \u001b[32m━━━━━━━━━━━━━━━━━━━━\u001b[0m\u001b[37m\u001b[0m \u001b[1m0s\u001b[0m 60ms/step\n",
      "Confusion Matrix:\n",
      " [[13  2]\n",
      " [ 9  6]]\n",
      "\n",
      "Classification Report:\n",
      "               precision    recall  f1-score   support\n",
      "\n",
      " Left-Handed       0.59      0.87      0.70        15\n",
      "Right-Handed       0.75      0.40      0.52        15\n",
      "\n",
      "    accuracy                           0.63        30\n",
      "   macro avg       0.67      0.63      0.61        30\n",
      "weighted avg       0.67      0.63      0.61        30\n",
      "\n"
     ]
    }
   ],
   "source": [
    "y_pred = (model.predict(X_test) > 0.5).astype(\"int32\")\n",
    "\n",
    "print(\"Confusion Matrix:\\n\", confusion_matrix(y_test, y_pred))\n",
    "print(\"\\nClassification Report:\\n\", classification_report(y_test, y_pred, target_names=[\"Left-Handed\", \"Right-Handed\"]))"
   ]
  },
  {
   "cell_type": "code",
   "execution_count": 30,
   "metadata": {},
   "outputs": [
    {
     "name": "stdout",
     "output_type": "stream",
     "text": [
      "\u001b[1m1/1\u001b[0m \u001b[32m━━━━━━━━━━━━━━━━━━━━\u001b[0m\u001b[37m\u001b[0m \u001b[1m0s\u001b[0m 34ms/step\n"
     ]
    },
    {
     "data": {
      "image/png": "[encoded data removed]",
      "text/plain": [
       "<Figure size 600x600 with 1 Axes>"
      ]
     },
     "metadata": {},
     "output_type": "display_data"
    }
   ],
   "source": [
    "y_prob = model.predict(X_test)  # Get probability scores\n",
    "\n",
    "fpr, tpr, _ = roc_curve(y_test, y_prob)\n",
    "roc_auc = auc(fpr, tpr)\n",
    "\n",
    "plt.figure(figsize=(6,6))\n",
    "plt.plot(fpr, tpr, color='blue', label=f'ROC curve (AUC = {roc_auc:.4f})')\n",
    "plt.plot([0, 1], [0, 1], color='gray', linestyle='--')  # Random classifier baseline\n",
    "plt.xlabel('False Positive Rate')\n",
    "plt.ylabel('True Positive Rate')\n",
    "plt.title('ROC Curve')\n",
    "plt.legend()\n",
    "plt.show()\n"
   ]
  },
  {
   "attachments": {},
   "cell_type": "markdown",
   "metadata": {},
   "source": [
    "---"
   ]
  },
  {
   "attachments": {},
   "cell_type": "markdown",
   "metadata": {},
   "source": [
    "Transforming Handedness"
   ]
  },
  {
   "cell_type": "code",
   "execution_count": 31,
   "metadata": {},
   "outputs": [
    {
     "data": {
      "text/html": [
       "<div>\n",
       "<style scoped>\n",
       "    .dataframe tbody tr th:only-of-type {\n",
       "        vertical-align: middle;\n",
       "    }\n",
       "\n",
       "    .dataframe tbody tr th {\n",
       "        vertical-align: top;\n",
       "    }\n",
       "\n",
       "    .dataframe thead th {\n",
       "        text-align: right;\n",
       "    }\n",
       "</style>\n",
       "<table border=\"1\" class=\"dataframe\">\n",
       "  <thead>\n",
       "    <tr style=\"text-align: right;\">\n",
       "      <th></th>\n",
       "      <th>Left-Handed</th>\n",
       "      <th>Right-Handed</th>\n",
       "      <th>Overall</th>\n",
       "    </tr>\n",
       "  </thead>\n",
       "  <tbody>\n",
       "    <tr>\n",
       "      <th>count</th>\n",
       "      <td>0.0</td>\n",
       "      <td>0.0</td>\n",
       "      <td>148.000000</td>\n",
       "    </tr>\n",
       "    <tr>\n",
       "      <th>mean</th>\n",
       "      <td>NaN</td>\n",
       "      <td>NaN</td>\n",
       "      <td>6.554054</td>\n",
       "    </tr>\n",
       "    <tr>\n",
       "      <th>std</th>\n",
       "      <td>NaN</td>\n",
       "      <td>NaN</td>\n",
       "      <td>74.680388</td>\n",
       "    </tr>\n",
       "    <tr>\n",
       "      <th>min</th>\n",
       "      <td>NaN</td>\n",
       "      <td>NaN</td>\n",
       "      <td>-100.000000</td>\n",
       "    </tr>\n",
       "    <tr>\n",
       "      <th>25%</th>\n",
       "      <td>NaN</td>\n",
       "      <td>NaN</td>\n",
       "      <td>-65.000000</td>\n",
       "    </tr>\n",
       "    <tr>\n",
       "      <th>50%</th>\n",
       "      <td>NaN</td>\n",
       "      <td>NaN</td>\n",
       "      <td>10.000000</td>\n",
       "    </tr>\n",
       "    <tr>\n",
       "      <th>75%</th>\n",
       "      <td>NaN</td>\n",
       "      <td>NaN</td>\n",
       "      <td>80.000000</td>\n",
       "    </tr>\n",
       "    <tr>\n",
       "      <th>max</th>\n",
       "      <td>NaN</td>\n",
       "      <td>NaN</td>\n",
       "      <td>100.000000</td>\n",
       "    </tr>\n",
       "  </tbody>\n",
       "</table>\n",
       "</div>"
      ],
      "text/plain": [
       "       Left-Handed  Right-Handed     Overall\n",
       "count          0.0           0.0  148.000000\n",
       "mean           NaN           NaN    6.554054\n",
       "std            NaN           NaN   74.680388\n",
       "min            NaN           NaN -100.000000\n",
       "25%            NaN           NaN  -65.000000\n",
       "50%            NaN           NaN   10.000000\n",
       "75%            NaN           NaN   80.000000\n",
       "max            NaN           NaN  100.000000"
      ]
     },
     "execution_count": 31,
     "metadata": {},
     "output_type": "execute_result"
    }
   ],
   "source": [
    "left_handed = data[data['Handedness_Cat'] == 'Left']\n",
    "right_handed = data[data['Handedness_Cat'] == 'Right']\n",
    "\n",
    "# Handedness statistics\n",
    "pd.DataFrame([\n",
    "    left_handed.describe()['Handedness'], \n",
    "    right_handed.describe()['Handedness'], \n",
    "    data['Handedness'].describe()\n",
    "], index=['Left-Handed', 'Right-Handed', 'Overall']).T\n"
   ]
  },
  {
   "cell_type": "code",
   "execution_count": 32,
   "metadata": {},
   "outputs": [
    {
     "data": {
      "image/png": "[encoded data removed]",
      "text/plain": [
       "<Figure size 800x600 with 1 Axes>"
      ]
     },
     "metadata": {},
     "output_type": "display_data"
    }
   ],
   "source": [
    "plt.figure(figsize=(8, 6))\n",
    "sns.histplot(left_handed['Handedness'], color='blue', label='Left-Handed', kde=False, bins=20, alpha=0.5)\n",
    "sns.histplot(right_handed['Handedness'], color='orange', label='Right-Handed', kde=False, bins=20, alpha=0.5)\n",
    "\n",
    "\n",
    "# mark medians\n",
    "plt.axvline(left_handed['Handedness'].median(), color='blue', linestyle='--', label='Left-Handed Median')\n",
    "plt.axvline(right_handed['Handedness'].median(), color='orange', linestyle='--', label='Right-Handed Median')\n",
    "\n",
    "# Labels and title\n",
    "plt.xlabel('Handedness Score', fontsize=12)\n",
    "plt.ylabel('count', fontsize=12)\n",
    "plt.title('Distribution of Handedness Scores', fontsize=16)\n",
    "plt.legend()\n",
    "\n",
    "plt.grid(alpha=0.3)\n",
    "plt.show()"
   ]
  },
  {
   "attachments": {},
   "cell_type": "markdown",
   "metadata": {},
   "source": [
    "Log tranformation"
   ]
  },
  {
   "cell_type": "code",
   "execution_count": 33,
   "metadata": {},
   "outputs": [
    {
     "name": "stderr",
     "output_type": "stream",
     "text": [
      "/opt/homebrew/lib/python3.11/site-packages/pandas/core/arraylike.py:399: RuntimeWarning: divide by zero encountered in log10\n",
      "  result = getattr(ufunc, method)(*inputs, **kwargs)\n",
      "/var/folders/bz/8tkr7qg51_1bcjy3cf4g8fzc0000gn/T/ipykernel_99910/345938297.py:10: UserWarning: No artists with labels found to put in legend.  Note that artists whose label start with an underscore are ignored when legend() is called with no argument.\n",
      "  plt.legend()\n"
     ]
    },
    {
     "data": {
      "image/png": "[encoded data removed]",
      "text/plain": [
       "<Figure size 1000x600 with 1 Axes>"
      ]
     },
     "metadata": {},
     "output_type": "display_data"
    }
   ],
   "source": [
    "data['log_transformed_handedness'] = np.log10(100-data['Handedness'])\n",
    "\n",
    "left_handed = data[data['Handedness_Cat'] == 'Left']\n",
    "right_handed = data[data['Handedness_Cat'] == 'Right']\n",
    "\n",
    "plt.figure(figsize=(10, 6))\n",
    "sns.histplot(data=left_handed['log_transformed_handedness'], label='Left-Handed', color='blue', kde=False, bins=20, alpha=0.5, stat='density')\n",
    "sns.histplot(data=right_handed['log_transformed_handedness'], label='Right-Handed', color='orange', kde=False, bins=20, alpha=0.5, stat='density')\n",
    "\n",
    "plt.legend()\n",
    "plt.grid(alpha=0.3)\n",
    "plt.show()"
   ]
  },
  {
   "attachments": {},
   "cell_type": "markdown",
   "metadata": {},
   "source": [
    "square root transformation"
   ]
  },
  {
   "cell_type": "code",
   "execution_count": 34,
   "metadata": {},
   "outputs": [
    {
     "name": "stderr",
     "output_type": "stream",
     "text": [
      "/var/folders/bz/8tkr7qg51_1bcjy3cf4g8fzc0000gn/T/ipykernel_99910/4275411290.py:10: UserWarning: No artists with labels found to put in legend.  Note that artists whose label start with an underscore are ignored when legend() is called with no argument.\n",
      "  plt.legend()\n"
     ]
    },
    {
     "data": {
      "image/png": "[encoded data removed]",
      "text/plain": [
       "<Figure size 1000x600 with 1 Axes>"
      ]
     },
     "metadata": {},
     "output_type": "display_data"
    }
   ],
   "source": [
    "data['sqrt_transformed_handedness'] = data['Handedness'].abs()**0.5\n",
    "\n",
    "left_handed = data[data['Handedness_Cat'] == 'Left']\n",
    "right_handed = data[data['Handedness_Cat'] == 'Right']\n",
    "\n",
    "plt.figure(figsize=(10, 6))\n",
    "sns.histplot(data=left_handed['sqrt_transformed_handedness'], label='Left-Handed', color='blue', kde=False, bins=20, alpha=0.5, stat='density')\n",
    "sns.histplot(data=right_handed['sqrt_transformed_handedness'], label='Right-Handed', color='orange', kde=False, bins=20, alpha=0.5, stat='density')\n",
    "\n",
    "plt.legend()\n",
    "plt.grid(alpha=0.3)\n",
    "plt.show()"
   ]
  },
  {
   "cell_type": "code",
   "execution_count": 35,
   "metadata": {},
   "outputs": [
    {
     "name": "stderr",
     "output_type": "stream",
     "text": [
      "/var/folders/bz/8tkr7qg51_1bcjy3cf4g8fzc0000gn/T/ipykernel_99910/1017267253.py:11: UserWarning: No artists with labels found to put in legend.  Note that artists whose label start with an underscore are ignored when legend() is called with no argument.\n",
      "  plt.legend()\n"
     ]
    },
    {
     "data": {
      "image/png": "[encoded data removed]",
      "text/plain": [
       "<Figure size 640x480 with 1 Axes>"
      ]
     },
     "metadata": {},
     "output_type": "display_data"
    }
   ],
   "source": [
    "from scipy.stats import zscore\n",
    "\n",
    "data['zscored_handedness'] = zscore(data['Handedness'])\n",
    "\n",
    "left_handed = data[data['Handedness_Cat'] == 'Left']\n",
    "right_handed = data[data['Handedness_Cat'] == 'Right']\n",
    "\n",
    "sns.histplot(left_handed['zscored_handedness'],label='Left-Handed',bins=10, edgecolor='black', alpha=0.7, stat='density')\n",
    "sns.histplot(right_handed['zscored_handedness'], label='right-Handed',bins=10, edgecolor='black', alpha=0.7, stat='density')\n",
    "\n",
    "plt.legend()\n",
    "plt.grid(alpha=0.3)\n",
    "plt.show()"
   ]
  },
  {
   "cell_type": "code",
   "execution_count": 36,
   "metadata": {},
   "outputs": [
    {
     "name": "stderr",
     "output_type": "stream",
     "text": [
      "/var/folders/bz/8tkr7qg51_1bcjy3cf4g8fzc0000gn/T/ipykernel_99910/3313332115.py:13: UserWarning: No artists with labels found to put in legend.  Note that artists whose label start with an underscore are ignored when legend() is called with no argument.\n",
      "  plt.legend()\n"
     ]
    },
    {
     "data": {
      "image/png": "[encoded data removed]",
      "text/plain": [
       "<Figure size 1000x600 with 1 Axes>"
      ]
     },
     "metadata": {},
     "output_type": "display_data"
    }
   ],
   "source": [
    "mean_value = left_handed['Handedness'].mean()\n",
    "std_value = left_handed['Handedness'].std()\n",
    "left_handed['standardized_handedness'] = (left_handed['Handedness'] - mean_value) / std_value\n",
    "\n",
    "mean_value = right_handed['Handedness'].mean()\n",
    "std_value = right_handed['Handedness'].std()\n",
    "right_handed['standardized_handedness'] = (right_handed['Handedness'] - mean_value) / std_value\n",
    "\n",
    "plt.figure(figsize=(10, 6))\n",
    "sns.histplot(left_handed['standardized_handedness'],label='Left-Handed',bins=10, edgecolor='black', alpha=0.7, stat='density')\n",
    "sns.histplot(right_handed['standardized_handedness'], label='right-Handed',bins=10, edgecolor='black', alpha=0.7, stat='density')\n",
    "\n",
    "plt.legend()\n",
    "plt.grid(axis='y', linestyle='--', alpha=0.7)\n",
    "\n",
    "\n",
    "plt.show()"
   ]
  },
  {
   "attachments": {},
   "cell_type": "markdown",
   "metadata": {},
   "source": [
    "Symmetric Transformation (Box-Cox)"
   ]
  },
  {
   "cell_type": "code",
   "execution_count": 37,
   "metadata": {},
   "outputs": [
    {
     "data": {
      "text/plain": [
       "0      22580.173480\n",
       "1      28997.486355\n",
       "2      30734.827092\n",
       "3      22580.173480\n",
       "4      14528.368803\n",
       "           ...     \n",
       "143    19688.026537\n",
       "144    34370.408613\n",
       "145    27313.538720\n",
       "146    22580.173480\n",
       "147    32525.742178\n",
       "Name: BoxCox_Handedness, Length: 148, dtype: float64"
      ]
     },
     "execution_count": 37,
     "metadata": {},
     "output_type": "execute_result"
    }
   ],
   "source": [
    "from scipy.stats import boxcox\n",
    "\n",
    "data['BoxCox_Handedness'], lambda_ = boxcox(data['Handedness'].abs() + 100)  # Shift to ensure all values are positive\n",
    "data['BoxCox_Handedness']"
   ]
  },
  {
   "cell_type": "code",
   "execution_count": 38,
   "metadata": {},
   "outputs": [
    {
     "ename": "KeyError",
     "evalue": "'Handedness_BoxCox'",
     "output_type": "error",
     "traceback": [
      "\u001b[0;31m---------------------------------------------------------------------------\u001b[0m",
      "\u001b[0;31mKeyError\u001b[0m                                  Traceback (most recent call last)",
      "File \u001b[0;32m/opt/homebrew/lib/python3.11/site-packages/pandas/core/indexes/base.py:3805\u001b[0m, in \u001b[0;36mIndex.get_loc\u001b[0;34m(self, key)\u001b[0m\n\u001b[1;32m   3804\u001b[0m \u001b[39mtry\u001b[39;00m:\n\u001b[0;32m-> 3805\u001b[0m     \u001b[39mreturn\u001b[39;00m \u001b[39mself\u001b[39;49m\u001b[39m.\u001b[39;49m_engine\u001b[39m.\u001b[39;49mget_loc(casted_key)\n\u001b[1;32m   3806\u001b[0m \u001b[39mexcept\u001b[39;00m \u001b[39mKeyError\u001b[39;00m \u001b[39mas\u001b[39;00m err:\n",
      "File \u001b[0;32mindex.pyx:167\u001b[0m, in \u001b[0;36mpandas._libs.index.IndexEngine.get_loc\u001b[0;34m()\u001b[0m\n",
      "File \u001b[0;32mindex.pyx:196\u001b[0m, in \u001b[0;36mpandas._libs.index.IndexEngine.get_loc\u001b[0;34m()\u001b[0m\n",
      "File \u001b[0;32mpandas/_libs/hashtable_class_helper.pxi:7081\u001b[0m, in \u001b[0;36mpandas._libs.hashtable.PyObjectHashTable.get_item\u001b[0;34m()\u001b[0m\n",
      "File \u001b[0;32mpandas/_libs/hashtable_class_helper.pxi:7089\u001b[0m, in \u001b[0;36mpandas._libs.hashtable.PyObjectHashTable.get_item\u001b[0;34m()\u001b[0m\n",
      "\u001b[0;31mKeyError\u001b[0m: 'Handedness_BoxCox'",
      "\nThe above exception was the direct cause of the following exception:\n",
      "\u001b[0;31mKeyError\u001b[0m                                  Traceback (most recent call last)",
      "Cell \u001b[0;32mIn[38], line 4\u001b[0m\n\u001b[1;32m      1\u001b[0m left_handed \u001b[39m=\u001b[39m data[data[\u001b[39m'\u001b[39m\u001b[39mHandedness_Cat\u001b[39m\u001b[39m'\u001b[39m] \u001b[39m==\u001b[39m \u001b[39m'\u001b[39m\u001b[39mLeft\u001b[39m\u001b[39m'\u001b[39m]\n\u001b[1;32m      2\u001b[0m right_handed \u001b[39m=\u001b[39m data[data[\u001b[39m'\u001b[39m\u001b[39mHandedness_Cat\u001b[39m\u001b[39m'\u001b[39m] \u001b[39m==\u001b[39m \u001b[39m'\u001b[39m\u001b[39mRight\u001b[39m\u001b[39m'\u001b[39m]\n\u001b[0;32m----> 4\u001b[0m sns\u001b[39m.\u001b[39mhistplot(left_handed[\u001b[39m'\u001b[39;49m\u001b[39mHandedness_BoxCox\u001b[39;49m\u001b[39m'\u001b[39;49m],label\u001b[39m=\u001b[39m\u001b[39m'\u001b[39m\u001b[39mLeft-Handed\u001b[39m\u001b[39m'\u001b[39m,bins\u001b[39m=\u001b[39m\u001b[39m10\u001b[39m, edgecolor\u001b[39m=\u001b[39m\u001b[39m'\u001b[39m\u001b[39mblack\u001b[39m\u001b[39m'\u001b[39m, alpha\u001b[39m=\u001b[39m\u001b[39m0.7\u001b[39m, stat\u001b[39m=\u001b[39m\u001b[39m'\u001b[39m\u001b[39mdensity\u001b[39m\u001b[39m'\u001b[39m)\n\u001b[1;32m      5\u001b[0m sns\u001b[39m.\u001b[39mhistplot(right_handed[\u001b[39m'\u001b[39m\u001b[39mHandedness_BoxCox\u001b[39m\u001b[39m'\u001b[39m], label\u001b[39m=\u001b[39m\u001b[39m'\u001b[39m\u001b[39mright-Handed\u001b[39m\u001b[39m'\u001b[39m,bins\u001b[39m=\u001b[39m\u001b[39m10\u001b[39m, edgecolor\u001b[39m=\u001b[39m\u001b[39m'\u001b[39m\u001b[39mblack\u001b[39m\u001b[39m'\u001b[39m, alpha\u001b[39m=\u001b[39m\u001b[39m0.7\u001b[39m, stat\u001b[39m=\u001b[39m\u001b[39m'\u001b[39m\u001b[39mdensity\u001b[39m\u001b[39m'\u001b[39m)\n\u001b[1;32m      7\u001b[0m plt\u001b[39m.\u001b[39mlegend()\n",
      "File \u001b[0;32m/opt/homebrew/lib/python3.11/site-packages/pandas/core/frame.py:4102\u001b[0m, in \u001b[0;36mDataFrame.__getitem__\u001b[0;34m(self, key)\u001b[0m\n\u001b[1;32m   4100\u001b[0m \u001b[39mif\u001b[39;00m \u001b[39mself\u001b[39m\u001b[39m.\u001b[39mcolumns\u001b[39m.\u001b[39mnlevels \u001b[39m>\u001b[39m \u001b[39m1\u001b[39m:\n\u001b[1;32m   4101\u001b[0m     \u001b[39mreturn\u001b[39;00m \u001b[39mself\u001b[39m\u001b[39m.\u001b[39m_getitem_multilevel(key)\n\u001b[0;32m-> 4102\u001b[0m indexer \u001b[39m=\u001b[39m \u001b[39mself\u001b[39;49m\u001b[39m.\u001b[39;49mcolumns\u001b[39m.\u001b[39;49mget_loc(key)\n\u001b[1;32m   4103\u001b[0m \u001b[39mif\u001b[39;00m is_integer(indexer):\n\u001b[1;32m   4104\u001b[0m     indexer \u001b[39m=\u001b[39m [indexer]\n",
      "File \u001b[0;32m/opt/homebrew/lib/python3.11/site-packages/pandas/core/indexes/base.py:3812\u001b[0m, in \u001b[0;36mIndex.get_loc\u001b[0;34m(self, key)\u001b[0m\n\u001b[1;32m   3807\u001b[0m     \u001b[39mif\u001b[39;00m \u001b[39misinstance\u001b[39m(casted_key, \u001b[39mslice\u001b[39m) \u001b[39mor\u001b[39;00m (\n\u001b[1;32m   3808\u001b[0m         \u001b[39misinstance\u001b[39m(casted_key, abc\u001b[39m.\u001b[39mIterable)\n\u001b[1;32m   3809\u001b[0m         \u001b[39mand\u001b[39;00m \u001b[39many\u001b[39m(\u001b[39misinstance\u001b[39m(x, \u001b[39mslice\u001b[39m) \u001b[39mfor\u001b[39;00m x \u001b[39min\u001b[39;00m casted_key)\n\u001b[1;32m   3810\u001b[0m     ):\n\u001b[1;32m   3811\u001b[0m         \u001b[39mraise\u001b[39;00m InvalidIndexError(key)\n\u001b[0;32m-> 3812\u001b[0m     \u001b[39mraise\u001b[39;00m \u001b[39mKeyError\u001b[39;00m(key) \u001b[39mfrom\u001b[39;00m \u001b[39merr\u001b[39;00m\n\u001b[1;32m   3813\u001b[0m \u001b[39mexcept\u001b[39;00m \u001b[39mTypeError\u001b[39;00m:\n\u001b[1;32m   3814\u001b[0m     \u001b[39m# If we have a listlike key, _check_indexing_error will raise\u001b[39;00m\n\u001b[1;32m   3815\u001b[0m     \u001b[39m#  InvalidIndexError. Otherwise we fall through and re-raise\u001b[39;00m\n\u001b[1;32m   3816\u001b[0m     \u001b[39m#  the TypeError.\u001b[39;00m\n\u001b[1;32m   3817\u001b[0m     \u001b[39mself\u001b[39m\u001b[39m.\u001b[39m_check_indexing_error(key)\n",
      "\u001b[0;31mKeyError\u001b[0m: 'Handedness_BoxCox'"
     ]
    }
   ],
   "source": [
    "left_handed = data[data['Handedness_Cat'] == 'Left']\n",
    "right_handed = data[data['Handedness_Cat'] == 'Right']\n",
    "\n",
    "sns.histplot(left_handed['Handedness_BoxCox'],label='Left-Handed',bins=10, edgecolor='black', alpha=0.7, stat='density')\n",
    "sns.histplot(right_handed['Handedness_BoxCox'], label='right-Handed',bins=10, edgecolor='black', alpha=0.7, stat='density')\n",
    "\n",
    "plt.legend()\n",
    "plt.grid(alpha=0.3)\n",
    "plt.show()"
   ]
  },
  {
   "cell_type": "code",
   "execution_count": null,
   "metadata": {},
   "outputs": [],
   "source": [
    "# from scipy.stats import skew, kurtosis\n",
    "\n",
    "# print(\"Original Skewness:\", skew(data['Handedness']))\n",
    "# print(\"Transformed Skewness:\", skew(data['log_transformed_handedness']))\n",
    "\n",
    "# print(\"Original Kurtosis:\", kurtosis(data['Handedness']))\n",
    "# print(\"Transformed Kurtosis:\", kurtosis(data['log_transformed_handedness']))\n"
   ]
  },
  {
   "cell_type": "code",
   "execution_count": null,
   "metadata": {},
   "outputs": [],
   "source": []
  }
 ],
 "metadata": {
  "kernelspec": {
   "display_name": "Python 3",
   "language": "python",
   "name": "python3"
  },
  "language_info": {
   "codemirror_mode": {
    "name": "ipython",
    "version": 3
   },
   "file_extension": ".py",
   "mimetype": "text/x-python",
   "name": "python",
   "nbconvert_exporter": "python",
   "pygments_lexer": "ipython3",
   "version": "3.11.7"
  },
  "orig_nbformat": 4
 },
 "nbformat": 4,
 "nbformat_minor": 2
}
