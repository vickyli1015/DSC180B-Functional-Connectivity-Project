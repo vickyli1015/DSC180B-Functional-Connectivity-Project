{
 "cells": [
  {
   "cell_type": "code",
   "execution_count": 89,
   "metadata": {},
   "outputs": [],
   "source": [
    "import pandas as pd \n",
    "import numpy as np\n",
    "import matplotlib.pyplot as plt\n",
    "import seaborn as sns\n",
    "import os\n",
    "\n",
    "from sklearn.model_selection import train_test_split\n",
    "from sklearn.preprocessing import StandardScaler\n",
    "# from sklearn.svm import SVC, SVR\n",
    "from sklearn.linear_model import LassoCV\n",
    "from sklearn.linear_model import LogisticRegressionCV\n",
    "from sklearn.metrics import accuracy_score, classification_report, confusion_matrix, accuracy_score, mean_squared_error, r2_score, roc_curve, auc\n",
    "# from sklearn.pipeline import Pipeline\n",
    "from imblearn.over_sampling import SMOTE\n",
    "\n",
    "import pandas as pd\n",
    "pd.options.mode.chained_assignment = None  # Hide long warnings\n",
    "\n",
    "import tensorflow as tf\n",
    "from tensorflow.keras.models import Sequential\n",
    "from tensorflow.keras.layers import Conv2D, MaxPooling2D, Flatten, Dense, Dropout\n",
    "from tensorflow.keras.optimizers import Adam\n",
    "from sklearn.model_selection import train_test_split\n",
    "\n",
    "import random\n",
    "from sklearn.model_selection import StratifiedKFold, train_test_split\n",
    "from sklearn.utils.class_weight import compute_class_weight\n",
    "from tensorflow.keras.callbacks import ReduceLROnPlateau"
   ]
  },
  {
   "attachments": {},
   "cell_type": "markdown",
   "metadata": {},
   "source": [
    "### d100"
   ]
  },
  {
   "cell_type": "code",
   "execution_count": 5,
   "metadata": {},
   "outputs": [
    {
     "name": "stdout",
     "output_type": "stream",
     "text": [
      "The Python package you are importing, AtlasReader, is licensed under the\n",
      "BSD-3 license; however, the atlases it uses are separately licensed under more\n",
      "restrictive frameworks.\n",
      "By using AtlasReader, you agree to abide by the license terms of the\n",
      "individual atlases. Information on these terms can be found online at:\n",
      "https://github.com/miykael/atlasreader/tree/master/atlasreader/data\n",
      "\n",
      "BRAIN REGIONS:\n",
      "--------------\n",
      "[[np.float64(62.0), 'Right_Occipital_Pole']]\n",
      "[[np.float64(50.0), 'Right_Lateral_Occipital_Cortex_superior_division'], [np.float64(30.0), 'Right_Angular_Gyrus']]\n",
      "[[np.float64(56.0), 'Right_Lateral_Occipital_Cortex_inferior_division'], [np.float64(14.0), 'Right_Occipital_Pole']]\n",
      "[[np.float64(54.0), 'Left_Cuneal_Cortex'], [np.float64(9.0), 'Right_Cuneal_Cortex']]\n",
      "[[np.float64(81.0), 'Left_Supramarginal_Gyrus_anterior_division'], [np.float64(6.0), 'Left_Supramarginal_Gyrus_posterior_division']]\n",
      "[[np.float64(85.0), 'Right_Lateral_Occipital_Cortex_superior_division']]\n",
      "[[np.float64(66.0), 'Right_Supramarginal_Gyrus_posterior_division'], [np.float64(14.0), 'Right_Angular_Gyrus']]\n",
      "[[np.float64(68.0), 'Right_Lateral_Occipital_Cortex_superior_division']]\n",
      "[[np.float64(72.0), 'Left_Lateral_Occipital_Cortex_superior_division']]\n",
      "[[np.float64(49.0), 'Right_Precuneous_Cortex'], [np.float64(30.0), 'Left_Precuneous_Cortex']]\n",
      "[[np.float64(47.0), 'Right_Occipital_Fusiform_Gyrus'], [np.float64(26.0), 'Right_Lingual_Gyrus']]\n",
      "[[np.float64(46.0), 'Left_Angular_Gyrus'], [np.float64(22.0), 'Left_Supramarginal_Gyrus_posterior_division'], [np.float64(7.0), 'Left_Lateral_Occipital_Cortex_superior_division']]\n",
      "[[np.float64(45.0), 'Left_Lateral_Occipital_Cortex_superior_division'], [np.float64(17.0), 'Left_Occipital_Pole']]\n",
      "[[np.float64(61.0), 'Left_Lateral_Occipital_Cortex_superior_division'], [np.float64(9.0), 'Left_Superior_Parietal_Lobule']]\n",
      "[[np.float64(39.0), 'Left_Precuneous_Cortex'], [np.float64(29.0), 'Right_Precuneous_Cortex'], [np.float64(5.0), 'Left_Cuneal_Cortex']]\n",
      "[[np.float64(47.0), 'Right_Occipital_Pole'], [np.float64(6.0), 'Right_Lateral_Occipital_Cortex_superior_division']]\n",
      "[[np.float64(64.0), 'Right_Intracalcarine_Cortex']]\n",
      "[[np.float64(43.0), 'Right_Lateral_Occipital_Cortex_superior_division'], [np.float64(5.0), 'Right_Precuneous_Cortex']]\n",
      "[[np.float64(17.0), 'Left_Occipital_Pole'], [np.float64(13.0), 'Right_Occipital_Pole'], [np.float64(13.0), 'Left_Intracalcarine_Cortex'], [np.float64(9.0), 'Left_Lingual_Gyrus'], [np.float64(9.0), 'Right_Intracalcarine_Cortex'], [np.float64(7.0), 'Left_Supracalcarine_Cortex'], [np.float64(6.0), 'Right_Lingual_Gyrus'], [np.float64(5.0), 'Right_Supracalcarine_Cortex']]\n",
      "[[np.float64(75.0), 'Left_Lateral_Occipital_Cortex_superior_division']]\n",
      "[[np.float64(37.0), 'Left_Postcentral_Gyrus'], [np.float64(33.0), 'Left_Precentral_Gyrus']]\n",
      "[[np.float64(11.0), 'Left_Superior_Frontal_Gyrus'], [np.float64(8.0), 'Right_Superior_Frontal_Gyrus'], [np.float64(7.0), 'Left_Frontal_Pole'], [np.float64(5.0), 'Right_Frontal_Pole']]\n",
      "[[np.float64(63.0), 'Right_Supramarginal_Gyrus_anterior_division'], [np.float64(9.0), 'Right_Postcentral_Gyrus']]\n",
      "[[np.float64(68.0), 'Right_Lateral_Occipital_Cortex_superior_division']]\n",
      "[[np.float64(71.0), 'Left_Occipital_Pole']]\n",
      "[[np.float64(82.0), 'Left_Frontal_Pole']]\n",
      "[[np.float64(56.0), 'Right_Superior_Parietal_Lobule'], [np.float64(17.0), 'Right_Postcentral_Gyrus']]\n",
      "[[np.float64(56.0), 'Left_Occipital_Pole']]\n",
      "[[np.float64(25.0), 'Left_Middle_Temporal_Gyrus_posterior_division'], [np.float64(18.0), 'Left_Superior_Temporal_Gyrus_posterior_division'], [np.float64(14.0), 'Left_Middle_Temporal_Gyrus_anterior_division'], [np.float64(9.0), 'Left_Superior_Temporal_Gyrus_anterior_division']]\n",
      "[[np.float64(63.0), 'Right_Lateral_Occipital_Cortex_inferior_division'], [np.float64(6.0), 'Right_Lateral_Occipital_Cortex_superior_division']]\n",
      "[[np.float64(35.0), 'Right_Supramarginal_Gyrus_posterior_division'], [np.float64(29.0), 'Right_Angular_Gyrus']]\n",
      "[[np.float64(45.0), 'Right_Occipital_Pole']]\n",
      "[[np.float64(77.0), 'Left_Frontal_Pole']]\n",
      "[[np.float64(44.0), 'Left_Lateral_Occipital_Cortex_superior_division'], [np.float64(17.0), 'Left_Superior_Parietal_Lobule']]\n",
      "[[np.float64(47.0), 'Left_Postcentral_Gyrus'], [np.float64(28.0), 'Left_Supramarginal_Gyrus_anterior_division']]\n",
      "[[np.float64(39.0), 'Left_Paracingulate_Gyrus'], [np.float64(33.0), 'Left_Frontal_Pole']]\n",
      "[[np.float64(33.0), 'Left_Inferior_Frontal_Gyrus_pars_opercularis'], [np.float64(29.0), 'Left_Inferior_Frontal_Gyrus_pars_triangularis']]\n",
      "[[np.float64(46.0), 'Right_Juxtapositional_Lobule_Cortex_(formerly_Supplementary_Motor_Cortex)'], [np.float64(19.0), 'Left_Juxtapositional_Lobule_Cortex_(formerly_Supplementary_Motor_Cortex)']]\n",
      "[[np.float64(26.0), 'Right_Occipital_Fusiform_Gyrus'], [np.float64(25.0), 'Right_Occipital_Pole'], [np.float64(13.0), 'Right_Lingual_Gyrus']]\n",
      "[[np.float64(43.0), 'Right_Middle_Frontal_Gyrus'], [np.float64(21.0), 'Right_Inferior_Frontal_Gyrus_pars_opercularis'], [np.float64(8.0), 'Right_Inferior_Frontal_Gyrus_pars_triangularis']]\n",
      "[[np.float64(53.0), 'Left_Postcentral_Gyrus'], [np.float64(13.0), 'Left_Precentral_Gyrus']]\n",
      "[[0, 'no_label']]\n",
      "[[np.float64(48.0), 'Right_Postcentral_Gyrus'], [np.float64(8.0), 'Right_Precentral_Gyrus']]\n",
      "[[np.float64(48.0), 'Left_Inferior_Frontal_Gyrus_pars_triangularis'], [np.float64(27.0), 'Left_Frontal_Pole'], [np.float64(7.0), 'Left_Middle_Frontal_Gyrus']]\n",
      "[[np.float64(29.0), 'Right_Planum_Temporale'], [np.float64(13.0), 'Right_Superior_Temporal_Gyrus_posterior_division']]\n",
      "[[0, 'no_label']]\n",
      "[[np.float64(43.0), 'Right_Precentral_Gyrus'], [np.float64(11.0), 'Left_Precentral_Gyrus'], [np.float64(7.0), 'Right_Postcentral_Gyrus']]\n",
      "[[np.float64(76.0), 'Right_Frontal_Pole']]\n",
      "[[np.float64(5.0), 'Right_Occipital_Fusiform_Gyrus']]\n",
      "[[0, 'no_label']]\n",
      "[[0, 'no_label']]\n",
      "[[0, 'no_label']]\n",
      "[[0, 'no_label']]\n",
      "[[0, 'no_label']]\n",
      "[[0, 'no_label']]\n",
      "[[0, 'no_label']]\n",
      "[[0, 'no_label']]\n",
      "[[0, 'no_label']]\n",
      "[[0, 'no_label']]\n",
      "[[np.float64(48.0), 'Right_Hippocampus'], [np.float64(35.0), 'Right_Amygdala']]\n",
      "[[0, 'no_label']]\n",
      "[[0, 'no_label']]\n",
      "[[np.float64(83.0), 'Right_Caudate'], [np.float64(16.0), 'Right_Lateral_Ventricle']]\n",
      "[[0, 'no_label']]\n",
      "[[np.float64(99.0), 'Left_Putamen']]\n",
      "[[0, 'no_label']]\n",
      "[[np.float64(100.0), 'Left_Thalamus']]\n",
      "[[0, 'no_label']]\n",
      "[[np.float64(100.0), 'Left_Putamen']]\n",
      "[[0, 'no_label']]\n",
      "[[np.float64(41.0), 'Brain-Stem']]\n",
      "[[0, 'no_label']]\n",
      "[[0, 'no_label']]\n",
      "[[0, 'no_label']]\n",
      "[[0, 'no_label']]\n",
      "[[np.float64(100.0), 'Right_Putamen']]\n",
      "[[0, 'no_label']]\n",
      "[[0, 'no_label']]\n",
      "[[np.float64(94.0), 'Left_Caudate'], [np.float64(5.0), 'Left_Lateral_Ventrical']]\n",
      "[[np.float64(100.0), 'Brain-Stem']]\n",
      "[[np.float64(100.0), 'Brain-Stem']]\n",
      "[[0, 'no_label']]\n",
      "[[0, 'no_label']]\n",
      "[[0, 'no_label']]\n",
      "[[0, 'no_label']]\n",
      "[[np.float64(100.0), 'Brain-Stem']]\n",
      "[[np.float64(100.0), 'Right_Thalamus']]\n",
      "[[0, 'no_label']]\n",
      "[[0, 'no_label']]\n",
      "[[0, 'no_label']]\n",
      "[[np.float64(100.0), 'Brain-Stem']]\n",
      "[[0, 'no_label']]\n",
      "[[0, 'no_label']]\n",
      "[[np.float64(100.0), 'Brain-Stem']]\n",
      "[[np.float64(97.0), 'Brain-Stem']]\n",
      "[[np.float64(99.0), 'Left_Thalamus']]\n",
      "[[np.float64(96.0), 'Right_Thalamus']]\n",
      "[[np.float64(92.0), 'Brain-Stem']]\n",
      "[[0, 'no_label']]\n",
      "[[0, 'no_label']]\n"
     ]
    }
   ],
   "source": [
    "from nilearn import image, plotting\n",
    "from atlasreader.atlasreader import read_atlas_peak\n",
    "\n",
    "\"\"\"\n",
    "available reference atlases\n",
    "---------------------------\n",
    "    \"aal\",\n",
    "    \"aicha\",\n",
    "    \"desikan_killiany\",\n",
    "    \"destrieux\",\n",
    "    \"harvard_oxford\",\n",
    "    \"juelich\",\n",
    "    \"marsatlas\",\n",
    "    \"neuromorphometrics\",\n",
    "    \"talairach_ba\",\n",
    "    \"talairach_gyrus\",\n",
    " \"\"\"\n",
    "\n",
    "atlas = image.threshold_img(\"HCP_PTN1200/groupICA/groupICA_3T_HCP1200_MSMAll_d100.ica/melodic_IC_sum.nii.gz\", \"99.5%\") \n",
    "atlas_coords = plotting.find_probabilistic_atlas_cut_coords(atlas)\n",
    "brain_region = []\n",
    "print(\"BRAIN REGIONS:\\n--------------\")\n",
    "for atlas_coord in atlas_coords:\n",
    "    region = read_atlas_peak(\"harvard_oxford\", atlas_coord)\n",
    "    print(region)\n",
    "    brain_region += [region]"
   ]
  },
  {
   "cell_type": "code",
   "execution_count": 6,
   "metadata": {},
   "outputs": [
    {
     "data": {
      "text/plain": [
       "['Right_Occipital_Pole',\n",
       " 'Right_Lateral_Occipital_Cortex_superior_division',\n",
       " 'Right_Lateral_Occipital_Cortex_inferior_division',\n",
       " 'Left_Cuneal_Cortex',\n",
       " 'Left_Supramarginal_Gyrus_anterior_division',\n",
       " 'Right_Lateral_Occipital_Cortex_superior_division',\n",
       " 'Right_Supramarginal_Gyrus_posterior_division',\n",
       " 'Right_Lateral_Occipital_Cortex_superior_division',\n",
       " 'Left_Lateral_Occipital_Cortex_superior_division',\n",
       " 'Right_Precuneous_Cortex',\n",
       " 'Right_Occipital_Fusiform_Gyrus',\n",
       " 'Left_Angular_Gyrus',\n",
       " 'Left_Lateral_Occipital_Cortex_superior_division',\n",
       " 'Left_Lateral_Occipital_Cortex_superior_division',\n",
       " 'Left_Precuneous_Cortex',\n",
       " 'Right_Occipital_Pole',\n",
       " 'Right_Intracalcarine_Cortex',\n",
       " 'Right_Lateral_Occipital_Cortex_superior_division',\n",
       " 'Left_Occipital_Pole',\n",
       " 'Left_Lateral_Occipital_Cortex_superior_division',\n",
       " 'Left_Postcentral_Gyrus',\n",
       " 'Left_Superior_Frontal_Gyrus',\n",
       " 'Right_Supramarginal_Gyrus_anterior_division',\n",
       " 'Right_Lateral_Occipital_Cortex_superior_division',\n",
       " 'Left_Occipital_Pole',\n",
       " 'Left_Frontal_Pole',\n",
       " 'Right_Superior_Parietal_Lobule',\n",
       " 'Left_Occipital_Pole',\n",
       " 'Left_Middle_Temporal_Gyrus_posterior_division',\n",
       " 'Right_Lateral_Occipital_Cortex_inferior_division',\n",
       " 'Right_Supramarginal_Gyrus_posterior_division',\n",
       " 'Right_Occipital_Pole',\n",
       " 'Left_Frontal_Pole',\n",
       " 'Left_Lateral_Occipital_Cortex_superior_division',\n",
       " 'Left_Postcentral_Gyrus',\n",
       " 'Left_Paracingulate_Gyrus',\n",
       " 'Left_Inferior_Frontal_Gyrus_pars_opercularis',\n",
       " 'Right_Juxtapositional_Lobule_Cortex_(formerly_Supplementary_Motor_Cortex)',\n",
       " 'Right_Occipital_Fusiform_Gyrus',\n",
       " 'Right_Middle_Frontal_Gyrus',\n",
       " 'Left_Postcentral_Gyrus',\n",
       " 'no_label',\n",
       " 'Right_Postcentral_Gyrus',\n",
       " 'Left_Inferior_Frontal_Gyrus_pars_triangularis',\n",
       " 'Right_Planum_Temporale',\n",
       " 'no_label',\n",
       " 'Right_Precentral_Gyrus',\n",
       " 'Right_Frontal_Pole',\n",
       " 'Right_Occipital_Fusiform_Gyrus',\n",
       " 'no_label',\n",
       " 'no_label',\n",
       " 'no_label',\n",
       " 'no_label',\n",
       " 'no_label',\n",
       " 'no_label',\n",
       " 'no_label',\n",
       " 'no_label',\n",
       " 'no_label',\n",
       " 'no_label',\n",
       " 'Right_Hippocampus',\n",
       " 'no_label',\n",
       " 'no_label',\n",
       " 'Right_Caudate',\n",
       " 'no_label',\n",
       " 'Left_Putamen',\n",
       " 'no_label',\n",
       " 'Left_Thalamus',\n",
       " 'no_label',\n",
       " 'Left_Putamen',\n",
       " 'no_label',\n",
       " 'Brain-Stem',\n",
       " 'no_label',\n",
       " 'no_label',\n",
       " 'no_label',\n",
       " 'no_label',\n",
       " 'Right_Putamen',\n",
       " 'no_label',\n",
       " 'no_label',\n",
       " 'Left_Caudate',\n",
       " 'Brain-Stem',\n",
       " 'Brain-Stem',\n",
       " 'no_label',\n",
       " 'no_label',\n",
       " 'no_label',\n",
       " 'no_label',\n",
       " 'Brain-Stem',\n",
       " 'Right_Thalamus',\n",
       " 'no_label',\n",
       " 'no_label',\n",
       " 'no_label',\n",
       " 'Brain-Stem',\n",
       " 'no_label',\n",
       " 'no_label',\n",
       " 'Brain-Stem',\n",
       " 'Brain-Stem',\n",
       " 'Left_Thalamus',\n",
       " 'Right_Thalamus',\n",
       " 'Brain-Stem',\n",
       " 'no_label',\n",
       " 'no_label']"
      ]
     },
     "execution_count": 6,
     "metadata": {},
     "output_type": "execute_result"
    }
   ],
   "source": [
    "#select the correct region with largest probability given from the library\n",
    "brain_region = [\n",
    "    max(inner_list, key=lambda x: x[0])[-1] if inner_list else None for inner_list in brain_region\n",
    "]\n",
    "brain_region"
   ]
  },
  {
   "cell_type": "code",
   "execution_count": 7,
   "metadata": {},
   "outputs": [],
   "source": [
    "open_access_data = pd.read_csv(\"Behavioral Data/Behavioral_Data.csv\")\n",
    "restricted_data = pd.read_csv(\"Behavioral Data/RESTRICTED_BEHAVIORAL_DATA.csv\")\n",
    "subject_data = open_access_data.merge(restricted_data, how = 'inner', on = 'Subject')\n",
    "\n",
    "folder = 'HCP_PTN1200/node_timeseries/3T_HCP1200_MSMAll_d100_ts2'\n",
    "brain_files = [f for f in os.listdir(folder) if f.endswith('.txt')]\n",
    "brain_data = {}\n",
    "\n",
    "for filename in brain_files:\n",
    "    subject_id = int(filename[:6])\n",
    "    file_path = os.path.join(folder, filename)\n",
    "    subject_brain_data = np.loadtxt(file_path)\n",
    "    brain_data[subject_id] = subject_brain_data\n",
    "\n",
    "brain_data_df = pd.DataFrame({\n",
    "    'Subject': list(brain_data.keys()),\n",
    "    'Brain_Data': list(brain_data.values())  # (4800, 100) arrays\n",
    "})\n",
    "brain_data_df\n",
    "\n",
    "data = subject_data.merge(brain_data_df, on='Subject', how='inner')"
   ]
  },
  {
   "cell_type": "code",
   "execution_count": 8,
   "metadata": {},
   "outputs": [
    {
     "data": {
      "text/plain": [
       "(1003, 783)"
      ]
     },
     "execution_count": 8,
     "metadata": {},
     "output_type": "execute_result"
    }
   ],
   "source": [
    "data.shape"
   ]
  },
  {
   "cell_type": "code",
   "execution_count": 9,
   "metadata": {},
   "outputs": [
    {
     "data": {
      "text/html": [
       "<div>\n",
       "<style scoped>\n",
       "    .dataframe tbody tr th:only-of-type {\n",
       "        vertical-align: middle;\n",
       "    }\n",
       "\n",
       "    .dataframe tbody tr th {\n",
       "        vertical-align: top;\n",
       "    }\n",
       "\n",
       "    .dataframe thead th {\n",
       "        text-align: right;\n",
       "    }\n",
       "</style>\n",
       "<table border=\"1\" class=\"dataframe\">\n",
       "  <thead>\n",
       "    <tr style=\"text-align: right;\">\n",
       "      <th></th>\n",
       "      <th>Subject</th>\n",
       "      <th>Gender</th>\n",
       "      <th>Race</th>\n",
       "      <th>Handedness</th>\n",
       "      <th>Handedness_Cat</th>\n",
       "    </tr>\n",
       "  </thead>\n",
       "  <tbody>\n",
       "    <tr>\n",
       "      <th>0</th>\n",
       "      <td>100206</td>\n",
       "      <td>M</td>\n",
       "      <td>White</td>\n",
       "      <td>65</td>\n",
       "      <td>1</td>\n",
       "    </tr>\n",
       "    <tr>\n",
       "      <th>1</th>\n",
       "      <td>100307</td>\n",
       "      <td>F</td>\n",
       "      <td>White</td>\n",
       "      <td>95</td>\n",
       "      <td>1</td>\n",
       "    </tr>\n",
       "    <tr>\n",
       "      <th>2</th>\n",
       "      <td>100408</td>\n",
       "      <td>M</td>\n",
       "      <td>White</td>\n",
       "      <td>55</td>\n",
       "      <td>1</td>\n",
       "    </tr>\n",
       "    <tr>\n",
       "      <th>3</th>\n",
       "      <td>100610</td>\n",
       "      <td>M</td>\n",
       "      <td>White</td>\n",
       "      <td>85</td>\n",
       "      <td>1</td>\n",
       "    </tr>\n",
       "    <tr>\n",
       "      <th>4</th>\n",
       "      <td>101006</td>\n",
       "      <td>F</td>\n",
       "      <td>Black or African Am.</td>\n",
       "      <td>90</td>\n",
       "      <td>1</td>\n",
       "    </tr>\n",
       "    <tr>\n",
       "      <th>...</th>\n",
       "      <td>...</td>\n",
       "      <td>...</td>\n",
       "      <td>...</td>\n",
       "      <td>...</td>\n",
       "      <td>...</td>\n",
       "    </tr>\n",
       "    <tr>\n",
       "      <th>998</th>\n",
       "      <td>992673</td>\n",
       "      <td>F</td>\n",
       "      <td>White</td>\n",
       "      <td>70</td>\n",
       "      <td>1</td>\n",
       "    </tr>\n",
       "    <tr>\n",
       "      <th>999</th>\n",
       "      <td>992774</td>\n",
       "      <td>M</td>\n",
       "      <td>White</td>\n",
       "      <td>100</td>\n",
       "      <td>1</td>\n",
       "    </tr>\n",
       "    <tr>\n",
       "      <th>1000</th>\n",
       "      <td>993675</td>\n",
       "      <td>F</td>\n",
       "      <td>White</td>\n",
       "      <td>85</td>\n",
       "      <td>1</td>\n",
       "    </tr>\n",
       "    <tr>\n",
       "      <th>1001</th>\n",
       "      <td>994273</td>\n",
       "      <td>M</td>\n",
       "      <td>White</td>\n",
       "      <td>60</td>\n",
       "      <td>1</td>\n",
       "    </tr>\n",
       "    <tr>\n",
       "      <th>1002</th>\n",
       "      <td>996782</td>\n",
       "      <td>F</td>\n",
       "      <td>White</td>\n",
       "      <td>100</td>\n",
       "      <td>1</td>\n",
       "    </tr>\n",
       "  </tbody>\n",
       "</table>\n",
       "<p>1003 rows × 5 columns</p>\n",
       "</div>"
      ],
      "text/plain": [
       "      Subject Gender                  Race  Handedness  Handedness_Cat\n",
       "0      100206      M                 White          65               1\n",
       "1      100307      F                 White          95               1\n",
       "2      100408      M                 White          55               1\n",
       "3      100610      M                 White          85               1\n",
       "4      101006      F  Black or African Am.          90               1\n",
       "...       ...    ...                   ...         ...             ...\n",
       "998    992673      F                 White          70               1\n",
       "999    992774      M                 White         100               1\n",
       "1000   993675      F                 White          85               1\n",
       "1001   994273      M                 White          60               1\n",
       "1002   996782      F                 White         100               1\n",
       "\n",
       "[1003 rows x 5 columns]"
      ]
     },
     "execution_count": 9,
     "metadata": {},
     "output_type": "execute_result"
    }
   ],
   "source": [
    "data[\"Handedness_Cat\"] = data[\"Handedness\"].apply(lambda x: 0 if x < 0 else 1) # 0: left handed, 1: right handed\n",
    "hand_data = data[[\"Subject\", \"Gender\", \"Race\", \"Handedness\", \"Handedness_Cat\"]]\n",
    "hand_data"
   ]
  },
  {
   "attachments": {},
   "cell_type": "markdown",
   "metadata": {},
   "source": [
    "Correlation Matrices"
   ]
  },
  {
   "cell_type": "code",
   "execution_count": 10,
   "metadata": {},
   "outputs": [],
   "source": [
    "correlation_matrix_list = []\n",
    "for i in range(data.shape[0]):\n",
    "    person = data[\"Brain_Data\"][i]\n",
    "    #get matrix\n",
    "    person_matrix = np.corrcoef(person.T)\n",
    "    #append to list\n",
    "    correlation_matrix_list.append(person_matrix)\n",
    "#append to column\n",
    "data[\"correlation_matrix\"] = correlation_matrix_list"
   ]
  },
  {
   "cell_type": "code",
   "execution_count": 11,
   "metadata": {},
   "outputs": [
    {
     "data": {
      "text/plain": [
       "0       [[1.0, -0.0338191132436591, 0.6320023466487581...\n",
       "1       [[1.0, -0.05357125566667345, 0.416846676528844...\n",
       "2       [[1.0, -0.06527209331431859, 0.343919331534949...\n",
       "3       [[1.0, 0.03483607578914373, 0.2461541961309962...\n",
       "4       [[1.0, 0.22646218683828628, 0.3200554052820826...\n",
       "                              ...                        \n",
       "998     [[1.0, -0.05700951869724855, 0.056421358264344...\n",
       "999     [[0.9999999999999999, 0.14797456065133022, 0.4...\n",
       "1000    [[0.9999999999999999, -0.12563798932117914, 0....\n",
       "1001    [[0.9999999999999999, 0.04063140015289049, 0.5...\n",
       "1002    [[0.9999999999999999, 0.06446200081694943, 0.3...\n",
       "Name: correlation_matrix, Length: 1003, dtype: object"
      ]
     },
     "execution_count": 11,
     "metadata": {},
     "output_type": "execute_result"
    }
   ],
   "source": [
    "data[\"correlation_matrix\"]"
   ]
  },
  {
   "cell_type": "code",
   "execution_count": 12,
   "metadata": {},
   "outputs": [
    {
     "name": "stdout",
     "output_type": "stream",
     "text": [
      "(74, 785) (891, 785)\n"
     ]
    }
   ],
   "source": [
    "threshold = 25\n",
    "filtered_df = data[(data['Handedness'] > threshold) | (data['Handedness'] < -threshold)]\n",
    "\n",
    "# Separate into left and right handed\n",
    "left_handed = filtered_df[filtered_df['Handedness'] < 0]\n",
    "right_handed = filtered_df[filtered_df['Handedness'] > 0]\n",
    "print(left_handed.shape, right_handed.shape)\n",
    "\n",
    "# Determine the number of samples to select from the right-handed data\n",
    "num_samples = min(len(left_handed), len(right_handed))\n",
    "\n",
    "# Randomly sample from the right-handed data\n",
    "right_handed_sample = right_handed.sample(n=num_samples, random_state=42)\n",
    "\n",
    "# Combine the left and right handed data\n",
    "combined_df = pd.concat([left_handed, right_handed_sample])\n",
    "\n",
    "# Optionally shuffle the final dataframe to mix left and right handed samples\n",
    "combined_df = combined_df.sample(frac=1).reset_index(drop=True)\n",
    "\n",
    "data = combined_df"
   ]
  },
  {
   "cell_type": "code",
   "execution_count": 13,
   "metadata": {},
   "outputs": [
    {
     "data": {
      "text/plain": [
       "(148, 785)"
      ]
     },
     "execution_count": 13,
     "metadata": {},
     "output_type": "execute_result"
    }
   ],
   "source": [
    "data.shape"
   ]
  },
  {
   "cell_type": "code",
   "execution_count": 14,
   "metadata": {},
   "outputs": [],
   "source": [
    "# the function extracts the part of correlation matrix that corresponds to a certain feature (i.e. brain region)\n",
    "def correlation_matrix_of_feature(target):\n",
    "    target_index = brain_region.index(target)\n",
    "    target_row = data['correlation_matrix'].apply(lambda x: x[target_index])\n",
    "    return target_row"
   ]
  },
  {
   "cell_type": "code",
   "execution_count": 15,
   "metadata": {},
   "outputs": [
    {
     "data": {
      "text/plain": [
       "0      [0.009347357415635815, -0.1932150890933106, 0....\n",
       "1      [0.09628556690575323, -0.027078766611619346, 0...\n",
       "2      [0.016447840126276383, -0.23507002757968745, 0...\n",
       "3      [0.10363307126222238, -0.3502124628852831, 0.2...\n",
       "4      [0.2010259224796355, -0.2104084028835244, 0.16...\n",
       "                             ...                        \n",
       "143    [0.2294360436610321, -0.08233049955246637, 0.1...\n",
       "144    [0.0726778417218496, -0.07735681481665296, 0.0...\n",
       "145    [-0.16100334440684044, -0.08051479650889737, 0...\n",
       "146    [0.11140372211825594, -0.2353738523390117, 0.1...\n",
       "147    [0.17898868743038088, -0.052091650760991204, 0...\n",
       "Name: correlation_matrix, Length: 148, dtype: object"
      ]
     },
     "execution_count": 15,
     "metadata": {},
     "output_type": "execute_result"
    }
   ],
   "source": [
    "# e.g. partial correlation matrix that only corresponds how \"Right_Planum_Temporale\" relates to other brain regions\n",
    "correlation_matrix_of_feature(\"Right_Planum_Temporale\")"
   ]
  },
  {
   "cell_type": "code",
   "execution_count": 16,
   "metadata": {},
   "outputs": [
    {
     "name": "stderr",
     "output_type": "stream",
     "text": [
      "/var/folders/bz/8tkr7qg51_1bcjy3cf4g8fzc0000gn/T/ipykernel_88733/2332872215.py:2: SettingWithCopyWarning: \n",
      "A value is trying to be set on a copy of a slice from a DataFrame.\n",
      "Try using .loc[row_indexer,col_indexer] = value instead\n",
      "\n",
      "See the caveats in the documentation: https://pandas.pydata.org/pandas-docs/stable/user_guide/indexing.html#returning-a-view-versus-a-copy\n",
      "  feature_data['matrix_mean'] = data['correlation_matrix'].apply(lambda x: np.mean(x))\n"
     ]
    },
    {
     "data": {
      "text/html": [
       "<div>\n",
       "<style scoped>\n",
       "    .dataframe tbody tr th:only-of-type {\n",
       "        vertical-align: middle;\n",
       "    }\n",
       "\n",
       "    .dataframe tbody tr th {\n",
       "        vertical-align: top;\n",
       "    }\n",
       "\n",
       "    .dataframe thead th {\n",
       "        text-align: right;\n",
       "    }\n",
       "</style>\n",
       "<table border=\"1\" class=\"dataframe\">\n",
       "  <thead>\n",
       "    <tr style=\"text-align: right;\">\n",
       "      <th></th>\n",
       "      <th>Handedness</th>\n",
       "      <th>Handedness_Cat</th>\n",
       "      <th>correlation_matrix</th>\n",
       "      <th>matrix_mean</th>\n",
       "    </tr>\n",
       "  </thead>\n",
       "  <tbody>\n",
       "    <tr>\n",
       "      <th>0</th>\n",
       "      <td>-45</td>\n",
       "      <td>0</td>\n",
       "      <td>[[1.0, 0.02637186492278035, 0.2540302550786543...</td>\n",
       "      <td>0.013336</td>\n",
       "    </tr>\n",
       "    <tr>\n",
       "      <th>1</th>\n",
       "      <td>80</td>\n",
       "      <td>1</td>\n",
       "      <td>[[1.0, -0.07713475340282065, 0.467291137801590...</td>\n",
       "      <td>0.011309</td>\n",
       "    </tr>\n",
       "    <tr>\n",
       "      <th>2</th>\n",
       "      <td>80</td>\n",
       "      <td>1</td>\n",
       "      <td>[[1.0, 0.14658856903516843, 0.1127771806060010...</td>\n",
       "      <td>0.011950</td>\n",
       "    </tr>\n",
       "    <tr>\n",
       "      <th>3</th>\n",
       "      <td>90</td>\n",
       "      <td>1</td>\n",
       "      <td>[[1.0, 0.06605886233989784, 0.5309770667251769...</td>\n",
       "      <td>0.011988</td>\n",
       "    </tr>\n",
       "    <tr>\n",
       "      <th>4</th>\n",
       "      <td>-60</td>\n",
       "      <td>0</td>\n",
       "      <td>[[1.0, -0.042028031881806004, 0.51845165318599...</td>\n",
       "      <td>0.013248</td>\n",
       "    </tr>\n",
       "    <tr>\n",
       "      <th>...</th>\n",
       "      <td>...</td>\n",
       "      <td>...</td>\n",
       "      <td>...</td>\n",
       "      <td>...</td>\n",
       "    </tr>\n",
       "    <tr>\n",
       "      <th>143</th>\n",
       "      <td>90</td>\n",
       "      <td>1</td>\n",
       "      <td>[[1.0, -0.07064045658725325, 0.601647351598910...</td>\n",
       "      <td>0.013578</td>\n",
       "    </tr>\n",
       "    <tr>\n",
       "      <th>144</th>\n",
       "      <td>-35</td>\n",
       "      <td>0</td>\n",
       "      <td>[[1.0, 0.06101780803200741, 0.5241945593939938...</td>\n",
       "      <td>0.010481</td>\n",
       "    </tr>\n",
       "    <tr>\n",
       "      <th>145</th>\n",
       "      <td>100</td>\n",
       "      <td>1</td>\n",
       "      <td>[[1.0, 0.1776394364630209, 0.11597129261106735...</td>\n",
       "      <td>0.011060</td>\n",
       "    </tr>\n",
       "    <tr>\n",
       "      <th>146</th>\n",
       "      <td>-100</td>\n",
       "      <td>0</td>\n",
       "      <td>[[0.9999999999999999, 0.02459776392509359, 0.1...</td>\n",
       "      <td>0.012056</td>\n",
       "    </tr>\n",
       "    <tr>\n",
       "      <th>147</th>\n",
       "      <td>-80</td>\n",
       "      <td>0</td>\n",
       "      <td>[[1.0, 0.008101499127137438, 0.525483855437612...</td>\n",
       "      <td>0.012166</td>\n",
       "    </tr>\n",
       "  </tbody>\n",
       "</table>\n",
       "<p>148 rows × 4 columns</p>\n",
       "</div>"
      ],
      "text/plain": [
       "     Handedness  Handedness_Cat  \\\n",
       "0           -45               0   \n",
       "1            80               1   \n",
       "2            80               1   \n",
       "3            90               1   \n",
       "4           -60               0   \n",
       "..          ...             ...   \n",
       "143          90               1   \n",
       "144         -35               0   \n",
       "145         100               1   \n",
       "146        -100               0   \n",
       "147         -80               0   \n",
       "\n",
       "                                    correlation_matrix  matrix_mean  \n",
       "0    [[1.0, 0.02637186492278035, 0.2540302550786543...     0.013336  \n",
       "1    [[1.0, -0.07713475340282065, 0.467291137801590...     0.011309  \n",
       "2    [[1.0, 0.14658856903516843, 0.1127771806060010...     0.011950  \n",
       "3    [[1.0, 0.06605886233989784, 0.5309770667251769...     0.011988  \n",
       "4    [[1.0, -0.042028031881806004, 0.51845165318599...     0.013248  \n",
       "..                                                 ...          ...  \n",
       "143  [[1.0, -0.07064045658725325, 0.601647351598910...     0.013578  \n",
       "144  [[1.0, 0.06101780803200741, 0.5241945593939938...     0.010481  \n",
       "145  [[1.0, 0.1776394364630209, 0.11597129261106735...     0.011060  \n",
       "146  [[0.9999999999999999, 0.02459776392509359, 0.1...     0.012056  \n",
       "147  [[1.0, 0.008101499127137438, 0.525483855437612...     0.012166  \n",
       "\n",
       "[148 rows x 4 columns]"
      ]
     },
     "execution_count": 16,
     "metadata": {},
     "output_type": "execute_result"
    }
   ],
   "source": [
    "feature_data = data[[\"Handedness\", \"Handedness_Cat\", \"correlation_matrix\"]]\n",
    "feature_data['matrix_mean'] = data['correlation_matrix'].apply(lambda x: np.mean(x))\n",
    "feature_data"
   ]
  },
  {
   "cell_type": "code",
   "execution_count": 17,
   "metadata": {},
   "outputs": [
    {
     "name": "stdout",
     "output_type": "stream",
     "text": [
      "{'Left_Middle_Temporal_Gyrus_posterior_division': 0      [0.08353419432952552, -0.08651510507396358, 0....\n",
      "1      [0.10472474053183585, 0.10942245888406131, 0.2...\n",
      "2      [0.06948022379374766, 0.1780086469940417, 0.00...\n",
      "3      [0.09098271798531424, 0.16261884187524656, 0.2...\n",
      "4      [0.23834141136839448, 0.09000973290084123, 0.2...\n",
      "                             ...                        \n",
      "143    [0.10779695818560324, 0.02279429366392982, 0.1...\n",
      "144    [0.06500499320161167, 0.2379023967023803, -0.0...\n",
      "145    [-0.06692272573940614, 0.1391306518452645, 0.0...\n",
      "146    [0.0669855218417067, 0.06847967981203548, 0.08...\n",
      "147    [-0.10112720259308972, 0.40647069978354566, 0....\n",
      "Name: correlation_matrix, Length: 148, dtype: object, 'Left_Paracingulate_Gyrus': 0      [0.0715540073977275, 0.37932547228191055, -0.0...\n",
      "1      [0.17439374448913905, 0.42440488010511984, 0.0...\n",
      "2      [0.28491424001227916, 0.374442013451927, -0.27...\n",
      "3      [0.19383087297413035, 0.2516377696133035, 0.03...\n",
      "4      [0.15052609356139518, 0.17909180632217395, -0....\n",
      "                             ...                        \n",
      "143    [-0.06510173813785976, 0.32205329385184883, -0...\n",
      "144    [0.161710168541964, 0.3666181721188545, 0.0044...\n",
      "145    [0.17345477786486266, 0.563543586045337, -0.06...\n",
      "146    [0.21037332941247247, 0.40891491013535375, -0....\n",
      "147    [0.19111220158443504, 0.35907994365771584, 0.0...\n",
      "Name: correlation_matrix, Length: 148, dtype: object, 'Right_Superior_Parietal_Lobule': 0      [-0.027943371308546863, -0.5624639614559799, 0...\n",
      "1      [0.05238204327873059, -0.31823152709957997, 0....\n",
      "2      [0.03876566461093297, -0.28717573136487623, 0....\n",
      "3      [-0.09645015434623437, -0.4772291401503936, -0...\n",
      "4      [-0.0008608785364633996, -0.3581787785446948, ...\n",
      "                             ...                        \n",
      "143    [0.057807809611737614, -0.2601320318587342, 0....\n",
      "144    [-0.0505542962296194, -0.3255129687566286, 0.0...\n",
      "145    [-0.28811944988381455, -0.36720181079384046, -...\n",
      "146    [0.03782556062130171, -0.4615440186979896, 0.0...\n",
      "147    [-0.06382069269026194, -0.18971929804934898, -...\n",
      "Name: correlation_matrix, Length: 148, dtype: object, 'Right_Supramarginal_Gyrus_posterior_division': 0      [-0.039574155595477487, 0.31179781980092575, -...\n",
      "1      [-0.008666137751109299, 0.00042972235753636044...\n",
      "2      [-0.0992704611579777, 0.15102742570043493, -0....\n",
      "3      [-0.13062080554022445, 0.022562605267546085, -...\n",
      "4      [-0.13380638257231917, 0.18649571347498858, -0...\n",
      "                             ...                        \n",
      "143    [-0.022306123959546297, 0.07617393899402666, 0...\n",
      "144    [-0.030998218178666177, 0.04918547306270048, -...\n",
      "145    [0.041115495166682885, 0.07562491731164367, -0...\n",
      "146    [0.0037599002195669476, 0.1785239225550383, -0...\n",
      "147    [0.09221044249310598, -0.19773529356014008, -0...\n",
      "Name: correlation_matrix, Length: 148, dtype: object, 'Right_Supramarginal_Gyrus_anterior_division': 0      [-0.2844656582633073, -0.3002505116304854, -0....\n",
      "1      [0.16659606664715482, -0.3305509803864045, 0.3...\n",
      "2      [-0.06443465865243428, -0.22972862689508844, 0...\n",
      "3      [0.04073069649114791, -0.16835488486549466, 0....\n",
      "4      [0.022732142757442276, -0.22514220689940012, 0...\n",
      "                             ...                        \n",
      "143    [-0.13060587666416473, -0.15924394164158173, 0...\n",
      "144    [-0.2974864159702001, -0.2165964888790453, -0....\n",
      "145    [-0.1976652971479051, -0.22336823454131488, 0....\n",
      "146    [-0.0410775593570277, -0.374960234984333, 0.02...\n",
      "147    [0.28239173936317385, -0.15356524063760546, 0....\n",
      "Name: correlation_matrix, Length: 148, dtype: object, 'Right_Thalamus': 0      [0.04927096225811601, -0.06436794230994991, -0...\n",
      "1      [-0.05916419415879534, 0.0598642233413982, -0....\n",
      "2      [0.06281543510363644, 0.005512931976553211, -0...\n",
      "3      [-0.038933935285616776, 0.055280383946683075, ...\n",
      "4      [0.02125048993584331, 0.07224550152815574, -0....\n",
      "                             ...                        \n",
      "143    [-0.1268862861034069, -0.0008094083284538314, ...\n",
      "144    [0.009364054973501254, -0.003988728338005577, ...\n",
      "145    [0.0068347096835033455, -0.02643577528263913, ...\n",
      "146    [0.0029540854340818793, -0.08604308532114827, ...\n",
      "147    [0.04237869053735578, -0.019319328485436618, -...\n",
      "Name: correlation_matrix, Length: 148, dtype: object, 'Right_Putamen': 0      [0.008678351373116996, -0.035223422557642305, ...\n",
      "1      [-0.14744828437084487, 0.07741279636647942, -0...\n",
      "2      [0.05637108455022574, 0.01742804130826073, 0.0...\n",
      "3      [-0.028754871003913825, 0.12056225654872839, -...\n",
      "4      [0.025394182262463635, 0.03591777094532146, -0...\n",
      "                             ...                        \n",
      "143    [-0.09841642015661971, 0.030699449146868615, -...\n",
      "144    [-0.07243646178526203, -0.041891014162671526, ...\n",
      "145    [0.1152249332540097, 0.10715908848367758, -0.0...\n",
      "146    [-0.029970433259265447, 0.06301428270214209, -...\n",
      "147    [0.12489104530518642, 0.12099923175900301, 0.0...\n",
      "Name: correlation_matrix, Length: 148, dtype: object, 'Right_Caudate': 0      [0.02670086515677797, 0.005117209832443153, -0...\n",
      "1      [0.08070073335174555, -0.13953640918581967, 0....\n",
      "2      [0.07610172226036013, -0.003443120655329109, -...\n",
      "3      [-0.08800000573660159, 0.029976349653088444, -...\n",
      "4      [-0.024943024576908644, -0.031088976265345077,...\n",
      "                             ...                        \n",
      "143    [-0.020323908702995414, -0.013716504475548596,...\n",
      "144    [0.10899861531462932, -0.1062846096519155, 0.1...\n",
      "145    [0.22255114209992005, 0.10702281504167845, 0.1...\n",
      "146    [0.033751938390923025, -0.0469700105745181, -0...\n",
      "147    [0.320268716603365, 0.0957724034083065, 0.0703...\n",
      "Name: correlation_matrix, Length: 148, dtype: object, 'Right_Hippocampus': 0      [0.001039236012387614, 0.12064443148529629, -0...\n",
      "1      [0.034375947612997455, 0.11521930386003036, -0...\n",
      "2      [0.12734757228412572, 0.11859838248232105, -0....\n",
      "3      [0.06723961220864731, -0.026076838448866862, 0...\n",
      "4      [0.11588094196124367, -0.02666720363463804, 0....\n",
      "                             ...                        \n",
      "143    [0.06049924512389455, 0.09668634115727515, 0.0...\n",
      "144    [-0.037604036263107196, 0.0478288791054296, -0...\n",
      "145    [0.023335394335374397, 0.18215288673379712, -0...\n",
      "146    [0.1000662220524392, 0.1608135382353666, -0.13...\n",
      "147    [0.09912234903455638, 0.2720886029049289, 0.05...\n",
      "Name: correlation_matrix, Length: 148, dtype: object, 'Left_Inferior_Frontal_Gyrus_pars_triangularis': 0      [-0.09740241017261898, 0.04896153053269507, -0...\n",
      "1      [0.15919705209870177, 0.023279257532390508, 0....\n",
      "2      [0.24479632875757412, 0.18986579973506917, -0....\n",
      "3      [0.1256827684754182, 0.2560364525955995, 0.083...\n",
      "4      [0.22860873137202706, 0.10130048927708378, 0.1...\n",
      "                             ...                        \n",
      "143    [-0.0796468508983244, 0.2595270080205558, -0.0...\n",
      "144    [0.04754758920534163, 0.027614401881961088, -0...\n",
      "145    [0.08803896953749117, 0.16293930147041152, -0....\n",
      "146    [0.1712388956256688, -0.02165706217674874, -0....\n",
      "147    [0.22792522798016498, 0.05055708395200455, 0.0...\n",
      "Name: correlation_matrix, Length: 148, dtype: object, 'Left_Frontal_Pole': 0      [0.018182395809861533, -0.17225244811487983, -...\n",
      "1      [-0.09737932098470017, -0.24355502275144697, -...\n",
      "2      [-0.09313799882804709, -0.2920390471311335, 0....\n",
      "3      [-0.1781350970292163, -0.43176586187332094, -0...\n",
      "4      [-0.17722532207108066, -0.13822430579338899, -...\n",
      "                             ...                        \n",
      "143    [-0.13916194695935613, -0.0710437006096851, -0...\n",
      "144    [-0.06271631808590368, -0.39614306117484943, 0...\n",
      "145    [-0.11571206215685752, -0.3051855843980521, 0....\n",
      "146    [-0.09900089089543695, -0.3022039075577505, 0....\n",
      "147    [0.03337125518193738, -0.4769729459726266, -0....\n",
      "Name: correlation_matrix, Length: 148, dtype: object, 'Left_Supramarginal_Gyrus_anterior_division': 0      [-0.07658456515057147, -0.6766586841865909, -0...\n",
      "1      [0.012442393408401626, -0.5901235492365967, -0...\n",
      "2      [-0.06556503370526268, -0.364234978060818, 0.1...\n",
      "3      [-0.22803416641708268, -0.37291486419511694, -...\n",
      "4      [0.021946422583254577, -0.39044787521482865, -...\n",
      "                             ...                        \n",
      "143    [-0.11722304807313226, -0.3937436456500441, -0...\n",
      "144    [-0.11673319362332571, -0.4646656015523154, 0....\n",
      "145    [-0.012436991568392095, -0.5961812753879192, -...\n",
      "146    [-0.016991421192109245, -0.6843829623564438, 0...\n",
      "147    [0.04388633644619782, -0.5101782819783047, -0....\n",
      "Name: correlation_matrix, Length: 148, dtype: object}\n"
     ]
    },
    {
     "name": "stderr",
     "output_type": "stream",
     "text": [
      "/var/folders/bz/8tkr7qg51_1bcjy3cf4g8fzc0000gn/T/ipykernel_88733/891366136.py:32: SettingWithCopyWarning: \n",
      "A value is trying to be set on a copy of a slice from a DataFrame.\n",
      "Try using .loc[row_indexer,col_indexer] = value instead\n",
      "\n",
      "See the caveats in the documentation: https://pandas.pydata.org/pandas-docs/stable/user_guide/indexing.html#returning-a-view-versus-a-copy\n",
      "  feature_data[region] = values\n",
      "/var/folders/bz/8tkr7qg51_1bcjy3cf4g8fzc0000gn/T/ipykernel_88733/891366136.py:32: SettingWithCopyWarning: \n",
      "A value is trying to be set on a copy of a slice from a DataFrame.\n",
      "Try using .loc[row_indexer,col_indexer] = value instead\n",
      "\n",
      "See the caveats in the documentation: https://pandas.pydata.org/pandas-docs/stable/user_guide/indexing.html#returning-a-view-versus-a-copy\n",
      "  feature_data[region] = values\n",
      "/var/folders/bz/8tkr7qg51_1bcjy3cf4g8fzc0000gn/T/ipykernel_88733/891366136.py:32: SettingWithCopyWarning: \n",
      "A value is trying to be set on a copy of a slice from a DataFrame.\n",
      "Try using .loc[row_indexer,col_indexer] = value instead\n",
      "\n",
      "See the caveats in the documentation: https://pandas.pydata.org/pandas-docs/stable/user_guide/indexing.html#returning-a-view-versus-a-copy\n",
      "  feature_data[region] = values\n",
      "/var/folders/bz/8tkr7qg51_1bcjy3cf4g8fzc0000gn/T/ipykernel_88733/891366136.py:32: SettingWithCopyWarning: \n",
      "A value is trying to be set on a copy of a slice from a DataFrame.\n",
      "Try using .loc[row_indexer,col_indexer] = value instead\n",
      "\n",
      "See the caveats in the documentation: https://pandas.pydata.org/pandas-docs/stable/user_guide/indexing.html#returning-a-view-versus-a-copy\n",
      "  feature_data[region] = values\n",
      "/var/folders/bz/8tkr7qg51_1bcjy3cf4g8fzc0000gn/T/ipykernel_88733/891366136.py:32: SettingWithCopyWarning: \n",
      "A value is trying to be set on a copy of a slice from a DataFrame.\n",
      "Try using .loc[row_indexer,col_indexer] = value instead\n",
      "\n",
      "See the caveats in the documentation: https://pandas.pydata.org/pandas-docs/stable/user_guide/indexing.html#returning-a-view-versus-a-copy\n",
      "  feature_data[region] = values\n",
      "/var/folders/bz/8tkr7qg51_1bcjy3cf4g8fzc0000gn/T/ipykernel_88733/891366136.py:32: SettingWithCopyWarning: \n",
      "A value is trying to be set on a copy of a slice from a DataFrame.\n",
      "Try using .loc[row_indexer,col_indexer] = value instead\n",
      "\n",
      "See the caveats in the documentation: https://pandas.pydata.org/pandas-docs/stable/user_guide/indexing.html#returning-a-view-versus-a-copy\n",
      "  feature_data[region] = values\n",
      "/var/folders/bz/8tkr7qg51_1bcjy3cf4g8fzc0000gn/T/ipykernel_88733/891366136.py:32: SettingWithCopyWarning: \n",
      "A value is trying to be set on a copy of a slice from a DataFrame.\n",
      "Try using .loc[row_indexer,col_indexer] = value instead\n",
      "\n",
      "See the caveats in the documentation: https://pandas.pydata.org/pandas-docs/stable/user_guide/indexing.html#returning-a-view-versus-a-copy\n",
      "  feature_data[region] = values\n",
      "/var/folders/bz/8tkr7qg51_1bcjy3cf4g8fzc0000gn/T/ipykernel_88733/891366136.py:32: SettingWithCopyWarning: \n",
      "A value is trying to be set on a copy of a slice from a DataFrame.\n",
      "Try using .loc[row_indexer,col_indexer] = value instead\n",
      "\n",
      "See the caveats in the documentation: https://pandas.pydata.org/pandas-docs/stable/user_guide/indexing.html#returning-a-view-versus-a-copy\n",
      "  feature_data[region] = values\n",
      "/var/folders/bz/8tkr7qg51_1bcjy3cf4g8fzc0000gn/T/ipykernel_88733/891366136.py:32: SettingWithCopyWarning: \n",
      "A value is trying to be set on a copy of a slice from a DataFrame.\n",
      "Try using .loc[row_indexer,col_indexer] = value instead\n",
      "\n",
      "See the caveats in the documentation: https://pandas.pydata.org/pandas-docs/stable/user_guide/indexing.html#returning-a-view-versus-a-copy\n",
      "  feature_data[region] = values\n",
      "/var/folders/bz/8tkr7qg51_1bcjy3cf4g8fzc0000gn/T/ipykernel_88733/891366136.py:32: SettingWithCopyWarning: \n",
      "A value is trying to be set on a copy of a slice from a DataFrame.\n",
      "Try using .loc[row_indexer,col_indexer] = value instead\n",
      "\n",
      "See the caveats in the documentation: https://pandas.pydata.org/pandas-docs/stable/user_guide/indexing.html#returning-a-view-versus-a-copy\n",
      "  feature_data[region] = values\n",
      "/var/folders/bz/8tkr7qg51_1bcjy3cf4g8fzc0000gn/T/ipykernel_88733/891366136.py:32: SettingWithCopyWarning: \n",
      "A value is trying to be set on a copy of a slice from a DataFrame.\n",
      "Try using .loc[row_indexer,col_indexer] = value instead\n",
      "\n",
      "See the caveats in the documentation: https://pandas.pydata.org/pandas-docs/stable/user_guide/indexing.html#returning-a-view-versus-a-copy\n",
      "  feature_data[region] = values\n",
      "/var/folders/bz/8tkr7qg51_1bcjy3cf4g8fzc0000gn/T/ipykernel_88733/891366136.py:32: SettingWithCopyWarning: \n",
      "A value is trying to be set on a copy of a slice from a DataFrame.\n",
      "Try using .loc[row_indexer,col_indexer] = value instead\n",
      "\n",
      "See the caveats in the documentation: https://pandas.pydata.org/pandas-docs/stable/user_guide/indexing.html#returning-a-view-versus-a-copy\n",
      "  feature_data[region] = values\n"
     ]
    }
   ],
   "source": [
    "def correlation_matrix_of_feature(region_name):\n",
    "    \"\"\"\n",
    "    Extracts the correlation matrix of a given brain region from feature_data.\n",
    "    \"\"\"\n",
    "    target_index = brain_region.index(region_name)\n",
    "    target_row = data['correlation_matrix'].apply(lambda x: x[target_index])\n",
    "    return target_row\n",
    "\n",
    "# List of brain regions\n",
    "features = [\n",
    "    \"Left_Middle_Temporal_Gyrus_posterior_division\",\n",
    "    \"Left_Paracingulate_Gyrus\",\n",
    "    \"Right_Superior_Parietal_Lobule\",\n",
    "    \"Right_Supramarginal_Gyrus_posterior_division\",\n",
    "    \"Right_Supramarginal_Gyrus_anterior_division\",\n",
    "    \"Right_Thalamus\",\n",
    "    \"Right_Putamen\",\n",
    "    \"Right_Caudate\",\n",
    "    \"Right_Hippocampus\",\n",
    "    \"Left_Inferior_Frontal_Gyrus_pars_triangularis\",\n",
    "    \"Left_Frontal_Pole\",\n",
    "    \"Left_Supramarginal_Gyrus_anterior_division\"\n",
    "]\n",
    "\n",
    "# Compute correlation matrices for each region\n",
    "region_correlation_matrices = {region: correlation_matrix_of_feature(region) for region in features}\n",
    "region_correlation_matrices\n",
    "print(region_correlation_matrices)\n",
    "\n",
    "\n",
    "for region, values in region_correlation_matrices.items():\n",
    "    feature_data[region] = values\n"
   ]
  },
  {
   "cell_type": "code",
   "execution_count": 18,
   "metadata": {},
   "outputs": [],
   "source": [
    "def flatten_features(row):\n",
    "    \"\"\"\n",
    "    Given a single row of the DataFrame, return a 1D numpy array of all features to be used by the model.\n",
    "    \"\"\"\n",
    "    # Flatten the correlation matrix\n",
    "    corr_mat = np.array(row[\"correlation_matrix\"]).flatten()\n",
    "\n",
    "    # Extract each brain region's specific correlation values\n",
    "    region_values = [np.array(row[region]).flatten() for region in features if region in row]\n",
    "\n",
    "    # Concatenate all features into a single array\n",
    "    all_features = np.concatenate([corr_mat] + region_values)\n",
    "\n",
    "    return all_features"
   ]
  },
  {
   "attachments": {},
   "cell_type": "markdown",
   "metadata": {},
   "source": [
    "### Lasso Regression"
   ]
  },
  {
   "cell_type": "code",
   "execution_count": 19,
   "metadata": {},
   "outputs": [
    {
     "name": "stdout",
     "output_type": "stream",
     "text": [
      "Optimal alpha: 10.0\n",
      "Mean Squared Error: 4795.8725\n",
      "R^2: 0.1123\n",
      "Number of selected features: 65\n"
     ]
    }
   ],
   "source": [
    "X = feature_data.apply(flatten_features, axis = 1)\n",
    "X = np.vstack(X.values)\n",
    "y = feature_data['Handedness']\n",
    "\n",
    "# Split dataset\n",
    "X_train, X_test, y_train, y_test = train_test_split(X, y, test_size=0.2, random_state=42)\n",
    "\n",
    "scaler = StandardScaler()\n",
    "X_train_scaled = scaler.fit_transform(X_train)\n",
    "X_test_scaled = scaler.transform(X_test)\n",
    "\n",
    "# Train LASSO regression with cross-validation\n",
    "lasso = LassoCV(cv=5, alphas=np.logspace(-4, 1, 50)).fit(X_train_scaled, y_train)\n",
    "\n",
    "# Predict on test set\n",
    "y_pred = lasso.predict(X_test_scaled)\n",
    "\n",
    "# Evaluate model\n",
    "mse = mean_squared_error(y_test, y_pred)\n",
    "r2 = r2_score(y_test, y_pred)\n",
    "\n",
    "print(f\"Optimal alpha: {lasso.alpha_}\")\n",
    "print(f\"Mean Squared Error: {mse:.4f}\")\n",
    "print(f\"R^2: {r2:.4f}\")\n",
    "\n",
    "# View selected features\n",
    "selected_features = np.sum(lasso.coef_ != 0)\n",
    "print(f\"Number of selected features: {selected_features}\")"
   ]
  },
  {
   "attachments": {},
   "cell_type": "markdown",
   "metadata": {},
   "source": [
    "Since handedness values range from -100 to 100, this error suggests that the model struggles to make precise predictions. Also given the weak R^2, these 89 features might not be strongly predictive of handedness."
   ]
  },
  {
   "cell_type": "code",
   "execution_count": 20,
   "metadata": {},
   "outputs": [
    {
     "name": "stdout",
     "output_type": "stream",
     "text": [
      "Actual: -55, Predicted: -0.66\n",
      "Actual: -90, Predicted: 8.09\n",
      "Actual: -80, Predicted: -24.77\n",
      "Actual: 80, Predicted: 28.54\n",
      "Actual: -40, Predicted: -7.68\n",
      "Actual: -40, Predicted: 29.97\n",
      "Actual: 85, Predicted: 26.60\n",
      "Actual: 60, Predicted: 2.48\n",
      "Actual: -100, Predicted: -5.73\n",
      "Actual: -90, Predicted: 17.30\n"
     ]
    }
   ],
   "source": [
    "for actual, predicted in zip(y_test[:10], y_pred[:10]):\n",
    "    print(f\"Actual: {actual}, Predicted: {predicted:.2f}\")"
   ]
  },
  {
   "cell_type": "code",
   "execution_count": 21,
   "metadata": {},
   "outputs": [
    {
     "data": {
      "image/png": "[encoded data removed]",
      "text/plain": [
       "<Figure size 640x480 with 1 Axes>"
      ]
     },
     "metadata": {},
     "output_type": "display_data"
    }
   ],
   "source": [
    "plt.scatter(y_test, y_pred, alpha=0.6)\n",
    "plt.xlabel(\"Actual Handedness\")\n",
    "plt.ylabel(\"Predicted Handedness\")\n",
    "plt.title(\"Actual vs. Predicted Handedness\")\n",
    "plt.axline((0, 0), slope=1, color=\"red\", linestyle=\"--\")  # Perfect predictions line\n",
    "plt.show()\n"
   ]
  },
  {
   "attachments": {},
   "cell_type": "markdown",
   "metadata": {},
   "source": [
    "---"
   ]
  },
  {
   "attachments": {},
   "cell_type": "markdown",
   "metadata": {},
   "source": [
    "### Lasso Regression w/ Imbalanced Learn (SMOTE)"
   ]
  },
  {
   "cell_type": "code",
   "execution_count": 41,
   "metadata": {},
   "outputs": [
    {
     "name": "stdout",
     "output_type": "stream",
     "text": [
      "dataset size after sampling with SMOTE: X: (364, 11200), y: (364,)\n",
      "Chunk 1:\n",
      "  Optimal alpha: 10.0\n",
      "  Mean Squared Error: 5988.5281\n",
      "  R^2: -0.6290\n",
      "  Number of selected features: 68\n",
      "Chunk 2:\n",
      "  Optimal alpha: 10.0\n",
      "  Mean Squared Error: 11381.3485\n",
      "  R^2: -0.4650\n",
      "  Number of selected features: 55\n",
      "Chunk 3:\n",
      "  Optimal alpha: 1.9306977288832496\n",
      "  Mean Squared Error: 544.1819\n",
      "  R^2: -0.9796\n",
      "  Number of selected features: 36\n",
      "Chunk 4:\n",
      "  Optimal alpha: 0.0001\n",
      "  Mean Squared Error: 8.0772\n",
      "  R^2: 0.9353\n",
      "  Number of selected features: 10571\n",
      "Chunk 5:\n",
      "  Optimal alpha: 0.03556480306223129\n",
      "  Mean Squared Error: 88.7616\n",
      "  R^2: 0.6109\n",
      "  Number of selected features: 62\n"
     ]
    },
    {
     "name": "stderr",
     "output_type": "stream",
     "text": [
      "/opt/homebrew/lib/python3.11/site-packages/sklearn/linear_model/_coordinate_descent.py:697: ConvergenceWarning: Objective did not converge. You might want to increase the number of iterations, check the scale of the features or consider increasing regularisation. Duality gap: 2.154e+00, tolerance: 1.227e+00\n",
      "  model = cd_fast.enet_coordinate_descent(\n"
     ]
    },
    {
     "data": {
      "image/png": "[encoded data removed]",
      "text/plain": [
       "<Figure size 1500x500 with 5 Axes>"
      ]
     },
     "metadata": {},
     "output_type": "display_data"
    },
    {
     "name": "stdout",
     "output_type": "stream",
     "text": [
      "Average MSE across chunks: 3602.1794\n",
      "Average R^2 across chunks: -0.1055\n"
     ]
    }
   ],
   "source": [
    "X = feature_data.apply(flatten_features, axis = 1)\n",
    "X = np.vstack(X.values)\n",
    "y = feature_data['Handedness']\n",
    "\n",
    "smote = SMOTE(k_neighbors=1, random_state=42)\n",
    "X_resampled, y_resampled = smote.fit_resample(X, y)\n",
    "\n",
    "print(f\"dataset size after sampling with SMOTE: X: {X_resampled.shape}, y: {y_resampled.shape}\")\n",
    "\n",
    "# Step 3: Chunking the Dataset into Smaller Batches for Training\n",
    "num_chunks = 5  # Define number of chunks\n",
    "chunk_size = len(X_resampled) // num_chunks  # Define chunk size\n",
    "\n",
    "all_mse = []\n",
    "all_r2 = []\n",
    "selected_features_per_chunk = {}\n",
    "\n",
    "# Create subplots for aggregated plots\n",
    "fig, axes = plt.subplots(1, num_chunks, figsize=(15, 5), sharex=True, sharey=True)\n",
    "\n",
    "for i in range(num_chunks):\n",
    "    # Select a chunk of data\n",
    "    start_idx = i * chunk_size\n",
    "    end_idx = (i + 1) * chunk_size if i != num_chunks - 1 else len(X_resampled)\n",
    "    \n",
    "    X_chunk = X_resampled[start_idx:end_idx]\n",
    "    y_chunk = y_resampled[start_idx:end_idx]\n",
    "    \n",
    "    # Split dataset into training and testing sets\n",
    "    X_train, X_test, y_train, y_test = train_test_split(X_chunk, y_chunk, test_size=0.2, random_state=42)\n",
    "\n",
    "    # Standardize the features\n",
    "    scaler = StandardScaler()\n",
    "    X_train_scaled = scaler.fit_transform(X_train)\n",
    "    X_test_scaled = scaler.transform(X_test)\n",
    "\n",
    "    # Step 4: Train LASSO Regression with Cross-Validation\n",
    "    lasso = LassoCV(cv=5, alphas=np.logspace(-4, 1, 50)).fit(X_train_scaled, y_train)\n",
    "\n",
    "    y_pred = lasso.predict(X_test_scaled)\n",
    "\n",
    "    mse = mean_squared_error(y_test, y_pred)\n",
    "    r2 = r2_score(y_test, y_pred)\n",
    "    selected_features = np.sum(lasso.coef_ != 0)\n",
    "\n",
    "    all_mse.append(mse)\n",
    "    all_r2.append(r2)\n",
    "    selected_features = np.where(lasso.coef_ != 0)[0]\n",
    "    selected_features_per_chunk[f\"Chunk {i+1}\"] = selected_features\n",
    "\n",
    "    # Plot predictions in subplots\n",
    "    ax = axes[i]\n",
    "    ax.scatter(y_test, y_pred, alpha=0.6)\n",
    "    ax.set_title(f\"Chunk {i+1}\")\n",
    "    ax.set_xlabel(\"Actual Handedness\")\n",
    "    ax.set_ylabel(\"Predicted Handedness\")\n",
    "    ax.axline((0, 0), slope=1, color=\"red\", linestyle=\"--\")  # Perfect predictions line\n",
    "\n",
    "    print(f\"Chunk {i+1}:\")\n",
    "    print(f\"  Optimal alpha: {lasso.alpha_}\")\n",
    "    print(f\"  Mean Squared Error: {mse:.4f}\")\n",
    "    print(f\"  R^2: {r2:.4f}\")\n",
    "    print(f\"  Number of selected features: {len(selected_features_per_chunk[f'Chunk {i+1}'])}\")\n",
    "\n",
    "plt.title(\"Actual vs. Predicted Handedness\")\n",
    "plt.tight_layout()\n",
    "plt.show()\n",
    "\n",
    "# Final Summary Across All Chunks\n",
    "print(f\"Average MSE across chunks: {np.mean(all_mse):.4f}\")\n",
    "print(f\"Average R^2 across chunks: {np.mean(all_r2):.4f}\")"
   ]
  },
  {
   "attachments": {},
   "cell_type": "markdown",
   "metadata": {},
   "source": [
    "LASSO initially over-regularized the model (Chunks 1-2), meaning underfitting.\n",
    "\n",
    "Chunks 3+ allowed more features, improving predictive performance.\n",
    "\n",
    "Final chunks balance feature selection & model complexity, achieving best R^2 and lowest MSE.\n",
    "\n",
    "Balanced α (Chunks 4-5) gives the best performance.\n",
    "\n"
   ]
  },
  {
   "cell_type": "code",
   "execution_count": 42,
   "metadata": {},
   "outputs": [
    {
     "name": "stdout",
     "output_type": "stream",
     "text": [
      "Overlap between Chunks 3 & 4: 33 features\n",
      "Overlap between Chunks 4 & 5: 62 features\n",
      "Overlap between Chunks 3 & 5: 0 features\n",
      "{np.int64(2560), np.int64(7811), np.int64(644), np.int64(8583), np.int64(6025), np.int64(394), np.int64(3722), np.int64(6285), np.int64(2190), np.int64(9495), np.int64(1178), np.int64(3872), np.int64(10785), np.int64(4389), np.int64(1831), np.int64(1576), np.int64(3372), np.int64(3118), np.int64(3380), np.int64(4406), np.int64(7608), np.int64(1979), np.int64(2237), np.int64(1472), np.int64(4672), np.int64(7233), np.int64(8385), np.int64(3174), np.int64(5483), np.int64(876), np.int64(1392), np.int64(8562), np.int64(3576)}\n",
      "{np.int64(1795), np.int64(2311), np.int64(4487), np.int64(6026), np.int64(1420), np.int64(2189), np.int64(2318), np.int64(10260), np.int64(918), np.int64(2839), np.int64(281), np.int64(2201), np.int64(6555), np.int64(9882), np.int64(3101), np.int64(1823), np.int64(4771), np.int64(1189), np.int64(1575), np.int64(9772), np.int64(2096), np.int64(2352), np.int64(6065), np.int64(2617), np.int64(9787), np.int64(9532), np.int64(5565), np.int64(446), np.int64(1726), np.int64(450), np.int64(452), np.int64(6597), np.int64(6983), np.int64(200), np.int64(1352), np.int64(1357), np.int64(1102), np.int64(5583), np.int64(7376), np.int64(7673), np.int64(211), np.int64(8277), np.int64(3670), np.int64(1368), np.int64(92), np.int64(3036), np.int64(8797), np.int64(3295), np.int64(1123), np.int64(100), np.int64(2660), np.int64(7782), np.int64(6887), np.int64(8298), np.int64(875), np.int64(7147), np.int64(1391), np.int64(9968), np.int64(6899), np.int64(3961), np.int64(4604), np.int64(1790)}\n",
      "set()\n"
     ]
    }
   ],
   "source": [
    "overlap_3_4 = set(selected_features_per_chunk[\"Chunk 3\"]).intersection(selected_features_per_chunk[\"Chunk 4\"])\n",
    "overlap_4_5 = set(selected_features_per_chunk[\"Chunk 4\"]).intersection(selected_features_per_chunk[\"Chunk 5\"])\n",
    "overlap_3_5 = set(selected_features_per_chunk[\"Chunk 3\"]).intersection(selected_features_per_chunk[\"Chunk 5\"])\n",
    "\n",
    "print(f\"Overlap between Chunks 3 & 4: {len(overlap_3_4)} features\")\n",
    "print(f\"Overlap between Chunks 4 & 5: {len(overlap_4_5)} features\")\n",
    "print(f\"Overlap between Chunks 3 & 5: {len(overlap_3_5)} features\")\n",
    "\n",
    "print(overlap_3_4)\n",
    "print(overlap_4_5)\n",
    "print(overlap_3_5)\n"
   ]
  },
  {
   "cell_type": "markdown",
   "metadata": {},
   "source": [
    "---"
   ]
  },
  {
   "attachments": {},
   "cell_type": "markdown",
   "metadata": {},
   "source": [
    "### Logistic Regression"
   ]
  },
  {
   "cell_type": "code",
   "execution_count": 43,
   "metadata": {},
   "outputs": [
    {
     "name": "stdout",
     "output_type": "stream",
     "text": [
      "Logistic Regression Accuracy: 0.7667\n",
      "\n",
      "Classification Report:\n",
      "               precision    recall  f1-score   support\n",
      "\n",
      " Left-Handed       0.75      0.80      0.77        15\n",
      "Right-Handed       0.79      0.73      0.76        15\n",
      "\n",
      "    accuracy                           0.77        30\n",
      "   macro avg       0.77      0.77      0.77        30\n",
      "weighted avg       0.77      0.77      0.77        30\n",
      "\n",
      "Confusion Matrix:\n",
      " [[12  3]\n",
      " [ 4 11]]\n"
     ]
    }
   ],
   "source": [
    "# Prepare feature matrix X and target variable y for classification\n",
    "X = feature_data.apply(flatten_features, axis=1)\n",
    "X = np.vstack(X.values)  # Convert to a 2D NumPy array\n",
    "y = feature_data[\"Handedness_Cat\"].values  # Classification target\n",
    "\n",
    "# Split dataset into training and testing sets (without SMOTE)\n",
    "X_train, X_test, y_train, y_test = train_test_split(X, y, test_size=0.2, random_state=42, stratify=y)\n",
    "\n",
    "# Standardize the features\n",
    "scaler = StandardScaler()\n",
    "X_train_scaled = scaler.fit_transform(X_train)\n",
    "X_test_scaled = scaler.transform(X_test)\n",
    "\n",
    "# Train Logistic Regression with Cross-Validation\n",
    "log_reg = LogisticRegressionCV(cv=5, max_iter=1000, solver='liblinear').fit(X_train_scaled, y_train)\n",
    "\n",
    "# Predict on test set\n",
    "y_pred = log_reg.predict(X_test_scaled)\n",
    "\n",
    "# Evaluate model performance\n",
    "accuracy = accuracy_score(y_test, y_pred)\n",
    "classification_rep = classification_report(y_test, y_pred, target_names=[\"Left-Handed\", \"Right-Handed\"])\n",
    "conf_matrix = confusion_matrix(y_test, y_pred)\n",
    "\n",
    "print(f\"Logistic Regression Accuracy: {accuracy:.4f}\")\n",
    "print(\"\\nClassification Report:\\n\", classification_rep)\n",
    "print(\"Confusion Matrix:\\n\", conf_matrix)"
   ]
  },
  {
   "attachments": {},
   "cell_type": "markdown",
   "metadata": {},
   "source": [
    "12 correctly classified as Left-Handed, 3 misclassified as Right-Handed\n",
    "\n",
    "11 correctly classified as Right-Handed, 4 misclassified as Left-Handed\n",
    "\n",
    "Slight bias towards Left-Handed (higher recall means it captures more Left-Handed instances correctly).\n",
    "\n",
    "Right-Handed recall is slightly lower, meaning that it misclassifies more Right-Handed cases.\n"
   ]
  },
  {
   "attachments": {},
   "cell_type": "markdown",
   "metadata": {},
   "source": [
    "### Logistic Regression w/ imbalanced learn (SMOTE)"
   ]
  },
  {
   "cell_type": "code",
   "execution_count": 54,
   "metadata": {},
   "outputs": [
    {
     "name": "stdout",
     "output_type": "stream",
     "text": [
      "Logistic Regression Accuracy: 0.6667\n",
      "\n",
      "Classification Report:\n",
      "               precision    recall  f1-score   support\n",
      "\n",
      " Left-Handed       0.71      0.62      0.67        16\n",
      "Right-Handed       0.62      0.71      0.67        14\n",
      "\n",
      "    accuracy                           0.67        30\n",
      "   macro avg       0.67      0.67      0.67        30\n",
      "weighted avg       0.67      0.67      0.67        30\n",
      "\n",
      "Confusion Matrix:\n",
      " [[10  6]\n",
      " [ 4 10]]\n"
     ]
    }
   ],
   "source": [
    "# Prepare feature matrix X and target variable y for classification\n",
    "X = feature_data.apply(flatten_features, axis=1)\n",
    "X = np.vstack(X.values)\n",
    "y = feature_data[\"Handedness_Cat\"].values\n",
    "\n",
    "# Apply SMOTE to balance classes\n",
    "smote = SMOTE(k_neighbors=3, random_state=42)\n",
    "X_resampled, y_resampled = smote.fit_resample(X, y)\n",
    "\n",
    "# Split dataset into training and testing sets\n",
    "X_train, X_test, y_train, y_test = train_test_split(X_resampled, y_resampled, test_size=0.2, random_state=42)\n",
    "\n",
    "# Standardize the features\n",
    "scaler = StandardScaler()\n",
    "X_train_scaled = scaler.fit_transform(X_train)\n",
    "X_test_scaled = scaler.transform(X_test)\n",
    "\n",
    "# Train Logistic Regression with Cross-Validation\n",
    "log_reg = LogisticRegressionCV(cv=5, max_iter=1000, solver='liblinear').fit(X_train_scaled, y_train)\n",
    "\n",
    "# Predict on test set\n",
    "y_pred = log_reg.predict(X_test_scaled)\n",
    "\n",
    "# Evaluate model performance\n",
    "accuracy = accuracy_score(y_test, y_pred)\n",
    "classification_rep = classification_report(y_test, y_pred, target_names=[\"Left-Handed\", \"Right-Handed\"])\n",
    "conf_matrix = confusion_matrix(y_test, y_pred)\n",
    "\n",
    "print(f\"Logistic Regression Accuracy: {accuracy:.4f}\")\n",
    "print(\"\\nClassification Report:\\n\", classification_rep)\n",
    "print(\"Confusion Matrix:\\n\", conf_matrix)\n"
   ]
  },
  {
   "attachments": {},
   "cell_type": "markdown",
   "metadata": {},
   "source": [
    "Accuracy drops significantly (from 76.67% to 66.67%) after applying SMOTE.\n",
    "\n",
    "Recall for Left-Handed drops significantly (0.80 to 0.62).\n",
    "\n",
    "Recall for Right-Handed changes slightly (0.73 to 0.71).\n",
    "\n",
    "Precision for both classes decreases, indicating more false positives. \n",
    "* More Left-Handed cases are misclassified as Right-Handed after SMOTE. \n",
    "* Right-Handed recall remains almost unchanged (0.73 → 0.71), meaning that **SMOTE doesn't help much in capturing Right-Handed individuals.**"
   ]
  },
  {
   "cell_type": "markdown",
   "metadata": {},
   "source": [
    "---"
   ]
  },
  {
   "attachments": {},
   "cell_type": "markdown",
   "metadata": {},
   "source": [
    "### CNN"
   ]
  },
  {
   "cell_type": "code",
   "execution_count": 91,
   "metadata": {},
   "outputs": [],
   "source": [
    "seed = 42\n",
    "tf.random.set_seed(seed)\n",
    "np.random.seed(seed)\n",
    "random.seed(seed)"
   ]
  },
  {
   "cell_type": "code",
   "execution_count": 106,
   "metadata": {},
   "outputs": [
    {
     "name": "stdout",
     "output_type": "stream",
     "text": [
      "Epoch 1/20\n"
     ]
    },
    {
     "name": "stderr",
     "output_type": "stream",
     "text": [
      "/opt/homebrew/lib/python3.11/site-packages/keras/src/layers/convolutional/base_conv.py:107: UserWarning: Do not pass an `input_shape`/`input_dim` argument to a layer. When using Sequential models, prefer using an `Input(shape)` object as the first layer in the model instead.\n",
      "  super().__init__(activity_regularizer=activity_regularizer, **kwargs)\n"
     ]
    },
    {
     "name": "stdout",
     "output_type": "stream",
     "text": [
      "\u001b[1m8/8\u001b[0m \u001b[32m━━━━━━━━━━━━━━━━━━━━\u001b[0m\u001b[37m\u001b[0m \u001b[1m1s\u001b[0m 71ms/step - accuracy: 0.5003 - loss: 0.7609 - val_accuracy: 0.5000 - val_loss: 0.6957\n",
      "Epoch 2/20\n",
      "\u001b[1m8/8\u001b[0m \u001b[32m━━━━━━━━━━━━━━━━━━━━\u001b[0m\u001b[37m\u001b[0m \u001b[1m0s\u001b[0m 51ms/step - accuracy: 0.4973 - loss: 0.6974 - val_accuracy: 0.6000 - val_loss: 0.6938\n",
      "Epoch 3/20\n",
      "\u001b[1m8/8\u001b[0m \u001b[32m━━━━━━━━━━━━━━━━━━━━\u001b[0m\u001b[37m\u001b[0m \u001b[1m0s\u001b[0m 55ms/step - accuracy: 0.5108 - loss: 0.6884 - val_accuracy: 0.5000 - val_loss: 0.6982\n",
      "Epoch 4/20\n",
      "\u001b[1m8/8\u001b[0m \u001b[32m━━━━━━━━━━━━━━━━━━━━\u001b[0m\u001b[37m\u001b[0m \u001b[1m0s\u001b[0m 51ms/step - accuracy: 0.5504 - loss: 0.6853 - val_accuracy: 0.6000 - val_loss: 0.6926\n",
      "Epoch 5/20\n",
      "\u001b[1m8/8\u001b[0m \u001b[32m━━━━━━━━━━━━━━━━━━━━\u001b[0m\u001b[37m\u001b[0m \u001b[1m0s\u001b[0m 50ms/step - accuracy: 0.5943 - loss: 0.6697 - val_accuracy: 0.6000 - val_loss: 0.6943\n",
      "Epoch 6/20\n",
      "\u001b[1m8/8\u001b[0m \u001b[32m━━━━━━━━━━━━━━━━━━━━\u001b[0m\u001b[37m\u001b[0m \u001b[1m0s\u001b[0m 50ms/step - accuracy: 0.7157 - loss: 0.6176 - val_accuracy: 0.6000 - val_loss: 0.6961\n",
      "Epoch 7/20\n",
      "\u001b[1m8/8\u001b[0m \u001b[32m━━━━━━━━━━━━━━━━━━━━\u001b[0m\u001b[37m\u001b[0m \u001b[1m0s\u001b[0m 50ms/step - accuracy: 0.6231 - loss: 0.6712 - val_accuracy: 0.6667 - val_loss: 0.6878\n",
      "Epoch 8/20\n",
      "\u001b[1m8/8\u001b[0m \u001b[32m━━━━━━━━━━━━━━━━━━━━\u001b[0m\u001b[37m\u001b[0m \u001b[1m0s\u001b[0m 50ms/step - accuracy: 0.7176 - loss: 0.6198 - val_accuracy: 0.6667 - val_loss: 0.6836\n",
      "Epoch 9/20\n",
      "\u001b[1m8/8\u001b[0m \u001b[32m━━━━━━━━━━━━━━━━━━━━\u001b[0m\u001b[37m\u001b[0m \u001b[1m0s\u001b[0m 50ms/step - accuracy: 0.7006 - loss: 0.5977 - val_accuracy: 0.6333 - val_loss: 0.6695\n",
      "Epoch 10/20\n",
      "\u001b[1m8/8\u001b[0m \u001b[32m━━━━━━━━━━━━━━━━━━━━\u001b[0m\u001b[37m\u001b[0m \u001b[1m0s\u001b[0m 57ms/step - accuracy: 0.6789 - loss: 0.5960 - val_accuracy: 0.6000 - val_loss: 0.6695\n",
      "Epoch 11/20\n",
      "\u001b[1m8/8\u001b[0m \u001b[32m━━━━━━━━━━━━━━━━━━━━\u001b[0m\u001b[37m\u001b[0m \u001b[1m0s\u001b[0m 59ms/step - accuracy: 0.7900 - loss: 0.5531 - val_accuracy: 0.5667 - val_loss: 0.6801\n",
      "Epoch 12/20\n",
      "\u001b[1m8/8\u001b[0m \u001b[32m━━━━━━━━━━━━━━━━━━━━\u001b[0m\u001b[37m\u001b[0m \u001b[1m0s\u001b[0m 60ms/step - accuracy: 0.7444 - loss: 0.5017 - val_accuracy: 0.6000 - val_loss: 0.6483\n",
      "Epoch 13/20\n",
      "\u001b[1m8/8\u001b[0m \u001b[32m━━━━━━━━━━━━━━━━━━━━\u001b[0m\u001b[37m\u001b[0m \u001b[1m0s\u001b[0m 52ms/step - accuracy: 0.8114 - loss: 0.4594 - val_accuracy: 0.7000 - val_loss: 0.6191\n",
      "Epoch 14/20\n",
      "\u001b[1m8/8\u001b[0m \u001b[32m━━━━━━━━━━━━━━━━━━━━\u001b[0m\u001b[37m\u001b[0m \u001b[1m1s\u001b[0m 64ms/step - accuracy: 0.9083 - loss: 0.4196 - val_accuracy: 0.7333 - val_loss: 0.6039\n",
      "Epoch 15/20\n",
      "\u001b[1m8/8\u001b[0m \u001b[32m━━━━━━━━━━━━━━━━━━━━\u001b[0m\u001b[37m\u001b[0m \u001b[1m0s\u001b[0m 50ms/step - accuracy: 0.8960 - loss: 0.3751 - val_accuracy: 0.5667 - val_loss: 0.6271\n",
      "Epoch 16/20\n",
      "\u001b[1m8/8\u001b[0m \u001b[32m━━━━━━━━━━━━━━━━━━━━\u001b[0m\u001b[37m\u001b[0m \u001b[1m0s\u001b[0m 58ms/step - accuracy: 0.8676 - loss: 0.3755 - val_accuracy: 0.6333 - val_loss: 0.6028\n",
      "Epoch 17/20\n",
      "\u001b[1m8/8\u001b[0m \u001b[32m━━━━━━━━━━━━━━━━━━━━\u001b[0m\u001b[37m\u001b[0m \u001b[1m0s\u001b[0m 60ms/step - accuracy: 0.9610 - loss: 0.3167 - val_accuracy: 0.7333 - val_loss: 0.5567\n",
      "Epoch 18/20\n",
      "\u001b[1m8/8\u001b[0m \u001b[32m━━━━━━━━━━━━━━━━━━━━\u001b[0m\u001b[37m\u001b[0m \u001b[1m0s\u001b[0m 49ms/step - accuracy: 0.9538 - loss: 0.2673 - val_accuracy: 0.8000 - val_loss: 0.5466\n",
      "Epoch 19/20\n",
      "\u001b[1m8/8\u001b[0m \u001b[32m━━━━━━━━━━━━━━━━━━━━\u001b[0m\u001b[37m\u001b[0m \u001b[1m0s\u001b[0m 51ms/step - accuracy: 0.9078 - loss: 0.2755 - val_accuracy: 0.7333 - val_loss: 0.5642\n",
      "Epoch 20/20\n",
      "\u001b[1m8/8\u001b[0m \u001b[32m━━━━━━━━━━━━━━━━━━━━\u001b[0m\u001b[37m\u001b[0m \u001b[1m0s\u001b[0m 50ms/step - accuracy: 0.9750 - loss: 0.1705 - val_accuracy: 0.7333 - val_loss: 0.5375\n",
      "\u001b[1m1/1\u001b[0m \u001b[32m━━━━━━━━━━━━━━━━━━━━\u001b[0m\u001b[37m\u001b[0m \u001b[1m0s\u001b[0m 42ms/step - accuracy: 0.7333 - loss: 0.5375\n",
      "Test Accuracy: 0.7333\n"
     ]
    }
   ],
   "source": [
    "# Reshape data for CNN input (assuming X is correlation matrices)\n",
    "X = np.array(feature_data[\"correlation_matrix\"].tolist())  # Convert list of matrices to array\n",
    "X_cnn = X.reshape(X.shape[0], X.shape[1], X.shape[2], 1)  # Add channel dimension\n",
    "y_cnn = feature_data[\"Handedness_Cat\"].values  # Classification target\n",
    "\n",
    "# Split dataset\n",
    "X_train, X_test, y_train, y_test = train_test_split(X_cnn, y_cnn, test_size=0.2, random_state=42, stratify=y_cnn)\n",
    "\n",
    "# Define CNN model\n",
    "model = Sequential([\n",
    "    Conv2D(32, kernel_size=(3,3), activation='relu', input_shape=(X_train.shape[1], X_train.shape[2], 1)),\n",
    "    MaxPooling2D(pool_size=(2,2)),\n",
    "    \n",
    "    Conv2D(64, kernel_size=(3,3), activation='relu'),\n",
    "    MaxPooling2D(pool_size=(2,2)),\n",
    "\n",
    "    Flatten(),\n",
    "    Dense(128, activation='relu'),\n",
    "    Dropout(0.5),\n",
    "    Dense(1, activation='sigmoid')  # Binary classification (0 = Left, 1 = Right)\n",
    "])\n",
    "\n",
    "# Compile Model\n",
    "model.compile(optimizer=Adam(learning_rate=0.001), loss='binary_crossentropy', metrics=['accuracy'])\n",
    "\n",
    "# Train Model\n",
    "model.fit(X_train, y_train, validation_data=(X_test, y_test), epochs=20, batch_size=16)\n",
    "\n",
    "# Evaluate Model\n",
    "test_loss, test_acc = model.evaluate(X_test, y_test)\n",
    "print(f\"Test Accuracy: {test_acc:.4f}\")\n"
   ]
  },
  {
   "cell_type": "code",
   "execution_count": 94,
   "metadata": {},
   "outputs": [
    {
     "name": "stdout",
     "output_type": "stream",
     "text": [
      "\u001b[1m1/1\u001b[0m \u001b[32m━━━━━━━━━━━━━━━━━━━━\u001b[0m\u001b[37m\u001b[0m \u001b[1m0s\u001b[0m 85ms/step\n",
      "Confusion Matrix:\n",
      " [[10  5]\n",
      " [ 3 12]]\n",
      "\n",
      "Classification Report:\n",
      "               precision    recall  f1-score   support\n",
      "\n",
      " Left-Handed       0.77      0.67      0.71        15\n",
      "Right-Handed       0.71      0.80      0.75        15\n",
      "\n",
      "    accuracy                           0.73        30\n",
      "   macro avg       0.74      0.73      0.73        30\n",
      "weighted avg       0.74      0.73      0.73        30\n",
      "\n"
     ]
    }
   ],
   "source": [
    "y_pred = (model.predict(X_test) > 0.5).astype(\"int32\")\n",
    "\n",
    "print(\"Confusion Matrix:\\n\", confusion_matrix(y_test, y_pred))\n",
    "print(\"\\nClassification Report:\\n\", classification_report(y_test, y_pred, target_names=[\"Left-Handed\", \"Right-Handed\"]))"
   ]
  },
  {
   "attachments": {},
   "cell_type": "markdown",
   "metadata": {},
   "source": [
    "(May change if re-run)\n",
    "Many left-handed cases are misclassified (recall is only ~65%), but ~83% of left-handed predictions made is correct. \n",
    "\n",
    "The model correctly detects ~85% of right-handed cases, but only 60% of left-handed predictions made is correct. F1-score is better than for left-handed, but precision is relatively lower. \n",
    "\n",
    "**Macro & Weighted F1-score = 0.60 → model may be learning patterns from the right-handed class more effectively than the other.**"
   ]
  },
  {
   "cell_type": "code",
   "execution_count": 78,
   "metadata": {},
   "outputs": [
    {
     "name": "stdout",
     "output_type": "stream",
     "text": [
      "\u001b[1m1/1\u001b[0m \u001b[32m━━━━━━━━━━━━━━━━━━━━\u001b[0m\u001b[37m\u001b[0m \u001b[1m0s\u001b[0m 57ms/step\n"
     ]
    },
    {
     "data": {
      "image/png": "[encoded data removed]",
      "text/plain": [
       "<Figure size 600x600 with 1 Axes>"
      ]
     },
     "metadata": {},
     "output_type": "display_data"
    }
   ],
   "source": [
    "y_prob = model.predict(X_test)  # Get probability scores\n",
    "\n",
    "fpr, tpr, _ = roc_curve(y_test, y_prob)\n",
    "roc_auc = auc(fpr, tpr)\n",
    "\n",
    "plt.figure(figsize=(6,6))\n",
    "plt.plot(fpr, tpr, color='blue', label=f'ROC curve (AUC = {roc_auc:.4f})')\n",
    "plt.plot([0, 1], [0, 1], color='gray', linestyle='--')  # Random classifier baseline\n",
    "plt.xlabel('False Positive Rate')\n",
    "plt.ylabel('True Positive Rate')\n",
    "plt.title('ROC Curve')\n",
    "plt.legend()\n",
    "plt.show()\n"
   ]
  },
  {
   "attachments": {},
   "cell_type": "markdown",
   "metadata": {},
   "source": [
    "AUC of ~0.7 means the model is better than random, but still not highly reliable."
   ]
  },
  {
   "attachments": {},
   "cell_type": "markdown",
   "metadata": {},
   "source": [
    "### CNN w/ More Weights toward Left-Handed Class"
   ]
  },
  {
   "cell_type": "code",
   "execution_count": 105,
   "metadata": {},
   "outputs": [
    {
     "name": "stdout",
     "output_type": "stream",
     "text": [
      "Epoch 1/20\n"
     ]
    },
    {
     "name": "stderr",
     "output_type": "stream",
     "text": [
      "/opt/homebrew/lib/python3.11/site-packages/keras/src/layers/convolutional/base_conv.py:107: UserWarning: Do not pass an `input_shape`/`input_dim` argument to a layer. When using Sequential models, prefer using an `Input(shape)` object as the first layer in the model instead.\n",
      "  super().__init__(activity_regularizer=activity_regularizer, **kwargs)\n"
     ]
    },
    {
     "name": "stdout",
     "output_type": "stream",
     "text": [
      "\u001b[1m8/8\u001b[0m \u001b[32m━━━━━━━━━━━━━━━━━━━━\u001b[0m\u001b[37m\u001b[0m \u001b[1m1s\u001b[0m 83ms/step - accuracy: 0.4824 - loss: 0.8434 - val_accuracy: 0.5000 - val_loss: 0.6937\n",
      "Epoch 2/20\n",
      "\u001b[1m8/8\u001b[0m \u001b[32m━━━━━━━━━━━━━━━━━━━━\u001b[0m\u001b[37m\u001b[0m \u001b[1m0s\u001b[0m 61ms/step - accuracy: 0.6105 - loss: 0.6820 - val_accuracy: 0.4667 - val_loss: 0.6939\n",
      "Epoch 3/20\n",
      "\u001b[1m8/8\u001b[0m \u001b[32m━━━━━━━━━━━━━━━━━━━━\u001b[0m\u001b[37m\u001b[0m \u001b[1m1s\u001b[0m 69ms/step - accuracy: 0.4809 - loss: 0.6929 - val_accuracy: 0.5333 - val_loss: 0.6958\n",
      "Epoch 4/20\n",
      "\u001b[1m8/8\u001b[0m \u001b[32m━━━━━━━━━━━━━━━━━━━━\u001b[0m\u001b[37m\u001b[0m \u001b[1m0s\u001b[0m 56ms/step - accuracy: 0.5407 - loss: 0.6872 - val_accuracy: 0.5000 - val_loss: 0.6999\n",
      "Epoch 5/20\n",
      "\u001b[1m8/8\u001b[0m \u001b[32m━━━━━━━━━━━━━━━━━━━━\u001b[0m\u001b[37m\u001b[0m \u001b[1m0s\u001b[0m 49ms/step - accuracy: 0.5473 - loss: 0.6910 - val_accuracy: 0.6000 - val_loss: 0.6990\n",
      "Epoch 6/20\n",
      "\u001b[1m8/8\u001b[0m \u001b[32m━━━━━━━━━━━━━━━━━━━━\u001b[0m\u001b[37m\u001b[0m \u001b[1m1s\u001b[0m 70ms/step - accuracy: 0.5538 - loss: 0.6754 - val_accuracy: 0.5000 - val_loss: 0.6993\n",
      "Epoch 7/20\n",
      "\u001b[1m8/8\u001b[0m \u001b[32m━━━━━━━━━━━━━━━━━━━━\u001b[0m\u001b[37m\u001b[0m \u001b[1m0s\u001b[0m 53ms/step - accuracy: 0.6519 - loss: 0.6325 - val_accuracy: 0.6000 - val_loss: 0.6980\n",
      "Epoch 8/20\n",
      "\u001b[1m8/8\u001b[0m \u001b[32m━━━━━━━━━━━━━━━━━━━━\u001b[0m\u001b[37m\u001b[0m \u001b[1m0s\u001b[0m 52ms/step - accuracy: 0.6162 - loss: 0.6282 - val_accuracy: 0.5333 - val_loss: 0.6874\n",
      "Epoch 9/20\n",
      "\u001b[1m8/8\u001b[0m \u001b[32m━━━━━━━━━━━━━━━━━━━━\u001b[0m\u001b[37m\u001b[0m \u001b[1m0s\u001b[0m 53ms/step - accuracy: 0.6988 - loss: 0.6142 - val_accuracy: 0.6667 - val_loss: 0.6896\n",
      "Epoch 10/20\n",
      "\u001b[1m8/8\u001b[0m \u001b[32m━━━━━━━━━━━━━━━━━━━━\u001b[0m\u001b[37m\u001b[0m \u001b[1m0s\u001b[0m 51ms/step - accuracy: 0.6709 - loss: 0.6000 - val_accuracy: 0.6000 - val_loss: 0.6726\n",
      "Epoch 11/20\n",
      "\u001b[1m8/8\u001b[0m \u001b[32m━━━━━━━━━━━━━━━━━━━━\u001b[0m\u001b[37m\u001b[0m \u001b[1m0s\u001b[0m 51ms/step - accuracy: 0.7102 - loss: 0.5555 - val_accuracy: 0.6667 - val_loss: 0.6617\n",
      "Epoch 12/20\n",
      "\u001b[1m8/8\u001b[0m \u001b[32m━━━━━━━━━━━━━━━━━━━━\u001b[0m\u001b[37m\u001b[0m \u001b[1m0s\u001b[0m 50ms/step - accuracy: 0.8218 - loss: 0.4920 - val_accuracy: 0.5667 - val_loss: 0.6827\n",
      "Epoch 13/20\n",
      "\u001b[1m8/8\u001b[0m \u001b[32m━━━━━━━━━━━━━━━━━━━━\u001b[0m\u001b[37m\u001b[0m \u001b[1m0s\u001b[0m 50ms/step - accuracy: 0.7849 - loss: 0.4805 - val_accuracy: 0.6000 - val_loss: 0.6710\n",
      "Epoch 14/20\n",
      "\u001b[1m8/8\u001b[0m \u001b[32m━━━━━━━━━━━━━━━━━━━━\u001b[0m\u001b[37m\u001b[0m \u001b[1m0s\u001b[0m 54ms/step - accuracy: 0.8084 - loss: 0.4462 - val_accuracy: 0.6000 - val_loss: 0.6325\n",
      "Epoch 15/20\n",
      "\u001b[1m8/8\u001b[0m \u001b[32m━━━━━━━━━━━━━━━━━━━━\u001b[0m\u001b[37m\u001b[0m \u001b[1m0s\u001b[0m 50ms/step - accuracy: 0.9371 - loss: 0.3504 - val_accuracy: 0.6000 - val_loss: 0.6049\n",
      "Epoch 16/20\n",
      "\u001b[1m8/8\u001b[0m \u001b[32m━━━━━━━━━━━━━━━━━━━━\u001b[0m\u001b[37m\u001b[0m \u001b[1m0s\u001b[0m 50ms/step - accuracy: 0.9426 - loss: 0.2778 - val_accuracy: 0.6000 - val_loss: 0.5912\n",
      "Epoch 17/20\n",
      "\u001b[1m8/8\u001b[0m \u001b[32m━━━━━━━━━━━━━━━━━━━━\u001b[0m\u001b[37m\u001b[0m \u001b[1m0s\u001b[0m 49ms/step - accuracy: 0.9635 - loss: 0.2410 - val_accuracy: 0.5667 - val_loss: 0.6719\n",
      "Epoch 18/20\n",
      "\u001b[1m8/8\u001b[0m \u001b[32m━━━━━━━━━━━━━━━━━━━━\u001b[0m\u001b[37m\u001b[0m \u001b[1m0s\u001b[0m 49ms/step - accuracy: 0.9359 - loss: 0.2114 - val_accuracy: 0.6000 - val_loss: 0.7505\n",
      "Epoch 19/20\n",
      "\u001b[1m8/8\u001b[0m \u001b[32m━━━━━━━━━━━━━━━━━━━━\u001b[0m\u001b[37m\u001b[0m \u001b[1m0s\u001b[0m 52ms/step - accuracy: 0.9554 - loss: 0.2309 - val_accuracy: 0.6667 - val_loss: 0.5674\n",
      "Epoch 20/20\n",
      "\u001b[1m8/8\u001b[0m \u001b[32m━━━━━━━━━━━━━━━━━━━━\u001b[0m\u001b[37m\u001b[0m \u001b[1m0s\u001b[0m 49ms/step - accuracy: 0.9477 - loss: 0.1867 - val_accuracy: 0.6667 - val_loss: 0.5608\n",
      "\u001b[1m1/1\u001b[0m \u001b[32m━━━━━━━━━━━━━━━━━━━━\u001b[0m\u001b[37m\u001b[0m \u001b[1m0s\u001b[0m 40ms/step - accuracy: 0.6667 - loss: 0.5608\n",
      "Test Accuracy: 0.6667\n"
     ]
    }
   ],
   "source": [
    "# Reshape data for CNN input (assuming X is correlation matrices)\n",
    "X = np.array(feature_data[\"correlation_matrix\"].tolist())  # Convert list of matrices to array\n",
    "X_cnn = X.reshape(X.shape[0], X.shape[1], X.shape[2], 1)  # Add channel dimension\n",
    "y_cnn = feature_data[\"Handedness_Cat\"].values  # Classification target\n",
    "\n",
    "# Split dataset\n",
    "X_train, X_test, y_train, y_test = train_test_split(X_cnn, y_cnn, test_size=0.2, random_state=42, stratify=y_cnn)\n",
    "\n",
    "# Define CNN model\n",
    "model = Sequential([\n",
    "    Conv2D(32, kernel_size=(3,3), activation='relu', input_shape=(X_train.shape[1], X_train.shape[2], 1)),\n",
    "    MaxPooling2D(pool_size=(2,2)),\n",
    "    \n",
    "    Conv2D(64, kernel_size=(3,3), activation='relu'),\n",
    "    MaxPooling2D(pool_size=(2,2)),\n",
    "\n",
    "    Flatten(),\n",
    "    Dense(128, activation='relu'),\n",
    "    Dropout(0.5),\n",
    "    Dense(1, activation='sigmoid')  # Binary classification (0 = Left, 1 = Right)\n",
    "])\n",
    "\n",
    "# Compile Model\n",
    "model.compile(optimizer=Adam(learning_rate=0.001), loss='binary_crossentropy', metrics=['accuracy'])\n",
    "\n",
    "# Compute class weights automatically\n",
    "class_weights = dict(zip(np.unique(y_train), compute_class_weight(\"balanced\", classes=np.unique(y_train), y=y_train)))\n",
    "\n",
    "# Train Model with dynamically computed class weights\n",
    "model.fit(X_train, y_train, validation_data=(X_test, y_test), epochs=20, batch_size=16, class_weight=class_weights)\n",
    "\n",
    "# Evaluate Model\n",
    "test_loss, test_acc = model.evaluate(X_test, y_test)\n",
    "print(f\"Test Accuracy: {test_acc:.4f}\")"
   ]
  },
  {
   "cell_type": "code",
   "execution_count": 103,
   "metadata": {},
   "outputs": [
    {
     "name": "stdout",
     "output_type": "stream",
     "text": [
      "WARNING:tensorflow:5 out of the last 7 calls to <function TensorFlowTrainer.make_predict_function.<locals>.one_step_on_data_distributed at 0x42e65c040> triggered tf.function retracing. Tracing is expensive and the excessive number of tracings could be due to (1) creating @tf.function repeatedly in a loop, (2) passing tensors with different shapes, (3) passing Python objects instead of tensors. For (1), please define your @tf.function outside of the loop. For (2), @tf.function has reduce_retracing=True option that can avoid unnecessary retracing. For (3), please refer to https://www.tensorflow.org/guide/function#controlling_retracing and https://www.tensorflow.org/api_docs/python/tf/function for  more details.\n",
      "\u001b[1m1/1\u001b[0m \u001b[32m━━━━━━━━━━━━━━━━━━━━\u001b[0m\u001b[37m\u001b[0m \u001b[1m0s\u001b[0m 85ms/step\n",
      "Confusion Matrix:\n",
      " [[9 5]\n",
      " [6 9]]\n",
      "\n",
      "Classification Report:\n",
      "               precision    recall  f1-score   support\n",
      "\n",
      " Left-Handed       0.60      0.64      0.62        14\n",
      "Right-Handed       0.64      0.60      0.62        15\n",
      "\n",
      "    accuracy                           0.62        29\n",
      "   macro avg       0.62      0.62      0.62        29\n",
      "weighted avg       0.62      0.62      0.62        29\n",
      "\n"
     ]
    }
   ],
   "source": [
    "y_pred = (model.predict(X_test) > 0.5).astype(\"int32\")\n",
    "\n",
    "print(\"Confusion Matrix:\\n\", confusion_matrix(y_test, y_pred))\n",
    "print(\"\\nClassification Report:\\n\", classification_report(y_test, y_pred, target_names=[\"Left-Handed\", \"Right-Handed\"]))"
   ]
  },
  {
   "cell_type": "code",
   "execution_count": null,
   "metadata": {},
   "outputs": [],
   "source": []
  },
  {
   "attachments": {},
   "cell_type": "markdown",
   "metadata": {},
   "source": [
    "---"
   ]
  },
  {
   "attachments": {},
   "cell_type": "markdown",
   "metadata": {},
   "source": [
    "Transforming Handedness"
   ]
  },
  {
   "cell_type": "code",
   "execution_count": 25,
   "metadata": {},
   "outputs": [
    {
     "data": {
      "text/html": [
       "<div>\n",
       "<style scoped>\n",
       "    .dataframe tbody tr th:only-of-type {\n",
       "        vertical-align: middle;\n",
       "    }\n",
       "\n",
       "    .dataframe tbody tr th {\n",
       "        vertical-align: top;\n",
       "    }\n",
       "\n",
       "    .dataframe thead th {\n",
       "        text-align: right;\n",
       "    }\n",
       "</style>\n",
       "<table border=\"1\" class=\"dataframe\">\n",
       "  <thead>\n",
       "    <tr style=\"text-align: right;\">\n",
       "      <th></th>\n",
       "      <th>Left-Handed</th>\n",
       "      <th>Right-Handed</th>\n",
       "      <th>Overall</th>\n",
       "    </tr>\n",
       "  </thead>\n",
       "  <tbody>\n",
       "    <tr>\n",
       "      <th>count</th>\n",
       "      <td>0.0</td>\n",
       "      <td>0.0</td>\n",
       "      <td>148.000000</td>\n",
       "    </tr>\n",
       "    <tr>\n",
       "      <th>mean</th>\n",
       "      <td>NaN</td>\n",
       "      <td>NaN</td>\n",
       "      <td>6.554054</td>\n",
       "    </tr>\n",
       "    <tr>\n",
       "      <th>std</th>\n",
       "      <td>NaN</td>\n",
       "      <td>NaN</td>\n",
       "      <td>74.680388</td>\n",
       "    </tr>\n",
       "    <tr>\n",
       "      <th>min</th>\n",
       "      <td>NaN</td>\n",
       "      <td>NaN</td>\n",
       "      <td>-100.000000</td>\n",
       "    </tr>\n",
       "    <tr>\n",
       "      <th>25%</th>\n",
       "      <td>NaN</td>\n",
       "      <td>NaN</td>\n",
       "      <td>-65.000000</td>\n",
       "    </tr>\n",
       "    <tr>\n",
       "      <th>50%</th>\n",
       "      <td>NaN</td>\n",
       "      <td>NaN</td>\n",
       "      <td>10.000000</td>\n",
       "    </tr>\n",
       "    <tr>\n",
       "      <th>75%</th>\n",
       "      <td>NaN</td>\n",
       "      <td>NaN</td>\n",
       "      <td>80.000000</td>\n",
       "    </tr>\n",
       "    <tr>\n",
       "      <th>max</th>\n",
       "      <td>NaN</td>\n",
       "      <td>NaN</td>\n",
       "      <td>100.000000</td>\n",
       "    </tr>\n",
       "  </tbody>\n",
       "</table>\n",
       "</div>"
      ],
      "text/plain": [
       "       Left-Handed  Right-Handed     Overall\n",
       "count          0.0           0.0  148.000000\n",
       "mean           NaN           NaN    6.554054\n",
       "std            NaN           NaN   74.680388\n",
       "min            NaN           NaN -100.000000\n",
       "25%            NaN           NaN  -65.000000\n",
       "50%            NaN           NaN   10.000000\n",
       "75%            NaN           NaN   80.000000\n",
       "max            NaN           NaN  100.000000"
      ]
     },
     "execution_count": 25,
     "metadata": {},
     "output_type": "execute_result"
    }
   ],
   "source": [
    "left_handed = data[data['Handedness_Cat'] == 'Left']\n",
    "right_handed = data[data['Handedness_Cat'] == 'Right']\n",
    "\n",
    "# Handedness statistics\n",
    "pd.DataFrame([\n",
    "    left_handed.describe()['Handedness'], \n",
    "    right_handed.describe()['Handedness'], \n",
    "    data['Handedness'].describe()\n",
    "], index=['Left-Handed', 'Right-Handed', 'Overall']).T\n"
   ]
  },
  {
   "cell_type": "code",
   "execution_count": 26,
   "metadata": {},
   "outputs": [
    {
     "data": {
      "image/png": "[encoded data removed]",
      "text/plain": [
       "<Figure size 800x600 with 1 Axes>"
      ]
     },
     "metadata": {},
     "output_type": "display_data"
    }
   ],
   "source": [
    "plt.figure(figsize=(8, 6))\n",
    "sns.histplot(left_handed['Handedness'], color='blue', label='Left-Handed', kde=False, bins=20, alpha=0.5)\n",
    "sns.histplot(right_handed['Handedness'], color='orange', label='Right-Handed', kde=False, bins=20, alpha=0.5)\n",
    "\n",
    "\n",
    "# mark medians\n",
    "plt.axvline(left_handed['Handedness'].median(), color='blue', linestyle='--', label='Left-Handed Median')\n",
    "plt.axvline(right_handed['Handedness'].median(), color='orange', linestyle='--', label='Right-Handed Median')\n",
    "\n",
    "# Labels and title\n",
    "plt.xlabel('Handedness Score', fontsize=12)\n",
    "plt.ylabel('count', fontsize=12)\n",
    "plt.title('Distribution of Handedness Scores', fontsize=16)\n",
    "plt.legend()\n",
    "\n",
    "plt.grid(alpha=0.3)\n",
    "plt.show()"
   ]
  },
  {
   "attachments": {},
   "cell_type": "markdown",
   "metadata": {},
   "source": [
    "Log tranformation"
   ]
  },
  {
   "cell_type": "code",
   "execution_count": 27,
   "metadata": {},
   "outputs": [
    {
     "name": "stderr",
     "output_type": "stream",
     "text": [
      "/opt/homebrew/lib/python3.11/site-packages/pandas/core/arraylike.py:399: RuntimeWarning: divide by zero encountered in log10\n",
      "  result = getattr(ufunc, method)(*inputs, **kwargs)\n",
      "/var/folders/bz/8tkr7qg51_1bcjy3cf4g8fzc0000gn/T/ipykernel_88733/345938297.py:10: UserWarning: No artists with labels found to put in legend.  Note that artists whose label start with an underscore are ignored when legend() is called with no argument.\n",
      "  plt.legend()\n"
     ]
    },
    {
     "data": {
      "image/png": "[encoded data removed]",
      "text/plain": [
       "<Figure size 1000x600 with 1 Axes>"
      ]
     },
     "metadata": {},
     "output_type": "display_data"
    }
   ],
   "source": [
    "data['log_transformed_handedness'] = np.log10(100-data['Handedness'])\n",
    "\n",
    "left_handed = data[data['Handedness_Cat'] == 'Left']\n",
    "right_handed = data[data['Handedness_Cat'] == 'Right']\n",
    "\n",
    "plt.figure(figsize=(10, 6))\n",
    "sns.histplot(data=left_handed['log_transformed_handedness'], label='Left-Handed', color='blue', kde=False, bins=20, alpha=0.5, stat='density')\n",
    "sns.histplot(data=right_handed['log_transformed_handedness'], label='Right-Handed', color='orange', kde=False, bins=20, alpha=0.5, stat='density')\n",
    "\n",
    "plt.legend()\n",
    "plt.grid(alpha=0.3)\n",
    "plt.show()"
   ]
  },
  {
   "attachments": {},
   "cell_type": "markdown",
   "metadata": {},
   "source": [
    "square root transformation"
   ]
  },
  {
   "cell_type": "code",
   "execution_count": 28,
   "metadata": {},
   "outputs": [
    {
     "name": "stderr",
     "output_type": "stream",
     "text": [
      "/var/folders/bz/8tkr7qg51_1bcjy3cf4g8fzc0000gn/T/ipykernel_88733/4275411290.py:10: UserWarning: No artists with labels found to put in legend.  Note that artists whose label start with an underscore are ignored when legend() is called with no argument.\n",
      "  plt.legend()\n"
     ]
    },
    {
     "data": {
      "image/png": "[encoded data removed]",
      "text/plain": [
       "<Figure size 1000x600 with 1 Axes>"
      ]
     },
     "metadata": {},
     "output_type": "display_data"
    }
   ],
   "source": [
    "data['sqrt_transformed_handedness'] = data['Handedness'].abs()**0.5\n",
    "\n",
    "left_handed = data[data['Handedness_Cat'] == 'Left']\n",
    "right_handed = data[data['Handedness_Cat'] == 'Right']\n",
    "\n",
    "plt.figure(figsize=(10, 6))\n",
    "sns.histplot(data=left_handed['sqrt_transformed_handedness'], label='Left-Handed', color='blue', kde=False, bins=20, alpha=0.5, stat='density')\n",
    "sns.histplot(data=right_handed['sqrt_transformed_handedness'], label='Right-Handed', color='orange', kde=False, bins=20, alpha=0.5, stat='density')\n",
    "\n",
    "plt.legend()\n",
    "plt.grid(alpha=0.3)\n",
    "plt.show()"
   ]
  },
  {
   "cell_type": "code",
   "execution_count": 29,
   "metadata": {},
   "outputs": [
    {
     "name": "stderr",
     "output_type": "stream",
     "text": [
      "/var/folders/bz/8tkr7qg51_1bcjy3cf4g8fzc0000gn/T/ipykernel_88733/1017267253.py:11: UserWarning: No artists with labels found to put in legend.  Note that artists whose label start with an underscore are ignored when legend() is called with no argument.\n",
      "  plt.legend()\n"
     ]
    },
    {
     "data": {
      "image/png": "[encoded data removed]",
      "text/plain": [
       "<Figure size 640x480 with 1 Axes>"
      ]
     },
     "metadata": {},
     "output_type": "display_data"
    }
   ],
   "source": [
    "from scipy.stats import zscore\n",
    "\n",
    "data['zscored_handedness'] = zscore(data['Handedness'])\n",
    "\n",
    "left_handed = data[data['Handedness_Cat'] == 'Left']\n",
    "right_handed = data[data['Handedness_Cat'] == 'Right']\n",
    "\n",
    "sns.histplot(left_handed['zscored_handedness'],label='Left-Handed',bins=10, edgecolor='black', alpha=0.7, stat='density')\n",
    "sns.histplot(right_handed['zscored_handedness'], label='right-Handed',bins=10, edgecolor='black', alpha=0.7, stat='density')\n",
    "\n",
    "plt.legend()\n",
    "plt.grid(alpha=0.3)\n",
    "plt.show()"
   ]
  },
  {
   "cell_type": "code",
   "execution_count": 30,
   "metadata": {},
   "outputs": [
    {
     "name": "stderr",
     "output_type": "stream",
     "text": [
      "/var/folders/bz/8tkr7qg51_1bcjy3cf4g8fzc0000gn/T/ipykernel_88733/3313332115.py:13: UserWarning: No artists with labels found to put in legend.  Note that artists whose label start with an underscore are ignored when legend() is called with no argument.\n",
      "  plt.legend()\n"
     ]
    },
    {
     "data": {
      "image/png": "[encoded data removed]",
      "text/plain": [
       "<Figure size 1000x600 with 1 Axes>"
      ]
     },
     "metadata": {},
     "output_type": "display_data"
    }
   ],
   "source": [
    "mean_value = left_handed['Handedness'].mean()\n",
    "std_value = left_handed['Handedness'].std()\n",
    "left_handed['standardized_handedness'] = (left_handed['Handedness'] - mean_value) / std_value\n",
    "\n",
    "mean_value = right_handed['Handedness'].mean()\n",
    "std_value = right_handed['Handedness'].std()\n",
    "right_handed['standardized_handedness'] = (right_handed['Handedness'] - mean_value) / std_value\n",
    "\n",
    "plt.figure(figsize=(10, 6))\n",
    "sns.histplot(left_handed['standardized_handedness'],label='Left-Handed',bins=10, edgecolor='black', alpha=0.7, stat='density')\n",
    "sns.histplot(right_handed['standardized_handedness'], label='right-Handed',bins=10, edgecolor='black', alpha=0.7, stat='density')\n",
    "\n",
    "plt.legend()\n",
    "plt.grid(axis='y', linestyle='--', alpha=0.7)\n",
    "\n",
    "\n",
    "plt.show()"
   ]
  },
  {
   "attachments": {},
   "cell_type": "markdown",
   "metadata": {},
   "source": [
    "Symmetric Transformation (Box-Cox)"
   ]
  },
  {
   "cell_type": "code",
   "execution_count": 31,
   "metadata": {},
   "outputs": [
    {
     "data": {
      "text/plain": [
       "0      18320.362924\n",
       "1      28997.486355\n",
       "2      28997.486355\n",
       "3      32525.742178\n",
       "4      22580.173480\n",
       "           ...     \n",
       "143    32525.742178\n",
       "144    15740.762788\n",
       "145    36268.999363\n",
       "146    36268.999363\n",
       "147    28997.486355\n",
       "Name: BoxCox_Handedness, Length: 148, dtype: float64"
      ]
     },
     "execution_count": 31,
     "metadata": {},
     "output_type": "execute_result"
    }
   ],
   "source": [
    "from scipy.stats import boxcox\n",
    "\n",
    "data['BoxCox_Handedness'], lambda_ = boxcox(data['Handedness'].abs() + 100)  # Shift to ensure all values are positive\n",
    "data['BoxCox_Handedness']"
   ]
  },
  {
   "cell_type": "code",
   "execution_count": 32,
   "metadata": {},
   "outputs": [
    {
     "ename": "KeyError",
     "evalue": "'Handedness_BoxCox'",
     "output_type": "error",
     "traceback": [
      "\u001b[0;31m---------------------------------------------------------------------------\u001b[0m",
      "\u001b[0;31mKeyError\u001b[0m                                  Traceback (most recent call last)",
      "File \u001b[0;32m/opt/homebrew/lib/python3.11/site-packages/pandas/core/indexes/base.py:3805\u001b[0m, in \u001b[0;36mIndex.get_loc\u001b[0;34m(self, key)\u001b[0m\n\u001b[1;32m   3804\u001b[0m \u001b[39mtry\u001b[39;00m:\n\u001b[0;32m-> 3805\u001b[0m     \u001b[39mreturn\u001b[39;00m \u001b[39mself\u001b[39;49m\u001b[39m.\u001b[39;49m_engine\u001b[39m.\u001b[39;49mget_loc(casted_key)\n\u001b[1;32m   3806\u001b[0m \u001b[39mexcept\u001b[39;00m \u001b[39mKeyError\u001b[39;00m \u001b[39mas\u001b[39;00m err:\n",
      "File \u001b[0;32mindex.pyx:167\u001b[0m, in \u001b[0;36mpandas._libs.index.IndexEngine.get_loc\u001b[0;34m()\u001b[0m\n",
      "File \u001b[0;32mindex.pyx:196\u001b[0m, in \u001b[0;36mpandas._libs.index.IndexEngine.get_loc\u001b[0;34m()\u001b[0m\n",
      "File \u001b[0;32mpandas/_libs/hashtable_class_helper.pxi:7081\u001b[0m, in \u001b[0;36mpandas._libs.hashtable.PyObjectHashTable.get_item\u001b[0;34m()\u001b[0m\n",
      "File \u001b[0;32mpandas/_libs/hashtable_class_helper.pxi:7089\u001b[0m, in \u001b[0;36mpandas._libs.hashtable.PyObjectHashTable.get_item\u001b[0;34m()\u001b[0m\n",
      "\u001b[0;31mKeyError\u001b[0m: 'Handedness_BoxCox'",
      "\nThe above exception was the direct cause of the following exception:\n",
      "\u001b[0;31mKeyError\u001b[0m                                  Traceback (most recent call last)",
      "Cell \u001b[0;32mIn[32], line 4\u001b[0m\n\u001b[1;32m      1\u001b[0m left_handed \u001b[39m=\u001b[39m data[data[\u001b[39m'\u001b[39m\u001b[39mHandedness_Cat\u001b[39m\u001b[39m'\u001b[39m] \u001b[39m==\u001b[39m \u001b[39m'\u001b[39m\u001b[39mLeft\u001b[39m\u001b[39m'\u001b[39m]\n\u001b[1;32m      2\u001b[0m right_handed \u001b[39m=\u001b[39m data[data[\u001b[39m'\u001b[39m\u001b[39mHandedness_Cat\u001b[39m\u001b[39m'\u001b[39m] \u001b[39m==\u001b[39m \u001b[39m'\u001b[39m\u001b[39mRight\u001b[39m\u001b[39m'\u001b[39m]\n\u001b[0;32m----> 4\u001b[0m sns\u001b[39m.\u001b[39mhistplot(left_handed[\u001b[39m'\u001b[39;49m\u001b[39mHandedness_BoxCox\u001b[39;49m\u001b[39m'\u001b[39;49m],label\u001b[39m=\u001b[39m\u001b[39m'\u001b[39m\u001b[39mLeft-Handed\u001b[39m\u001b[39m'\u001b[39m,bins\u001b[39m=\u001b[39m\u001b[39m10\u001b[39m, edgecolor\u001b[39m=\u001b[39m\u001b[39m'\u001b[39m\u001b[39mblack\u001b[39m\u001b[39m'\u001b[39m, alpha\u001b[39m=\u001b[39m\u001b[39m0.7\u001b[39m, stat\u001b[39m=\u001b[39m\u001b[39m'\u001b[39m\u001b[39mdensity\u001b[39m\u001b[39m'\u001b[39m)\n\u001b[1;32m      5\u001b[0m sns\u001b[39m.\u001b[39mhistplot(right_handed[\u001b[39m'\u001b[39m\u001b[39mHandedness_BoxCox\u001b[39m\u001b[39m'\u001b[39m], label\u001b[39m=\u001b[39m\u001b[39m'\u001b[39m\u001b[39mright-Handed\u001b[39m\u001b[39m'\u001b[39m,bins\u001b[39m=\u001b[39m\u001b[39m10\u001b[39m, edgecolor\u001b[39m=\u001b[39m\u001b[39m'\u001b[39m\u001b[39mblack\u001b[39m\u001b[39m'\u001b[39m, alpha\u001b[39m=\u001b[39m\u001b[39m0.7\u001b[39m, stat\u001b[39m=\u001b[39m\u001b[39m'\u001b[39m\u001b[39mdensity\u001b[39m\u001b[39m'\u001b[39m)\n\u001b[1;32m      7\u001b[0m plt\u001b[39m.\u001b[39mlegend()\n",
      "File \u001b[0;32m/opt/homebrew/lib/python3.11/site-packages/pandas/core/frame.py:4102\u001b[0m, in \u001b[0;36mDataFrame.__getitem__\u001b[0;34m(self, key)\u001b[0m\n\u001b[1;32m   4100\u001b[0m \u001b[39mif\u001b[39;00m \u001b[39mself\u001b[39m\u001b[39m.\u001b[39mcolumns\u001b[39m.\u001b[39mnlevels \u001b[39m>\u001b[39m \u001b[39m1\u001b[39m:\n\u001b[1;32m   4101\u001b[0m     \u001b[39mreturn\u001b[39;00m \u001b[39mself\u001b[39m\u001b[39m.\u001b[39m_getitem_multilevel(key)\n\u001b[0;32m-> 4102\u001b[0m indexer \u001b[39m=\u001b[39m \u001b[39mself\u001b[39;49m\u001b[39m.\u001b[39;49mcolumns\u001b[39m.\u001b[39;49mget_loc(key)\n\u001b[1;32m   4103\u001b[0m \u001b[39mif\u001b[39;00m is_integer(indexer):\n\u001b[1;32m   4104\u001b[0m     indexer \u001b[39m=\u001b[39m [indexer]\n",
      "File \u001b[0;32m/opt/homebrew/lib/python3.11/site-packages/pandas/core/indexes/base.py:3812\u001b[0m, in \u001b[0;36mIndex.get_loc\u001b[0;34m(self, key)\u001b[0m\n\u001b[1;32m   3807\u001b[0m     \u001b[39mif\u001b[39;00m \u001b[39misinstance\u001b[39m(casted_key, \u001b[39mslice\u001b[39m) \u001b[39mor\u001b[39;00m (\n\u001b[1;32m   3808\u001b[0m         \u001b[39misinstance\u001b[39m(casted_key, abc\u001b[39m.\u001b[39mIterable)\n\u001b[1;32m   3809\u001b[0m         \u001b[39mand\u001b[39;00m \u001b[39many\u001b[39m(\u001b[39misinstance\u001b[39m(x, \u001b[39mslice\u001b[39m) \u001b[39mfor\u001b[39;00m x \u001b[39min\u001b[39;00m casted_key)\n\u001b[1;32m   3810\u001b[0m     ):\n\u001b[1;32m   3811\u001b[0m         \u001b[39mraise\u001b[39;00m InvalidIndexError(key)\n\u001b[0;32m-> 3812\u001b[0m     \u001b[39mraise\u001b[39;00m \u001b[39mKeyError\u001b[39;00m(key) \u001b[39mfrom\u001b[39;00m \u001b[39merr\u001b[39;00m\n\u001b[1;32m   3813\u001b[0m \u001b[39mexcept\u001b[39;00m \u001b[39mTypeError\u001b[39;00m:\n\u001b[1;32m   3814\u001b[0m     \u001b[39m# If we have a listlike key, _check_indexing_error will raise\u001b[39;00m\n\u001b[1;32m   3815\u001b[0m     \u001b[39m#  InvalidIndexError. Otherwise we fall through and re-raise\u001b[39;00m\n\u001b[1;32m   3816\u001b[0m     \u001b[39m#  the TypeError.\u001b[39;00m\n\u001b[1;32m   3817\u001b[0m     \u001b[39mself\u001b[39m\u001b[39m.\u001b[39m_check_indexing_error(key)\n",
      "\u001b[0;31mKeyError\u001b[0m: 'Handedness_BoxCox'"
     ]
    }
   ],
   "source": [
    "left_handed = data[data['Handedness_Cat'] == 'Left']\n",
    "right_handed = data[data['Handedness_Cat'] == 'Right']\n",
    "\n",
    "sns.histplot(left_handed['Handedness_BoxCox'],label='Left-Handed',bins=10, edgecolor='black', alpha=0.7, stat='density')\n",
    "sns.histplot(right_handed['Handedness_BoxCox'], label='right-Handed',bins=10, edgecolor='black', alpha=0.7, stat='density')\n",
    "\n",
    "plt.legend()\n",
    "plt.grid(alpha=0.3)\n",
    "plt.show()"
   ]
  },
  {
   "cell_type": "code",
   "execution_count": null,
   "metadata": {},
   "outputs": [],
   "source": [
    "# from scipy.stats import skew, kurtosis\n",
    "\n",
    "# print(\"Original Skewness:\", skew(data['Handedness']))\n",
    "# print(\"Transformed Skewness:\", skew(data['log_transformed_handedness']))\n",
    "\n",
    "# print(\"Original Kurtosis:\", kurtosis(data['Handedness']))\n",
    "# print(\"Transformed Kurtosis:\", kurtosis(data['log_transformed_handedness']))\n"
   ]
  },
  {
   "cell_type": "code",
   "execution_count": null,
   "metadata": {},
   "outputs": [],
   "source": []
  }
 ],
 "metadata": {
  "kernelspec": {
   "display_name": "Python 3",
   "language": "python",
   "name": "python3"
  },
  "language_info": {
   "codemirror_mode": {
    "name": "ipython",
    "version": 3
   },
   "file_extension": ".py",
   "mimetype": "text/x-python",
   "name": "python",
   "nbconvert_exporter": "python",
   "pygments_lexer": "ipython3",
   "version": "3.11.7"
  },
  "orig_nbformat": 4
 },
 "nbformat": 4,
 "nbformat_minor": 2
}
