{
 "cells": [
  {
   "cell_type": "code",
   "execution_count": 2,
   "metadata": {},
   "outputs": [],
   "source": [
    "import pandas as pd \n",
    "import numpy as np\n",
    "import matplotlib.pyplot as plt\n",
    "import seaborn as sns\n",
    "import os\n",
    "\n",
    "from sklearn.model_selection import train_test_split\n",
    "from sklearn.preprocessing import StandardScaler\n",
    "# from sklearn.svm import SVC, SVR\n",
    "from sklearn.linear_model import LassoCV\n",
    "from sklearn.linear_model import LogisticRegressionCV\n",
    "from sklearn.metrics import accuracy_score, classification_report, confusion_matrix, accuracy_score, mean_squared_error, r2_score, roc_curve, auc\n",
    "# from sklearn.pipeline import Pipeline\n",
    "from imblearn.over_sampling import SMOTE\n",
    "\n",
    "import pandas as pd\n",
    "pd.options.mode.chained_assignment = None  # Hide long warnings\n",
    "\n",
    "import tensorflow as tf\n",
    "from tensorflow.keras.models import Sequential\n",
    "from tensorflow.keras.layers import Conv2D, MaxPooling2D, Flatten, Dense, Dropout\n",
    "from tensorflow.keras.optimizers import Adam\n",
    "from sklearn.model_selection import train_test_split\n",
    "\n",
    "import random\n",
    "from sklearn.model_selection import StratifiedKFold, train_test_split\n",
    "from sklearn.utils.class_weight import compute_class_weight\n",
    "from tensorflow.keras.callbacks import ReduceLROnPlateau"
   ]
  },
  {
   "attachments": {},
   "cell_type": "markdown",
   "metadata": {},
   "source": [
    "### d100"
   ]
  },
  {
   "cell_type": "code",
   "execution_count": 3,
   "metadata": {},
   "outputs": [
    {
     "name": "stdout",
     "output_type": "stream",
     "text": [
      "The Python package you are importing, AtlasReader, is licensed under the\n",
      "BSD-3 license; however, the atlases it uses are separately licensed under more\n",
      "restrictive frameworks.\n",
      "By using AtlasReader, you agree to abide by the license terms of the\n",
      "individual atlases. Information on these terms can be found online at:\n",
      "https://github.com/miykael/atlasreader/tree/master/atlasreader/data\n",
      "\n",
      "BRAIN REGIONS:\n",
      "--------------\n",
      "[[np.float64(50.0), 'Right_Cuneal_Cortex'], [np.float64(24.0), 'Left_Cuneal_Cortex'], [np.float64(7.0), 'Right_Precuneous_Cortex']]\n",
      "[[np.float64(71.0), 'Left_Occipital_Pole']]\n",
      "[[np.float64(43.0), 'Right_Occipital_Pole'], [np.float64(12.0), 'Right_Lateral_Occipital_Cortex_superior_division']]\n",
      "[[np.float64(37.0), 'Right_Lateral_Occipital_Cortex_superior_division'], [np.float64(23.0), 'Right_Lateral_Occipital_Cortex_inferior_division'], [np.float64(5.0), 'Right_Occipital_Pole']]\n",
      "[[np.float64(53.0), 'Left_Lateral_Occipital_Cortex_superior_division'], [np.float64(21.0), 'Left_Angular_Gyrus']]\n",
      "[[np.float64(71.0), 'Left_Lateral_Occipital_Cortex_superior_division']]\n",
      "[[np.float64(53.0), 'Right_Supramarginal_Gyrus_posterior_division'], [np.float64(22.0), 'Right_Angular_Gyrus']]\n",
      "[[np.float64(79.0), 'Right_Lateral_Occipital_Cortex_superior_division']]\n",
      "[[np.float64(73.0), 'Left_Supramarginal_Gyrus_anterior_division'], [np.float64(13.0), 'Left_Supramarginal_Gyrus_posterior_division']]\n",
      "[[np.float64(62.0), 'Right_Lateral_Occipital_Cortex_superior_division'], [np.float64(21.0), 'Right_Angular_Gyrus']]\n",
      "[[np.float64(73.0), 'Left_Lateral_Occipital_Cortex_superior_division']]\n",
      "[[np.float64(38.0), 'Left_Superior_Frontal_Gyrus'], [np.float64(35.0), 'Left_Frontal_Pole']]\n",
      "[[np.float64(62.0), 'Left_Lateral_Occipital_Cortex_superior_division']]\n",
      "[[np.float64(44.0), 'Right_Supramarginal_Gyrus_anterior_division'], [np.float64(23.0), 'Right_Postcentral_Gyrus']]\n",
      "[[np.float64(45.0), 'Left_Angular_Gyrus'], [np.float64(19.0), 'Left_Supramarginal_Gyrus_posterior_division']]\n",
      "[[np.float64(32.0), 'Right_Occipital_Pole'], [np.float64(15.0), 'Left_Occipital_Pole'], [np.float64(11.0), 'Right_Intracalcarine_Cortex'], [np.float64(7.0), 'Right_Lingual_Gyrus'], [np.float64(5.0), 'Left_Intracalcarine_Cortex']]\n",
      "[[np.float64(53.0), 'Left_Angular_Gyrus'], [np.float64(21.0), 'Left_Supramarginal_Gyrus_posterior_division'], [np.float64(8.0), 'Left_Lateral_Occipital_Cortex_superior_division']]\n",
      "[[np.float64(37.0), 'Left_Precuneous_Cortex'], [np.float64(30.0), 'Right_Precuneous_Cortex'], [np.float64(6.0), 'Left_Cuneal_Cortex'], [np.float64(5.0), 'Right_Cuneal_Cortex']]\n",
      "[[np.float64(44.0), 'Right_Supramarginal_Gyrus_anterior_division'], [np.float64(19.0), 'Right_Parietal_Operculum_Cortex'], [np.float64(15.0), 'Right_Planum_Temporale']]\n",
      "[[np.float64(31.0), 'Right_Occipital_Fusiform_Gyrus'], [np.float64(22.0), 'Right_Occipital_Pole'], [np.float64(12.0), 'Right_Lateral_Occipital_Cortex_inferior_division']]\n",
      "[[np.float64(45.0), 'Right_Middle_Frontal_Gyrus'], [np.float64(16.0), 'Right_Inferior_Frontal_Gyrus_pars_opercularis'], [np.float64(12.0), 'Right_Inferior_Frontal_Gyrus_pars_triangularis']]\n",
      "[[np.float64(67.0), 'Right_Lateral_Occipital_Cortex_inferior_division'], [np.float64(5.0), 'Right_Lateral_Occipital_Cortex_superior_division']]\n",
      "[[np.float64(41.0), 'Left_Precentral_Gyrus'], [np.float64(28.0), 'Left_Postcentral_Gyrus']]\n",
      "[[np.float64(56.0), 'Right_Occipital_Pole']]\n",
      "[[np.float64(50.0), 'Left_Occipital_Pole']]\n",
      "[[np.float64(42.0), 'Left_Inferior_Frontal_Gyrus_pars_triangularis'], [np.float64(16.0), 'Left_Frontal_Operculum_Cortex'], [np.float64(10.0), 'Left_Inferior_Frontal_Gyrus_pars_opercularis'], [np.float64(7.0), 'Left_Frontal_Orbital_Cortex']]\n",
      "[[np.float64(79.0), 'Left_Frontal_Pole']]\n",
      "[[0, 'no_label']]\n",
      "[[0, 'no_label']]\n",
      "[[np.float64(51.0), 'Right_Angular_Gyrus'], [np.float64(16.0), 'Right_Supramarginal_Gyrus_posterior_division']]\n",
      "[[np.float64(56.0), 'Right_Superior_Parietal_Lobule'], [np.float64(12.0), 'Right_Postcentral_Gyrus']]\n",
      "[[0, 'no_label']]\n",
      "[[np.float64(45.0), 'Left_Postcentral_Gyrus'], [np.float64(6.0), 'Left_Precentral_Gyrus']]\n",
      "[[np.float64(47.0), 'Right_Postcentral_Gyrus'], [np.float64(8.0), 'Right_Precentral_Gyrus']]\n",
      "[[0, 'no_label']]\n",
      "[[np.float64(41.0), 'Right_Precentral_Gyrus']]\n",
      "[[0, 'no_label']]\n",
      "[[np.float64(49.0), 'Right_Planum_Temporale'], [np.float64(13.0), 'Right_Central_Opercular_Cortex']]\n",
      "[[0, 'no_label']]\n",
      "[[0, 'no_label']]\n",
      "[[0, 'no_label']]\n",
      "[[0, 'no_label']]\n",
      "[[np.float64(100.0), 'Left_Thalamus']]\n",
      "[[0, 'no_label']]\n",
      "[[np.float64(99.0), 'Right_Putamen']]\n",
      "[[np.float64(70.0), 'Right_Caudate'], [np.float64(29.0), 'Right_Lateral_Ventricle']]\n",
      "[[np.float64(100.0), 'Brain-Stem']]\n",
      "[[np.float64(98.0), 'Brain-Stem']]\n",
      "[[np.float64(55.0), 'Brain-Stem']]\n",
      "[[0, 'no_label']]\n"
     ]
    }
   ],
   "source": [
    "from nilearn import image, plotting\n",
    "from atlasreader.atlasreader import read_atlas_peak\n",
    "\n",
    "\"\"\"\n",
    "available reference atlases\n",
    "---------------------------\n",
    "    \"aal\",\n",
    "    \"aicha\",\n",
    "    \"desikan_killiany\",\n",
    "    \"destrieux\",\n",
    "    \"harvard_oxford\",\n",
    "    \"juelich\",\n",
    "    \"marsatlas\",\n",
    "    \"neuromorphometrics\",\n",
    "    \"talairach_ba\",\n",
    "    \"talairach_gyrus\",\n",
    " \"\"\"\n",
    "\n",
    "atlas = image.threshold_img(\"HCP_PTN1200/groupICA/groupICA_3T_HCP1200_MSMAll_d50.ica/melodic_IC_sum.nii.gz\", \"99.5%\") \n",
    "atlas_coords = plotting.find_probabilistic_atlas_cut_coords(atlas)\n",
    "brain_region = []\n",
    "print(\"BRAIN REGIONS:\\n--------------\")\n",
    "for atlas_coord in atlas_coords:\n",
    "    region = read_atlas_peak(\"harvard_oxford\", atlas_coord)\n",
    "    print(region)\n",
    "    brain_region += [region]"
   ]
  },
  {
   "cell_type": "code",
   "execution_count": 4,
   "metadata": {},
   "outputs": [
    {
     "data": {
      "text/plain": [
       "['Right_Cuneal_Cortex',\n",
       " 'Left_Occipital_Pole',\n",
       " 'Right_Occipital_Pole',\n",
       " 'Right_Lateral_Occipital_Cortex_superior_division',\n",
       " 'Left_Lateral_Occipital_Cortex_superior_division',\n",
       " 'Left_Lateral_Occipital_Cortex_superior_division',\n",
       " 'Right_Supramarginal_Gyrus_posterior_division',\n",
       " 'Right_Lateral_Occipital_Cortex_superior_division',\n",
       " 'Left_Supramarginal_Gyrus_anterior_division',\n",
       " 'Right_Lateral_Occipital_Cortex_superior_division',\n",
       " 'Left_Lateral_Occipital_Cortex_superior_division',\n",
       " 'Left_Superior_Frontal_Gyrus',\n",
       " 'Left_Lateral_Occipital_Cortex_superior_division',\n",
       " 'Right_Supramarginal_Gyrus_anterior_division',\n",
       " 'Left_Angular_Gyrus',\n",
       " 'Right_Occipital_Pole',\n",
       " 'Left_Angular_Gyrus',\n",
       " 'Left_Precuneous_Cortex',\n",
       " 'Right_Supramarginal_Gyrus_anterior_division',\n",
       " 'Right_Occipital_Fusiform_Gyrus',\n",
       " 'Right_Middle_Frontal_Gyrus',\n",
       " 'Right_Lateral_Occipital_Cortex_inferior_division',\n",
       " 'Left_Precentral_Gyrus',\n",
       " 'Right_Occipital_Pole',\n",
       " 'Left_Occipital_Pole',\n",
       " 'Left_Inferior_Frontal_Gyrus_pars_triangularis',\n",
       " 'Left_Frontal_Pole',\n",
       " 'no_label',\n",
       " 'no_label',\n",
       " 'Right_Angular_Gyrus',\n",
       " 'Right_Superior_Parietal_Lobule',\n",
       " 'no_label',\n",
       " 'Left_Postcentral_Gyrus',\n",
       " 'Right_Postcentral_Gyrus',\n",
       " 'no_label',\n",
       " 'Right_Precentral_Gyrus',\n",
       " 'no_label',\n",
       " 'Right_Planum_Temporale',\n",
       " 'no_label',\n",
       " 'no_label',\n",
       " 'no_label',\n",
       " 'no_label',\n",
       " 'Left_Thalamus',\n",
       " 'no_label',\n",
       " 'Right_Putamen',\n",
       " 'Right_Caudate',\n",
       " 'Brain-Stem',\n",
       " 'Brain-Stem',\n",
       " 'Brain-Stem',\n",
       " 'no_label']"
      ]
     },
     "execution_count": 4,
     "metadata": {},
     "output_type": "execute_result"
    }
   ],
   "source": [
    "#select the correct region with largest probability given from the library\n",
    "brain_region = [\n",
    "    max(inner_list, key=lambda x: x[0])[-1] if inner_list else None for inner_list in brain_region\n",
    "]\n",
    "brain_region"
   ]
  },
  {
   "cell_type": "code",
   "execution_count": 5,
   "metadata": {},
   "outputs": [],
   "source": [
    "open_access_data = pd.read_csv(\"Behavioral Data/Behavioral_Data.csv\")\n",
    "restricted_data = pd.read_csv(\"Behavioral Data/RESTRICTED_BEHAVIORAL_DATA.csv\")\n",
    "subject_data = open_access_data.merge(restricted_data, how = 'inner', on = 'Subject')\n",
    "\n",
    "folder = 'HCP_PTN1200/node_timeseries/3T_HCP1200_MSMAll_d50_ts2'\n",
    "brain_files = [f for f in os.listdir(folder) if f.endswith('.txt')]\n",
    "brain_data = {}\n",
    "\n",
    "for filename in brain_files:\n",
    "    subject_id = int(filename[:6])\n",
    "    file_path = os.path.join(folder, filename)\n",
    "    subject_brain_data = np.loadtxt(file_path)\n",
    "    brain_data[subject_id] = subject_brain_data\n",
    "\n",
    "brain_data_df = pd.DataFrame({\n",
    "    'Subject': list(brain_data.keys()),\n",
    "    'Brain_Data': list(brain_data.values())  # (4800, 100) arrays\n",
    "})\n",
    "brain_data_df\n",
    "\n",
    "data = subject_data.merge(brain_data_df, on='Subject', how='inner')"
   ]
  },
  {
   "cell_type": "code",
   "execution_count": 6,
   "metadata": {},
   "outputs": [
    {
     "data": {
      "text/plain": [
       "(1003, 783)"
      ]
     },
     "execution_count": 6,
     "metadata": {},
     "output_type": "execute_result"
    }
   ],
   "source": [
    "data.shape"
   ]
  },
  {
   "cell_type": "code",
   "execution_count": 7,
   "metadata": {},
   "outputs": [
    {
     "data": {
      "text/html": [
       "<div>\n",
       "<style scoped>\n",
       "    .dataframe tbody tr th:only-of-type {\n",
       "        vertical-align: middle;\n",
       "    }\n",
       "\n",
       "    .dataframe tbody tr th {\n",
       "        vertical-align: top;\n",
       "    }\n",
       "\n",
       "    .dataframe thead th {\n",
       "        text-align: right;\n",
       "    }\n",
       "</style>\n",
       "<table border=\"1\" class=\"dataframe\">\n",
       "  <thead>\n",
       "    <tr style=\"text-align: right;\">\n",
       "      <th></th>\n",
       "      <th>Subject</th>\n",
       "      <th>Gender</th>\n",
       "      <th>Race</th>\n",
       "      <th>Handedness</th>\n",
       "      <th>Handedness_Cat</th>\n",
       "    </tr>\n",
       "  </thead>\n",
       "  <tbody>\n",
       "    <tr>\n",
       "      <th>0</th>\n",
       "      <td>100206</td>\n",
       "      <td>M</td>\n",
       "      <td>White</td>\n",
       "      <td>65</td>\n",
       "      <td>1</td>\n",
       "    </tr>\n",
       "    <tr>\n",
       "      <th>1</th>\n",
       "      <td>100307</td>\n",
       "      <td>F</td>\n",
       "      <td>White</td>\n",
       "      <td>95</td>\n",
       "      <td>1</td>\n",
       "    </tr>\n",
       "    <tr>\n",
       "      <th>2</th>\n",
       "      <td>100408</td>\n",
       "      <td>M</td>\n",
       "      <td>White</td>\n",
       "      <td>55</td>\n",
       "      <td>1</td>\n",
       "    </tr>\n",
       "    <tr>\n",
       "      <th>3</th>\n",
       "      <td>100610</td>\n",
       "      <td>M</td>\n",
       "      <td>White</td>\n",
       "      <td>85</td>\n",
       "      <td>1</td>\n",
       "    </tr>\n",
       "    <tr>\n",
       "      <th>4</th>\n",
       "      <td>101006</td>\n",
       "      <td>F</td>\n",
       "      <td>Black or African Am.</td>\n",
       "      <td>90</td>\n",
       "      <td>1</td>\n",
       "    </tr>\n",
       "    <tr>\n",
       "      <th>...</th>\n",
       "      <td>...</td>\n",
       "      <td>...</td>\n",
       "      <td>...</td>\n",
       "      <td>...</td>\n",
       "      <td>...</td>\n",
       "    </tr>\n",
       "    <tr>\n",
       "      <th>998</th>\n",
       "      <td>992673</td>\n",
       "      <td>F</td>\n",
       "      <td>White</td>\n",
       "      <td>70</td>\n",
       "      <td>1</td>\n",
       "    </tr>\n",
       "    <tr>\n",
       "      <th>999</th>\n",
       "      <td>992774</td>\n",
       "      <td>M</td>\n",
       "      <td>White</td>\n",
       "      <td>100</td>\n",
       "      <td>1</td>\n",
       "    </tr>\n",
       "    <tr>\n",
       "      <th>1000</th>\n",
       "      <td>993675</td>\n",
       "      <td>F</td>\n",
       "      <td>White</td>\n",
       "      <td>85</td>\n",
       "      <td>1</td>\n",
       "    </tr>\n",
       "    <tr>\n",
       "      <th>1001</th>\n",
       "      <td>994273</td>\n",
       "      <td>M</td>\n",
       "      <td>White</td>\n",
       "      <td>60</td>\n",
       "      <td>1</td>\n",
       "    </tr>\n",
       "    <tr>\n",
       "      <th>1002</th>\n",
       "      <td>996782</td>\n",
       "      <td>F</td>\n",
       "      <td>White</td>\n",
       "      <td>100</td>\n",
       "      <td>1</td>\n",
       "    </tr>\n",
       "  </tbody>\n",
       "</table>\n",
       "<p>1003 rows × 5 columns</p>\n",
       "</div>"
      ],
      "text/plain": [
       "      Subject Gender                  Race  Handedness  Handedness_Cat\n",
       "0      100206      M                 White          65               1\n",
       "1      100307      F                 White          95               1\n",
       "2      100408      M                 White          55               1\n",
       "3      100610      M                 White          85               1\n",
       "4      101006      F  Black or African Am.          90               1\n",
       "...       ...    ...                   ...         ...             ...\n",
       "998    992673      F                 White          70               1\n",
       "999    992774      M                 White         100               1\n",
       "1000   993675      F                 White          85               1\n",
       "1001   994273      M                 White          60               1\n",
       "1002   996782      F                 White         100               1\n",
       "\n",
       "[1003 rows x 5 columns]"
      ]
     },
     "execution_count": 7,
     "metadata": {},
     "output_type": "execute_result"
    }
   ],
   "source": [
    "data[\"Handedness_Cat\"] = data[\"Handedness\"].apply(lambda x: 0 if x < 0 else 1) # 0: left handed, 1: right handed\n",
    "hand_data = data[[\"Subject\", \"Gender\", \"Race\", \"Handedness\", \"Handedness_Cat\"]]\n",
    "hand_data"
   ]
  },
  {
   "attachments": {},
   "cell_type": "markdown",
   "metadata": {},
   "source": [
    "Correlation Matrices"
   ]
  },
  {
   "cell_type": "code",
   "execution_count": 8,
   "metadata": {},
   "outputs": [],
   "source": [
    "correlation_matrix_list = []\n",
    "for i in range(data.shape[0]):\n",
    "    person = data[\"Brain_Data\"][i]\n",
    "    #get matrix\n",
    "    person_matrix = np.corrcoef(person.T)\n",
    "    #append to list\n",
    "    correlation_matrix_list.append(person_matrix)\n",
    "#append to column\n",
    "data[\"correlation_matrix\"] = correlation_matrix_list"
   ]
  },
  {
   "cell_type": "code",
   "execution_count": 9,
   "metadata": {},
   "outputs": [
    {
     "data": {
      "text/plain": [
       "0       [[1.0, -0.13197787851992016, 0.583802184702404...\n",
       "1       [[0.9999999999999999, -0.31975718923928015, 0....\n",
       "2       [[1.0, -0.3395806216642476, 0.746509128091212,...\n",
       "3       [[0.9999999999999999, -0.7428188899108601, 0.7...\n",
       "4       [[1.0, -0.41308400348229457, 0.547883128530550...\n",
       "                              ...                        \n",
       "998     [[1.0, -0.442858463278414, 0.7194424166057392,...\n",
       "999     [[1.0, -0.4438241727189264, 0.5875071744869071...\n",
       "1000    [[1.0, -0.05135931221689111, 0.350111113376427...\n",
       "1001    [[0.9999999999999999, -0.30076740407604147, 0....\n",
       "1002    [[1.0, -0.16486089720094374, 0.443750715712838...\n",
       "Name: correlation_matrix, Length: 1003, dtype: object"
      ]
     },
     "execution_count": 9,
     "metadata": {},
     "output_type": "execute_result"
    }
   ],
   "source": [
    "data[\"correlation_matrix\"]"
   ]
  },
  {
   "cell_type": "code",
   "execution_count": 10,
   "metadata": {},
   "outputs": [
    {
     "name": "stdout",
     "output_type": "stream",
     "text": [
      "(74, 785) (891, 785)\n"
     ]
    }
   ],
   "source": [
    "threshold = 25\n",
    "filtered_df = data[(data['Handedness'] > threshold) | (data['Handedness'] < -threshold)]\n",
    "\n",
    "# Separate into left and right handed\n",
    "left_handed = filtered_df[filtered_df['Handedness'] < 0]\n",
    "right_handed = filtered_df[filtered_df['Handedness'] > 0]\n",
    "print(left_handed.shape, right_handed.shape)\n",
    "\n",
    "# Determine the number of samples to select from the right-handed data\n",
    "num_samples = min(len(left_handed), len(right_handed))\n",
    "\n",
    "# Randomly sample from the right-handed data\n",
    "right_handed_sample = right_handed.sample(n=num_samples, random_state=42)\n",
    "\n",
    "# Combine the left and right handed data\n",
    "combined_df = pd.concat([left_handed, right_handed_sample])\n",
    "\n",
    "# Optionally shuffle the final dataframe to mix left and right handed samples\n",
    "combined_df = combined_df.sample(frac=1).reset_index(drop=True)\n",
    "\n",
    "data = combined_df"
   ]
  },
  {
   "cell_type": "code",
   "execution_count": 11,
   "metadata": {},
   "outputs": [
    {
     "data": {
      "text/plain": [
       "(148, 785)"
      ]
     },
     "execution_count": 11,
     "metadata": {},
     "output_type": "execute_result"
    }
   ],
   "source": [
    "data.shape"
   ]
  },
  {
   "cell_type": "code",
   "execution_count": 12,
   "metadata": {},
   "outputs": [],
   "source": [
    "# the function extracts the part of correlation matrix that corresponds to a certain feature (i.e. brain region)\n",
    "def correlation_matrix_of_feature(target):\n",
    "    target_index = brain_region.index(target)\n",
    "    target_row = data['correlation_matrix'].apply(lambda x: x[target_index])\n",
    "    return target_row"
   ]
  },
  {
   "cell_type": "code",
   "execution_count": 13,
   "metadata": {},
   "outputs": [
    {
     "data": {
      "text/plain": [
       "0      [0.40163913775219234, -0.35776790360927063, 0....\n",
       "1      [0.2649820996462003, -0.06852471201806723, -0....\n",
       "2      [0.09130827771947483, -0.2740623399981675, -0....\n",
       "3      [0.380255106090969, -0.024694758781011857, 0.2...\n",
       "4      [0.17732134743024008, -0.2879233180833281, 0.0...\n",
       "                             ...                        \n",
       "143    [0.42774034540577355, -0.35051978546334395, 0....\n",
       "144    [0.37287381635080674, -0.10754186148822112, 0....\n",
       "145    [0.2075605477680777, -0.5303987591705308, 0.02...\n",
       "146    [0.45959896366881037, -0.4018463322254829, 0.3...\n",
       "147    [0.2143499155307585, -0.08227879080523605, 0.1...\n",
       "Name: correlation_matrix, Length: 148, dtype: object"
      ]
     },
     "execution_count": 13,
     "metadata": {},
     "output_type": "execute_result"
    }
   ],
   "source": [
    "# e.g. partial correlation matrix that only corresponds how \"Right_Planum_Temporale\" relates to other brain regions\n",
    "correlation_matrix_of_feature(\"Right_Planum_Temporale\")"
   ]
  },
  {
   "cell_type": "code",
   "execution_count": 14,
   "metadata": {},
   "outputs": [
    {
     "data": {
      "text/html": [
       "<div>\n",
       "<style scoped>\n",
       "    .dataframe tbody tr th:only-of-type {\n",
       "        vertical-align: middle;\n",
       "    }\n",
       "\n",
       "    .dataframe tbody tr th {\n",
       "        vertical-align: top;\n",
       "    }\n",
       "\n",
       "    .dataframe thead th {\n",
       "        text-align: right;\n",
       "    }\n",
       "</style>\n",
       "<table border=\"1\" class=\"dataframe\">\n",
       "  <thead>\n",
       "    <tr style=\"text-align: right;\">\n",
       "      <th></th>\n",
       "      <th>Handedness</th>\n",
       "      <th>Handedness_Cat</th>\n",
       "      <th>correlation_matrix</th>\n",
       "      <th>matrix_mean</th>\n",
       "    </tr>\n",
       "  </thead>\n",
       "  <tbody>\n",
       "    <tr>\n",
       "      <th>0</th>\n",
       "      <td>-60</td>\n",
       "      <td>0</td>\n",
       "      <td>[[1.0, -0.4759093618266136, 0.5851354712178677...</td>\n",
       "      <td>0.015066</td>\n",
       "    </tr>\n",
       "    <tr>\n",
       "      <th>1</th>\n",
       "      <td>-80</td>\n",
       "      <td>0</td>\n",
       "      <td>[[0.9999999999999999, -0.1618529528285461, 0.5...</td>\n",
       "      <td>0.021329</td>\n",
       "    </tr>\n",
       "    <tr>\n",
       "      <th>2</th>\n",
       "      <td>-90</td>\n",
       "      <td>0</td>\n",
       "      <td>[[1.0, -0.2845285353231164, 0.4863631769374652...</td>\n",
       "      <td>0.016752</td>\n",
       "    </tr>\n",
       "    <tr>\n",
       "      <th>3</th>\n",
       "      <td>90</td>\n",
       "      <td>1</td>\n",
       "      <td>[[1.0, -0.3544787702249452, 0.6689804943111483...</td>\n",
       "      <td>0.019973</td>\n",
       "    </tr>\n",
       "    <tr>\n",
       "      <th>4</th>\n",
       "      <td>-100</td>\n",
       "      <td>0</td>\n",
       "      <td>[[1.0, -0.39385514666068255, 0.514704604466294...</td>\n",
       "      <td>0.027024</td>\n",
       "    </tr>\n",
       "    <tr>\n",
       "      <th>...</th>\n",
       "      <td>...</td>\n",
       "      <td>...</td>\n",
       "      <td>...</td>\n",
       "      <td>...</td>\n",
       "    </tr>\n",
       "    <tr>\n",
       "      <th>143</th>\n",
       "      <td>100</td>\n",
       "      <td>1</td>\n",
       "      <td>[[1.0, -0.5802299565091481, 0.4513638874442567...</td>\n",
       "      <td>0.020647</td>\n",
       "    </tr>\n",
       "    <tr>\n",
       "      <th>144</th>\n",
       "      <td>-100</td>\n",
       "      <td>0</td>\n",
       "      <td>[[1.0, -0.37212602453306715, 0.494545530688702...</td>\n",
       "      <td>0.024792</td>\n",
       "    </tr>\n",
       "    <tr>\n",
       "      <th>145</th>\n",
       "      <td>100</td>\n",
       "      <td>1</td>\n",
       "      <td>[[1.0, -0.40623241782314684, 0.292132724431265...</td>\n",
       "      <td>0.029203</td>\n",
       "    </tr>\n",
       "    <tr>\n",
       "      <th>146</th>\n",
       "      <td>70</td>\n",
       "      <td>1</td>\n",
       "      <td>[[1.0, -0.442858463278414, 0.7194424166057392,...</td>\n",
       "      <td>0.025241</td>\n",
       "    </tr>\n",
       "    <tr>\n",
       "      <th>147</th>\n",
       "      <td>-55</td>\n",
       "      <td>0</td>\n",
       "      <td>[[1.0, -0.25282568037435094, 0.710566763487017...</td>\n",
       "      <td>0.027655</td>\n",
       "    </tr>\n",
       "  </tbody>\n",
       "</table>\n",
       "<p>148 rows × 4 columns</p>\n",
       "</div>"
      ],
      "text/plain": [
       "     Handedness  Handedness_Cat  \\\n",
       "0           -60               0   \n",
       "1           -80               0   \n",
       "2           -90               0   \n",
       "3            90               1   \n",
       "4          -100               0   \n",
       "..          ...             ...   \n",
       "143         100               1   \n",
       "144        -100               0   \n",
       "145         100               1   \n",
       "146          70               1   \n",
       "147         -55               0   \n",
       "\n",
       "                                    correlation_matrix  matrix_mean  \n",
       "0    [[1.0, -0.4759093618266136, 0.5851354712178677...     0.015066  \n",
       "1    [[0.9999999999999999, -0.1618529528285461, 0.5...     0.021329  \n",
       "2    [[1.0, -0.2845285353231164, 0.4863631769374652...     0.016752  \n",
       "3    [[1.0, -0.3544787702249452, 0.6689804943111483...     0.019973  \n",
       "4    [[1.0, -0.39385514666068255, 0.514704604466294...     0.027024  \n",
       "..                                                 ...          ...  \n",
       "143  [[1.0, -0.5802299565091481, 0.4513638874442567...     0.020647  \n",
       "144  [[1.0, -0.37212602453306715, 0.494545530688702...     0.024792  \n",
       "145  [[1.0, -0.40623241782314684, 0.292132724431265...     0.029203  \n",
       "146  [[1.0, -0.442858463278414, 0.7194424166057392,...     0.025241  \n",
       "147  [[1.0, -0.25282568037435094, 0.710566763487017...     0.027655  \n",
       "\n",
       "[148 rows x 4 columns]"
      ]
     },
     "execution_count": 14,
     "metadata": {},
     "output_type": "execute_result"
    }
   ],
   "source": [
    "feature_data = data[[\"Handedness\", \"Handedness_Cat\", \"correlation_matrix\"]]\n",
    "feature_data['matrix_mean'] = data['correlation_matrix'].apply(lambda x: np.mean(x))\n",
    "feature_data"
   ]
  },
  {
   "cell_type": "code",
   "execution_count": 16,
   "metadata": {},
   "outputs": [
    {
     "name": "stdout",
     "output_type": "stream",
     "text": [
      "{'Right_Planum_Temporale': 0      [0.40163913775219234, -0.35776790360927063, 0....\n",
      "1      [0.2649820996462003, -0.06852471201806723, -0....\n",
      "2      [0.09130827771947483, -0.2740623399981675, -0....\n",
      "3      [0.380255106090969, -0.024694758781011857, 0.2...\n",
      "4      [0.17732134743024008, -0.2879233180833281, 0.0...\n",
      "                             ...                        \n",
      "143    [0.42774034540577355, -0.35051978546334395, 0....\n",
      "144    [0.37287381635080674, -0.10754186148822112, 0....\n",
      "145    [0.2075605477680777, -0.5303987591705308, 0.02...\n",
      "146    [0.45959896366881037, -0.4018463322254829, 0.3...\n",
      "147    [0.2143499155307585, -0.08227879080523605, 0.1...\n",
      "Name: correlation_matrix, Length: 148, dtype: object, 'Left_Superior_Frontal_Gyrus': 0      [-0.02193362096550435, 0.10563375320983316, -0...\n",
      "1      [-0.14652436939441835, 0.22704884280148366, -0...\n",
      "2      [-0.1564402558424253, 0.12581827252743838, -0....\n",
      "3      [-0.4594125469992735, 0.26573652477459003, -0....\n",
      "4      [-0.2343661084199378, 0.055327270176985376, -0...\n",
      "                             ...                        \n",
      "143    [-0.18300620697467274, 0.15191117705812265, -0...\n",
      "144    [-0.25910399599175993, 0.08574111808621701, -0...\n",
      "145    [-0.11732005164591058, 0.08317330036714608, -0...\n",
      "146    [-0.3251722581920008, 0.023715880998396492, -0...\n",
      "147    [-0.318562850067771, 0.08676926673275971, -0.2...\n",
      "Name: correlation_matrix, Length: 148, dtype: object, 'Left_Precuneous_Cortex': 0      [-0.10453107724047615, 0.313728772908197, -0.3...\n",
      "1      [-0.08003542052428757, 0.09484042224388073, 0....\n",
      "2      [0.15800315724215114, 0.2198817057311665, 0.06...\n",
      "3      [-0.06975845372836147, -0.04135361073147031, -...\n",
      "4      [-0.03099788157692299, 0.41707921574088075, -0...\n",
      "                             ...                        \n",
      "143    [0.1880586342111538, 0.05030340480185385, -0.0...\n",
      "144    [-0.17185048093812486, 0.11468335522561593, -0...\n",
      "145    [0.09686247887632689, 0.42361321624338055, -0....\n",
      "146    [0.07820957383723942, 0.008761786523261695, -0...\n",
      "147    [0.05305044235126395, 0.01128851724264227, 0.1...\n",
      "Name: correlation_matrix, Length: 148, dtype: object, 'Left_Precentral_Gyrus': 0      [0.3693210495065307, -0.2761803313958954, 0.21...\n",
      "1      [0.26875819560544906, -0.11554392213585538, 0....\n",
      "2      [0.0792750985821917, -0.295109627310703, -0.06...\n",
      "3      [0.14457569102846907, 0.009238037584947659, 0....\n",
      "4      [0.32218832392248076, -0.25770185095873255, 0....\n",
      "                             ...                        \n",
      "143    [0.14455161435270278, -0.25693871451077915, 0....\n",
      "144    [0.08030910591558779, -0.06129389965402494, 0....\n",
      "145    [0.14253616864839946, -0.46708266795633896, 0....\n",
      "146    [0.2615290383765452, -0.2019953442819123, 0.24...\n",
      "147    [0.19360738638132366, -0.05916265179028101, 0....\n",
      "Name: correlation_matrix, Length: 148, dtype: object, 'Right_Angular_Gyrus': 0      [0.07990581956180931, -0.18701317160903472, 0....\n",
      "1      [-0.19947285628381314, 0.17492151711509285, -0...\n",
      "2      [-0.24279176127022917, 0.19169632542726986, -0...\n",
      "3      [-0.06897988528236033, 0.030596382421471568, -...\n",
      "4      [-0.2321451281639315, 0.22868076730719786, -0....\n",
      "                             ...                        \n",
      "143    [-0.016520437469332315, 0.14620514041494298, -...\n",
      "144    [0.018258743210530597, 0.22389840852820667, 0....\n",
      "145    [-0.1706397773434358, 0.17985154679465237, -0....\n",
      "146    [-0.05845716971030172, 0.24395182271856744, 0....\n",
      "147    [-0.09567565251839351, -0.08588973223518306, -...\n",
      "Name: correlation_matrix, Length: 148, dtype: object, 'Left_Thalamus': 0      [-0.08828972737072124, 0.35596505857961885, -0...\n",
      "1      [-0.13543282028955217, 0.031277956111968465, -...\n",
      "2      [0.12455912093341896, 0.09303310511724834, 0.0...\n",
      "3      [-0.12218066350000327, -0.008112815083624504, ...\n",
      "4      [0.041643052702565866, 0.12277553384003795, -0...\n",
      "                             ...                        \n",
      "143    [0.08166439897824558, 0.11231463513984564, -0....\n",
      "144    [-0.1456306997529673, 0.07686764998405973, -0....\n",
      "145    [0.19913188607670823, 0.12184467560282462, -0....\n",
      "146    [-0.2158104858318979, 0.36609099645377363, -0....\n",
      "147    [-0.200988437735649, 0.166610031336917, -0.155...\n",
      "Name: correlation_matrix, Length: 148, dtype: object, 'Right_Putamen': 0      [-0.3078538146004663, 0.20837741741829052, -0....\n",
      "1      [-0.27499496374708343, -0.06311473110132534, -...\n",
      "2      [-0.018868926775994263, 0.18401838803617104, -...\n",
      "3      [-0.2237468183074274, 0.05117896078176607, -0....\n",
      "4      [-0.27737909285721946, 0.31255897678278494, -0...\n",
      "                             ...                        \n",
      "143    [-0.18735541834946598, 0.22508571777715003, -0...\n",
      "144    [0.07802241976955195, 0.0363697971639192, 0.02...\n",
      "145    [-0.3120961241652003, 0.4198351217757988, -0.1...\n",
      "146    [-0.12777911857296365, 0.21898328408306678, -0...\n",
      "147    [-0.09855522182812769, 0.006276559147429957, -...\n",
      "Name: correlation_matrix, Length: 148, dtype: object, 'Right_Caudate': 0      [-0.43306756863853363, 0.3527427434312423, -0....\n",
      "1      [-0.14368877508966812, 0.008258260819461882, -...\n",
      "2      [-0.13268470565118612, 0.22990712590513815, -0...\n",
      "3      [-0.2751919139492174, 0.05256578481259179, -0....\n",
      "4      [0.01035822435399693, 0.23446711388067776, -0....\n",
      "                             ...                        \n",
      "143    [0.05588487380894154, 0.19717692516324128, -0....\n",
      "144    [-0.08020425967991023, 0.11347551592898848, -0...\n",
      "145    [-0.2989752118947651, 0.3233658488217888, -0.2...\n",
      "146    [-0.10202645082745057, 0.11398161877918882, -0...\n",
      "147    [-0.17185669975132972, 0.15922455159592375, -0...\n",
      "Name: correlation_matrix, Length: 148, dtype: object, 'Brain-Stem': 0      [-0.1805501804779636, 0.1414169177758149, -0.1...\n",
      "1      [0.01492212783342155, 0.013785023206433072, 0....\n",
      "2      [-0.036900750156584367, -0.05576476561985502, ...\n",
      "3      [0.04357673508876174, -0.0625587936339099, 0.0...\n",
      "4      [-0.019158029896850552, -0.07072981437901789, ...\n",
      "                             ...                        \n",
      "143    [0.03920298445408639, 0.008795081806296066, 0....\n",
      "144    [-0.0876075108966034, 0.044266361949645436, -0...\n",
      "145    [0.050584790056443514, -0.04769950930751505, -...\n",
      "146    [-0.11974872884120244, 0.15062838227678585, -0...\n",
      "147    [-0.022702935917633615, 0.025441999735878826, ...\n",
      "Name: correlation_matrix, Length: 148, dtype: object}\n"
     ]
    }
   ],
   "source": [
    "def correlation_matrix_of_feature(region_name):\n",
    "    \"\"\"\n",
    "    Extracts the correlation matrix of a given brain region from feature_data.\n",
    "    \"\"\"\n",
    "    target_index = brain_region.index(region_name)\n",
    "    target_row = data['correlation_matrix'].apply(lambda x: x[target_index])\n",
    "    return target_row\n",
    "\n",
    "# List of brain regions\n",
    "features = [\n",
    "    \"Right_Planum_Temporale\",\n",
    "    \"Left_Superior_Frontal_Gyrus\",\n",
    "    \"Left_Precuneous_Cortex\",\n",
    "    \"Left_Precentral_Gyrus\",\n",
    "    \"Right_Angular_Gyrus\",\n",
    "    \"Left_Thalamus\",\n",
    "    \"Right_Putamen\",\n",
    "    \"Right_Caudate\",\n",
    "    \"Brain-Stem\"\n",
    "]\n",
    "\n",
    "# Compute correlation matrices for each region\n",
    "region_correlation_matrices = {region: correlation_matrix_of_feature(region) for region in features}\n",
    "region_correlation_matrices\n",
    "print(region_correlation_matrices)\n",
    "\n",
    "\n",
    "for region, values in region_correlation_matrices.items():\n",
    "    feature_data[region] = values\n"
   ]
  },
  {
   "cell_type": "code",
   "execution_count": 17,
   "metadata": {},
   "outputs": [],
   "source": [
    "def flatten_features(row):\n",
    "    \"\"\"\n",
    "    Given a single row of the DataFrame, return a 1D numpy array of all features to be used by the model.\n",
    "    \"\"\"\n",
    "    # Flatten the correlation matrix\n",
    "    corr_mat = np.array(row[\"correlation_matrix\"]).flatten()\n",
    "\n",
    "    # Extract each brain region's specific correlation values\n",
    "    region_values = [np.array(row[region]).flatten() for region in features if region in row]\n",
    "\n",
    "    # Concatenate all features into a single array\n",
    "    all_features = np.concatenate([corr_mat] + region_values)\n",
    "\n",
    "    return all_features"
   ]
  },
  {
   "attachments": {},
   "cell_type": "markdown",
   "metadata": {},
   "source": [
    "### Lasso Regression"
   ]
  },
  {
   "cell_type": "code",
   "execution_count": 18,
   "metadata": {},
   "outputs": [
    {
     "name": "stdout",
     "output_type": "stream",
     "text": [
      "Optimal alpha: 10.0\n",
      "Mean Squared Error: 4705.0770\n",
      "R^2: 0.0480\n",
      "Number of selected features: 51\n"
     ]
    }
   ],
   "source": [
    "X = feature_data.apply(flatten_features, axis = 1)\n",
    "X = np.vstack(X.values)\n",
    "y = feature_data['Handedness']\n",
    "\n",
    "# Split dataset\n",
    "X_train, X_test, y_train, y_test = train_test_split(X, y, test_size=0.2, random_state=42)\n",
    "\n",
    "scaler = StandardScaler()\n",
    "X_train_scaled = scaler.fit_transform(X_train)\n",
    "X_test_scaled = scaler.transform(X_test)\n",
    "\n",
    "# Train LASSO regression with cross-validation\n",
    "lasso = LassoCV(cv=5, alphas=np.logspace(-4, 1, 50)).fit(X_train_scaled, y_train)\n",
    "\n",
    "# Predict on test set\n",
    "y_pred = lasso.predict(X_test_scaled)\n",
    "\n",
    "# Evaluate model\n",
    "mse = mean_squared_error(y_test, y_pred)\n",
    "r2 = r2_score(y_test, y_pred)\n",
    "\n",
    "print(f\"Optimal alpha: {lasso.alpha_}\")\n",
    "print(f\"Mean Squared Error: {mse:.4f}\")\n",
    "print(f\"R^2: {r2:.4f}\")\n",
    "\n",
    "# View selected features\n",
    "selected_features = np.sum(lasso.coef_ != 0)\n",
    "print(f\"Number of selected features: {selected_features}\")"
   ]
  },
  {
   "attachments": {},
   "cell_type": "markdown",
   "metadata": {},
   "source": [
    "Since handedness values range from -100 to 100, this error suggests that the model struggles to make precise predictions. Also given the weak R^2, these 89 features might not be strongly predictive of handedness."
   ]
  },
  {
   "cell_type": "code",
   "execution_count": 19,
   "metadata": {},
   "outputs": [
    {
     "name": "stdout",
     "output_type": "stream",
     "text": [
      "Actual: 100, Predicted: 26.89\n",
      "Actual: -65, Predicted: -17.30\n",
      "Actual: -40, Predicted: -24.01\n",
      "Actual: -30, Predicted: 15.56\n",
      "Actual: 60, Predicted: 43.56\n",
      "Actual: 75, Predicted: 44.01\n",
      "Actual: -40, Predicted: 2.75\n",
      "Actual: 90, Predicted: 71.15\n",
      "Actual: -30, Predicted: 3.74\n",
      "Actual: -80, Predicted: 6.82\n"
     ]
    }
   ],
   "source": [
    "for actual, predicted in zip(y_test[:10], y_pred[:10]):\n",
    "    print(f\"Actual: {actual}, Predicted: {predicted:.2f}\")"
   ]
  },
  {
   "cell_type": "code",
   "execution_count": 20,
   "metadata": {},
   "outputs": [
    {
     "data": {
      "image/png": "[encoded data removed]",
      "text/plain": [
       "<Figure size 640x480 with 1 Axes>"
      ]
     },
     "metadata": {},
     "output_type": "display_data"
    }
   ],
   "source": [
    "plt.scatter(y_test, y_pred, alpha=0.6)\n",
    "plt.xlabel(\"Actual Handedness\")\n",
    "plt.ylabel(\"Predicted Handedness\")\n",
    "plt.title(\"Actual vs. Predicted Handedness\")\n",
    "plt.axline((0, 0), slope=1, color=\"red\", linestyle=\"--\")  # Perfect predictions line\n",
    "plt.show()\n"
   ]
  },
  {
   "attachments": {},
   "cell_type": "markdown",
   "metadata": {},
   "source": [
    "---"
   ]
  },
  {
   "attachments": {},
   "cell_type": "markdown",
   "metadata": {},
   "source": [
    "### Lasso Regression w/ Imbalanced Learn (SMOTE)"
   ]
  },
  {
   "cell_type": "code",
   "execution_count": 21,
   "metadata": {},
   "outputs": [
    {
     "name": "stdout",
     "output_type": "stream",
     "text": [
      "dataset size after sampling with SMOTE: X: (364, 2950), y: (364,)\n",
      "Chunk 1:\n",
      "  Optimal alpha: 10.0\n",
      "  Mean Squared Error: 5082.7765\n",
      "  R^2: 0.2115\n",
      "  Number of selected features: 36\n",
      "Chunk 2:\n",
      "  Optimal alpha: 6.250551925273976\n",
      "  Mean Squared Error: 5137.6553\n",
      "  R^2: 0.1121\n",
      "  Number of selected features: 62\n",
      "Chunk 3:\n",
      "  Optimal alpha: 6.250551925273976\n",
      "  Mean Squared Error: 449.0610\n",
      "  R^2: -3.1838\n",
      "  Number of selected features: 24\n",
      "Chunk 4:\n",
      "  Optimal alpha: 0.0001\n",
      "  Mean Squared Error: 53.9840\n",
      "  R^2: 0.5677\n",
      "  Number of selected features: 2866\n",
      "Chunk 5:\n",
      "  Optimal alpha: 0.14563484775012445\n",
      "  Mean Squared Error: 28.6564\n",
      "  R^2: 0.8744\n",
      "  Number of selected features: 58\n"
     ]
    },
    {
     "data": {
      "image/png": "[encoded data removed]",
      "text/plain": [
       "<Figure size 1500x500 with 5 Axes>"
      ]
     },
     "metadata": {},
     "output_type": "display_data"
    },
    {
     "name": "stdout",
     "output_type": "stream",
     "text": [
      "Average MSE across chunks: 2150.4267\n",
      "Average R^2 across chunks: -0.2836\n"
     ]
    }
   ],
   "source": [
    "X = feature_data.apply(flatten_features, axis = 1)\n",
    "X = np.vstack(X.values)\n",
    "y = feature_data['Handedness']\n",
    "\n",
    "smote = SMOTE(k_neighbors=1, random_state=42)\n",
    "X_resampled, y_resampled = smote.fit_resample(X, y)\n",
    "\n",
    "print(f\"dataset size after sampling with SMOTE: X: {X_resampled.shape}, y: {y_resampled.shape}\")\n",
    "\n",
    "# Step 3: Chunking the Dataset into Smaller Batches for Training\n",
    "num_chunks = 5  # Define number of chunks\n",
    "chunk_size = len(X_resampled) // num_chunks  # Define chunk size\n",
    "\n",
    "all_mse = []\n",
    "all_r2 = []\n",
    "selected_features_per_chunk = {}\n",
    "\n",
    "# Create subplots for aggregated plots\n",
    "fig, axes = plt.subplots(1, num_chunks, figsize=(15, 5), sharex=True, sharey=True)\n",
    "\n",
    "for i in range(num_chunks):\n",
    "    # Select a chunk of data\n",
    "    start_idx = i * chunk_size\n",
    "    end_idx = (i + 1) * chunk_size if i != num_chunks - 1 else len(X_resampled)\n",
    "    \n",
    "    X_chunk = X_resampled[start_idx:end_idx]\n",
    "    y_chunk = y_resampled[start_idx:end_idx]\n",
    "    \n",
    "    # Split dataset into training and testing sets\n",
    "    X_train, X_test, y_train, y_test = train_test_split(X_chunk, y_chunk, test_size=0.2, random_state=42)\n",
    "\n",
    "    # Standardize the features\n",
    "    scaler = StandardScaler()\n",
    "    X_train_scaled = scaler.fit_transform(X_train)\n",
    "    X_test_scaled = scaler.transform(X_test)\n",
    "\n",
    "    # Step 4: Train LASSO Regression with Cross-Validation\n",
    "    lasso = LassoCV(cv=5, alphas=np.logspace(-4, 1, 50)).fit(X_train_scaled, y_train)\n",
    "\n",
    "    y_pred = lasso.predict(X_test_scaled)\n",
    "\n",
    "    mse = mean_squared_error(y_test, y_pred)\n",
    "    r2 = r2_score(y_test, y_pred)\n",
    "    selected_features = np.sum(lasso.coef_ != 0)\n",
    "\n",
    "    all_mse.append(mse)\n",
    "    all_r2.append(r2)\n",
    "    selected_features = np.where(lasso.coef_ != 0)[0]\n",
    "    selected_features_per_chunk[f\"Chunk {i+1}\"] = selected_features\n",
    "\n",
    "    # Plot predictions in subplots\n",
    "    ax = axes[i]\n",
    "    ax.scatter(y_test, y_pred, alpha=0.6)\n",
    "    ax.set_title(f\"Chunk {i+1}\")\n",
    "    ax.set_xlabel(\"Actual Handedness\")\n",
    "    ax.set_ylabel(\"Predicted Handedness\")\n",
    "    ax.axline((0, 0), slope=1, color=\"red\", linestyle=\"--\")  # Perfect predictions line\n",
    "\n",
    "    print(f\"Chunk {i+1}:\")\n",
    "    print(f\"  Optimal alpha: {lasso.alpha_}\")\n",
    "    print(f\"  Mean Squared Error: {mse:.4f}\")\n",
    "    print(f\"  R^2: {r2:.4f}\")\n",
    "    print(f\"  Number of selected features: {len(selected_features_per_chunk[f'Chunk {i+1}'])}\")\n",
    "\n",
    "plt.title(\"Actual vs. Predicted Handedness\")\n",
    "plt.tight_layout()\n",
    "plt.show()\n",
    "\n",
    "# Final Summary Across All Chunks\n",
    "print(f\"Average MSE across chunks: {np.mean(all_mse):.4f}\")\n",
    "print(f\"Average R^2 across chunks: {np.mean(all_r2):.4f}\")"
   ]
  },
  {
   "attachments": {},
   "cell_type": "markdown",
   "metadata": {},
   "source": [
    "LASSO initially over-regularized the model (Chunks 1-2), meaning underfitting.\n",
    "\n",
    "Chunks 3+ allowed more features, improving predictive performance.\n",
    "\n",
    "Final chunks balance feature selection & model complexity, achieving best R^2 and lowest MSE.\n",
    "\n",
    "Balanced α (Chunks 4-5) gives the best performance.\n",
    "\n"
   ]
  },
  {
   "cell_type": "code",
   "execution_count": 22,
   "metadata": {},
   "outputs": [
    {
     "name": "stdout",
     "output_type": "stream",
     "text": [
      "Overlap between Chunks 3 & 4: 24 features\n",
      "Overlap between Chunks 4 & 5: 58 features\n",
      "Overlap between Chunks 3 & 5: 3 features\n",
      "{np.int64(899), np.int64(1286), np.int64(2198), np.int64(1825), np.int64(2724), np.int64(933), np.int64(1701), np.int64(2725), np.int64(1706), np.int64(2426), np.int64(433), np.int64(2612), np.int64(182), np.int64(1474), np.int64(1475), np.int64(1348), np.int64(1603), np.int64(334), np.int64(862), np.int64(617), np.int64(1257), np.int64(375), np.int64(1658), np.int64(1279)}\n",
      "{np.int64(2304), np.int64(2948), np.int64(2313), np.int64(1166), np.int64(2446), np.int64(272), np.int64(530), np.int64(1810), np.int64(792), np.int64(536), np.int64(1049), np.int64(547), np.int64(2725), np.int64(2470), np.int64(2344), np.int64(2348), np.int64(2604), np.int64(2096), np.int64(817), np.int64(435), np.int64(1590), np.int64(695), np.int64(696), np.int64(823), np.int64(1847), np.int64(59), np.int64(445), np.int64(65), np.int64(451), np.int64(1475), np.int64(2115), np.int64(198), np.int64(1095), np.int64(1990), np.int64(2246), np.int64(970), np.int64(1744), np.int64(1105), np.int64(2258), np.int64(1749), np.int64(854), np.int64(1495), np.int64(473), np.int64(1758), np.int64(2655), np.int64(866), np.int64(2403), np.int64(1510), np.int64(488), np.int64(751), np.int64(2031), np.int64(498), np.int64(1909), np.int64(246), np.int64(2039), np.int64(2297), np.int64(1019), np.int64(1279)}\n",
      "{np.int64(1475), np.int64(2725), np.int64(1279)}\n"
     ]
    }
   ],
   "source": [
    "overlap_3_4 = set(selected_features_per_chunk[\"Chunk 3\"]).intersection(selected_features_per_chunk[\"Chunk 4\"])\n",
    "overlap_4_5 = set(selected_features_per_chunk[\"Chunk 4\"]).intersection(selected_features_per_chunk[\"Chunk 5\"])\n",
    "overlap_3_5 = set(selected_features_per_chunk[\"Chunk 3\"]).intersection(selected_features_per_chunk[\"Chunk 5\"])\n",
    "\n",
    "print(f\"Overlap between Chunks 3 & 4: {len(overlap_3_4)} features\")\n",
    "print(f\"Overlap between Chunks 4 & 5: {len(overlap_4_5)} features\")\n",
    "print(f\"Overlap between Chunks 3 & 5: {len(overlap_3_5)} features\")\n",
    "\n",
    "print(overlap_3_4)\n",
    "print(overlap_4_5)\n",
    "print(overlap_3_5)\n"
   ]
  },
  {
   "cell_type": "markdown",
   "metadata": {},
   "source": [
    "---"
   ]
  },
  {
   "attachments": {},
   "cell_type": "markdown",
   "metadata": {},
   "source": [
    "### Logistic Regression"
   ]
  },
  {
   "cell_type": "code",
   "execution_count": 23,
   "metadata": {},
   "outputs": [
    {
     "name": "stdout",
     "output_type": "stream",
     "text": [
      "Logistic Regression Accuracy: 0.6000\n",
      "\n",
      "Classification Report:\n",
      "               precision    recall  f1-score   support\n",
      "\n",
      " Left-Handed       0.57      0.80      0.67        15\n",
      "Right-Handed       0.67      0.40      0.50        15\n",
      "\n",
      "    accuracy                           0.60        30\n",
      "   macro avg       0.62      0.60      0.58        30\n",
      "weighted avg       0.62      0.60      0.58        30\n",
      "\n",
      "Confusion Matrix:\n",
      " [[12  3]\n",
      " [ 9  6]]\n"
     ]
    }
   ],
   "source": [
    "# Prepare feature matrix X and target variable y for classification\n",
    "X = feature_data.apply(flatten_features, axis=1)\n",
    "X = np.vstack(X.values)  # Convert to a 2D NumPy array\n",
    "y = feature_data[\"Handedness_Cat\"].values  # Classification target\n",
    "\n",
    "# Split dataset into training and testing sets (without SMOTE)\n",
    "X_train, X_test, y_train, y_test = train_test_split(X, y, test_size=0.2, random_state=42, stratify=y)\n",
    "\n",
    "# Standardize the features\n",
    "scaler = StandardScaler()\n",
    "X_train_scaled = scaler.fit_transform(X_train)\n",
    "X_test_scaled = scaler.transform(X_test)\n",
    "\n",
    "# Train Logistic Regression with Cross-Validation\n",
    "log_reg = LogisticRegressionCV(cv=5, max_iter=1000, solver='liblinear').fit(X_train_scaled, y_train)\n",
    "\n",
    "# Predict on test set\n",
    "y_pred = log_reg.predict(X_test_scaled)\n",
    "\n",
    "# Evaluate model performance\n",
    "accuracy = accuracy_score(y_test, y_pred)\n",
    "classification_rep = classification_report(y_test, y_pred, target_names=[\"Left-Handed\", \"Right-Handed\"])\n",
    "conf_matrix = confusion_matrix(y_test, y_pred)\n",
    "\n",
    "print(f\"Logistic Regression Accuracy: {accuracy:.4f}\")\n",
    "print(\"\\nClassification Report:\\n\", classification_rep)\n",
    "print(\"Confusion Matrix:\\n\", conf_matrix)"
   ]
  },
  {
   "attachments": {},
   "cell_type": "markdown",
   "metadata": {},
   "source": [
    "12 correctly classified as Left-Handed, 3 misclassified as Right-Handed\n",
    "\n",
    "11 correctly classified as Right-Handed, 4 misclassified as Left-Handed\n",
    "\n",
    "Slight bias towards Left-Handed (higher recall means it captures more Left-Handed instances correctly).\n",
    "\n",
    "Right-Handed recall is slightly lower, meaning that it misclassifies more Right-Handed cases.\n"
   ]
  },
  {
   "attachments": {},
   "cell_type": "markdown",
   "metadata": {},
   "source": [
    "### Logistic Regression w/ imbalanced learn (SMOTE)"
   ]
  },
  {
   "cell_type": "code",
   "execution_count": 24,
   "metadata": {},
   "outputs": [
    {
     "name": "stdout",
     "output_type": "stream",
     "text": [
      "Logistic Regression Accuracy: 0.8000\n",
      "\n",
      "Classification Report:\n",
      "               precision    recall  f1-score   support\n",
      "\n",
      " Left-Handed       1.00      0.70      0.82        20\n",
      "Right-Handed       0.62      1.00      0.77        10\n",
      "\n",
      "    accuracy                           0.80        30\n",
      "   macro avg       0.81      0.85      0.80        30\n",
      "weighted avg       0.88      0.80      0.81        30\n",
      "\n",
      "Confusion Matrix:\n",
      " [[14  6]\n",
      " [ 0 10]]\n"
     ]
    }
   ],
   "source": [
    "# Prepare feature matrix X and target variable y for classification\n",
    "X = feature_data.apply(flatten_features, axis=1)\n",
    "X = np.vstack(X.values)\n",
    "y = feature_data[\"Handedness_Cat\"].values\n",
    "\n",
    "# Apply SMOTE to balance classes\n",
    "smote = SMOTE(k_neighbors=3, random_state=42)\n",
    "X_resampled, y_resampled = smote.fit_resample(X, y)\n",
    "\n",
    "# Split dataset into training and testing sets\n",
    "X_train, X_test, y_train, y_test = train_test_split(X_resampled, y_resampled, test_size=0.2, random_state=42)\n",
    "\n",
    "# Standardize the features\n",
    "scaler = StandardScaler()\n",
    "X_train_scaled = scaler.fit_transform(X_train)\n",
    "X_test_scaled = scaler.transform(X_test)\n",
    "\n",
    "# Train Logistic Regression with Cross-Validation\n",
    "log_reg = LogisticRegressionCV(cv=5, max_iter=1000, solver='liblinear').fit(X_train_scaled, y_train)\n",
    "\n",
    "# Predict on test set\n",
    "y_pred = log_reg.predict(X_test_scaled)\n",
    "\n",
    "# Evaluate model performance\n",
    "accuracy = accuracy_score(y_test, y_pred)\n",
    "classification_rep = classification_report(y_test, y_pred, target_names=[\"Left-Handed\", \"Right-Handed\"])\n",
    "conf_matrix = confusion_matrix(y_test, y_pred)\n",
    "\n",
    "print(f\"Logistic Regression Accuracy: {accuracy:.4f}\")\n",
    "print(\"\\nClassification Report:\\n\", classification_rep)\n",
    "print(\"Confusion Matrix:\\n\", conf_matrix)\n"
   ]
  },
  {
   "attachments": {},
   "cell_type": "markdown",
   "metadata": {},
   "source": [
    "Accuracy drops significantly (from 76.67% to 66.67%) after applying SMOTE.\n",
    "\n",
    "Recall for Left-Handed drops significantly (0.80 to 0.62).\n",
    "\n",
    "Recall for Right-Handed changes slightly (0.73 to 0.71).\n",
    "\n",
    "Precision for both classes decreases, indicating more false positives. \n",
    "* More Left-Handed cases are misclassified as Right-Handed after SMOTE. \n",
    "* Right-Handed recall remains almost unchanged (0.73 → 0.71), meaning that **SMOTE doesn't help much in capturing Right-Handed individuals.**"
   ]
  },
  {
   "cell_type": "markdown",
   "metadata": {},
   "source": [
    "---"
   ]
  },
  {
   "attachments": {},
   "cell_type": "markdown",
   "metadata": {},
   "source": [
    "### CNN"
   ]
  },
  {
   "cell_type": "code",
   "execution_count": 25,
   "metadata": {},
   "outputs": [],
   "source": [
    "seed = 42\n",
    "tf.random.set_seed(seed)\n",
    "np.random.seed(seed)\n",
    "random.seed(seed)"
   ]
  },
  {
   "cell_type": "code",
   "execution_count": 26,
   "metadata": {},
   "outputs": [
    {
     "name": "stderr",
     "output_type": "stream",
     "text": [
      "/opt/homebrew/lib/python3.11/site-packages/keras/src/layers/convolutional/base_conv.py:107: UserWarning: Do not pass an `input_shape`/`input_dim` argument to a layer. When using Sequential models, prefer using an `Input(shape)` object as the first layer in the model instead.\n",
      "  super().__init__(activity_regularizer=activity_regularizer, **kwargs)\n"
     ]
    },
    {
     "name": "stdout",
     "output_type": "stream",
     "text": [
      "Epoch 1/20\n",
      "\u001b[1m8/8\u001b[0m \u001b[32m━━━━━━━━━━━━━━━━━━━━\u001b[0m\u001b[37m\u001b[0m \u001b[1m1s\u001b[0m 34ms/step - accuracy: 0.4534 - loss: 0.7189 - val_accuracy: 0.5333 - val_loss: 0.6930\n",
      "Epoch 2/20\n",
      "\u001b[1m8/8\u001b[0m \u001b[32m━━━━━━━━━━━━━━━━━━━━\u001b[0m\u001b[37m\u001b[0m \u001b[1m0s\u001b[0m 17ms/step - accuracy: 0.6205 - loss: 0.6784 - val_accuracy: 0.5000 - val_loss: 0.6889\n",
      "Epoch 3/20\n",
      "\u001b[1m8/8\u001b[0m \u001b[32m━━━━━━━━━━━━━━━━━━━━\u001b[0m\u001b[37m\u001b[0m \u001b[1m0s\u001b[0m 28ms/step - accuracy: 0.5992 - loss: 0.6671 - val_accuracy: 0.5667 - val_loss: 0.6896\n",
      "Epoch 4/20\n",
      "\u001b[1m8/8\u001b[0m \u001b[32m━━━━━━━━━━━━━━━━━━━━\u001b[0m\u001b[37m\u001b[0m \u001b[1m0s\u001b[0m 20ms/step - accuracy: 0.6127 - loss: 0.6510 - val_accuracy: 0.6333 - val_loss: 0.6852\n",
      "Epoch 5/20\n",
      "\u001b[1m8/8\u001b[0m \u001b[32m━━━━━━━━━━━━━━━━━━━━\u001b[0m\u001b[37m\u001b[0m \u001b[1m0s\u001b[0m 17ms/step - accuracy: 0.6879 - loss: 0.6414 - val_accuracy: 0.5667 - val_loss: 0.6777\n",
      "Epoch 6/20\n",
      "\u001b[1m8/8\u001b[0m \u001b[32m━━━━━━━━━━━━━━━━━━━━\u001b[0m\u001b[37m\u001b[0m \u001b[1m0s\u001b[0m 20ms/step - accuracy: 0.7191 - loss: 0.6088 - val_accuracy: 0.6333 - val_loss: 0.6837\n",
      "Epoch 7/20\n",
      "\u001b[1m8/8\u001b[0m \u001b[32m━━━━━━━━━━━━━━━━━━━━\u001b[0m\u001b[37m\u001b[0m \u001b[1m0s\u001b[0m 25ms/step - accuracy: 0.7142 - loss: 0.5857 - val_accuracy: 0.6000 - val_loss: 0.6710\n",
      "Epoch 8/20\n",
      "\u001b[1m8/8\u001b[0m \u001b[32m━━━━━━━━━━━━━━━━━━━━\u001b[0m\u001b[37m\u001b[0m \u001b[1m0s\u001b[0m 22ms/step - accuracy: 0.6962 - loss: 0.5662 - val_accuracy: 0.4333 - val_loss: 0.6606\n",
      "Epoch 9/20\n",
      "\u001b[1m8/8\u001b[0m \u001b[32m━━━━━━━━━━━━━━━━━━━━\u001b[0m\u001b[37m\u001b[0m \u001b[1m0s\u001b[0m 16ms/step - accuracy: 0.8588 - loss: 0.5106 - val_accuracy: 0.6667 - val_loss: 0.6733\n",
      "Epoch 10/20\n",
      "\u001b[1m8/8\u001b[0m \u001b[32m━━━━━━━━━━━━━━━━━━━━\u001b[0m\u001b[37m\u001b[0m \u001b[1m0s\u001b[0m 23ms/step - accuracy: 0.7945 - loss: 0.4737 - val_accuracy: 0.5667 - val_loss: 0.6443\n",
      "Epoch 11/20\n",
      "\u001b[1m8/8\u001b[0m \u001b[32m━━━━━━━━━━━━━━━━━━━━\u001b[0m\u001b[37m\u001b[0m \u001b[1m0s\u001b[0m 18ms/step - accuracy: 0.8076 - loss: 0.4347 - val_accuracy: 0.5333 - val_loss: 0.6298\n",
      "Epoch 12/20\n",
      "\u001b[1m8/8\u001b[0m \u001b[32m━━━━━━━━━━━━━━━━━━━━\u001b[0m\u001b[37m\u001b[0m \u001b[1m0s\u001b[0m 16ms/step - accuracy: 0.8948 - loss: 0.3917 - val_accuracy: 0.7000 - val_loss: 0.7588\n",
      "Epoch 13/20\n",
      "\u001b[1m8/8\u001b[0m \u001b[32m━━━━━━━━━━━━━━━━━━━━\u001b[0m\u001b[37m\u001b[0m \u001b[1m0s\u001b[0m 18ms/step - accuracy: 0.8370 - loss: 0.4119 - val_accuracy: 0.5333 - val_loss: 0.6283\n",
      "Epoch 14/20\n",
      "\u001b[1m8/8\u001b[0m \u001b[32m━━━━━━━━━━━━━━━━━━━━\u001b[0m\u001b[37m\u001b[0m \u001b[1m0s\u001b[0m 15ms/step - accuracy: 0.9357 - loss: 0.3251 - val_accuracy: 0.5667 - val_loss: 0.6674\n",
      "Epoch 15/20\n",
      "\u001b[1m8/8\u001b[0m \u001b[32m━━━━━━━━━━━━━━━━━━━━\u001b[0m\u001b[37m\u001b[0m \u001b[1m0s\u001b[0m 15ms/step - accuracy: 0.9073 - loss: 0.2548 - val_accuracy: 0.5000 - val_loss: 0.6841\n",
      "Epoch 16/20\n",
      "\u001b[1m8/8\u001b[0m \u001b[32m━━━━━━━━━━━━━━━━━━━━\u001b[0m\u001b[37m\u001b[0m \u001b[1m0s\u001b[0m 15ms/step - accuracy: 0.9052 - loss: 0.2626 - val_accuracy: 0.6000 - val_loss: 0.7198\n",
      "Epoch 17/20\n",
      "\u001b[1m8/8\u001b[0m \u001b[32m━━━━━━━━━━━━━━━━━━━━\u001b[0m\u001b[37m\u001b[0m \u001b[1m0s\u001b[0m 17ms/step - accuracy: 0.9366 - loss: 0.2259 - val_accuracy: 0.5667 - val_loss: 0.6835\n",
      "Epoch 18/20\n",
      "\u001b[1m8/8\u001b[0m \u001b[32m━━━━━━━━━━━━━━━━━━━━\u001b[0m\u001b[37m\u001b[0m \u001b[1m0s\u001b[0m 20ms/step - accuracy: 0.9428 - loss: 0.2153 - val_accuracy: 0.5333 - val_loss: 0.6919\n",
      "Epoch 19/20\n",
      "\u001b[1m8/8\u001b[0m \u001b[32m━━━━━━━━━━━━━━━━━━━━\u001b[0m\u001b[37m\u001b[0m \u001b[1m0s\u001b[0m 16ms/step - accuracy: 0.9477 - loss: 0.1699 - val_accuracy: 0.6667 - val_loss: 0.8950\n",
      "Epoch 20/20\n",
      "\u001b[1m8/8\u001b[0m \u001b[32m━━━━━━━━━━━━━━━━━━━━\u001b[0m\u001b[37m\u001b[0m \u001b[1m0s\u001b[0m 15ms/step - accuracy: 0.9365 - loss: 0.1706 - val_accuracy: 0.6333 - val_loss: 0.8526\n",
      "\u001b[1m1/1\u001b[0m \u001b[32m━━━━━━━━━━━━━━━━━━━━\u001b[0m\u001b[37m\u001b[0m \u001b[1m0s\u001b[0m 23ms/step - accuracy: 0.6333 - loss: 0.8526\n",
      "Test Accuracy: 0.6333\n"
     ]
    }
   ],
   "source": [
    "# Reshape data for CNN input (assuming X is correlation matrices)\n",
    "X = np.array(feature_data[\"correlation_matrix\"].tolist())  # Convert list of matrices to array\n",
    "X_cnn = X.reshape(X.shape[0], X.shape[1], X.shape[2], 1)  # Add channel dimension\n",
    "y_cnn = feature_data[\"Handedness_Cat\"].values  # Classification target\n",
    "\n",
    "# Split dataset\n",
    "X_train, X_test, y_train, y_test = train_test_split(X_cnn, y_cnn, test_size=0.2, random_state=42, stratify=y_cnn)\n",
    "\n",
    "# Define CNN model\n",
    "model = Sequential([\n",
    "    Conv2D(32, kernel_size=(3,3), activation='relu', input_shape=(X_train.shape[1], X_train.shape[2], 1)),\n",
    "    MaxPooling2D(pool_size=(2,2)),\n",
    "    \n",
    "    Conv2D(64, kernel_size=(3,3), activation='relu'),\n",
    "    MaxPooling2D(pool_size=(2,2)),\n",
    "\n",
    "    Flatten(),\n",
    "    Dense(128, activation='relu'),\n",
    "    Dropout(0.5),\n",
    "    Dense(1, activation='sigmoid')  # Binary classification (0 = Left, 1 = Right)\n",
    "])\n",
    "\n",
    "# Compile Model\n",
    "model.compile(optimizer=Adam(learning_rate=0.001), loss='binary_crossentropy', metrics=['accuracy'])\n",
    "\n",
    "# Train Model\n",
    "model.fit(X_train, y_train, validation_data=(X_test, y_test), epochs=20, batch_size=16)\n",
    "\n",
    "# Evaluate Model\n",
    "test_loss, test_acc = model.evaluate(X_test, y_test)\n",
    "print(f\"Test Accuracy: {test_acc:.4f}\")\n"
   ]
  },
  {
   "cell_type": "code",
   "execution_count": 27,
   "metadata": {},
   "outputs": [
    {
     "name": "stdout",
     "output_type": "stream",
     "text": [
      "\u001b[1m1/1\u001b[0m \u001b[32m━━━━━━━━━━━━━━━━━━━━\u001b[0m\u001b[37m\u001b[0m \u001b[1m0s\u001b[0m 46ms/step\n",
      "Confusion Matrix:\n",
      " [[13  2]\n",
      " [ 9  6]]\n",
      "\n",
      "Classification Report:\n",
      "               precision    recall  f1-score   support\n",
      "\n",
      " Left-Handed       0.59      0.87      0.70        15\n",
      "Right-Handed       0.75      0.40      0.52        15\n",
      "\n",
      "    accuracy                           0.63        30\n",
      "   macro avg       0.67      0.63      0.61        30\n",
      "weighted avg       0.67      0.63      0.61        30\n",
      "\n"
     ]
    }
   ],
   "source": [
    "y_pred = (model.predict(X_test) > 0.5).astype(\"int32\")\n",
    "\n",
    "print(\"Confusion Matrix:\\n\", confusion_matrix(y_test, y_pred))\n",
    "print(\"\\nClassification Report:\\n\", classification_report(y_test, y_pred, target_names=[\"Left-Handed\", \"Right-Handed\"]))"
   ]
  },
  {
   "attachments": {},
   "cell_type": "markdown",
   "metadata": {},
   "source": [
    "(May change if re-run)\n",
    "Many left-handed cases are misclassified (recall is only ~65%), but ~83% of left-handed predictions made is correct. \n",
    "\n",
    "The model correctly detects ~85% of right-handed cases, but only 60% of left-handed predictions made is correct. F1-score is better than for left-handed, but precision is relatively lower. \n",
    "\n",
    "**Macro & Weighted F1-score = 0.60 → model may be learning patterns from the right-handed class more effectively than the other.**"
   ]
  },
  {
   "cell_type": "code",
   "execution_count": 28,
   "metadata": {},
   "outputs": [
    {
     "name": "stdout",
     "output_type": "stream",
     "text": [
      "\u001b[1m1/1\u001b[0m \u001b[32m━━━━━━━━━━━━━━━━━━━━\u001b[0m\u001b[37m\u001b[0m \u001b[1m0s\u001b[0m 22ms/step\n"
     ]
    },
    {
     "data": {
      "image/png": "[encoded data removed]",
      "text/plain": [
       "<Figure size 600x600 with 1 Axes>"
      ]
     },
     "metadata": {},
     "output_type": "display_data"
    }
   ],
   "source": [
    "y_prob = model.predict(X_test)  # Get probability scores\n",
    "\n",
    "fpr, tpr, _ = roc_curve(y_test, y_prob)\n",
    "roc_auc = auc(fpr, tpr)\n",
    "\n",
    "plt.figure(figsize=(6,6))\n",
    "plt.plot(fpr, tpr, color='blue', label=f'ROC curve (AUC = {roc_auc:.4f})')\n",
    "plt.plot([0, 1], [0, 1], color='gray', linestyle='--')  # Random classifier baseline\n",
    "plt.xlabel('False Positive Rate')\n",
    "plt.ylabel('True Positive Rate')\n",
    "plt.title('ROC Curve')\n",
    "plt.legend()\n",
    "plt.show()\n"
   ]
  },
  {
   "attachments": {},
   "cell_type": "markdown",
   "metadata": {},
   "source": [
    "AUC of ~0.7 means the model is better than random, but still not highly reliable."
   ]
  },
  {
   "attachments": {},
   "cell_type": "markdown",
   "metadata": {},
   "source": [
    "### CNN w/ More Weights toward Left-Handed Class"
   ]
  },
  {
   "cell_type": "code",
   "execution_count": 32,
   "metadata": {},
   "outputs": [
    {
     "name": "stdout",
     "output_type": "stream",
     "text": [
      "Epoch 1/20\n"
     ]
    },
    {
     "name": "stderr",
     "output_type": "stream",
     "text": [
      "/opt/homebrew/lib/python3.11/site-packages/keras/src/layers/convolutional/base_conv.py:107: UserWarning: Do not pass an `input_shape`/`input_dim` argument to a layer. When using Sequential models, prefer using an `Input(shape)` object as the first layer in the model instead.\n",
      "  super().__init__(activity_regularizer=activity_regularizer, **kwargs)\n"
     ]
    },
    {
     "name": "stdout",
     "output_type": "stream",
     "text": [
      "\u001b[1m8/8\u001b[0m \u001b[32m━━━━━━━━━━━━━━━━━━━━\u001b[0m\u001b[37m\u001b[0m \u001b[1m1s\u001b[0m 27ms/step - accuracy: 0.5181 - loss: 0.7155 - val_accuracy: 0.4333 - val_loss: 0.6903\n",
      "Epoch 2/20\n",
      "\u001b[1m8/8\u001b[0m \u001b[32m━━━━━━━━━━━━━━━━━━━━\u001b[0m\u001b[37m\u001b[0m \u001b[1m0s\u001b[0m 17ms/step - accuracy: 0.5924 - loss: 0.6712 - val_accuracy: 0.5667 - val_loss: 0.6897\n",
      "Epoch 3/20\n",
      "\u001b[1m8/8\u001b[0m \u001b[32m━━━━━━━━━━━━━━━━━━━━\u001b[0m\u001b[37m\u001b[0m \u001b[1m0s\u001b[0m 17ms/step - accuracy: 0.5672 - loss: 0.6651 - val_accuracy: 0.5667 - val_loss: 0.6908\n",
      "Epoch 4/20\n",
      "\u001b[1m8/8\u001b[0m \u001b[32m━━━━━━━━━━━━━━━━━━━━\u001b[0m\u001b[37m\u001b[0m \u001b[1m0s\u001b[0m 17ms/step - accuracy: 0.6321 - loss: 0.6649 - val_accuracy: 0.5667 - val_loss: 0.6899\n",
      "Epoch 5/20\n",
      "\u001b[1m8/8\u001b[0m \u001b[32m━━━━━━━━━━━━━━━━━━━━\u001b[0m\u001b[37m\u001b[0m \u001b[1m0s\u001b[0m 17ms/step - accuracy: 0.6926 - loss: 0.6405 - val_accuracy: 0.6333 - val_loss: 0.6874\n",
      "Epoch 6/20\n",
      "\u001b[1m8/8\u001b[0m \u001b[32m━━━━━━━━━━━━━━━━━━━━\u001b[0m\u001b[37m\u001b[0m \u001b[1m0s\u001b[0m 17ms/step - accuracy: 0.7176 - loss: 0.5951 - val_accuracy: 0.6333 - val_loss: 0.6826\n",
      "Epoch 7/20\n",
      "\u001b[1m8/8\u001b[0m \u001b[32m━━━━━━━━━━━━━━━━━━━━\u001b[0m\u001b[37m\u001b[0m \u001b[1m0s\u001b[0m 17ms/step - accuracy: 0.8128 - loss: 0.5413 - val_accuracy: 0.5667 - val_loss: 0.6685\n",
      "Epoch 8/20\n",
      "\u001b[1m8/8\u001b[0m \u001b[32m━━━━━━━━━━━━━━━━━━━━\u001b[0m\u001b[37m\u001b[0m \u001b[1m0s\u001b[0m 21ms/step - accuracy: 0.7523 - loss: 0.5569 - val_accuracy: 0.6000 - val_loss: 0.6623\n",
      "Epoch 9/20\n",
      "\u001b[1m8/8\u001b[0m \u001b[32m━━━━━━━━━━━━━━━━━━━━\u001b[0m\u001b[37m\u001b[0m \u001b[1m0s\u001b[0m 17ms/step - accuracy: 0.7593 - loss: 0.5121 - val_accuracy: 0.6000 - val_loss: 0.6599\n",
      "Epoch 10/20\n",
      "\u001b[1m8/8\u001b[0m \u001b[32m━━━━━━━━━━━━━━━━━━━━\u001b[0m\u001b[37m\u001b[0m \u001b[1m0s\u001b[0m 17ms/step - accuracy: 0.7229 - loss: 0.4996 - val_accuracy: 0.7000 - val_loss: 0.6786\n",
      "Epoch 11/20\n",
      "\u001b[1m8/8\u001b[0m \u001b[32m━━━━━━━━━━━━━━━━━━━━\u001b[0m\u001b[37m\u001b[0m \u001b[1m0s\u001b[0m 17ms/step - accuracy: 0.8236 - loss: 0.4564 - val_accuracy: 0.6333 - val_loss: 0.6801\n",
      "Epoch 12/20\n",
      "\u001b[1m8/8\u001b[0m \u001b[32m━━━━━━━━━━━━━━━━━━━━\u001b[0m\u001b[37m\u001b[0m \u001b[1m0s\u001b[0m 17ms/step - accuracy: 0.8131 - loss: 0.4173 - val_accuracy: 0.6333 - val_loss: 0.6722\n",
      "Epoch 13/20\n",
      "\u001b[1m8/8\u001b[0m \u001b[32m━━━━━━━━━━━━━━━━━━━━\u001b[0m\u001b[37m\u001b[0m \u001b[1m0s\u001b[0m 17ms/step - accuracy: 0.8584 - loss: 0.3787 - val_accuracy: 0.5667 - val_loss: 0.6531\n",
      "Epoch 14/20\n",
      "\u001b[1m8/8\u001b[0m \u001b[32m━━━━━━━━━━━━━━━━━━━━\u001b[0m\u001b[37m\u001b[0m \u001b[1m0s\u001b[0m 17ms/step - accuracy: 0.8410 - loss: 0.3717 - val_accuracy: 0.6000 - val_loss: 0.6424\n",
      "Epoch 15/20\n",
      "\u001b[1m8/8\u001b[0m \u001b[32m━━━━━━━━━━━━━━━━━━━━\u001b[0m\u001b[37m\u001b[0m \u001b[1m0s\u001b[0m 16ms/step - accuracy: 0.8912 - loss: 0.3088 - val_accuracy: 0.5667 - val_loss: 0.6641\n",
      "Epoch 16/20\n",
      "\u001b[1m8/8\u001b[0m \u001b[32m━━━━━━━━━━━━━━━━━━━━\u001b[0m\u001b[37m\u001b[0m \u001b[1m0s\u001b[0m 17ms/step - accuracy: 0.9436 - loss: 0.2555 - val_accuracy: 0.6667 - val_loss: 0.7587\n",
      "Epoch 17/20\n",
      "\u001b[1m8/8\u001b[0m \u001b[32m━━━━━━━━━━━━━━━━━━━━\u001b[0m\u001b[37m\u001b[0m \u001b[1m0s\u001b[0m 20ms/step - accuracy: 0.9121 - loss: 0.2668 - val_accuracy: 0.6333 - val_loss: 0.7490\n",
      "Epoch 18/20\n",
      "\u001b[1m8/8\u001b[0m \u001b[32m━━━━━━━━━━━━━━━━━━━━\u001b[0m\u001b[37m\u001b[0m \u001b[1m0s\u001b[0m 29ms/step - accuracy: 0.9664 - loss: 0.1769 - val_accuracy: 0.6000 - val_loss: 0.6747\n",
      "Epoch 19/20\n",
      "\u001b[1m8/8\u001b[0m \u001b[32m━━━━━━━━━━━━━━━━━━━━\u001b[0m\u001b[37m\u001b[0m \u001b[1m0s\u001b[0m 17ms/step - accuracy: 0.9555 - loss: 0.1476 - val_accuracy: 0.6000 - val_loss: 0.6731\n",
      "Epoch 20/20\n",
      "\u001b[1m8/8\u001b[0m \u001b[32m━━━━━━━━━━━━━━━━━━━━\u001b[0m\u001b[37m\u001b[0m \u001b[1m0s\u001b[0m 16ms/step - accuracy: 0.9830 - loss: 0.1428 - val_accuracy: 0.6667 - val_loss: 0.8726\n",
      "\u001b[1m1/1\u001b[0m \u001b[32m━━━━━━━━━━━━━━━━━━━━\u001b[0m\u001b[37m\u001b[0m \u001b[1m0s\u001b[0m 27ms/step - accuracy: 0.6667 - loss: 0.8726\n",
      "Test Accuracy: 0.6667\n"
     ]
    }
   ],
   "source": [
    "# Reshape data for CNN input (assuming X is correlation matrices)\n",
    "X = np.array(feature_data[\"correlation_matrix\"].tolist())  # Convert list of matrices to array\n",
    "X_cnn = X.reshape(X.shape[0], X.shape[1], X.shape[2], 1)  # Add channel dimension\n",
    "y_cnn = feature_data[\"Handedness_Cat\"].values  # Classification target\n",
    "\n",
    "# Split dataset\n",
    "X_train, X_test, y_train, y_test = train_test_split(X_cnn, y_cnn, test_size=0.2, random_state=42, stratify=y_cnn)\n",
    "\n",
    "# Define CNN model\n",
    "model = Sequential([\n",
    "    Conv2D(32, kernel_size=(3,3), activation='relu', input_shape=(X_train.shape[1], X_train.shape[2], 1)),\n",
    "    MaxPooling2D(pool_size=(2,2)),\n",
    "    \n",
    "    Conv2D(64, kernel_size=(3,3), activation='relu'),\n",
    "    MaxPooling2D(pool_size=(2,2)),\n",
    "\n",
    "    Flatten(),\n",
    "    Dense(128, activation='relu'),\n",
    "    Dropout(0.5),\n",
    "    Dense(1, activation='sigmoid')  # Binary classification (0 = Left, 1 = Right)\n",
    "])\n",
    "\n",
    "# Compile Model\n",
    "model.compile(optimizer=Adam(learning_rate=0.001), loss='binary_crossentropy', metrics=['accuracy'])\n",
    "\n",
    "# Compute class weights automatically\n",
    "class_weights = dict(zip(np.unique(y_train), compute_class_weight(\"balanced\", classes=np.unique(y_train), y=y_train)))\n",
    "\n",
    "# Train Model with dynamically computed class weights\n",
    "model.fit(X_train, y_train, validation_data=(X_test, y_test), epochs=20, batch_size=16, class_weight=class_weights)\n",
    "\n",
    "# Evaluate Model\n",
    "test_loss, test_acc = model.evaluate(X_test, y_test)\n",
    "print(f\"Test Accuracy: {test_acc:.4f}\")"
   ]
  },
  {
   "cell_type": "code",
   "execution_count": 33,
   "metadata": {},
   "outputs": [
    {
     "name": "stdout",
     "output_type": "stream",
     "text": [
      "\u001b[1m1/1\u001b[0m \u001b[32m━━━━━━━━━━━━━━━━━━━━\u001b[0m\u001b[37m\u001b[0m \u001b[1m0s\u001b[0m 43ms/step\n",
      "Confusion Matrix:\n",
      " [[14  1]\n",
      " [ 9  6]]\n",
      "\n",
      "Classification Report:\n",
      "               precision    recall  f1-score   support\n",
      "\n",
      " Left-Handed       0.61      0.93      0.74        15\n",
      "Right-Handed       0.86      0.40      0.55        15\n",
      "\n",
      "    accuracy                           0.67        30\n",
      "   macro avg       0.73      0.67      0.64        30\n",
      "weighted avg       0.73      0.67      0.64        30\n",
      "\n"
     ]
    }
   ],
   "source": [
    "y_pred = (model.predict(X_test) > 0.5).astype(\"int32\")\n",
    "\n",
    "print(\"Confusion Matrix:\\n\", confusion_matrix(y_test, y_pred))\n",
    "print(\"\\nClassification Report:\\n\", classification_report(y_test, y_pred, target_names=[\"Left-Handed\", \"Right-Handed\"]))"
   ]
  },
  {
   "cell_type": "code",
   "execution_count": null,
   "metadata": {},
   "outputs": [],
   "source": []
  },
  {
   "attachments": {},
   "cell_type": "markdown",
   "metadata": {},
   "source": [
    "---"
   ]
  },
  {
   "attachments": {},
   "cell_type": "markdown",
   "metadata": {},
   "source": [
    "Transforming Handedness"
   ]
  },
  {
   "cell_type": "code",
   "execution_count": 31,
   "metadata": {},
   "outputs": [
    {
     "data": {
      "text/html": [
       "<div>\n",
       "<style scoped>\n",
       "    .dataframe tbody tr th:only-of-type {\n",
       "        vertical-align: middle;\n",
       "    }\n",
       "\n",
       "    .dataframe tbody tr th {\n",
       "        vertical-align: top;\n",
       "    }\n",
       "\n",
       "    .dataframe thead th {\n",
       "        text-align: right;\n",
       "    }\n",
       "</style>\n",
       "<table border=\"1\" class=\"dataframe\">\n",
       "  <thead>\n",
       "    <tr style=\"text-align: right;\">\n",
       "      <th></th>\n",
       "      <th>Left-Handed</th>\n",
       "      <th>Right-Handed</th>\n",
       "      <th>Overall</th>\n",
       "    </tr>\n",
       "  </thead>\n",
       "  <tbody>\n",
       "    <tr>\n",
       "      <th>count</th>\n",
       "      <td>0.0</td>\n",
       "      <td>0.0</td>\n",
       "      <td>148.000000</td>\n",
       "    </tr>\n",
       "    <tr>\n",
       "      <th>mean</th>\n",
       "      <td>NaN</td>\n",
       "      <td>NaN</td>\n",
       "      <td>6.554054</td>\n",
       "    </tr>\n",
       "    <tr>\n",
       "      <th>std</th>\n",
       "      <td>NaN</td>\n",
       "      <td>NaN</td>\n",
       "      <td>74.680388</td>\n",
       "    </tr>\n",
       "    <tr>\n",
       "      <th>min</th>\n",
       "      <td>NaN</td>\n",
       "      <td>NaN</td>\n",
       "      <td>-100.000000</td>\n",
       "    </tr>\n",
       "    <tr>\n",
       "      <th>25%</th>\n",
       "      <td>NaN</td>\n",
       "      <td>NaN</td>\n",
       "      <td>-65.000000</td>\n",
       "    </tr>\n",
       "    <tr>\n",
       "      <th>50%</th>\n",
       "      <td>NaN</td>\n",
       "      <td>NaN</td>\n",
       "      <td>10.000000</td>\n",
       "    </tr>\n",
       "    <tr>\n",
       "      <th>75%</th>\n",
       "      <td>NaN</td>\n",
       "      <td>NaN</td>\n",
       "      <td>80.000000</td>\n",
       "    </tr>\n",
       "    <tr>\n",
       "      <th>max</th>\n",
       "      <td>NaN</td>\n",
       "      <td>NaN</td>\n",
       "      <td>100.000000</td>\n",
       "    </tr>\n",
       "  </tbody>\n",
       "</table>\n",
       "</div>"
      ],
      "text/plain": [
       "       Left-Handed  Right-Handed     Overall\n",
       "count          0.0           0.0  148.000000\n",
       "mean           NaN           NaN    6.554054\n",
       "std            NaN           NaN   74.680388\n",
       "min            NaN           NaN -100.000000\n",
       "25%            NaN           NaN  -65.000000\n",
       "50%            NaN           NaN   10.000000\n",
       "75%            NaN           NaN   80.000000\n",
       "max            NaN           NaN  100.000000"
      ]
     },
     "execution_count": 31,
     "metadata": {},
     "output_type": "execute_result"
    }
   ],
   "source": [
    "left_handed = data[data['Handedness_Cat'] == 'Left']\n",
    "right_handed = data[data['Handedness_Cat'] == 'Right']\n",
    "\n",
    "# Handedness statistics\n",
    "pd.DataFrame([\n",
    "    left_handed.describe()['Handedness'], \n",
    "    right_handed.describe()['Handedness'], \n",
    "    data['Handedness'].describe()\n",
    "], index=['Left-Handed', 'Right-Handed', 'Overall']).T\n"
   ]
  },
  {
   "cell_type": "code",
   "execution_count": null,
   "metadata": {},
   "outputs": [
    {
     "data": {
      "image/png": "[encoded data removed]",
      "text/plain": [
       "<Figure size 800x600 with 1 Axes>"
      ]
     },
     "metadata": {},
     "output_type": "display_data"
    }
   ],
   "source": [
    "plt.figure(figsize=(8, 6))\n",
    "sns.histplot(left_handed['Handedness'], color='blue', label='Left-Handed', kde=False, bins=20, alpha=0.5)\n",
    "sns.histplot(right_handed['Handedness'], color='orange', label='Right-Handed', kde=False, bins=20, alpha=0.5)\n",
    "\n",
    "\n",
    "# mark medians\n",
    "plt.axvline(left_handed['Handedness'].median(), color='blue', linestyle='--', label='Left-Handed Median')\n",
    "plt.axvline(right_handed['Handedness'].median(), color='orange', linestyle='--', label='Right-Handed Median')\n",
    "\n",
    "# Labels and title\n",
    "plt.xlabel('Handedness Score', fontsize=12)\n",
    "plt.ylabel('count', fontsize=12)\n",
    "plt.title('Distribution of Handedness Scores', fontsize=16)\n",
    "plt.legend()\n",
    "\n",
    "plt.grid(alpha=0.3)\n",
    "plt.show()"
   ]
  },
  {
   "attachments": {},
   "cell_type": "markdown",
   "metadata": {},
   "source": [
    "Log tranformation"
   ]
  },
  {
   "cell_type": "code",
   "execution_count": null,
   "metadata": {},
   "outputs": [
    {
     "name": "stderr",
     "output_type": "stream",
     "text": [
      "/opt/homebrew/lib/python3.11/site-packages/pandas/core/arraylike.py:399: RuntimeWarning: divide by zero encountered in log10\n",
      "  result = getattr(ufunc, method)(*inputs, **kwargs)\n",
      "/var/folders/bz/8tkr7qg51_1bcjy3cf4g8fzc0000gn/T/ipykernel_88733/345938297.py:10: UserWarning: No artists with labels found to put in legend.  Note that artists whose label start with an underscore are ignored when legend() is called with no argument.\n",
      "  plt.legend()\n"
     ]
    },
    {
     "data": {
      "image/png": "[encoded data removed]",
      "text/plain": [
       "<Figure size 1000x600 with 1 Axes>"
      ]
     },
     "metadata": {},
     "output_type": "display_data"
    }
   ],
   "source": [
    "data['log_transformed_handedness'] = np.log10(100-data['Handedness'])\n",
    "\n",
    "left_handed = data[data['Handedness_Cat'] == 'Left']\n",
    "right_handed = data[data['Handedness_Cat'] == 'Right']\n",
    "\n",
    "plt.figure(figsize=(10, 6))\n",
    "sns.histplot(data=left_handed['log_transformed_handedness'], label='Left-Handed', color='blue', kde=False, bins=20, alpha=0.5, stat='density')\n",
    "sns.histplot(data=right_handed['log_transformed_handedness'], label='Right-Handed', color='orange', kde=False, bins=20, alpha=0.5, stat='density')\n",
    "\n",
    "plt.legend()\n",
    "plt.grid(alpha=0.3)\n",
    "plt.show()"
   ]
  },
  {
   "attachments": {},
   "cell_type": "markdown",
   "metadata": {},
   "source": [
    "square root transformation"
   ]
  },
  {
   "cell_type": "code",
   "execution_count": null,
   "metadata": {},
   "outputs": [
    {
     "name": "stderr",
     "output_type": "stream",
     "text": [
      "/var/folders/bz/8tkr7qg51_1bcjy3cf4g8fzc0000gn/T/ipykernel_88733/4275411290.py:10: UserWarning: No artists with labels found to put in legend.  Note that artists whose label start with an underscore are ignored when legend() is called with no argument.\n",
      "  plt.legend()\n"
     ]
    },
    {
     "data": {
      "image/png": "[encoded data removed]",
      "text/plain": [
       "<Figure size 1000x600 with 1 Axes>"
      ]
     },
     "metadata": {},
     "output_type": "display_data"
    }
   ],
   "source": [
    "data['sqrt_transformed_handedness'] = data['Handedness'].abs()**0.5\n",
    "\n",
    "left_handed = data[data['Handedness_Cat'] == 'Left']\n",
    "right_handed = data[data['Handedness_Cat'] == 'Right']\n",
    "\n",
    "plt.figure(figsize=(10, 6))\n",
    "sns.histplot(data=left_handed['sqrt_transformed_handedness'], label='Left-Handed', color='blue', kde=False, bins=20, alpha=0.5, stat='density')\n",
    "sns.histplot(data=right_handed['sqrt_transformed_handedness'], label='Right-Handed', color='orange', kde=False, bins=20, alpha=0.5, stat='density')\n",
    "\n",
    "plt.legend()\n",
    "plt.grid(alpha=0.3)\n",
    "plt.show()"
   ]
  },
  {
   "cell_type": "code",
   "execution_count": null,
   "metadata": {},
   "outputs": [
    {
     "name": "stderr",
     "output_type": "stream",
     "text": [
      "/var/folders/bz/8tkr7qg51_1bcjy3cf4g8fzc0000gn/T/ipykernel_88733/1017267253.py:11: UserWarning: No artists with labels found to put in legend.  Note that artists whose label start with an underscore are ignored when legend() is called with no argument.\n",
      "  plt.legend()\n"
     ]
    },
    {
     "data": {
      "image/png": "[encoded data removed]",
      "text/plain": [
       "<Figure size 640x480 with 1 Axes>"
      ]
     },
     "metadata": {},
     "output_type": "display_data"
    }
   ],
   "source": [
    "from scipy.stats import zscore\n",
    "\n",
    "data['zscored_handedness'] = zscore(data['Handedness'])\n",
    "\n",
    "left_handed = data[data['Handedness_Cat'] == 'Left']\n",
    "right_handed = data[data['Handedness_Cat'] == 'Right']\n",
    "\n",
    "sns.histplot(left_handed['zscored_handedness'],label='Left-Handed',bins=10, edgecolor='black', alpha=0.7, stat='density')\n",
    "sns.histplot(right_handed['zscored_handedness'], label='right-Handed',bins=10, edgecolor='black', alpha=0.7, stat='density')\n",
    "\n",
    "plt.legend()\n",
    "plt.grid(alpha=0.3)\n",
    "plt.show()"
   ]
  },
  {
   "cell_type": "code",
   "execution_count": null,
   "metadata": {},
   "outputs": [
    {
     "name": "stderr",
     "output_type": "stream",
     "text": [
      "/var/folders/bz/8tkr7qg51_1bcjy3cf4g8fzc0000gn/T/ipykernel_88733/3313332115.py:13: UserWarning: No artists with labels found to put in legend.  Note that artists whose label start with an underscore are ignored when legend() is called with no argument.\n",
      "  plt.legend()\n"
     ]
    },
    {
     "data": {
      "image/png": "[encoded data removed]",
      "text/plain": [
       "<Figure size 1000x600 with 1 Axes>"
      ]
     },
     "metadata": {},
     "output_type": "display_data"
    }
   ],
   "source": [
    "mean_value = left_handed['Handedness'].mean()\n",
    "std_value = left_handed['Handedness'].std()\n",
    "left_handed['standardized_handedness'] = (left_handed['Handedness'] - mean_value) / std_value\n",
    "\n",
    "mean_value = right_handed['Handedness'].mean()\n",
    "std_value = right_handed['Handedness'].std()\n",
    "right_handed['standardized_handedness'] = (right_handed['Handedness'] - mean_value) / std_value\n",
    "\n",
    "plt.figure(figsize=(10, 6))\n",
    "sns.histplot(left_handed['standardized_handedness'],label='Left-Handed',bins=10, edgecolor='black', alpha=0.7, stat='density')\n",
    "sns.histplot(right_handed['standardized_handedness'], label='right-Handed',bins=10, edgecolor='black', alpha=0.7, stat='density')\n",
    "\n",
    "plt.legend()\n",
    "plt.grid(axis='y', linestyle='--', alpha=0.7)\n",
    "\n",
    "\n",
    "plt.show()"
   ]
  },
  {
   "attachments": {},
   "cell_type": "markdown",
   "metadata": {},
   "source": [
    "Symmetric Transformation (Box-Cox)"
   ]
  },
  {
   "cell_type": "code",
   "execution_count": null,
   "metadata": {},
   "outputs": [
    {
     "data": {
      "text/plain": [
       "0      18320.362924\n",
       "1      28997.486355\n",
       "2      28997.486355\n",
       "3      32525.742178\n",
       "4      22580.173480\n",
       "           ...     \n",
       "143    32525.742178\n",
       "144    15740.762788\n",
       "145    36268.999363\n",
       "146    36268.999363\n",
       "147    28997.486355\n",
       "Name: BoxCox_Handedness, Length: 148, dtype: float64"
      ]
     },
     "execution_count": 31,
     "metadata": {},
     "output_type": "execute_result"
    }
   ],
   "source": [
    "from scipy.stats import boxcox\n",
    "\n",
    "data['BoxCox_Handedness'], lambda_ = boxcox(data['Handedness'].abs() + 100)  # Shift to ensure all values are positive\n",
    "data['BoxCox_Handedness']"
   ]
  },
  {
   "cell_type": "code",
   "execution_count": null,
   "metadata": {},
   "outputs": [
    {
     "ename": "KeyError",
     "evalue": "'Handedness_BoxCox'",
     "output_type": "error",
     "traceback": [
      "\u001b[0;31m---------------------------------------------------------------------------\u001b[0m",
      "\u001b[0;31mKeyError\u001b[0m                                  Traceback (most recent call last)",
      "File \u001b[0;32m/opt/homebrew/lib/python3.11/site-packages/pandas/core/indexes/base.py:3805\u001b[0m, in \u001b[0;36mIndex.get_loc\u001b[0;34m(self, key)\u001b[0m\n\u001b[1;32m   3804\u001b[0m \u001b[39mtry\u001b[39;00m:\n\u001b[0;32m-> 3805\u001b[0m     \u001b[39mreturn\u001b[39;00m \u001b[39mself\u001b[39;49m\u001b[39m.\u001b[39;49m_engine\u001b[39m.\u001b[39;49mget_loc(casted_key)\n\u001b[1;32m   3806\u001b[0m \u001b[39mexcept\u001b[39;00m \u001b[39mKeyError\u001b[39;00m \u001b[39mas\u001b[39;00m err:\n",
      "File \u001b[0;32mindex.pyx:167\u001b[0m, in \u001b[0;36mpandas._libs.index.IndexEngine.get_loc\u001b[0;34m()\u001b[0m\n",
      "File \u001b[0;32mindex.pyx:196\u001b[0m, in \u001b[0;36mpandas._libs.index.IndexEngine.get_loc\u001b[0;34m()\u001b[0m\n",
      "File \u001b[0;32mpandas/_libs/hashtable_class_helper.pxi:7081\u001b[0m, in \u001b[0;36mpandas._libs.hashtable.PyObjectHashTable.get_item\u001b[0;34m()\u001b[0m\n",
      "File \u001b[0;32mpandas/_libs/hashtable_class_helper.pxi:7089\u001b[0m, in \u001b[0;36mpandas._libs.hashtable.PyObjectHashTable.get_item\u001b[0;34m()\u001b[0m\n",
      "\u001b[0;31mKeyError\u001b[0m: 'Handedness_BoxCox'",
      "\nThe above exception was the direct cause of the following exception:\n",
      "\u001b[0;31mKeyError\u001b[0m                                  Traceback (most recent call last)",
      "Cell \u001b[0;32mIn[32], line 4\u001b[0m\n\u001b[1;32m      1\u001b[0m left_handed \u001b[39m=\u001b[39m data[data[\u001b[39m'\u001b[39m\u001b[39mHandedness_Cat\u001b[39m\u001b[39m'\u001b[39m] \u001b[39m==\u001b[39m \u001b[39m'\u001b[39m\u001b[39mLeft\u001b[39m\u001b[39m'\u001b[39m]\n\u001b[1;32m      2\u001b[0m right_handed \u001b[39m=\u001b[39m data[data[\u001b[39m'\u001b[39m\u001b[39mHandedness_Cat\u001b[39m\u001b[39m'\u001b[39m] \u001b[39m==\u001b[39m \u001b[39m'\u001b[39m\u001b[39mRight\u001b[39m\u001b[39m'\u001b[39m]\n\u001b[0;32m----> 4\u001b[0m sns\u001b[39m.\u001b[39mhistplot(left_handed[\u001b[39m'\u001b[39;49m\u001b[39mHandedness_BoxCox\u001b[39;49m\u001b[39m'\u001b[39;49m],label\u001b[39m=\u001b[39m\u001b[39m'\u001b[39m\u001b[39mLeft-Handed\u001b[39m\u001b[39m'\u001b[39m,bins\u001b[39m=\u001b[39m\u001b[39m10\u001b[39m, edgecolor\u001b[39m=\u001b[39m\u001b[39m'\u001b[39m\u001b[39mblack\u001b[39m\u001b[39m'\u001b[39m, alpha\u001b[39m=\u001b[39m\u001b[39m0.7\u001b[39m, stat\u001b[39m=\u001b[39m\u001b[39m'\u001b[39m\u001b[39mdensity\u001b[39m\u001b[39m'\u001b[39m)\n\u001b[1;32m      5\u001b[0m sns\u001b[39m.\u001b[39mhistplot(right_handed[\u001b[39m'\u001b[39m\u001b[39mHandedness_BoxCox\u001b[39m\u001b[39m'\u001b[39m], label\u001b[39m=\u001b[39m\u001b[39m'\u001b[39m\u001b[39mright-Handed\u001b[39m\u001b[39m'\u001b[39m,bins\u001b[39m=\u001b[39m\u001b[39m10\u001b[39m, edgecolor\u001b[39m=\u001b[39m\u001b[39m'\u001b[39m\u001b[39mblack\u001b[39m\u001b[39m'\u001b[39m, alpha\u001b[39m=\u001b[39m\u001b[39m0.7\u001b[39m, stat\u001b[39m=\u001b[39m\u001b[39m'\u001b[39m\u001b[39mdensity\u001b[39m\u001b[39m'\u001b[39m)\n\u001b[1;32m      7\u001b[0m plt\u001b[39m.\u001b[39mlegend()\n",
      "File \u001b[0;32m/opt/homebrew/lib/python3.11/site-packages/pandas/core/frame.py:4102\u001b[0m, in \u001b[0;36mDataFrame.__getitem__\u001b[0;34m(self, key)\u001b[0m\n\u001b[1;32m   4100\u001b[0m \u001b[39mif\u001b[39;00m \u001b[39mself\u001b[39m\u001b[39m.\u001b[39mcolumns\u001b[39m.\u001b[39mnlevels \u001b[39m>\u001b[39m \u001b[39m1\u001b[39m:\n\u001b[1;32m   4101\u001b[0m     \u001b[39mreturn\u001b[39;00m \u001b[39mself\u001b[39m\u001b[39m.\u001b[39m_getitem_multilevel(key)\n\u001b[0;32m-> 4102\u001b[0m indexer \u001b[39m=\u001b[39m \u001b[39mself\u001b[39;49m\u001b[39m.\u001b[39;49mcolumns\u001b[39m.\u001b[39;49mget_loc(key)\n\u001b[1;32m   4103\u001b[0m \u001b[39mif\u001b[39;00m is_integer(indexer):\n\u001b[1;32m   4104\u001b[0m     indexer \u001b[39m=\u001b[39m [indexer]\n",
      "File \u001b[0;32m/opt/homebrew/lib/python3.11/site-packages/pandas/core/indexes/base.py:3812\u001b[0m, in \u001b[0;36mIndex.get_loc\u001b[0;34m(self, key)\u001b[0m\n\u001b[1;32m   3807\u001b[0m     \u001b[39mif\u001b[39;00m \u001b[39misinstance\u001b[39m(casted_key, \u001b[39mslice\u001b[39m) \u001b[39mor\u001b[39;00m (\n\u001b[1;32m   3808\u001b[0m         \u001b[39misinstance\u001b[39m(casted_key, abc\u001b[39m.\u001b[39mIterable)\n\u001b[1;32m   3809\u001b[0m         \u001b[39mand\u001b[39;00m \u001b[39many\u001b[39m(\u001b[39misinstance\u001b[39m(x, \u001b[39mslice\u001b[39m) \u001b[39mfor\u001b[39;00m x \u001b[39min\u001b[39;00m casted_key)\n\u001b[1;32m   3810\u001b[0m     ):\n\u001b[1;32m   3811\u001b[0m         \u001b[39mraise\u001b[39;00m InvalidIndexError(key)\n\u001b[0;32m-> 3812\u001b[0m     \u001b[39mraise\u001b[39;00m \u001b[39mKeyError\u001b[39;00m(key) \u001b[39mfrom\u001b[39;00m \u001b[39merr\u001b[39;00m\n\u001b[1;32m   3813\u001b[0m \u001b[39mexcept\u001b[39;00m \u001b[39mTypeError\u001b[39;00m:\n\u001b[1;32m   3814\u001b[0m     \u001b[39m# If we have a listlike key, _check_indexing_error will raise\u001b[39;00m\n\u001b[1;32m   3815\u001b[0m     \u001b[39m#  InvalidIndexError. Otherwise we fall through and re-raise\u001b[39;00m\n\u001b[1;32m   3816\u001b[0m     \u001b[39m#  the TypeError.\u001b[39;00m\n\u001b[1;32m   3817\u001b[0m     \u001b[39mself\u001b[39m\u001b[39m.\u001b[39m_check_indexing_error(key)\n",
      "\u001b[0;31mKeyError\u001b[0m: 'Handedness_BoxCox'"
     ]
    }
   ],
   "source": [
    "left_handed = data[data['Handedness_Cat'] == 'Left']\n",
    "right_handed = data[data['Handedness_Cat'] == 'Right']\n",
    "\n",
    "sns.histplot(left_handed['Handedness_BoxCox'],label='Left-Handed',bins=10, edgecolor='black', alpha=0.7, stat='density')\n",
    "sns.histplot(right_handed['Handedness_BoxCox'], label='right-Handed',bins=10, edgecolor='black', alpha=0.7, stat='density')\n",
    "\n",
    "plt.legend()\n",
    "plt.grid(alpha=0.3)\n",
    "plt.show()"
   ]
  },
  {
   "cell_type": "code",
   "execution_count": null,
   "metadata": {},
   "outputs": [],
   "source": [
    "# from scipy.stats import skew, kurtosis\n",
    "\n",
    "# print(\"Original Skewness:\", skew(data['Handedness']))\n",
    "# print(\"Transformed Skewness:\", skew(data['log_transformed_handedness']))\n",
    "\n",
    "# print(\"Original Kurtosis:\", kurtosis(data['Handedness']))\n",
    "# print(\"Transformed Kurtosis:\", kurtosis(data['log_transformed_handedness']))\n"
   ]
  },
  {
   "cell_type": "code",
   "execution_count": null,
   "metadata": {},
   "outputs": [],
   "source": []
  }
 ],
 "metadata": {
  "kernelspec": {
   "display_name": "Python 3",
   "language": "python",
   "name": "python3"
  },
  "language_info": {
   "codemirror_mode": {
    "name": "ipython",
    "version": 3
   },
   "file_extension": ".py",
   "mimetype": "text/x-python",
   "name": "python",
   "nbconvert_exporter": "python",
   "pygments_lexer": "ipython3",
   "version": "3.11.7"
  },
  "orig_nbformat": 4
 },
 "nbformat": 4,
 "nbformat_minor": 2
}
