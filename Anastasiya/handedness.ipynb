{
 "cells": [
  {
   "cell_type": "code",
   "execution_count": 1,
   "id": "9c094067-b36e-4786-ab6e-85390ac1ebd2",
   "metadata": {},
   "outputs": [
    {
     "name": "stdout",
     "output_type": "stream",
     "text": [
      "unrestricted_data loaded\n",
      "restricted_data loaded\n"
     ]
    }
   ],
   "source": [
    "%run loading_data.ipynb\n",
    "# sub_data = load_txt(n=200)\n",
    "unrestricted_data = load_unrestricted()\n",
    "restricted_data = load_restricted()"
   ]
  },
  {
   "cell_type": "code",
   "execution_count": 10,
   "id": "5e6fa736-c4d2-4de9-ad91-ded018bfa9f1",
   "metadata": {},
   "outputs": [
    {
     "data": {
      "text/plain": [
       "['Strength_Unadj', 'Strength_AgeAdj']"
      ]
     },
     "execution_count": 10,
     "metadata": {},
     "output_type": "execute_result"
    }
   ],
   "source": [
    "[label for label in unrestricted_data.columns if 'Strength' in label]"
   ]
  },
  {
   "cell_type": "code",
   "execution_count": 11,
   "id": "347b1e45-0b72-4a64-b223-4ce8b046deb5",
   "metadata": {},
   "outputs": [
    {
     "data": {
      "text/plain": [
       "['Dexterity_Unadj', 'Dexterity_AgeAdj']"
      ]
     },
     "execution_count": 11,
     "metadata": {},
     "output_type": "execute_result"
    }
   ],
   "source": [
    "[label for label in unrestricted_data.columns if 'Dex' in label]"
   ]
  },
  {
   "cell_type": "code",
   "execution_count": 14,
   "id": "d3a21208-48ae-4388-bd7a-0e8390272013",
   "metadata": {},
   "outputs": [
    {
     "data": {
      "text/plain": [
       "count    1205.000000\n",
       "mean      103.760448\n",
       "std        20.348361\n",
       "min        45.410000\n",
       "25%        86.100000\n",
       "50%       100.940000\n",
       "75%       121.670000\n",
       "max       154.590000\n",
       "Name: Strength_AgeAdj, dtype: float64"
      ]
     },
     "execution_count": 14,
     "metadata": {},
     "output_type": "execute_result"
    }
   ],
   "source": [
    "unrestricted_data['Strength_AgeAdj'].describe()"
   ]
  },
  {
   "cell_type": "code",
   "execution_count": null,
   "id": "6d98d608-0bb6-484a-b6e4-05b6a7d4e3c5",
   "metadata": {},
   "outputs": [],
   "source": []
  },
  {
   "cell_type": "code",
   "execution_count": null,
   "id": "c662b4e3-23e5-4c2d-a61a-7631cc808615",
   "metadata": {},
   "outputs": [],
   "source": []
  }
 ],
 "metadata": {
  "kernelspec": {
   "display_name": "capstone",
   "language": "python",
   "name": "capstone"
  },
  "language_info": {
   "codemirror_mode": {
    "name": "ipython",
    "version": 3
   },
   "file_extension": ".py",
   "mimetype": "text/x-python",
   "name": "python",
   "nbconvert_exporter": "python",
   "pygments_lexer": "ipython3",
   "version": "3.13.1"
  }
 },
 "nbformat": 4,
 "nbformat_minor": 5
}
