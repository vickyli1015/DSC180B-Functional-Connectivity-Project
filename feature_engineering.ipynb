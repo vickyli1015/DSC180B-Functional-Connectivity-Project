{
 "cells": [
  {
   "cell_type": "code",
   "execution_count": null,
   "id": "4fc6d817-8771-4d45-b81f-7e712f0698ef",
   "metadata": {},
   "outputs": [],
   "source": [
    "#imports"
   ]
  },
  {
   "cell_type": "markdown",
   "id": "90f1b723-208b-44db-9405-718d861564d9",
   "metadata": {},
   "source": [
    "### Correlation Matrices"
   ]
  },
  {
   "cell_type": "code",
   "execution_count": null,
   "id": "1aab53a4-4b98-4d4f-a175-b84d16b92900",
   "metadata": {},
   "outputs": [],
   "source": []
  },
  {
   "cell_type": "markdown",
   "id": "46e5f642-a591-4504-bac7-2b63ad35ca49",
   "metadata": {},
   "source": [
    "## Seed Correlations w/ ROIs\n",
    "\n",
    "- [Check this link](https://nilearn.github.io/dev/auto_examples/03_connectivity/plot_seed_to_voxel_correlation.html)\n",
    "- Use `['Left_Postcentral_Gyrus', 'Right_Postcentral_Gyrus',\n",
    "       'Right_Juxtapositional_Lobule_Cortex_(formerly_Supplementary_Motor_Cortex)']`\n",
    "  - Located at the following indices `{37, 40, 42}`"
   ]
  },
  {
   "cell_type": "code",
   "execution_count": null,
   "id": "60636c9c-ca6c-45a4-8ab0-80f6bd5401b0",
   "metadata": {},
   "outputs": [],
   "source": []
  },
  {
   "cell_type": "markdown",
   "id": "2d6d4549-973e-45dc-a576-ab09c84e42fe",
   "metadata": {},
   "source": [
    "## Graphical LASSO and inverse covariance\n",
    "- [Check this link](https://nilearn.github.io/dev/connectivity/connectome_extraction.html)"
   ]
  },
  {
   "cell_type": "code",
   "execution_count": null,
   "id": "9a899b31-202c-47d8-9a61-1c32dd56d0eb",
   "metadata": {},
   "outputs": [],
   "source": []
  },
  {
   "cell_type": "markdown",
   "id": "53d3ef05-3e58-4721-a391-017e1d1ff538",
   "metadata": {},
   "source": [
    "## Maybe Try Building Motor Networks and looking for differences\n",
    "- [Check this out](https://bdpedigo.github.io/networks-course/representing_networks.html)"
   ]
  },
  {
   "cell_type": "code",
   "execution_count": null,
   "id": "e6b76c59-8f5b-4248-8cfc-933222dc6d50",
   "metadata": {},
   "outputs": [],
   "source": []
  },
  {
   "cell_type": "markdown",
   "id": "a74dd930-566d-45ce-a964-aea9b69f8912",
   "metadata": {},
   "source": [
    "## Assess interhemispheric connects and hemispheric asymetry"
   ]
  },
  {
   "cell_type": "code",
   "execution_count": null,
   "id": "c25e9b23-bca2-4695-8a7a-eb23871ab3db",
   "metadata": {},
   "outputs": [],
   "source": []
  },
  {
   "cell_type": "markdown",
   "id": "1e1cc529-8e0c-4bd7-ab74-404445912d66",
   "metadata": {},
   "source": [
    "## Regional Homogeneity"
   ]
  },
  {
   "cell_type": "code",
   "execution_count": null,
   "id": "14bd7def-8701-4b0a-95b0-4e9b85eae5ad",
   "metadata": {},
   "outputs": [],
   "source": []
  },
  {
   "cell_type": "markdown",
   "id": "1ba0d608-021f-4bb3-a191-9a6d7ff56745",
   "metadata": {},
   "source": []
  }
 ],
 "metadata": {
  "kernelspec": {
   "display_name": "capstone",
   "language": "python",
   "name": "capstone"
  },
  "language_info": {
   "codemirror_mode": {
    "name": "ipython",
    "version": 3
   },
   "file_extension": ".py",
   "mimetype": "text/x-python",
   "name": "python",
   "nbconvert_exporter": "python",
   "pygments_lexer": "ipython3",
   "version": "3.13.1"
  }
 },
 "nbformat": 4,
 "nbformat_minor": 5
}
