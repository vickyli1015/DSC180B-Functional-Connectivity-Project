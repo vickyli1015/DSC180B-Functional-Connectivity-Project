{
 "cells": [
  {
   "cell_type": "code",
   "execution_count": 1,
   "id": "4ddc9ea4-4fd5-4fc5-8207-d91b993c9e07",
   "metadata": {},
   "outputs": [],
   "source": [
    "import os\n",
    "import numpy as np\n",
    "from nilearn import plotting, image\n",
    "import pandas as pd"
   ]
  },
  {
   "cell_type": "code",
   "execution_count": 2,
   "id": "7b9b55ee-3ca9-4220-a898-74b57de5a26b",
   "metadata": {},
   "outputs": [],
   "source": [
    "#getting all of the subjects\n",
    "def get_subjects(sub_list):\n",
    "    '''\n",
    " \n",
    "    '''\n",
    "    sub_id = [int(i.split(\".\")[0])for i in sub_list]\n",
    "    return sub_id"
   ]
  },
  {
   "cell_type": "code",
   "execution_count": 4,
   "id": "6a785ca6-1499-4ede-9540-08e955fb4c19",
   "metadata": {},
   "outputs": [],
   "source": [
    "#loading the data\n",
    "def load_txt(n=100, file_path=None):\n",
    "    '''\n",
    "    loads txt data of all subjects\n",
    "\n",
    "    params:\n",
    "    n (int): number of brain regions options: 15, 50, 100; 100 by default\n",
    "    subset (tuple): gets a subset of subjects; (start, stop, step) ... eventually \n",
    "    file_path: your own filepath\n",
    "\n",
    "    return:\n",
    "    all data (np.array): \n",
    "    '''\n",
    "    if file_path:\n",
    "        file_path = file_path\n",
    "    else:\n",
    "        file_path = f\"/home/anmarkova/teams/a05/group_2/HCP_PTN1200/node_timeseries/3T_HCP1200_MSMAll_d{n}_ts2\"\n",
    "    sub_list = os.listdir(file_path)\n",
    "    sub_id = get_subjects(sub_list)\n",
    "    make_path = lambda x: file_path + \"/\" + x\n",
    "    paths = [make_path(i) for i in sub_list]\n",
    "    sub_data = [np.loadtxt(path) for path in paths]\n",
    "\n",
    "    print('Subject Data Loaded')\n",
    "\n",
    "    return np.array(sub_data), sub_id"
   ]
  },
  {
   "cell_type": "code",
   "execution_count": 6,
   "id": "50080ce8-b158-414a-8565-67364530983b",
   "metadata": {},
   "outputs": [],
   "source": [
    "#loading atlas parcelations\n",
    "def load_atlas(n=100, file_path=None):\n",
    "    '''\n",
    "    loads txt data of all subjects\n",
    "\n",
    "    params:\n",
    "    n (int): number of brain regions options: 15, 50, 100; 100 by default\n",
    "    file_path: your own filepath\n",
    "\n",
    "    return:\n",
    "    all data (np.array): \n",
    "    '''\n",
    "    if not file_path:\n",
    "        file_path = f\"/home/anmarkova/teams/a05/group_2/HCP_PTN1200/groupICA/groupICA_3T_HCP1200_MSMAll_d{n}.ica/melodic_IC_sum.nii.gz\"\n",
    "    atlas = image.load_img(f\"/home/anmarkova/teams/a05/group_2/HCP_PTN1200/groupICA/groupICA_3T_HCP1200_MSMAll_d{n}.ica/melodic_IC_sum.nii.gz\")\n",
    "    atlas = image.threshold_img(atlas, \"99.5%\") \n",
    "\n",
    "    print(\"atlas has shape\", [\"x\", \"y\", \"z\", \"region\"], \"=\", atlas.shape)\n",
    "    return atlas"
   ]
  },
  {
   "cell_type": "code",
   "execution_count": 7,
   "id": "a674be90-0ba1-43bc-80ad-7d6ec6899dc8",
   "metadata": {},
   "outputs": [],
   "source": [
    "#load unrestricted data\n",
    "def load_unrestricted(file_path=None):\n",
    "\n",
    "    if not file_path:\n",
    "        file_path = \"/home/anmarkova/teams/a05/group_2/unrestricted_data.csv\"\n",
    "    data = pd.read_csv(file_path)\n",
    "    print('unrestricted_data loaded')\n",
    "    return data"
   ]
  },
  {
   "cell_type": "code",
   "execution_count": 8,
   "id": "f17b40d8-986f-45a7-8f46-2e99ebe871f9",
   "metadata": {},
   "outputs": [],
   "source": [
    "#load restricted data\n",
    "def load_restricted(file_path=None):\n",
    "\n",
    "    if not file_path:\n",
    "        file_path = \"/home/anmarkova/teams/a05/group_2/RESTRICTED_BEHAVIORAL_DATA.csv\"\n",
    "    data = pd.read_csv(file_path)\n",
    "    print('restricted_data loaded')\n",
    "    return data"
   ]
  },
  {
   "cell_type": "code",
   "execution_count": 10,
   "id": "bfeb2a30-5a18-4c05-b9af-c3c0b097673b",
   "metadata": {},
   "outputs": [],
   "source": [
    "#getting handedness\n",
    "def get_handedness(sub_id, n=100, file_path_n=None, file_path_restricted = None):\n",
    "    df = load_restricted(file_path_restricted)\n",
    "    handedness = df.set_index(\"Subject\").loc[sub_id][[\"Handedness\"]]\n",
    "    return handedness"
   ]
  },
  {
   "cell_type": "code",
   "execution_count": 4,
   "id": "9367f08a-8a98-4d55-9f3b-607a2a08883d",
   "metadata": {},
   "outputs": [],
   "source": [
    "def get_atlas_coords(atlas):\n",
    "    #plotting connections on the brain\n",
    "    atlas_coords = plotting.find_probabilistic_atlas_cut_coords(atlas)\n",
    "    atlas_coords = np.array(atlas_coords)\n",
    "    return atlas_coords"
   ]
  },
  {
   "cell_type": "code",
   "execution_count": 3,
   "id": "acb8f31c-c0ec-4f9b-a46e-783b612ed3b7",
   "metadata": {},
   "outputs": [],
   "source": [
    "#loading labels\n",
    "def get_labels(atlas_coords):\n",
    "    for atlas_coord in atlas_coords:\n",
    "        region = read_atlas_peak(\"harvard_oxford\", atlas_coord)\n",
    "        print(region)\n",
    "        brain_region += [region]  \n",
    "    #select the correct region with largest probability given from the library\n",
    "    brain_region = [\n",
    "        max(inner_list, key=lambda x: x[0])[-1] if inner_list else None for inner_list in brain_region\n",
    "        ]\n",
    "    return np.array(brain_region)\n",
    "    "
   ]
  },
  {
   "cell_type": "code",
   "execution_count": null,
   "id": "a57d3402-1112-42bd-b865-fb4936546d1a",
   "metadata": {},
   "outputs": [],
   "source": []
  }
 ],
 "metadata": {
  "kernelspec": {
   "display_name": "capstone",
   "language": "python",
   "name": "capstone"
  },
  "language_info": {
   "codemirror_mode": {
    "name": "ipython",
    "version": 3
   },
   "file_extension": ".py",
   "mimetype": "text/x-python",
   "name": "python",
   "nbconvert_exporter": "python",
   "pygments_lexer": "ipython3",
   "version": "3.13.1"
  }
 },
 "nbformat": 4,
 "nbformat_minor": 5
}
